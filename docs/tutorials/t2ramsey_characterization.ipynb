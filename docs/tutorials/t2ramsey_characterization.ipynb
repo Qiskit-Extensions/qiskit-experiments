{
 "cells": [
  {
   "cell_type": "markdown",
   "metadata": {},
   "source": [
    "# T<sub>2</sub> Ramsey Characterization"
   ]
  },
  {
   "cell_type": "markdown",
   "metadata": {},
   "source": [
    "This experiment serves as one of the series of experiments used to characterize a single qubit. Its purpose is to determine two of the qubit's properties: *Ramsey* or *detuning frequency* and $T_2\\ast$. The rough frequency of the qubit was already determined previously. The control pulses are based on this frequency. \n",
    "\n",
    "In this experiment, we would like to get a more precise estimate of the qubit's frequency. The difference between the frequency used for the control rotation pulses, and the precise frequency is called the *detuning frequency*. This part of the experiment is called a *Ramsey Experiment*. $T_2\\ast$ represents the rate of decay toward a mixed state, when the qubit is initialized to the |+⟩ state.\n",
    "\n",
    "Since the detuning frequency is relatively small, we add a phase gate to the circuit to enable better measurement. The actual frequency measured is the sum of the detuning frequency and the user induced *oscillation frequency* (osc_freq parameter)."
   ]
  },
  {
   "cell_type": "code",
   "execution_count": 1,
   "metadata": {
    "scrolled": true
   },
   "outputs": [],
   "source": [
    "import qiskit\n",
    "from qiskit_experiments.library import T2Ramsey"
   ]
  },
  {
   "cell_type": "markdown",
   "metadata": {},
   "source": [
    "The circuit used for the experiment comprises the following:\n",
    "\n",
    "    1. Hadamard gate\n",
    "    2. delay\n",
    "    3. RZ gate that rotates the qubit in the x-y plane \n",
    "    4. Hadamard gate\n",
    "    5. measurement\n",
    "\n",
    "During the delay time, we expect the qubit to precess about the z-axis. If the p gate and the precession offset each other perfectly, then the qubit will arrive at the |0⟩ state (after the second Hadamard gate). By varying the extension of the delays, we get a series of oscillations of the qubit state between the |0⟩ and |1⟩ states. We can draw the graph of the resulting function, and can analytically extract the desired values."
   ]
  },
  {
   "cell_type": "code",
   "execution_count": 2,
   "metadata": {},
   "outputs": [],
   "source": [
    "# set the computation units to microseconds\n",
    "unit = \"us\"  # microseconds\n",
    "qubit = 0\n",
    "# set the desired delays\n",
    "delays = list(range(1, 50, 1))"
   ]
  },
  {
   "cell_type": "code",
   "execution_count": 3,
   "metadata": {
    "scrolled": true
   },
   "outputs": [
    {
     "name": "stdout",
     "output_type": "stream",
     "text": [
      "     ┌───┐┌──────────────┐┌─────────┐ ░ ┌───┐ ░ ┌─┐\n",
      "q_0: ┤ H ├┤ Delay(1[us]) ├┤ Rz(π/5) ├─░─┤ H ├─░─┤M├\n",
      "     └───┘└──────────────┘└─────────┘ ░ └───┘ ░ └╥┘\n",
      "c: 1/════════════════════════════════════════════╩═\n",
      "                                                 0 \n"
     ]
    }
   ],
   "source": [
    "# Create a T2Ramsey experiment. Print the first circuit as an example\n",
    "exp1 = T2Ramsey(qubit, delays, unit=unit, osc_freq=0.1)\n",
    "print(exp1.circuits()[0])"
   ]
  },
  {
   "cell_type": "markdown",
   "metadata": {},
   "source": [
    "We run the experiment on a simple, simulated backend, created specifically for this experiment's tutorial."
   ]
  },
  {
   "cell_type": "code",
   "execution_count": 4,
   "metadata": {},
   "outputs": [
    {
     "ename": "ImportError",
     "evalue": "cannot import name 'HAS_MATPLOTLIB' from 'qiskit_experiments.matplotlib' (/home/merav/work/osc_freq/qiskit_experiments/matplotlib.py)",
     "output_type": "error",
     "traceback": [
      "\u001b[0;31m---------------------------------------------------------------------------\u001b[0m",
      "\u001b[0;31mImportError\u001b[0m                               Traceback (most recent call last)",
      "\u001b[0;32m<ipython-input-4-aedcfc88c202>\u001b[0m in \u001b[0;36m<module>\u001b[0;34m\u001b[0m\n\u001b[1;32m      4\u001b[0m \u001b[0;32mimport\u001b[0m \u001b[0mqiskit_experiments\u001b[0m\u001b[0;34m.\u001b[0m\u001b[0mmatplotlib\u001b[0m\u001b[0;34m\u001b[0m\u001b[0;34m\u001b[0m\u001b[0m\n\u001b[1;32m      5\u001b[0m \u001b[0;32mfrom\u001b[0m \u001b[0mqiskit_experiments\u001b[0m\u001b[0;34m.\u001b[0m\u001b[0mmatplotlib\u001b[0m \u001b[0;32mimport\u001b[0m \u001b[0mpyplot\u001b[0m\u001b[0;34m,\u001b[0m \u001b[0mrequires_matplotlib\u001b[0m\u001b[0;34m\u001b[0m\u001b[0;34m\u001b[0m\u001b[0m\n\u001b[0;32m----> 6\u001b[0;31m \u001b[0;32mfrom\u001b[0m \u001b[0mqiskit_experiments\u001b[0m\u001b[0;34m.\u001b[0m\u001b[0mmatplotlib\u001b[0m \u001b[0;32mimport\u001b[0m \u001b[0mHAS_MATPLOTLIB\u001b[0m\u001b[0;34m\u001b[0m\u001b[0;34m\u001b[0m\u001b[0m\n\u001b[0m\u001b[1;32m      7\u001b[0m \u001b[0;34m\u001b[0m\u001b[0m\n\u001b[1;32m      8\u001b[0m \u001b[0mconversion_factor\u001b[0m \u001b[0;34m=\u001b[0m \u001b[0;36m1e-6\u001b[0m\u001b[0;34m\u001b[0m\u001b[0;34m\u001b[0m\u001b[0m\n",
      "\u001b[0;31mImportError\u001b[0m: cannot import name 'HAS_MATPLOTLIB' from 'qiskit_experiments.matplotlib' (/home/merav/work/osc_freq/qiskit_experiments/matplotlib.py)"
     ]
    }
   ],
   "source": [
    "from qiskit_experiments.test.t2ramsey_backend import T2RamseyBackend\n",
    "# FakeJob is a wrapper for the backend, to give it the form of a job\n",
    "from qiskit_experiments.test.utils import FakeJob\n",
    "import qiskit_experiments.matplotlib\n",
    "from qiskit_experiments.matplotlib import pyplot, requires_matplotlib\n",
    "from qiskit_experiments.matplotlib import HAS_MATPLOTLIB\n",
    "\n",
    "conversion_factor = 1e-6\n",
    "# The behavior of the backend is determined by the following parameters\n",
    "backend = T2RamseyBackend(\n",
    "    p0={\n",
    "        \"a\": [0.5],\n",
    "        \"t2ramsey\": [20.0],\n",
    "        \"f\": [0.11],\n",
    "        \"phi\": [0.0],\n",
    "        \"b\": [0.5],\n",
    "    },\n",
    "    initial_prob_plus=[0.0],\n",
    "    readout0to1=[0.02],\n",
    "    readout1to0=[0.02],\n",
    "    conversion_factor=conversion_factor,\n",
    ")"
   ]
  },
  {
   "cell_type": "markdown",
   "metadata": {},
   "source": [
    "The resulting graph will have the form:\n",
    "$f(t) = a^{-t/T_2*} \\cdot \\cos(2 \\pi f t + \\phi) + b$\n",
    "where *t* is the delay, $T_2*$ is the decay factor, and *f* is the detuning frequency.\n",
    "`conversion_factor` is a scaling factor that depends on the measurement units used. It is 1E-6 here, because the unit is microseconds."
   ]
  },
  {
   "cell_type": "code",
   "execution_count": null,
   "metadata": {
    "scrolled": true
   },
   "outputs": [],
   "source": [
    "exp1.set_analysis_options(user_p0=None, plot=True)\n",
    "expdata1 = exp1.run(backend=backend, shots=2000)\n",
    "expdata1.block_for_results()  # Wait for job/analysis to finish.\n",
    "\n",
    "# Display the figure\n",
    "display(expdata1.figure(0))"
   ]
  },
  {
   "cell_type": "code",
   "execution_count": null,
   "metadata": {},
   "outputs": [],
   "source": [
    "# Print results\n",
    "for result in expdata1.analysis_results():\n",
    "    print(result)"
   ]
  },
  {
   "cell_type": "markdown",
   "metadata": {},
   "source": [
    "Additional fitter result data is stored in the `result.extra` field"
   ]
  },
  {
   "cell_type": "code",
   "execution_count": null,
   "metadata": {},
   "outputs": [],
   "source": [
    "expdata1.analysis_results(\"T2\").extra"
   ]
  },
  {
   "cell_type": "markdown",
   "metadata": {},
   "source": [
    "### Providing initial user estimates\n",
    "The user can provide initial estimates for the parameters to help the analysis process. Because the curve is expected to decay toward $0.5$, the natural choice for parameters $A$ and $B$ is $0.5$. Varying the value of $\\phi$ will shift the graph along the x-axis. Since this is not of interest to us, we can safely initialize $\\phi$ to 0. In this experiment, `t2ramsey` and `f` are the parameters of interest. Good estimates for them are values computed in previous experiments on this qubit or a similar values computed for other qubits."
   ]
  },
  {
   "cell_type": "code",
   "execution_count": null,
   "metadata": {},
   "outputs": [],
   "source": [
    "from qiskit_experiments.library.characterization import T2RamseyAnalysis\n",
    "user_p0={\n",
    "    \"A\": 0.5,\n",
    "    \"t2ramsey\": 20.0,\n",
    "    \"f\": 0.11,\n",
    "    \"phi\": 0,\n",
    "    \"B\": 0.5\n",
    "        }\n",
    "exp_with_p0 = T2Ramsey(qubit, delays, unit=unit, osc_freq=0.1)\n",
    "exp_with_p0.set_analysis_options(user_p0=user_p0, plot=True)\n",
    "expdata_with_p0 = exp_with_p0.run(backend=backend, shots=2000)\n",
    "expdata_with_p0.block_for_results()\n",
    "\n",
    "# Display fit figure\n",
    "display(expdata_with_p0.figure(0))"
   ]
  },
  {
   "cell_type": "code",
   "execution_count": null,
   "metadata": {},
   "outputs": [],
   "source": [
    "# Print results\n",
    "for result in expdata_with_p0.analysis_results():\n",
    "    print(result)"
   ]
  },
  {
   "cell_type": "markdown",
   "metadata": {},
   "source": [
    "The units can be changed, but the output in the result is always given in seconds. The units in the backend must be adjusted accordingly."
   ]
  },
  {
   "cell_type": "code",
   "execution_count": null,
   "metadata": {},
   "outputs": [],
   "source": [
    "from qiskit.utils import apply_prefix\n",
    "\n",
    "unit = \"ns\"\n",
    "delays = list(range(1000, 50000, 1000))\n",
    "conversion_factor = apply_prefix(1, unit)\n",
    "print(conversion_factor)"
   ]
  },
  {
   "cell_type": "code",
   "execution_count": null,
   "metadata": {
    "scrolled": true
   },
   "outputs": [],
   "source": [
    "p0 = {\n",
    "    \"a\": [0.5],\n",
    "    \"t2ramsey\": [20000],\n",
    "    \"f\": [0.0001],\n",
    "    \"phi\": [0.0],\n",
    "    \"b\": [0.5],\n",
    "}\n",
    "backend_in_ns = T2RamseyBackend(\n",
    "    p0=p0,\n",
    "    initial_prob_plus=[0.0],\n",
    "    readout0to1=[0.02],\n",
    "    readout1to0=[0.02],\n",
    "    conversion_factor=conversion_factor,\n",
    ")\n",
    "exp_in_ns = T2Ramsey(qubit, delays, unit=unit, osc_freq=0.0001)\n",
    "user_p0_ns = {\n",
    "    \"A\": 0.5,\n",
    "    \"t2ramsey\": 20000.0,\n",
    "    \"f\": 0.00011,\n",
    "    \"phi\": 0,\n",
    "    \"B\": 0.5\n",
    "        }\n",
    "exp_in_ns.set_analysis_options(user_p0=user_p0_ns, plot=True)\n",
    "\n",
    "# Run experiment\n",
    "expdata_in_ns = exp_in_ns.run(backend=backend_in_ns, shots=2000).block_for_results()\n",
    "\n",
    "# Display Figure\n",
    "display(expdata_in_ns.figure(0))"
   ]
  },
  {
   "cell_type": "code",
   "execution_count": null,
   "metadata": {},
   "outputs": [],
   "source": [
    "# Print Results\n",
    "for result in expdata_in_ns.analysis_results():\n",
    "    print(result)"
   ]
  },
  {
   "cell_type": "code",
   "execution_count": null,
   "metadata": {},
   "outputs": [],
   "source": [
    "import qiskit.tools.jupyter\n",
    "%qiskit_copyright"
   ]
  }
 ],
 "metadata": {
  "kernelspec": {
   "display_name": "Python 3",
   "language": "python",
   "name": "python3"
  },
  "language_info": {
   "codemirror_mode": {
    "name": "ipython",
    "version": 3
   },
   "file_extension": ".py",
   "mimetype": "text/x-python",
   "name": "python",
   "nbconvert_exporter": "python",
   "pygments_lexer": "ipython3",
   "version": "3.8.10"
  }
 },
 "nbformat": 4,
 "nbformat_minor": 4
}
