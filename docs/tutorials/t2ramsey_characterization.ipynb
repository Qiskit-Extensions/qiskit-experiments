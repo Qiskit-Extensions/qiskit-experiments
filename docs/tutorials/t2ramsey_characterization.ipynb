{
 "cells": [
  {
   "cell_type": "markdown",
   "metadata": {},
   "source": [
    "# T<sub>2</sub> Ramsey Characterization"
   ]
  },
  {
   "cell_type": "markdown",
   "metadata": {},
   "source": [
    "This experiment serves as one of the series of experiments used to characterize a single qubit. Its purpose is to determine two of the qubit's properties: *Ramsey* or *detuning frequency* and $T_2\\ast$. The rough frequency of the qubit was already determined previously. The control pulses are based on this frequency. \n",
    "\n",
    "In this experiment, we would like to get a more precise estimate of the qubit's frequency. The difference between the frequency used for the control rotation pulses, and the precise frequency is called the *detuning frequency*. This part of the experiment is called a *Ramsey Experiment*. $T_2\\ast$ represents the rate of decay toward a mixed state, when the qubit is initialized to the |+⟩ state.\n",
    "\n",
    "Since the detuning frequency is relatively small, we add a phase gate to the circuit to enable better measurement. The actual frequency measured is the sum of the detuning frequency and the user induced *oscillation frequency* (osc_freq parameter)."
   ]
  },
  {
   "cell_type": "code",
   "execution_count": 1,
   "metadata": {
    "scrolled": true
   },
   "outputs": [],
   "source": [
    "import qiskit\n",
    "from qiskit_experiments.library import T2Ramsey"
   ]
  },
  {
   "cell_type": "markdown",
   "metadata": {},
   "source": [
    "The circuit used for the experiment comprises the following:\n",
    "\n",
    "    1. Hadamard gate\n",
    "    2. delay\n",
    "    3. RZ gate that rotates the qubit in the x-y plane \n",
    "    4. Hadamard gate\n",
    "    5. measurement\n",
    "\n",
    "During the delay time, we expect the qubit to precess about the z-axis. If the p gate and the precession offset each other perfectly, then the qubit will arrive at the |0⟩ state (after the second Hadamard gate). By varying the extension of the delays, we get a series of oscillations of the qubit state between the |0⟩ and |1⟩ states. We can draw the graph of the resulting function, and can analytically extract the desired values."
   ]
  },
  {
   "cell_type": "code",
   "execution_count": 2,
   "metadata": {},
   "outputs": [],
   "source": [
    "# set the computation units to microseconds\n",
    "unit = \"us\"  # microseconds\n",
    "qubit = 0\n",
    "# set the desired delays\n",
    "delays = list(range(1, 50, 1))"
   ]
  },
  {
   "cell_type": "code",
   "execution_count": 3,
   "metadata": {
    "scrolled": true
   },
   "outputs": [
    {
     "name": "stdout",
     "output_type": "stream",
     "text": [
      "     ┌───┐┌──────────────┐┌─────────┐ ░ ┌───┐ ░ ┌─┐\n",
      "q_0: ┤ H ├┤ Delay(1[us]) ├┤ Rz(π/5) ├─░─┤ H ├─░─┤M├\n",
      "     └───┘└──────────────┘└─────────┘ ░ └───┘ ░ └╥┘\n",
      "c: 1/════════════════════════════════════════════╩═\n",
      "                                                 0 \n"
     ]
    }
   ],
   "source": [
    "# Create a T2Ramsey experiment. Print the first circuit as an example\n",
    "exp1 = T2Ramsey(qubit, delays, unit=unit, osc_freq=0.1)\n",
    "print(exp1.circuits()[0])"
   ]
  },
  {
   "cell_type": "markdown",
   "metadata": {},
   "source": [
    "We run the experiment on a simple, simulated backend, created specifically for this experiment's tutorial."
   ]
  },
  {
   "cell_type": "code",
   "execution_count": 4,
   "metadata": {},
   "outputs": [],
   "source": [
    "from qiskit_experiments.test.t2ramsey_backend import T2RamseyBackend\n",
    "# FakeJob is a wrapper for the backend, to give it the form of a job\n",
    "from qiskit_experiments.test.utils import FakeJob\n",
    "\n",
    "conversion_factor = 1e-6\n",
    "# The behavior of the backend is determined by the following parameters\n",
    "backend = T2RamseyBackend(\n",
    "    p0={\n",
    "        \"a\": [0.5],\n",
    "        \"t2ramsey\": [20.0],\n",
    "        \"f\": [0.11],\n",
    "        \"phi\": [0.0],\n",
    "        \"b\": [0.5],\n",
    "    },\n",
    "    initial_prob_plus=[0.0],\n",
    "    readout0to1=[0.02],\n",
    "    readout1to0=[0.02],\n",
    "    conversion_factor=conversion_factor,\n",
    ")"
   ]
  },
  {
   "cell_type": "markdown",
   "metadata": {},
   "source": [
    "The resulting graph will have the form:\n",
    "$f(t) = a^{-t/T_2*} \\cdot \\cos(2 \\pi f t + \\phi) + b$\n",
    "where *t* is the delay, $T_2*$ is the decay factor, and *f* is the detuning frequency.\n",
    "`conversion_factor` is a scaling factor that depends on the measurement units used. It is 1E-6 here, because the unit is microseconds."
   ]
  },
  {
   "cell_type": "code",
   "execution_count": 5,
   "metadata": {
    "scrolled": true
   },
   "outputs": [
    {
     "data": {
      "image/png": "[encoded data removed]",
      "text/plain": [
       "<Figure size 432x288 with 1 Axes>"
      ]
     },
     "metadata": {},
     "output_type": "display_data"
    }
   ],
   "source": [
    "exp1.set_analysis_options(user_p0=None, plot=True)\n",
    "expdata1 = exp1.run(backend=backend, shots=2000)\n",
    "expdata1.block_for_results()  # Wait for job/analysis to finish.\n",
    "\n",
    "# Display the figure\n",
    "display(expdata1.figure(0))"
   ]
  },
  {
   "cell_type": "code",
   "execution_count": 6,
   "metadata": {},
   "outputs": [
    {
     "name": "stdout",
     "output_type": "stream",
     "text": [
      "DbAnalysisResultV1\n",
      "- name: T2star\n",
      "- value: 2.015526710445853e-05 ± 4.46414481720251e-07 s\n",
      "- χ²: 0.747869754959461\n",
      "- quality: good\n",
      "- extra: <9 items>\n",
      "- device_components: ['Q0']\n",
      "- verified: False\n",
      "DbAnalysisResultV1\n",
      "- name: Frequency\n",
      "- value: 110341.96572013196 ± 177.95715125472472 Hz\n",
      "- χ²: 0.747869754959461\n",
      "- quality: good\n",
      "- extra: <9 items>\n",
      "- device_components: ['Q0']\n",
      "- verified: False\n"
     ]
    }
   ],
   "source": [
    "# Print results\n",
    "for result in expdata1.analysis_results():\n",
    "    print(result)"
   ]
  },
  {
   "cell_type": "markdown",
   "metadata": {},
   "source": [
    "Additional fitter result data is stored in the `result.extra` field"
   ]
  },
  {
   "cell_type": "code",
   "execution_count": 8,
   "metadata": {},
   "outputs": [
    {
     "data": {
      "text/plain": [
       "{'popt': array([ 4.77594767e-01,  2.01552671e-05,  1.10341966e+05, -2.60143453e-02,\n",
       "         4.97723493e-01]),\n",
       " 'popt_keys': None,\n",
       " 'popt_err': array([6.35443088e-03, 4.46414482e-07, 1.77957151e+02, 1.43387909e-02,\n",
       "        1.52390209e-03]),\n",
       " 'pcov': array([[ 4.03787919e-05, -2.09772956e-09, -1.59524161e-01,\n",
       "          1.84522426e-05,  7.56004245e-07],\n",
       "        [-2.09772956e-09,  1.99285889e-13,  7.68765942e-06,\n",
       "         -9.17472201e-10, -3.04638041e-11],\n",
       "        [-1.59524161e-01,  7.68765942e-06,  3.16687477e+04,\n",
       "         -1.85185228e+00, -2.56283642e-02],\n",
       "        [ 1.84522426e-05, -9.17472201e-10, -1.85185228e+00,\n",
       "          2.05600923e-04,  3.46212744e-06],\n",
       "        [ 7.56004245e-07, -3.04638041e-11, -2.56283642e-02,\n",
       "          3.46212744e-06,  2.32227759e-06]]),\n",
       " 'reduced_chisq': 0.747869754959461,\n",
       " 'dof': 44,\n",
       " 'x_range': (1e-06, 4.9e-05),\n",
       " 'y_range': (0.1375, 0.8525),\n",
       " 'circuit_unit': 'us'}"
      ]
     },
     "execution_count": 8,
     "metadata": {},
     "output_type": "execute_result"
    }
   ],
   "source": [
    "expdata1.analysis_results(\"T2star\").extra"
   ]
  },
  {
   "cell_type": "markdown",
   "metadata": {},
   "source": [
    "### Providing initial user estimates\n",
    "The user can provide initial estimates for the parameters to help the analysis process. Because the curve is expected to decay toward $0.5$, the natural choice for parameters $A$ and $B$ is $0.5$. Varying the value of $\\phi$ will shift the graph along the x-axis. Since this is not of interest to us, we can safely initialize $\\phi$ to 0. In this experiment, `t2ramsey` and `f` are the parameters of interest. Good estimates for them are values computed in previous experiments on this qubit or a similar values computed for other qubits."
   ]
  },
  {
   "cell_type": "code",
   "execution_count": null,
   "metadata": {},
   "outputs": [],
   "source": [
    "from qiskit_experiments.library.characterization import T2RamseyAnalysis\n",
    "user_p0={\n",
    "    \"A\": 0.5,\n",
    "    \"t2ramsey\": 20.0,\n",
    "    \"f\": 0.11,\n",
    "    \"phi\": 0,\n",
    "    \"B\": 0.5\n",
    "        }\n",
    "exp_with_p0 = T2Ramsey(qubit, delays, unit=unit, osc_freq=0.1)\n",
    "exp_with_p0.set_analysis_options(user_p0=user_p0, plot=True)\n",
    "expdata_with_p0 = exp_with_p0.run(backend=backend, shots=2000)\n",
    "expdata_with_p0.block_for_results()\n",
    "\n",
    "# Display fit figure\n",
    "display(expdata_with_p0.figure(0))"
   ]
  },
  {
   "cell_type": "code",
   "execution_count": null,
   "metadata": {},
   "outputs": [],
   "source": [
    "# Print results\n",
    "for result in expdata_with_p0.analysis_results():\n",
    "    print(result)"
   ]
  },
  {
   "cell_type": "markdown",
   "metadata": {},
   "source": [
    "The units can be changed, but the output in the result is always given in seconds. The units in the backend must be adjusted accordingly."
   ]
  },
  {
   "cell_type": "code",
   "execution_count": null,
   "metadata": {},
   "outputs": [],
   "source": [
    "from qiskit.utils import apply_prefix\n",
    "\n",
    "unit = \"ns\"\n",
    "delays = list(range(1000, 50000, 1000))\n",
    "conversion_factor = apply_prefix(1, unit)\n",
    "print(conversion_factor)"
   ]
  },
  {
   "cell_type": "code",
   "execution_count": null,
   "metadata": {
    "scrolled": true
   },
   "outputs": [],
   "source": [
    "p0 = {\n",
    "    \"a\": [0.5],\n",
    "    \"t2ramsey\": [20000],\n",
    "    \"f\": [0.0001],\n",
    "    \"phi\": [0.0],\n",
    "    \"b\": [0.5],\n",
    "}\n",
    "backend_in_ns = T2RamseyBackend(\n",
    "    p0=p0,\n",
    "    initial_prob_plus=[0.0],\n",
    "    readout0to1=[0.02],\n",
    "    readout1to0=[0.02],\n",
    "    conversion_factor=conversion_factor,\n",
    ")\n",
    "exp_in_ns = T2Ramsey(qubit, delays, unit=unit, osc_freq=0.0001)\n",
    "user_p0_ns = {\n",
    "    \"A\": 0.5,\n",
    "    \"t2ramsey\": 20000.0,\n",
    "    \"f\": 0.00011,\n",
    "    \"phi\": 0,\n",
    "    \"B\": 0.5\n",
    "        }\n",
    "exp_in_ns.set_analysis_options(user_p0=user_p0_ns, plot=True)\n",
    "\n",
    "# Run experiment\n",
    "expdata_in_ns = exp_in_ns.run(backend=backend_in_ns, shots=2000).block_for_results()\n",
    "\n",
    "# Display Figure\n",
    "display(expdata_in_ns.figure(0))"
   ]
  },
  {
   "cell_type": "code",
   "execution_count": null,
   "metadata": {},
   "outputs": [],
   "source": [
    "# Print Results\n",
    "for result in expdata_in_ns.analysis_results():\n",
    "    print(result)"
   ]
  },
  {
   "cell_type": "code",
   "execution_count": null,
   "metadata": {},
   "outputs": [],
   "source": [
    "import qiskit.tools.jupyter\n",
    "%qiskit_copyright"
   ]
  }
 ],
 "metadata": {
  "kernelspec": {
   "display_name": "Python 3",
   "language": "python",
   "name": "python3"
  },
  "language_info": {
   "codemirror_mode": {
    "name": "ipython",
    "version": 3
   },
   "file_extension": ".py",
   "mimetype": "text/x-python",
   "name": "python",
   "nbconvert_exporter": "python",
   "pygments_lexer": "ipython3",
   "version": "3.8.10"
  }
 },
 "nbformat": 4,
 "nbformat_minor": 4
}
