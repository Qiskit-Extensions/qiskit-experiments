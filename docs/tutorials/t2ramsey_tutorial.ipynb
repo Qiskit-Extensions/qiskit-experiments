{
 "cells": [
  {
   "cell_type": "markdown",
   "metadata": {},
   "source": [
    "# $T_2$ Ramsey Experiment"
   ]
  },
  {
   "cell_type": "markdown",
   "metadata": {},
   "source": [
    "This experiment serves as one of the series of experiments used to characterize a single qubit. Its purpose is to determine two of the qubit's properties: *detuning frequency* and *$T_2*$*. The rough frequency of the qubit was already determined previously. Here, we would like to measure the *detuning*, that is  the difference between the qubit's precise frequency and the frequency of the rotation pulses (based on the rough frequency). This part of the experiment is also called a *Ramsey Experiment*. $T_2*$ represents the rate of decay toward a mixed state, when the qubits is initiated to the |+⟩ state."
   ]
  },
  {
   "cell_type": "code",
   "execution_count": 1,
   "metadata": {
    "scrolled": true
   },
   "outputs": [],
   "source": [
    "import qiskit\n",
    "from qiskit_experiments.characterization import T2StarExperiment"
   ]
  },
  {
   "cell_type": "markdown",
   "metadata": {},
   "source": [
    "The circuit used for the experiment comprises the following:\n",
    "\n",
    "    1. Hadamard gate\n",
    "    2. delay\n",
    "    3. p gate that rotates the qubit in the x-y plane \n",
    "    4. Hadamard gate\n",
    "    5. measurement\n",
    "\n",
    "During the delay time, we expect the qubit to precess about the z-axis. If the p gate and the precession offset each other perfectly, then the qubit will arrive at the |1⟩ state (after the second Hadamard gate). By varying the extension of the delays, we get a series of oscillations of the qubit state between the |0⟩ and |1⟩ states. We can draw the graph of the resulting function, and can analytically extract the desired values."
   ]
  },
  {
   "cell_type": "code",
   "execution_count": 2,
   "metadata": {},
   "outputs": [],
   "source": [
    "# set the computation units to seconds\n",
    "unit = 's' #seconds\n",
    "qubit = 0\n",
    "# set the desired delays\n",
    "delays = list(range(1,50))\n"
   ]
  },
  {
   "cell_type": "code",
   "execution_count": 3,
   "metadata": {
    "scrolled": true
   },
   "outputs": [
    {
     "name": "stdout",
     "output_type": "stream",
     "text": [
      "     ┌───┐┌─────────────┐┌──────┐ ░ ┌───┐ ░ ┌─┐\n",
      "q_0: ┤ H ├┤ DELAY(1[s]) ├┤ P(0) ├─░─┤ H ├─░─┤M├\n",
      "     └───┘└─────────────┘└──────┘ ░ └───┘ ░ └╥┘\n",
      "c: 1/════════════════════════════════════════╩═\n",
      "                                             0 \n"
     ]
    }
   ],
   "source": [
    "# Create a T2* experiment. Print the first circuit as an example\n",
    "exp1 = T2StarExperiment(qubit, delays, unit=unit)\n",
    "print(exp1.circuits()[0])"
   ]
  },
  {
   "cell_type": "markdown",
   "metadata": {},
   "source": [
    "We run the experiment on a simple, simulated backend, created specifically for this experiment."
   ]
  },
  {
   "cell_type": "code",
   "execution_count": 4,
   "metadata": {},
   "outputs": [
    {
     "name": "stderr",
     "output_type": "stream",
     "text": [
      "/home/merav/work/tutorial-T2/qiskit_experiments/test/t2ramsey_backend.py:53: DeprecationWarning: The BaseBackend abstract interface is deprecated as of the 0.18.0 release and will be removed in a future release. Instead you should build your backends using the BackendV1 abstract class (which is the current latest version of the backend interface)\n",
      "  super().__init__(configuration)\n"
     ]
    }
   ],
   "source": [
    "from qiskit_experiments.test.t2ramsey_backend import T2RamseyBackend\n",
    "# MockJob is a wrapper for the backend, to give it the form of a job\n",
    "from qiskit_experiments.test.mock_job import MockJob\n",
    "import qiskit_experiments.matplotlib\n",
    "from qiskit_experiments.matplotlib import pyplot, requires_matplotlib\n",
    "from qiskit_experiments.matplotlib import HAS_MATPLOTLIB\n",
    "\n",
    "# The behavior of the backend is determined by the following parameters\n",
    "backend = T2RamseyBackend(\n",
    "                    p0={\"a_guess\":[0.5], \"t2star\":[10.0], \"f_guess\":[0.1], \"phi_guess\":[0.0],\n",
    "                        \"b_guess\": [0.5]},\n",
    "                    initial_prob_plus=[0.0],\n",
    "                    readout0to1=[0.02],\n",
    "                    readout1to0=[0.02],\n",
    "                    dt_factor=1,\n",
    "                )\n"
   ]
  },
  {
   "cell_type": "markdown",
   "metadata": {},
   "source": [
    "The resulting graph will have the form:\n",
    "$ f(t) = a^{-x/T_2*} \\cdot cos(2 \\pi f t + \\phi) + b $\n",
    "where *t* is the delay, $T_2*$ is the decay factor, and *f* is the detuning frequency.\n",
    "`dt_factor` is a scaling factor that depends on the STI units used. It is `1` here, because the unit is seconds."
   ]
  },
  {
   "cell_type": "code",
   "execution_count": 5,
   "metadata": {
    "scrolled": true
   },
   "outputs": [
    {
     "name": "stdout",
     "output_type": "stream",
     "text": [
      "---------------------------------------------------\n",
      "Experiment: T2StarExperiment\n",
      "Experiment ID: b164d8de-88d3-4833-b9f6-f6e5c5c575dc\n",
      "Status: DONE\n",
      "Circuits: 49\n",
      "Analysis Results: 1\n",
      "---------------------------------------------------\n",
      "Last Analysis Result\n",
      "- t2star_value: 10.426116089669062\n",
      "- frequency_value: 0.10006473585726781\n",
      "- stderr: 0.3138946720479736\n",
      "- unit: s\n",
      "- label: T2*\n",
      "- fit: \n",
      "- reduced_chisq: 1.55474418005237\n",
      "- dof: 44\n",
      "- xrange: [1.0, 49.0]\n",
      "- circuit_unit: s\n",
      "- quality: computer_good\n",
      "- success: True\n"
     ]
    }
   ],
   "source": [
    "exp1.set_analysis_options(user_p0=None)\n",
    "expdata1 = exp1.run(backend=backend, shots=2000)\n",
    "print(expdata1)"
   ]
  },
  {
   "cell_type": "code",
   "execution_count": 6,
   "metadata": {},
   "outputs": [
    {
     "name": "stdout",
     "output_type": "stream",
     "text": [
      "---------------------------------------------------\n",
      "Experiment: T2StarExperiment\n",
      "Experiment ID: dda75a06-708f-4810-a1f5-b3e0c379ae37\n",
      "Status: DONE\n",
      "Circuits: 49\n",
      "Analysis Results: 1\n",
      "---------------------------------------------------\n",
      "Last Analysis Result\n",
      "- t2star_value: 10.047235523508139\n",
      "- frequency_value: 0.10054665371688173\n",
      "- stderr: 0.3059274310663795\n",
      "- unit: s\n",
      "- label: T2*\n",
      "- fit: \n",
      "- reduced_chisq: 0.7615915154334594\n",
      "- dof: 44\n",
      "- xrange: [1.0, 49.0]\n",
      "- circuit_unit: s\n",
      "- quality: computer_good\n",
      "- success: True\n"
     ]
    },
    {
     "data": {
      "image/png": "[encoded data removed]",
      "text/plain": [
       "<Figure size 432x288 with 1 Axes>"
      ]
     },
     "metadata": {
      "needs_background": "light"
     },
     "output_type": "display_data"
    }
   ],
   "source": [
    "# The user can provide initial estimates for the parameters to help the analysis process\n",
    "user_p0={\n",
    "    \"A\": 0.5,\n",
    "    \"t2star\": 11.0,\n",
    "    \"f\": 0.15,\n",
    "    \"phi\": 0,\n",
    "    \"B\": 0.5\n",
    "        }\n",
    "exp_with_p0 = T2StarExperiment(qubit, delays, unit=unit)\n",
    "exp_with_p0.set_analysis_options(user_p0=user_p0, plot=True)\n",
    "expdata_with_p0 = exp_with_p0.run(backend=backend, shots=2000)\n",
    "print(expdata_with_p0)"
   ]
  },
  {
   "cell_type": "markdown",
   "metadata": {},
   "source": [
    "The units can be changed, but the output in the result is always given in seconds. The units in the backend must be adjusted accordingly."
   ]
  },
  {
   "cell_type": "code",
   "execution_count": 7,
   "metadata": {},
   "outputs": [
    {
     "name": "stdout",
     "output_type": "stream",
     "text": [
      "1e-09\n"
     ]
    }
   ],
   "source": [
    "from qiskit.utils import apply_prefix\n",
    "unit = 'ns'\n",
    "dt_factor = apply_prefix(1, unit)\n",
    "print(dt_factor)"
   ]
  },
  {
   "cell_type": "code",
   "execution_count": 9,
   "metadata": {},
   "outputs": [
    {
     "name": "stderr",
     "output_type": "stream",
     "text": [
      "/home/merav/work/tutorial-T2/qiskit_experiments/test/t2ramsey_backend.py:53: DeprecationWarning: The BaseBackend abstract interface is deprecated as of the 0.18.0 release and will be removed in a future release. Instead you should build your backends using the BackendV1 abstract class (which is the current latest version of the backend interface)\n",
      "  super().__init__(configuration)\n"
     ]
    },
    {
     "name": "stdout",
     "output_type": "stream",
     "text": [
      "---------------------------------------------------\n",
      "Experiment: T2StarExperiment\n",
      "Experiment ID: 9a86ce21-3f78-4433-959a-8fca0704083d\n",
      "Status: DONE\n",
      "Circuits: 49\n",
      "Analysis Results: 1\n",
      "---------------------------------------------------\n",
      "Last Analysis Result\n",
      "- t2star_value: 1.1584640889678894e-08\n",
      "- frequency_value: 79694337.95529892\n",
      "- stderr: 3.5735823782962413e-10\n",
      "- unit: s\n",
      "- label: T2*\n",
      "- fit: \n",
      "- reduced_chisq: 1.2970678014671284\n",
      "- dof: 44\n",
      "- xrange: [1e-09, 4.9e-08]\n",
      "- circuit_unit: ns\n",
      "- quality: computer_good\n",
      "- success: True\n"
     ]
    },
    {
     "data": {
      "image/png": "[encoded data removed]",
      "text/plain": [
       "<Figure size 432x288 with 1 Axes>"
      ]
     },
     "metadata": {
      "needs_background": "light"
     },
     "output_type": "display_data"
    }
   ],
   "source": [
    "backend_in_ns = T2RamseyBackend(\n",
    "                    p0={\"a_guess\":[0.5], \"t2star\":[12.0], \"f_guess\":[0.08], \"phi_guess\":[0.0],\n",
    "                        \"b_guess\": [0.5]},\n",
    "                    initial_prob_plus=[0.0],\n",
    "                    readout0to1=[0.02],\n",
    "                    readout1to0=[0.02],\n",
    "                    dt_factor=dt_factor\n",
    "                )\n",
    "exp_in_ns = T2StarExperiment(qubit, delays, unit=unit)\n",
    "exp_in_ns.set_analysis_options(user_p0=None, plot=True)\n",
    "expdata_in_ns = exp_in_ns.run(backend=backend_in_ns, shots=2000)\n",
    "print(expdata_in_ns)"
   ]
  },
  {
   "cell_type": "markdown",
   "metadata": {},
   "source": [
    "It is possible to add data to an experiment, after the analysis of the first set of data. In the next example we add exp2 to `exp_in_ns` that we showed above."
   ]
  },
  {
   "cell_type": "code",
   "execution_count": null,
   "metadata": {},
   "outputs": [],
   "source": [
    "import numpy as np\n",
    "\n",
    "more_delays = np.linspace(0.5, 49.5, num=50)\n",
    "                \n",
    "exp2 = T2StarExperiment(qubit, more_delays, unit=unit)\n",
    "exp2.set_analysis_options(user_p0=None)\n",
    "expdata2 = exp2.run(\n",
    "            backend=backend_in_ns,\n",
    "            experiment_data=expdata_in_ns,\n",
    "            shots=2000\n",
    "        )\n",
    "result2 = expdata2.analysis_result(0)\n",
    "print(result2)"
   ]
  }
 ],
 "metadata": {
  "kernelspec": {
   "display_name": "Python 3",
   "language": "python",
   "name": "python3"
  },
  "language_info": {
   "codemirror_mode": {
    "name": "ipython",
    "version": 3
   },
   "file_extension": ".py",
   "mimetype": "text/x-python",
   "name": "python",
   "nbconvert_exporter": "python",
   "pygments_lexer": "ipython3",
   "version": "3.8.10"
  }
 },
 "nbformat": 4,
 "nbformat_minor": 4
}
