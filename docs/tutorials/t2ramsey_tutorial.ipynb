{
 "cells": [
  {
   "cell_type": "markdown",
   "metadata": {},
   "source": [
    "# T_2 Ramsey Experiment"
   ]
  },
  {
   "cell_type": "markdown",
   "metadata": {},
   "source": [
    "This experiment serves as one of the series of experiments used to characterize a single qubit. Its purpose is to determine two of the qubit's properties: *Ramsey* or *detuning frequency* and $T_2\\ast$. The rough frequency of the qubit was already determined previously. Here, we would like to measure the *detuning*, that is  the difference between the qubit's precise frequency and the frequency of the rotation pulses (based on the rough frequency). This part of the experiment is called a *Ramsey Experiment*. $T_2\\ast$ represents the rate of decay toward a mixed state, when the qubit is initialized to the |+⟩ state."
   ]
  },
  {
   "cell_type": "code",
   "execution_count": 1,
   "metadata": {
    "scrolled": true
   },
   "outputs": [],
   "source": [
    "import qiskit\n",
    "from qiskit_experiments.characterization import T2Ramsey"
   ]
  },
  {
   "cell_type": "markdown",
   "metadata": {},
   "source": [
    "The circuit used for the experiment comprises the following:\n",
    "\n",
    "    1. Hadamard gate\n",
    "    2. delay\n",
    "    3. p (phase) gate that rotates the qubit in the x-y plane \n",
    "    4. Hadamard gate\n",
    "    5. measurement\n",
    "\n",
    "During the delay time, we expect the qubit to precess about the z-axis. If the p gate and the precession offset each other perfectly, then the qubit will arrive at the |0⟩ state (after the second Hadamard gate). By varying the extension of the delays, we get a series of oscillations of the qubit state between the |0⟩ and |1⟩ states. We can draw the graph of the resulting function, and can analytically extract the desired values."
   ]
  },
  {
   "cell_type": "code",
   "execution_count": 2,
   "metadata": {},
   "outputs": [],
   "source": [
    "# set the computation units to microseconds\n",
    "unit = 'us' #microseconds\n",
    "qubit = 0\n",
    "# set the desired delays\n",
    "delays = list(range(1, 150, 2))"
   ]
  },
  {
   "cell_type": "code",
   "execution_count": 3,
   "metadata": {
    "scrolled": true
   },
   "outputs": [
    {
     "name": "stdout",
     "output_type": "stream",
     "text": [
      "     ┌───┐┌──────────────┐┌──────┐ ░ ┌───┐ ░ ┌─┐\n",
      "q_0: ┤ H ├┤ DELAY(1[us]) ├┤ P(0) ├─░─┤ H ├─░─┤M├\n",
      "     └───┘└──────────────┘└──────┘ ░ └───┘ ░ └╥┘\n",
      "c: 1/═════════════════════════════════════════╩═\n",
      "                                              0 \n"
     ]
    }
   ],
   "source": [
    "# Create a T2Ramsey experiment. Print the first circuit as an example\n",
    "exp1 = T2Ramsey(qubit, delays, unit=unit)\n",
    "print(exp1.circuits()[0])"
   ]
  },
  {
   "cell_type": "markdown",
   "metadata": {},
   "source": [
    "We run the experiment on a simple, simulated backend, created specifically for this experiment's tutorial."
   ]
  },
  {
   "cell_type": "code",
   "execution_count": 4,
   "metadata": {},
   "outputs": [],
   "source": [
    "from qiskit_experiments.test.t2ramsey_backend import T2RamseyBackend\n",
    "# MockJob is a wrapper for the backend, to give it the form of a job\n",
    "from qiskit_experiments.test.mock_job import MockJob\n",
    "import qiskit_experiments.matplotlib\n",
    "from qiskit_experiments.matplotlib import pyplot, requires_matplotlib\n",
    "from qiskit_experiments.matplotlib import HAS_MATPLOTLIB\n",
    "\n",
    "conversion_factor = 1E-6\n",
    "# The behavior of the backend is determined by the following parameters\n",
    "backend = T2RamseyBackend(\n",
    "                    p0={\"a_guess\":[0.5], \"t2ramsey\":[80.0], \"f_guess\":[0.02], \"phi_guess\":[0.0],\n",
    "                        \"b_guess\": [0.5]},\n",
    "                    initial_prob_plus=[0.0],\n",
    "                    readout0to1=[0.02],\n",
    "                    readout1to0=[0.02],\n",
    "                    conversion_factor=conversion_factor,\n",
    "                )\n"
   ]
  },
  {
   "cell_type": "markdown",
   "metadata": {},
   "source": [
    "The resulting graph will have the form:\n",
    "$ f(t) = a^{-t/T_2*} \\cdot cos(2 \\pi f t + \\phi) + b $\n",
    "where *t* is the delay, $T_2*$ is the decay factor, and *f* is the detuning frequency.\n",
    "`conversion_factor` is a scaling factor that depends on the measurement units used. It is 1E-6 here, because the unit is microseconds."
   ]
  },
  {
   "cell_type": "code",
   "execution_count": null,
   "metadata": {
    "scrolled": true
   },
   "outputs": [],
   "source": [
    "exp1.set_analysis_options(user_p0=None, plot=True)\n",
    "expdata1 = exp1.run(backend=backend, shots=2000)\n",
    "print(expdata1)\n"
   ]
  },
  {
   "cell_type": "markdown",
   "metadata": {},
   "source": [
    "### Providing initial user estimates\n",
    "The user can provide initial estimates for the parameters to help the analysis process. Because we the curve is expected to decay toward $0.5$, the natural choice for parameters $A$ and $B$ is $0.5$. Varying the value of $\\phi$ would shift the graph along the x-axis. Since this is not of interest to us, we can safely initialize $\\phi$ to 0. t2ramsey and f are the parameters of interest. Good estimates for them are values computed in previous experiments on this qubit or a computed for other qubits."
   ]
  },
  {
   "cell_type": "code",
   "execution_count": null,
   "metadata": {},
   "outputs": [],
   "source": [
    "from qiskit_experiments.characterization import T2RamseyAnalysis\n",
    "user_p0={\n",
    "    \"A\": 0.5,\n",
    "    \"t2ramsey\": 85.0,\n",
    "    \"f\": 0.021,\n",
    "    \"phi\": 0,\n",
    "    \"B\": 0.5\n",
    "        }\n",
    "exp_with_p0 = T2Ramsey(qubit, delays, unit=unit)\n",
    "exp_with_p0.set_analysis_options(user_p0=user_p0, plot=True)\n",
    "expdata_with_p0 = exp_with_p0.run(backend=backend, shots=2000)\n",
    "print(expdata_with_p0)"
   ]
  },
  {
   "cell_type": "markdown",
   "metadata": {},
   "source": [
    "The units can be changed, but the output in the result is always given in seconds. The units in the backend must be adjusted accordingly."
   ]
  },
  {
   "cell_type": "code",
   "execution_count": null,
   "metadata": {},
   "outputs": [],
   "source": [
    "from qiskit.utils import apply_prefix\n",
    "unit = 'ns'\n",
    "delays = list(range(1000, 150000, 2000))\n",
    "conversion_factor = apply_prefix(1, unit)\n",
    "print(conversion_factor)"
   ]
  },
  {
   "cell_type": "code",
   "execution_count": null,
   "metadata": {
    "scrolled": true
   },
   "outputs": [],
   "source": [
    "p0={\"a_guess\":[0.5], \"t2ramsey\":[80000], \"f_guess\":[0.00002], \"phi_guess\":[0.0],\n",
    "                        \"b_guess\": [0.5]}\n",
    "backend_in_ns = T2RamseyBackend(\n",
    "                    p0=p0,\n",
    "                    initial_prob_plus=[0.0],\n",
    "                    readout0to1=[0.02],\n",
    "                    readout1to0=[0.02],\n",
    "                    conversion_factor=conversion_factor\n",
    "                )\n",
    "exp_in_ns = T2Ramsey(qubit, delays, unit=unit)\n",
    "exp_in_ns.set_analysis_options(user_p0=None, plot=True)\n",
    "expdata_in_ns = exp_in_ns.run(backend=backend_in_ns, shots=2000)\n",
    "print(expdata_in_ns)"
   ]
  },
  {
   "cell_type": "markdown",
   "metadata": {},
   "source": [
    "It is possible to add data to an experiment, after the analysis of the first set of data. In the next example we add exp2 to `exp_in_ns` that we showed above."
   ]
  },
  {
   "cell_type": "code",
   "execution_count": null,
   "metadata": {
    "scrolled": true
   },
   "outputs": [],
   "source": [
    "#import numpy as np\n",
    "\n",
    "more_delays = list(range(2000, 150000, 2000))         \n",
    "exp_new = T2Ramsey(qubit, more_delays, unit=unit)\n",
    "exp_new.set_analysis_options(user_p0=None, plot=True)\n",
    "expdata_new = exp_new.run(\n",
    "            backend=backend_in_ns,\n",
    "            experiment_data=expdata_in_ns,\n",
    "            shots=2000\n",
    "        )\n",
    "result_new = expdata_new.analysis_result(1)\n",
    "print(result_new)"
   ]
  },
  {
   "cell_type": "code",
   "execution_count": null,
   "metadata": {},
   "outputs": [],
   "source": []
  }
 ],
 "metadata": {
  "kernelspec": {
   "display_name": "Python 3",
   "language": "python",
   "name": "python3"
  },
  "language_info": {
   "codemirror_mode": {
    "name": "ipython",
    "version": 3
   },
   "file_extension": ".py",
   "mimetype": "text/x-python",
   "name": "python",
   "nbconvert_exporter": "python",
   "pygments_lexer": "ipython3",
   "version": "3.8.10"
  }
 },
 "nbformat": 4,
 "nbformat_minor": 4
}
