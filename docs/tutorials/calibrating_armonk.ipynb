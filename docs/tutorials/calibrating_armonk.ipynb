{
 "cells": [
  {
   "cell_type": "markdown",
   "metadata": {},
   "source": [
    "# Calibrating single-qubit gates on Armonk\n",
    "\n",
    "In this tutorial we demonstrate how to calibrate single-qubit gates on Armonk using the Calibration framework in qiskit-experiments. We will run experiments to find the qubit frequency, calibrate the amplitude of DRAG pulses and chose the value of the DRAG parameter that minimizes leakage. The calibration framework requires the user to\n",
    "\n",
    "* setup an instance of `Calibrations` or `BackendCalibrations`,\n",
    "* run calibration experiments which can be found either in `qiskit_experiments.library.calibration` or `qiskit_experiments.library.characterization`, and\n",
    "* update the values of the parameters stored in the instance of `Calibrations` (or `BackendCalibrations`) using `Update` classes. \n",
    "\n",
    "You will see that the `Update` classes are not meant to be instantiated but provide an `update` class method to extract calibrated parameter values and add them to the calibrations."
   ]
  },
  {
   "cell_type": "code",
   "execution_count": 1,
   "metadata": {},
   "outputs": [],
   "source": [
    "import numpy as np\n",
    "\n",
    "import qiskit.pulse as pulse\n",
    "from qiskit.circuit import Parameter\n",
    "\n",
    "from qiskit_experiments.calibration_management.backend_calibrations import BackendCalibrations\n",
    "\n",
    "from qiskit import IBMQ, schedule"
   ]
  },
  {
   "cell_type": "code",
   "execution_count": 2,
   "metadata": {},
   "outputs": [],
   "source": [
    "IBMQ.load_account()\n",
    "provider = IBMQ.get_provider(hub='ibm-q', group='open', project='main')\n",
    "backend = provider.get_backend('ibmq_armonk')"
   ]
  },
  {
   "cell_type": "code",
   "execution_count": 3,
   "metadata": {},
   "outputs": [],
   "source": [
    "qubit = 0  # The qubit we will work with"
   ]
  },
  {
   "cell_type": "markdown",
   "metadata": {},
   "source": [
    "The two functions below show how to setup an instance of `BackendCalibrations`. To do this the user defines the template schedules to calibrate. These template schedules are fully parameterized, even the channel indices on which the pulses are played. Furthermore, the name of the parameter in the channel index must follow the convention laid out in the documentation of the calibration module. Note that the parameters in the channel indices are automatically mapped to the channel index when `get_schedule` is called. "
   ]
  },
  {
   "cell_type": "code",
   "execution_count": 4,
   "metadata": {},
   "outputs": [],
   "source": [
    "def setup_cals(backend) -> BackendCalibrations:\n",
    "    \"\"\"A function to instantiate calibrations and add a couple of template schedules.\"\"\"\n",
    "    cals = BackendCalibrations(backend)\n",
    "\n",
    "    dur = Parameter(\"dur\")\n",
    "    amp = Parameter(\"amp\")\n",
    "    sigma = Parameter(\"σ\")\n",
    "    beta = Parameter(\"β\")\n",
    "    drive = pulse.DriveChannel(Parameter(\"ch0\"))\n",
    "\n",
    "    # Define and add template schedules.\n",
    "    with pulse.build(name=\"xp\") as xp:\n",
    "        pulse.play(pulse.Drag(dur, amp, sigma, beta), drive)\n",
    "\n",
    "    with pulse.build(name=\"xm\") as xm:\n",
    "        pulse.play(pulse.Drag(dur, -amp, sigma, beta), drive)\n",
    "        \n",
    "    with pulse.build(name=\"x90p\") as x90p:\n",
    "        pulse.play(pulse.Drag(dur, Parameter(\"amp\"), sigma, Parameter(\"β\")), drive)\n",
    "\n",
    "    cals.add_schedule(xp)\n",
    "    cals.add_schedule(xm)\n",
    "    cals.add_schedule(x90p)\n",
    "    \n",
    "    return cals\n",
    "\n",
    "def add_parameter_guesses(cals: BackendCalibrations):\n",
    "    \"\"\"Add guesses for the parameter values to the calibrations.\"\"\"\n",
    "    for sched in [\"xp\", \"x90p\"]:\n",
    "        cals.add_parameter_value(120, \"σ\", schedule=sched)\n",
    "        cals.add_parameter_value(0.5, \"β\", schedule=sched)\n",
    "        cals.add_parameter_value(480, \"dur\", schedule=sched)\n",
    "        cals.add_parameter_value(0.5, \"amp\", schedule=sched)"
   ]
  },
  {
   "cell_type": "markdown",
   "metadata": {},
   "source": [
    "When setting up the calibrations we add three pulses: a $\\pi$-rotation, with a schedule named `xp`, a schedule `xm` identical to `xp` but with a nagative amplitude, and a $\\pi/2$-rotation, with a schedule named `x90p`. Here, we have linked the amplitude of the `xp` and `xm` pulses. Therefore, calibrating the parameters of `xp` will also calibrate the parameters of `xm`."
   ]
  },
  {
   "cell_type": "code",
   "execution_count": 5,
   "metadata": {},
   "outputs": [],
   "source": [
    "cals = setup_cals(backend)\n",
    "add_parameter_guesses(cals)"
   ]
  },
  {
   "cell_type": "markdown",
   "metadata": {},
   "source": [
    "A samilar setup is achieved by using a pre-built library of gates. The library of gates provides a standard set of gates and some initial guesses for the value of the parameters in the template schedules. This is shown below using the `FixedFrequencyTransmon` which provides the `x`, `y`, `sx`, and `sy` pulses. Note that in the example below we change the default value of the pulse duration to 320 samples."
   ]
  },
  {
   "cell_type": "code",
   "execution_count": 6,
   "metadata": {},
   "outputs": [],
   "source": [
    "from qiskit_experiments.calibration_management.basis_gate_library import FixedFrequencyTransmon"
   ]
  },
  {
   "cell_type": "code",
   "execution_count": 7,
   "metadata": {},
   "outputs": [],
   "source": [
    "library = FixedFrequencyTransmon(default_values={\"duration\": 480})\n",
    "cals = BackendCalibrations(backend, library)"
   ]
  },
  {
   "cell_type": "markdown",
   "metadata": {},
   "source": [
    "## 1. Finding qubits with spectroscopy\n",
    "\n",
    "Here, we are using a backend for which we already know the qubit frequency. We will therefore use the spectroscopy experiment to confirm that there is a resonance at the qubit frequency reported by the backend."
   ]
  },
  {
   "cell_type": "code",
   "execution_count": 8,
   "metadata": {},
   "outputs": [],
   "source": [
    "from qiskit_experiments.library.characterization.qubit_spectroscopy import QubitSpectroscopy"
   ]
  },
  {
   "cell_type": "markdown",
   "metadata": {},
   "source": [
    "We first show the contents of the calibrations for qubit 0. Note that the guess values that we added before apply to all qubits on the chip. We see this in the table below as an empty tuple `()` in the qubits column. Observe that the parameter values of `xm` do not appear in this table as they are given by the values of `xp`."
   ]
  },
  {
   "cell_type": "code",
   "execution_count": 9,
   "metadata": {},
   "outputs": [
    {
     "data": {
      "text/html": [
       "<div>\n",
       "<style scoped>\n",
       "    .dataframe tbody tr th:only-of-type {\n",
       "        vertical-align: middle;\n",
       "    }\n",
       "\n",
       "    .dataframe tbody tr th {\n",
       "        vertical-align: top;\n",
       "    }\n",
       "\n",
       "    .dataframe thead th {\n",
       "        text-align: right;\n",
       "    }\n",
       "</style>\n",
       "<table border=\"1\" class=\"dataframe\">\n",
       "  <thead>\n",
       "    <tr style=\"text-align: right;\">\n",
       "      <th></th>\n",
       "      <th>value</th>\n",
       "      <th>date_time</th>\n",
       "      <th>valid</th>\n",
       "      <th>exp_id</th>\n",
       "      <th>group</th>\n",
       "      <th>qubits</th>\n",
       "      <th>parameter</th>\n",
       "      <th>schedule</th>\n",
       "    </tr>\n",
       "  </thead>\n",
       "  <tbody>\n",
       "    <tr>\n",
       "      <th>0</th>\n",
       "      <td>0.000000e+00</td>\n",
       "      <td>2021-07-29 20:11:01.261908+0000</td>\n",
       "      <td>True</td>\n",
       "      <td>None</td>\n",
       "      <td>default</td>\n",
       "      <td>()</td>\n",
       "      <td>β</td>\n",
       "      <td>x</td>\n",
       "    </tr>\n",
       "    <tr>\n",
       "      <th>1</th>\n",
       "      <td>4.800000e+02</td>\n",
       "      <td>2021-07-29 20:11:01.261924+0000</td>\n",
       "      <td>True</td>\n",
       "      <td>None</td>\n",
       "      <td>default</td>\n",
       "      <td>()</td>\n",
       "      <td>duration</td>\n",
       "      <td>x</td>\n",
       "    </tr>\n",
       "    <tr>\n",
       "      <th>2</th>\n",
       "      <td>1.200000e+02</td>\n",
       "      <td>2021-07-29 20:11:01.261860+0000</td>\n",
       "      <td>True</td>\n",
       "      <td>None</td>\n",
       "      <td>default</td>\n",
       "      <td>()</td>\n",
       "      <td>σ</td>\n",
       "      <td>x</td>\n",
       "    </tr>\n",
       "    <tr>\n",
       "      <th>3</th>\n",
       "      <td>4.800000e+02</td>\n",
       "      <td>2021-07-29 20:11:01.262075+0000</td>\n",
       "      <td>True</td>\n",
       "      <td>None</td>\n",
       "      <td>default</td>\n",
       "      <td>()</td>\n",
       "      <td>duration</td>\n",
       "      <td>sx</td>\n",
       "    </tr>\n",
       "    <tr>\n",
       "      <th>4</th>\n",
       "      <td>5.000000e-01</td>\n",
       "      <td>2021-07-29 20:11:01.261846+0000</td>\n",
       "      <td>True</td>\n",
       "      <td>None</td>\n",
       "      <td>default</td>\n",
       "      <td>()</td>\n",
       "      <td>amp</td>\n",
       "      <td>x</td>\n",
       "    </tr>\n",
       "    <tr>\n",
       "      <th>5</th>\n",
       "      <td>6.993371e+09</td>\n",
       "      <td>2021-07-29 20:11:01.261609+0000</td>\n",
       "      <td>True</td>\n",
       "      <td>None</td>\n",
       "      <td>default</td>\n",
       "      <td>(0,)</td>\n",
       "      <td>meas_lo_freq</td>\n",
       "      <td>None</td>\n",
       "    </tr>\n",
       "    <tr>\n",
       "      <th>6</th>\n",
       "      <td>1.200000e+02</td>\n",
       "      <td>2021-07-29 20:11:01.261945+0000</td>\n",
       "      <td>True</td>\n",
       "      <td>None</td>\n",
       "      <td>default</td>\n",
       "      <td>()</td>\n",
       "      <td>σ</td>\n",
       "      <td>sx</td>\n",
       "    </tr>\n",
       "    <tr>\n",
       "      <th>7</th>\n",
       "      <td>0.000000e+00</td>\n",
       "      <td>2021-07-29 20:11:01.261935+0000</td>\n",
       "      <td>True</td>\n",
       "      <td>None</td>\n",
       "      <td>default</td>\n",
       "      <td>()</td>\n",
       "      <td>β</td>\n",
       "      <td>sx</td>\n",
       "    </tr>\n",
       "    <tr>\n",
       "      <th>8</th>\n",
       "      <td>4.971657e+09</td>\n",
       "      <td>2021-07-29 20:11:01.261589+0000</td>\n",
       "      <td>True</td>\n",
       "      <td>None</td>\n",
       "      <td>default</td>\n",
       "      <td>(0,)</td>\n",
       "      <td>qubit_lo_freq</td>\n",
       "      <td>None</td>\n",
       "    </tr>\n",
       "    <tr>\n",
       "      <th>9</th>\n",
       "      <td>2.500000e-01</td>\n",
       "      <td>2021-07-29 20:11:01.262050+0000</td>\n",
       "      <td>True</td>\n",
       "      <td>None</td>\n",
       "      <td>default</td>\n",
       "      <td>()</td>\n",
       "      <td>amp</td>\n",
       "      <td>sx</td>\n",
       "    </tr>\n",
       "  </tbody>\n",
       "</table>\n",
       "</div>"
      ],
      "text/plain": [
       "          value                        date_time  valid exp_id    group  \\\n",
       "0  0.000000e+00  2021-07-29 20:11:01.261908+0000   True   None  default   \n",
       "1  4.800000e+02  2021-07-29 20:11:01.261924+0000   True   None  default   \n",
       "2  1.200000e+02  2021-07-29 20:11:01.261860+0000   True   None  default   \n",
       "3  4.800000e+02  2021-07-29 20:11:01.262075+0000   True   None  default   \n",
       "4  5.000000e-01  2021-07-29 20:11:01.261846+0000   True   None  default   \n",
       "5  6.993371e+09  2021-07-29 20:11:01.261609+0000   True   None  default   \n",
       "6  1.200000e+02  2021-07-29 20:11:01.261945+0000   True   None  default   \n",
       "7  0.000000e+00  2021-07-29 20:11:01.261935+0000   True   None  default   \n",
       "8  4.971657e+09  2021-07-29 20:11:01.261589+0000   True   None  default   \n",
       "9  2.500000e-01  2021-07-29 20:11:01.262050+0000   True   None  default   \n",
       "\n",
       "  qubits      parameter schedule  \n",
       "0     ()              β        x  \n",
       "1     ()       duration        x  \n",
       "2     ()              σ        x  \n",
       "3     ()       duration       sx  \n",
       "4     ()            amp        x  \n",
       "5   (0,)   meas_lo_freq     None  \n",
       "6     ()              σ       sx  \n",
       "7     ()              β       sx  \n",
       "8   (0,)  qubit_lo_freq     None  \n",
       "9     ()            amp       sx  "
      ]
     },
     "execution_count": 9,
     "metadata": {},
     "output_type": "execute_result"
    }
   ],
   "source": [
    "import pandas as pd\n",
    "\n",
    "pd.DataFrame(cals.parameters_table(qubit_list=[qubit, ()]))"
   ]
  },
  {
   "cell_type": "code",
   "execution_count": 10,
   "metadata": {},
   "outputs": [],
   "source": [
    "freq01_estimate = backend.defaults().qubit_freq_est[qubit]\n",
    "frequencies = np.linspace(freq01_estimate -15e6, freq01_estimate + 15e6, 51)\n",
    "spec = QubitSpectroscopy(qubit, frequencies)\n",
    "spec.set_experiment_options(amp=0.1)"
   ]
  },
  {
   "cell_type": "code",
   "execution_count": 11,
   "metadata": {},
   "outputs": [
    {
     "data": {
      "image/png": "[encoded data removed]",
      "text/plain": [
       "<Figure size 392.294x144.48 with 1 Axes>"
      ]
     },
     "execution_count": 11,
     "metadata": {},
     "output_type": "execute_result"
    }
   ],
   "source": [
    "circuit = spec.circuits(backend)[0]\n",
    "circuit.draw(output=\"mpl\")"
   ]
  },
  {
   "cell_type": "code",
   "execution_count": 12,
   "metadata": {},
   "outputs": [
    {
     "data": {
      "image/png": "[encoded data removed]",
      "text/plain": [
       "<Figure size 936x241.987 with 1 Axes>"
      ]
     },
     "execution_count": 12,
     "metadata": {},
     "output_type": "execute_result"
    }
   ],
   "source": [
    "schedule(circuit, backend).draw()"
   ]
  },
  {
   "cell_type": "code",
   "execution_count": 13,
   "metadata": {},
   "outputs": [],
   "source": [
    "spec_data = spec.run(backend)"
   ]
  },
  {
   "cell_type": "code",
   "execution_count": 14,
   "metadata": {},
   "outputs": [
    {
     "data": {
      "text/plain": [
       "ExperimentData(QubitSpectroscopy, dac44b0d-c2f6-4b0e-901e-a069adba9079, backend=ibmq_armonk, job_ids=['61030b648e24421a97b07cd8'])"
      ]
     },
     "execution_count": 14,
     "metadata": {},
     "output_type": "execute_result"
    }
   ],
   "source": [
    "spec_data.block_for_results()"
   ]
  },
  {
   "cell_type": "code",
   "execution_count": 15,
   "metadata": {},
   "outputs": [
    {
     "data": {
      "image/png": "[encoded data removed]",
      "text/plain": [
       "<Figure size 576x360 with 1 Axes>"
      ]
     },
     "execution_count": 15,
     "metadata": {},
     "output_type": "execute_result"
    }
   ],
   "source": [
    "spec_data.figure(0)"
   ]
  },
  {
   "cell_type": "code",
   "execution_count": 16,
   "metadata": {},
   "outputs": [
    {
     "name": "stdout",
     "output_type": "stream",
     "text": [
      "DbAnalysisResultV1\n",
      "- name: ResonanceAnalysis\n",
      "- value: [-1.00796745e+00  3.21935276e+06  4.97169715e+09  9.74383532e-01] ± [1.40155441e-02 4.95617950e+04 4.71760843e+04 4.52984683e-03]\n",
      "- χ²: 2.8446204512329722\n",
      "- quality: good\n",
      "- extra: <7 items>\n",
      "- device_components: ['Q0']\n",
      "- verified: False\n"
     ]
    }
   ],
   "source": [
    "for result in spec_data.analysis_results():\n",
    "    print(result)"
   ]
  },
  {
   "cell_type": "code",
   "execution_count": 17,
   "metadata": {},
   "outputs": [
    {
     "data": {
      "text/plain": [
       "{'popt': array([-1.00796745e+00,  3.21935276e+06,  4.97169715e+09,  9.74383532e-01]),\n",
       " 'popt_keys': ['a', 'sigma', 'freq', 'b'],\n",
       " 'popt_err': array([1.40155441e-02, 4.95617950e+04, 4.71760843e+04, 4.52984683e-03]),\n",
       " 'pcov': array([[ 1.96435477e-04,  2.69873567e+02,  5.61569723e-01,\n",
       "         -1.02145394e-05],\n",
       "        [ 2.69873567e+02,  2.45637153e+09,  5.32663773e+06,\n",
       "          1.19113133e+02],\n",
       "        [ 5.61569723e-01,  5.32663773e+06,  2.22558293e+09,\n",
       "          1.70840138e-02],\n",
       "        [-1.02145394e-05,  1.19113133e+02,  1.70840138e-02,\n",
       "          2.05195123e-05]]),\n",
       " 'dof': 47,\n",
       " 'xrange': [4956656529.556, 4986656529.556],\n",
       " 'success': True}"
      ]
     },
     "execution_count": 17,
     "metadata": {},
     "output_type": "execute_result"
    }
   ],
   "source": [
    "spec_data.analysis_results(0).extra"
   ]
  },
  {
   "cell_type": "markdown",
   "metadata": {},
   "source": [
    "We now update the instance of `Calibrations` with the value of the frequency that we measured using the `Frequency.update` function. Note that for the remainder of this notebook we use the value of the qubit frequency in the backend as it is not yet possible to updated qubit frequencies with the circuit path."
   ]
  },
  {
   "cell_type": "code",
   "execution_count": 18,
   "metadata": {},
   "outputs": [],
   "source": [
    "from qiskit_experiments.calibration_management.update_library import Frequency\n",
    "\n",
    "Frequency.update(cals, spec_data)"
   ]
  },
  {
   "cell_type": "code",
   "execution_count": 19,
   "metadata": {},
   "outputs": [
    {
     "data": {
      "text/html": [
       "<div>\n",
       "<style scoped>\n",
       "    .dataframe tbody tr th:only-of-type {\n",
       "        vertical-align: middle;\n",
       "    }\n",
       "\n",
       "    .dataframe tbody tr th {\n",
       "        vertical-align: top;\n",
       "    }\n",
       "\n",
       "    .dataframe thead th {\n",
       "        text-align: right;\n",
       "    }\n",
       "</style>\n",
       "<table border=\"1\" class=\"dataframe\">\n",
       "  <thead>\n",
       "    <tr style=\"text-align: right;\">\n",
       "      <th></th>\n",
       "      <th>value</th>\n",
       "      <th>date_time</th>\n",
       "      <th>valid</th>\n",
       "      <th>exp_id</th>\n",
       "      <th>group</th>\n",
       "      <th>qubits</th>\n",
       "      <th>parameter</th>\n",
       "      <th>schedule</th>\n",
       "    </tr>\n",
       "  </thead>\n",
       "  <tbody>\n",
       "    <tr>\n",
       "      <th>0</th>\n",
       "      <td>6.993371e+09</td>\n",
       "      <td>2021-07-29 20:11:01.261609+0000</td>\n",
       "      <td>True</td>\n",
       "      <td>None</td>\n",
       "      <td>default</td>\n",
       "      <td>(0,)</td>\n",
       "      <td>meas_lo_freq</td>\n",
       "      <td>None</td>\n",
       "    </tr>\n",
       "    <tr>\n",
       "      <th>1</th>\n",
       "      <td>4.971657e+09</td>\n",
       "      <td>2021-07-29 20:11:01.261589+0000</td>\n",
       "      <td>True</td>\n",
       "      <td>None</td>\n",
       "      <td>default</td>\n",
       "      <td>(0,)</td>\n",
       "      <td>qubit_lo_freq</td>\n",
       "      <td>None</td>\n",
       "    </tr>\n",
       "    <tr>\n",
       "      <th>2</th>\n",
       "      <td>4.971697e+09</td>\n",
       "      <td>2021-07-30 05:13:23.942000+0900</td>\n",
       "      <td>True</td>\n",
       "      <td>dac44b0d-c2f6-4b0e-901e-a069adba9079</td>\n",
       "      <td>default</td>\n",
       "      <td>(0,)</td>\n",
       "      <td>qubit_lo_freq</td>\n",
       "      <td>None</td>\n",
       "    </tr>\n",
       "  </tbody>\n",
       "</table>\n",
       "</div>"
      ],
      "text/plain": [
       "          value                        date_time  valid  \\\n",
       "0  6.993371e+09  2021-07-29 20:11:01.261609+0000   True   \n",
       "1  4.971657e+09  2021-07-29 20:11:01.261589+0000   True   \n",
       "2  4.971697e+09  2021-07-30 05:13:23.942000+0900   True   \n",
       "\n",
       "                                 exp_id    group qubits      parameter  \\\n",
       "0                                  None  default   (0,)   meas_lo_freq   \n",
       "1                                  None  default   (0,)  qubit_lo_freq   \n",
       "2  dac44b0d-c2f6-4b0e-901e-a069adba9079  default   (0,)  qubit_lo_freq   \n",
       "\n",
       "  schedule  \n",
       "0     None  \n",
       "1     None  \n",
       "2     None  "
      ]
     },
     "execution_count": 19,
     "metadata": {},
     "output_type": "execute_result"
    }
   ],
   "source": [
    "pd.DataFrame(cals.parameters_table(qubit_list=[qubit]))"
   ]
  },
  {
   "cell_type": "markdown",
   "metadata": {},
   "source": [
    "As seen from the table above the measured frequency has been added to the calibrations."
   ]
  },
  {
   "cell_type": "markdown",
   "metadata": {},
   "source": [
    "## 2. Calibrating the pulse amplitudes with a Rabi experiment\n",
    "\n",
    "In the Rabi experiment we apply a pulse at the frequency of the qubit and scan its amplitude to find the amplitude that creates a rotation of a desired angle."
   ]
  },
  {
   "cell_type": "code",
   "execution_count": 20,
   "metadata": {},
   "outputs": [],
   "source": [
    "from qiskit_experiments.library.calibration import Rabi\n",
    "from qiskit_experiments.calibration_management.update_library import Amplitude"
   ]
  },
  {
   "cell_type": "code",
   "execution_count": 21,
   "metadata": {},
   "outputs": [],
   "source": [
    "rabi = Rabi(qubit)\n",
    "rabi.set_experiment_options(\n",
    "    amplitudes=np.linspace(-0.95, 0.95, 51), \n",
    "    schedule=cals.get_schedule(\"x\", (qubit,), assign_params={\"amp\": Parameter(\"amp\")}),\n",
    ")"
   ]
  },
  {
   "cell_type": "code",
   "execution_count": 22,
   "metadata": {},
   "outputs": [
    {
     "data": {
      "text/plain": [
       "ExperimentData(Rabi, 87dbb1da-da69-4c89-a912-0a2124abf8d6, backend=ibmq_armonk, job_ids=['61030bf38e24422bf4b07cdb'])"
      ]
     },
     "execution_count": 22,
     "metadata": {},
     "output_type": "execute_result"
    }
   ],
   "source": [
    "rabi_data = rabi.run(backend)\n",
    "rabi_data.block_for_results()"
   ]
  },
  {
   "cell_type": "code",
   "execution_count": 23,
   "metadata": {},
   "outputs": [
    {
     "data": {
      "image/png": "[encoded data removed]",
      "text/plain": [
       "<Figure size 576x360 with 1 Axes>"
      ]
     },
     "execution_count": 23,
     "metadata": {},
     "output_type": "execute_result"
    }
   ],
   "source": [
    "rabi_data.figure(0)"
   ]
  },
  {
   "cell_type": "code",
   "execution_count": 24,
   "metadata": {},
   "outputs": [
    {
     "name": "stdout",
     "output_type": "stream",
     "text": [
      "DbAnalysisResultV1\n",
      "- name: OscillationAnalysis\n",
      "- value: [ 0.48343472  0.93205588 -0.01156031  0.472924  ] ± [0.00256212 0.00162429 0.0056532  0.00197341]\n",
      "- χ²: 6.963863493097926\n",
      "- quality: bad\n",
      "- extra: <7 items>\n",
      "- device_components: ['Q0']\n",
      "- verified: False\n"
     ]
    }
   ],
   "source": [
    "for result in rabi_data.analysis_results():\n",
    "    print(result)"
   ]
  },
  {
   "cell_type": "code",
   "execution_count": 25,
   "metadata": {},
   "outputs": [
    {
     "data": {
      "text/plain": [
       "{'popt': array([ 0.48343472,  0.93205588, -0.01156031,  0.472924  ]),\n",
       " 'popt_keys': ['amp', 'freq', 'phase', 'baseline'],\n",
       " 'popt_err': array([0.00256212, 0.00162429, 0.0056532 , 0.00197341]),\n",
       " 'pcov': array([[ 6.56445818e-06, -4.86735408e-07,  3.61198425e-08,\n",
       "          1.01936143e-06],\n",
       "        [-4.86735408e-07,  2.63832312e-06, -6.45446326e-08,\n",
       "         -9.95791832e-07],\n",
       "        [ 3.61198425e-08, -6.45446326e-08,  3.19586663e-05,\n",
       "          1.56941796e-07],\n",
       "        [ 1.01936143e-06, -9.95791832e-07,  1.56941796e-07,\n",
       "          3.89432832e-06]]),\n",
       " 'dof': 47,\n",
       " 'xrange': [-0.95, 0.95],\n",
       " 'success': True}"
      ]
     },
     "execution_count": 25,
     "metadata": {},
     "output_type": "execute_result"
    }
   ],
   "source": [
    "rabi_data.analysis_results(0).extra"
   ]
  },
  {
   "cell_type": "code",
   "execution_count": 26,
   "metadata": {},
   "outputs": [],
   "source": [
    "Amplitude.update(cals, rabi_data, angles_schedules=[(np.pi, \"amp\", \"x\"), (np.pi/2, \"amp\", \"sx\")])"
   ]
  },
  {
   "cell_type": "code",
   "execution_count": 27,
   "metadata": {},
   "outputs": [
    {
     "data": {
      "text/html": [
       "<div>\n",
       "<style scoped>\n",
       "    .dataframe tbody tr th:only-of-type {\n",
       "        vertical-align: middle;\n",
       "    }\n",
       "\n",
       "    .dataframe tbody tr th {\n",
       "        vertical-align: top;\n",
       "    }\n",
       "\n",
       "    .dataframe thead th {\n",
       "        text-align: right;\n",
       "    }\n",
       "</style>\n",
       "<table border=\"1\" class=\"dataframe\">\n",
       "  <thead>\n",
       "    <tr style=\"text-align: right;\">\n",
       "      <th></th>\n",
       "      <th>value</th>\n",
       "      <th>date_time</th>\n",
       "      <th>valid</th>\n",
       "      <th>exp_id</th>\n",
       "      <th>group</th>\n",
       "      <th>qubits</th>\n",
       "      <th>parameter</th>\n",
       "      <th>schedule</th>\n",
       "    </tr>\n",
       "  </thead>\n",
       "  <tbody>\n",
       "    <tr>\n",
       "      <th>0</th>\n",
       "      <td>0.268224+0.000000j</td>\n",
       "      <td>2021-07-30 05:16:07.057000+0900</td>\n",
       "      <td>True</td>\n",
       "      <td>87dbb1da-da69-4c89-a912-0a2124abf8d6</td>\n",
       "      <td>default</td>\n",
       "      <td>(0,)</td>\n",
       "      <td>amp</td>\n",
       "      <td>sx</td>\n",
       "    </tr>\n",
       "    <tr>\n",
       "      <th>1</th>\n",
       "      <td>0.500000+0.000000j</td>\n",
       "      <td>2021-07-29 20:11:01.261846+0000</td>\n",
       "      <td>True</td>\n",
       "      <td>None</td>\n",
       "      <td>default</td>\n",
       "      <td>()</td>\n",
       "      <td>amp</td>\n",
       "      <td>x</td>\n",
       "    </tr>\n",
       "    <tr>\n",
       "      <th>2</th>\n",
       "      <td>0.536449+0.000000j</td>\n",
       "      <td>2021-07-30 05:16:07.057000+0900</td>\n",
       "      <td>True</td>\n",
       "      <td>87dbb1da-da69-4c89-a912-0a2124abf8d6</td>\n",
       "      <td>default</td>\n",
       "      <td>(0,)</td>\n",
       "      <td>amp</td>\n",
       "      <td>x</td>\n",
       "    </tr>\n",
       "    <tr>\n",
       "      <th>3</th>\n",
       "      <td>0.250000+0.000000j</td>\n",
       "      <td>2021-07-29 20:11:01.262050+0000</td>\n",
       "      <td>True</td>\n",
       "      <td>None</td>\n",
       "      <td>default</td>\n",
       "      <td>()</td>\n",
       "      <td>amp</td>\n",
       "      <td>sx</td>\n",
       "    </tr>\n",
       "  </tbody>\n",
       "</table>\n",
       "</div>"
      ],
      "text/plain": [
       "                value                        date_time  valid  \\\n",
       "0  0.268224+0.000000j  2021-07-30 05:16:07.057000+0900   True   \n",
       "1  0.500000+0.000000j  2021-07-29 20:11:01.261846+0000   True   \n",
       "2  0.536449+0.000000j  2021-07-30 05:16:07.057000+0900   True   \n",
       "3  0.250000+0.000000j  2021-07-29 20:11:01.262050+0000   True   \n",
       "\n",
       "                                 exp_id    group qubits parameter schedule  \n",
       "0  87dbb1da-da69-4c89-a912-0a2124abf8d6  default   (0,)       amp       sx  \n",
       "1                                  None  default     ()       amp        x  \n",
       "2  87dbb1da-da69-4c89-a912-0a2124abf8d6  default   (0,)       amp        x  \n",
       "3                                  None  default     ()       amp       sx  "
      ]
     },
     "execution_count": 27,
     "metadata": {},
     "output_type": "execute_result"
    }
   ],
   "source": [
    "pd.DataFrame(cals.parameters_table(qubit_list=[qubit, ()], parameters=\"amp\"))"
   ]
  },
  {
   "cell_type": "markdown",
   "metadata": {},
   "source": [
    "The table above shows that we have now updated the amplitude of our $\\pi$-pulse from 0.5 to the value obtained in the most recent Rabi experiment. Importantly, since we linked the amplitudes of the `x` and `y` schedules we will see that the amplitude of the `y` schedule has also been updated as seen when requesting schedules form the `Calibrations` instance. Furthermore, we used the result from the `Rabi` experiment to also update the value of the `sx` pulse. This was achieved by specifying `(np.pi/2, \"amp\", \"sx\")` when calling `update`."
   ]
  },
  {
   "cell_type": "code",
   "execution_count": 28,
   "metadata": {},
   "outputs": [
    {
     "data": {
      "text/plain": [
       "ScheduleBlock(Play(Drag(duration=480, amp=(0.26822426+0j), sigma=120, beta=0), DriveChannel(0)), name=\"sx\", transform=AlignLeft())"
      ]
     },
     "execution_count": 28,
     "metadata": {},
     "output_type": "execute_result"
    }
   ],
   "source": [
    "cals.get_schedule(\"sx\", qubit)"
   ]
  },
  {
   "cell_type": "code",
   "execution_count": 29,
   "metadata": {},
   "outputs": [
    {
     "data": {
      "text/plain": [
       "ScheduleBlock(Play(Drag(duration=480, amp=(0.53644852+0j), sigma=120, beta=0), DriveChannel(0)), name=\"x\", transform=AlignLeft())"
      ]
     },
     "execution_count": 29,
     "metadata": {},
     "output_type": "execute_result"
    }
   ],
   "source": [
    "cals.get_schedule(\"x\", qubit)"
   ]
  },
  {
   "cell_type": "code",
   "execution_count": 30,
   "metadata": {},
   "outputs": [
    {
     "data": {
      "text/plain": [
       "ScheduleBlock(Play(Drag(duration=480, amp=0.53644852j, sigma=120, beta=0), DriveChannel(0)), name=\"y\", transform=AlignLeft())"
      ]
     },
     "execution_count": 30,
     "metadata": {},
     "output_type": "execute_result"
    }
   ],
   "source": [
    "cals.get_schedule(\"y\", qubit)"
   ]
  },
  {
   "cell_type": "markdown",
   "metadata": {},
   "source": [
    "## 3. Saving and loading calibrations\n",
    "\n",
    "The values of the calibrated parameters can be saved to a `.csv` file and reloaded at a later point in time.  "
   ]
  },
  {
   "cell_type": "code",
   "execution_count": 31,
   "metadata": {},
   "outputs": [
    {
     "name": "stderr",
     "output_type": "stream",
     "text": [
      "/home/knzwnao/qiskit/qiskit-experiments/qiskit_experiments/calibration_management/calibrations.py:937: UserWarning: Schedules are only saved in text format. They cannot be re-loaded.\n",
      "  warnings.warn(\"Schedules are only saved in text format. They cannot be re-loaded.\")\n"
     ]
    }
   ],
   "source": [
    "cals.save(file_type=\"csv\", overwrite=True, file_prefix=\"Armonk\")"
   ]
  },
  {
   "cell_type": "markdown",
   "metadata": {},
   "source": [
    "After saving the values of the parameters you may restart your kernel. If you do so, you will only need to run the following cell to recover the state of your calibrations. Since the schedules are currently not stored we need to call our `setup_cals` function to populate an instance of `Calibrations` with the template schedules. By contrast, the value of the parameters will be recovered from the file."
   ]
  },
  {
   "cell_type": "code",
   "execution_count": 32,
   "metadata": {},
   "outputs": [],
   "source": [
    "cals = BackendCalibrations(backend, library)\n",
    "cals.load_parameter_values(file_name=\"Armonkparameter_values.csv\")"
   ]
  },
  {
   "cell_type": "code",
   "execution_count": 33,
   "metadata": {},
   "outputs": [
    {
     "data": {
      "text/html": [
       "<div>\n",
       "<style scoped>\n",
       "    .dataframe tbody tr th:only-of-type {\n",
       "        vertical-align: middle;\n",
       "    }\n",
       "\n",
       "    .dataframe tbody tr th {\n",
       "        vertical-align: top;\n",
       "    }\n",
       "\n",
       "    .dataframe thead th {\n",
       "        text-align: right;\n",
       "    }\n",
       "</style>\n",
       "<table border=\"1\" class=\"dataframe\">\n",
       "  <thead>\n",
       "    <tr style=\"text-align: right;\">\n",
       "      <th></th>\n",
       "      <th>value</th>\n",
       "      <th>date_time</th>\n",
       "      <th>valid</th>\n",
       "      <th>exp_id</th>\n",
       "      <th>group</th>\n",
       "      <th>qubits</th>\n",
       "      <th>parameter</th>\n",
       "      <th>schedule</th>\n",
       "    </tr>\n",
       "  </thead>\n",
       "  <tbody>\n",
       "    <tr>\n",
       "      <th>0</th>\n",
       "      <td>0.268224+0.000000j</td>\n",
       "      <td>2021-07-30 05:16:07.057000+0900</td>\n",
       "      <td>True</td>\n",
       "      <td>87dbb1da-da69-4c89-a912-0a2124abf8d6</td>\n",
       "      <td>default</td>\n",
       "      <td>(0,)</td>\n",
       "      <td>amp</td>\n",
       "      <td>sx</td>\n",
       "    </tr>\n",
       "    <tr>\n",
       "      <th>1</th>\n",
       "      <td>0.500000+0.000000j</td>\n",
       "      <td>2021-07-29 20:17:09.766713+0000</td>\n",
       "      <td>True</td>\n",
       "      <td>None</td>\n",
       "      <td>default</td>\n",
       "      <td>()</td>\n",
       "      <td>amp</td>\n",
       "      <td>x</td>\n",
       "    </tr>\n",
       "    <tr>\n",
       "      <th>2</th>\n",
       "      <td>0.500000+0.000000j</td>\n",
       "      <td>2021-07-29 20:11:01.261846+0000</td>\n",
       "      <td>True</td>\n",
       "      <td></td>\n",
       "      <td>default</td>\n",
       "      <td>()</td>\n",
       "      <td>amp</td>\n",
       "      <td>x</td>\n",
       "    </tr>\n",
       "    <tr>\n",
       "      <th>3</th>\n",
       "      <td>0.536449+0.000000j</td>\n",
       "      <td>2021-07-30 05:16:07.057000+0900</td>\n",
       "      <td>True</td>\n",
       "      <td>87dbb1da-da69-4c89-a912-0a2124abf8d6</td>\n",
       "      <td>default</td>\n",
       "      <td>(0,)</td>\n",
       "      <td>amp</td>\n",
       "      <td>x</td>\n",
       "    </tr>\n",
       "    <tr>\n",
       "      <th>4</th>\n",
       "      <td>0.250000+0.000000j</td>\n",
       "      <td>2021-07-29 20:17:09.766755+0000</td>\n",
       "      <td>True</td>\n",
       "      <td>None</td>\n",
       "      <td>default</td>\n",
       "      <td>()</td>\n",
       "      <td>amp</td>\n",
       "      <td>sx</td>\n",
       "    </tr>\n",
       "    <tr>\n",
       "      <th>5</th>\n",
       "      <td>0.250000+0.000000j</td>\n",
       "      <td>2021-07-29 20:11:01.262050+0000</td>\n",
       "      <td>True</td>\n",
       "      <td></td>\n",
       "      <td>default</td>\n",
       "      <td>()</td>\n",
       "      <td>amp</td>\n",
       "      <td>sx</td>\n",
       "    </tr>\n",
       "  </tbody>\n",
       "</table>\n",
       "</div>"
      ],
      "text/plain": [
       "                value                        date_time  valid  \\\n",
       "0  0.268224+0.000000j  2021-07-30 05:16:07.057000+0900   True   \n",
       "1  0.500000+0.000000j  2021-07-29 20:17:09.766713+0000   True   \n",
       "2  0.500000+0.000000j  2021-07-29 20:11:01.261846+0000   True   \n",
       "3  0.536449+0.000000j  2021-07-30 05:16:07.057000+0900   True   \n",
       "4  0.250000+0.000000j  2021-07-29 20:17:09.766755+0000   True   \n",
       "5  0.250000+0.000000j  2021-07-29 20:11:01.262050+0000   True   \n",
       "\n",
       "                                 exp_id    group qubits parameter schedule  \n",
       "0  87dbb1da-da69-4c89-a912-0a2124abf8d6  default   (0,)       amp       sx  \n",
       "1                                  None  default     ()       amp        x  \n",
       "2                                        default     ()       amp        x  \n",
       "3  87dbb1da-da69-4c89-a912-0a2124abf8d6  default   (0,)       amp        x  \n",
       "4                                  None  default     ()       amp       sx  \n",
       "5                                        default     ()       amp       sx  "
      ]
     },
     "execution_count": 33,
     "metadata": {},
     "output_type": "execute_result"
    }
   ],
   "source": [
    "pd.DataFrame(cals.parameters_table(qubit_list=[qubit, ()], parameters=\"amp\"))"
   ]
  },
  {
   "cell_type": "markdown",
   "metadata": {},
   "source": [
    "## 4. Calibrating the value of the DRAG coefficient\n",
    "\n",
    "A Derivative Removal by Adiabatic Gate (DRAG) pulse is designed to minimize leakage\n",
    "to a neighbouring transition. It is a standard pulse with an additional derivative\n",
    "component. It is designed to reduce the frequency spectrum of a normal pulse near\n",
    "the $|1\\rangle$ - $|2\\rangle$ transition, reducing the chance of leakage\n",
    "to the $|2\\rangle$ state. The optimal value of the DRAG parameter is chosen to\n",
    "minimize both leakage and phase errors resulting from the AC Stark shift.\n",
    "The pulse envelope is $f(t) = \\Omega_x(t) + j \\beta \\frac{\\rm d}{{\\rm d }t} \\Omega_x(t)$.\n",
    "Here, $\\Omega_x$ is the envelop of the in-phase component of the pulse and\n",
    "$\\beta$ is the strength of the quadrature which we refer to as the DRAG\n",
    "parameter and seek to calibrate in this experiment. \n",
    "The DRAG calibration will run\n",
    "several series of circuits. In a given circuit a Rp(β) - Rm(β) block is repeated\n",
    "$N$ times. Here, Rp is a rotation with a positive angle and Rm is the same rotation\n",
    "with a negative amplitude."
   ]
  },
  {
   "cell_type": "code",
   "execution_count": 34,
   "metadata": {},
   "outputs": [],
   "source": [
    "from qiskit_experiments.library.calibration.drag import DragCal\n",
    "from qiskit_experiments.calibration_management.update_library import Drag"
   ]
  },
  {
   "cell_type": "code",
   "execution_count": 35,
   "metadata": {},
   "outputs": [],
   "source": [
    "cal_drag = DragCal(qubit)"
   ]
  },
  {
   "cell_type": "code",
   "execution_count": 36,
   "metadata": {},
   "outputs": [
    {
     "data": {
      "image/png": "[encoded data removed]",
      "text/plain": [
       "<Figure size 994.294x144.48 with 1 Axes>"
      ]
     },
     "execution_count": 36,
     "metadata": {},
     "output_type": "execute_result"
    }
   ],
   "source": [
    "cal_drag.set_experiment_options(\n",
    "    rp=cals.get_schedule(\"x\", qubit, assign_params={\"β\": Parameter(\"β\")}),\n",
    "    betas=np.linspace(-20, 20, 25),\n",
    "    reps=[3, 5, 7]\n",
    ")\n",
    "\n",
    "cal_drag.circuits(backend)[1].draw(output='mpl')"
   ]
  },
  {
   "cell_type": "code",
   "execution_count": 37,
   "metadata": {},
   "outputs": [
    {
     "data": {
      "text/plain": [
       "ExperimentData(DragCal, 3a690996-61da-49bc-b442-1e6c88230924, backend=ibmq_armonk, job_ids=['61030cd01e71b02f35bfb9bb'])"
      ]
     },
     "execution_count": 37,
     "metadata": {},
     "output_type": "execute_result"
    }
   ],
   "source": [
    "drag_data = cal_drag.run(backend)\n",
    "drag_data.block_for_results()"
   ]
  },
  {
   "cell_type": "code",
   "execution_count": 38,
   "metadata": {},
   "outputs": [
    {
     "data": {
      "image/png": "[encoded data removed]",
      "text/plain": [
       "<Figure size 576x360 with 1 Axes>"
      ]
     },
     "execution_count": 38,
     "metadata": {},
     "output_type": "execute_result"
    }
   ],
   "source": [
    "drag_data.figure(0)"
   ]
  },
  {
   "cell_type": "code",
   "execution_count": 39,
   "metadata": {},
   "outputs": [
    {
     "name": "stdout",
     "output_type": "stream",
     "text": [
      "DbAnalysisResultV1\n",
      "- name: DragCalAnalysis\n",
      "- value: [-0.4200665   0.02170253  0.03594982  0.0502358  -0.98335414  0.47682274] ± [0.00170255 0.00013357 0.00012362 0.00012921 0.02253689 0.00152949]\n",
      "- χ²: 0.8705779084404262\n",
      "- quality: good\n",
      "- extra: <7 items>\n",
      "- device_components: ['Q0']\n",
      "- verified: False\n"
     ]
    }
   ],
   "source": [
    "for result in drag_data.analysis_results():\n",
    "    print(result)"
   ]
  },
  {
   "cell_type": "code",
   "execution_count": 40,
   "metadata": {},
   "outputs": [
    {
     "data": {
      "text/plain": [
       "{'popt': array([-0.4200665 ,  0.02170253,  0.03594982,  0.0502358 , -0.98335414,\n",
       "         0.47682274]),\n",
       " 'popt_keys': ['amp', 'freq0', 'freq1', 'freq2', 'beta', 'base'],\n",
       " 'popt_err': array([0.00170255, 0.00013357, 0.00012362, 0.00012921, 0.02253689,\n",
       "        0.00152949]),\n",
       " 'pcov': array([[ 2.89868044e-06,  4.78776394e-08, -2.11668441e-08,\n",
       "          3.91140732e-09, -7.39640613e-08, -5.86725002e-07],\n",
       "        [ 4.78776394e-08,  1.78403675e-08, -6.99861882e-10,\n",
       "         -1.39457350e-09, -2.76767922e-09, -9.50806257e-08],\n",
       "        [-2.11668441e-08, -6.99861882e-10,  1.52815010e-08,\n",
       "          1.57700620e-10,  2.00724731e-07,  1.37250156e-08],\n",
       "        [ 3.91140732e-09, -1.39457350e-09,  1.57700620e-10,\n",
       "          1.66957705e-08,  7.85868579e-08,  3.72617853e-08],\n",
       "        [-7.39640613e-08, -2.76767922e-09,  2.00724731e-07,\n",
       "          7.85868579e-08,  5.07911306e-04,  9.14070450e-07],\n",
       "        [-5.86725002e-07, -9.50806257e-08,  1.37250156e-08,\n",
       "          3.72617853e-08,  9.14070450e-07,  2.33934583e-06]]),\n",
       " 'dof': 69,\n",
       " 'xrange': [-20.0, 20.0],\n",
       " 'success': True}"
      ]
     },
     "execution_count": 40,
     "metadata": {},
     "output_type": "execute_result"
    }
   ],
   "source": [
    "drag_data.analysis_results(0).extra"
   ]
  },
  {
   "cell_type": "code",
   "execution_count": 41,
   "metadata": {},
   "outputs": [],
   "source": [
    "Drag.update(cals, drag_data, parameter=\"β\", schedule=\"x\")"
   ]
  },
  {
   "cell_type": "code",
   "execution_count": 42,
   "metadata": {},
   "outputs": [
    {
     "data": {
      "text/html": [
       "<div>\n",
       "<style scoped>\n",
       "    .dataframe tbody tr th:only-of-type {\n",
       "        vertical-align: middle;\n",
       "    }\n",
       "\n",
       "    .dataframe tbody tr th {\n",
       "        vertical-align: top;\n",
       "    }\n",
       "\n",
       "    .dataframe thead th {\n",
       "        text-align: right;\n",
       "    }\n",
       "</style>\n",
       "<table border=\"1\" class=\"dataframe\">\n",
       "  <thead>\n",
       "    <tr style=\"text-align: right;\">\n",
       "      <th></th>\n",
       "      <th>value</th>\n",
       "      <th>date_time</th>\n",
       "      <th>valid</th>\n",
       "      <th>exp_id</th>\n",
       "      <th>group</th>\n",
       "      <th>qubits</th>\n",
       "      <th>parameter</th>\n",
       "      <th>schedule</th>\n",
       "    </tr>\n",
       "  </thead>\n",
       "  <tbody>\n",
       "    <tr>\n",
       "      <th>0</th>\n",
       "      <td>0.000000</td>\n",
       "      <td>2021-07-29 20:17:09.766744+0000</td>\n",
       "      <td>True</td>\n",
       "      <td>None</td>\n",
       "      <td>default</td>\n",
       "      <td>()</td>\n",
       "      <td>β</td>\n",
       "      <td>sx</td>\n",
       "    </tr>\n",
       "    <tr>\n",
       "      <th>1</th>\n",
       "      <td>0.000000</td>\n",
       "      <td>2021-07-29 20:11:01.261935+0000</td>\n",
       "      <td>True</td>\n",
       "      <td></td>\n",
       "      <td>default</td>\n",
       "      <td>()</td>\n",
       "      <td>β</td>\n",
       "      <td>sx</td>\n",
       "    </tr>\n",
       "    <tr>\n",
       "      <th>2</th>\n",
       "      <td>0.000000</td>\n",
       "      <td>2021-07-29 20:17:09.766732+0000</td>\n",
       "      <td>True</td>\n",
       "      <td>None</td>\n",
       "      <td>default</td>\n",
       "      <td>()</td>\n",
       "      <td>β</td>\n",
       "      <td>x</td>\n",
       "    </tr>\n",
       "    <tr>\n",
       "      <th>3</th>\n",
       "      <td>0.000000</td>\n",
       "      <td>2021-07-29 20:11:01.261908+0000</td>\n",
       "      <td>True</td>\n",
       "      <td></td>\n",
       "      <td>default</td>\n",
       "      <td>()</td>\n",
       "      <td>β</td>\n",
       "      <td>x</td>\n",
       "    </tr>\n",
       "    <tr>\n",
       "      <th>4</th>\n",
       "      <td>-0.983354</td>\n",
       "      <td>2021-07-30 05:18:59.305000+0900</td>\n",
       "      <td>True</td>\n",
       "      <td>3a690996-61da-49bc-b442-1e6c88230924</td>\n",
       "      <td>default</td>\n",
       "      <td>(0,)</td>\n",
       "      <td>β</td>\n",
       "      <td>x</td>\n",
       "    </tr>\n",
       "  </tbody>\n",
       "</table>\n",
       "</div>"
      ],
      "text/plain": [
       "      value                        date_time  valid  \\\n",
       "0  0.000000  2021-07-29 20:17:09.766744+0000   True   \n",
       "1  0.000000  2021-07-29 20:11:01.261935+0000   True   \n",
       "2  0.000000  2021-07-29 20:17:09.766732+0000   True   \n",
       "3  0.000000  2021-07-29 20:11:01.261908+0000   True   \n",
       "4 -0.983354  2021-07-30 05:18:59.305000+0900   True   \n",
       "\n",
       "                                 exp_id    group qubits parameter schedule  \n",
       "0                                  None  default     ()         β       sx  \n",
       "1                                        default     ()         β       sx  \n",
       "2                                  None  default     ()         β        x  \n",
       "3                                        default     ()         β        x  \n",
       "4  3a690996-61da-49bc-b442-1e6c88230924  default   (0,)         β        x  "
      ]
     },
     "execution_count": 42,
     "metadata": {},
     "output_type": "execute_result"
    }
   ],
   "source": [
    "pd.DataFrame(cals.parameters_table(qubit_list=[qubit, ()], parameters=\"β\"))"
   ]
  },
  {
   "cell_type": "markdown",
   "metadata": {},
   "source": [
    "## 5. Fine amplitude calibration\n",
    "\n",
    "The `FineAmplitude` calibration experiment repeats $N$ times a gate with a pulse\n",
    "to amplify the under or over-rotations in the gate to determine the optimal amplitude.\n",
    "The circuits that are run have a custom gate with the pulse schedule attached to it\n",
    "through the calibrations."
   ]
  },
  {
   "cell_type": "code",
   "execution_count": 43,
   "metadata": {},
   "outputs": [],
   "source": [
    "from qiskit_experiments.library.calibration.fine_amplitude import FineXAmplitude\n",
    "from qiskit_experiments.calibration_management.update_library import Amplitude"
   ]
  },
  {
   "cell_type": "code",
   "execution_count": 44,
   "metadata": {},
   "outputs": [],
   "source": [
    "amp_x_cal = FineXAmplitude(qubit)\n",
    "amp_x_cal.set_experiment_options(schedule=cals.get_schedule(\"x\", qubit))"
   ]
  },
  {
   "cell_type": "code",
   "execution_count": 45,
   "metadata": {},
   "outputs": [
    {
     "data": {
      "image/png": "[encoded data removed]",
      "text/plain": [
       "<Figure size 538.279x144.48 with 1 Axes>"
      ]
     },
     "execution_count": 45,
     "metadata": {},
     "output_type": "execute_result"
    }
   ],
   "source": [
    "amp_x_cal.circuits(backend)[5].draw(output=\"mpl\")"
   ]
  },
  {
   "cell_type": "code",
   "execution_count": 46,
   "metadata": {},
   "outputs": [
    {
     "data": {
      "text/plain": [
       "ExperimentData(FineXAmplitude, 3dfba50b-6fd6-48fc-aa15-fda551e97e19, backend=ibmq_armonk, job_ids=['61030d46754b9d097a54561a'])"
      ]
     },
     "execution_count": 46,
     "metadata": {},
     "output_type": "execute_result"
    }
   ],
   "source": [
    "data_fine = amp_x_cal.run(backend)\n",
    "data_fine.block_for_results()"
   ]
  },
  {
   "cell_type": "code",
   "execution_count": 47,
   "metadata": {},
   "outputs": [
    {
     "data": {
      "image/png": "[encoded data removed]",
      "text/plain": [
       "<Figure size 576x360 with 1 Axes>"
      ]
     },
     "execution_count": 47,
     "metadata": {},
     "output_type": "execute_result"
    }
   ],
   "source": [
    "data_fine.figure(0)"
   ]
  },
  {
   "cell_type": "code",
   "execution_count": 48,
   "metadata": {},
   "outputs": [
    {
     "name": "stdout",
     "output_type": "stream",
     "text": [
      "DbAnalysisResultV1\n",
      "- name: FineAmplitudeAnalysis\n",
      "- value: [-0.83764047  0.13003139  0.48493092] ± [0.00684312 0.00260476 0.0027163 ]\n",
      "- χ²: 1.0441537114679147\n",
      "- quality: good\n",
      "- extra: <7 items>\n",
      "- device_components: ['Q0']\n",
      "- verified: False\n"
     ]
    }
   ],
   "source": [
    "for result in data_fine.analysis_results():\n",
    "    print(result)"
   ]
  },
  {
   "cell_type": "code",
   "execution_count": 49,
   "metadata": {},
   "outputs": [
    {
     "data": {
      "text/plain": [
       "{'popt': array([-0.83764047,  0.13003139,  0.48493092]),\n",
       " 'popt_keys': ['amp', 'd_theta', 'baseline'],\n",
       " 'popt_err': array([0.00684312, 0.00260476, 0.0027163 ]),\n",
       " 'pcov': array([[4.68282751e-05, 7.13691702e-06, 1.08953506e-06],\n",
       "        [7.13691702e-06, 6.78475562e-06, 7.19134486e-07],\n",
       "        [1.08953506e-06, 7.19134486e-07, 7.37825861e-06]]),\n",
       " 'dof': 13,\n",
       " 'xrange': [0.0, 14.0],\n",
       " 'success': True}"
      ]
     },
     "execution_count": 49,
     "metadata": {},
     "output_type": "execute_result"
    }
   ],
   "source": [
    "data_fine.analysis_results(0).extra"
   ]
  },
  {
   "cell_type": "code",
   "execution_count": 50,
   "metadata": {},
   "outputs": [
    {
     "data": {
      "text/plain": [
       "FitVal(value=array([-0.83764047,  0.13003139,  0.48493092]), stderr=array([0.00684312, 0.00260476, 0.0027163 ]), unit=None)"
      ]
     },
     "execution_count": 50,
     "metadata": {},
     "output_type": "execute_result"
    }
   ],
   "source": [
    "result = data_fine.analysis_results(0).value; result"
   ]
  },
  {
   "cell_type": "markdown",
   "metadata": {},
   "source": [
    "The cell below shows how the amplitude is updated based on the error in the rotation angle measured by the `FineXAmplitude` experiment. Note that this calculation is automatically done by the `Amplitude.update` function."
   ]
  },
  {
   "cell_type": "code",
   "execution_count": 51,
   "metadata": {},
   "outputs": [
    {
     "name": "stdout",
     "output_type": "stream",
     "text": [
      "The ideal angle is 3.14 rad. We measured a deviation of 0.130 rad.\n",
      "Thus, scale the 0.5364+0.0000j pulse amplitude by 0.960 to obtain 0.51513+0.00000j.\n"
     ]
    }
   ],
   "source": [
    "dtheta = result.value[1]\n",
    "target_angle = np.pi\n",
    "scale = target_angle / (target_angle + dtheta)\n",
    "pulse_amp = cals.get_parameter_value(\"amp\", qubit, \"x\")\n",
    "print(f\"The ideal angle is {target_angle:.2f} rad. We measured a deviation of {dtheta:.3f} rad.\")\n",
    "print(f\"Thus, scale the {pulse_amp:.4f} pulse amplitude by {scale:.3f} to obtain {pulse_amp*scale:.5f}.\")"
   ]
  },
  {
   "cell_type": "code",
   "execution_count": 52,
   "metadata": {},
   "outputs": [],
   "source": [
    "Amplitude.update(cals, data_fine, angles_schedules=[(target_angle, \"amp\", \"x\")])"
   ]
  },
  {
   "cell_type": "code",
   "execution_count": 53,
   "metadata": {},
   "outputs": [
    {
     "data": {
      "text/html": [
       "<div>\n",
       "<style scoped>\n",
       "    .dataframe tbody tr th:only-of-type {\n",
       "        vertical-align: middle;\n",
       "    }\n",
       "\n",
       "    .dataframe tbody tr th {\n",
       "        vertical-align: top;\n",
       "    }\n",
       "\n",
       "    .dataframe thead th {\n",
       "        text-align: right;\n",
       "    }\n",
       "</style>\n",
       "<table border=\"1\" class=\"dataframe\">\n",
       "  <thead>\n",
       "    <tr style=\"text-align: right;\">\n",
       "      <th></th>\n",
       "      <th>value</th>\n",
       "      <th>date_time</th>\n",
       "      <th>valid</th>\n",
       "      <th>exp_id</th>\n",
       "      <th>group</th>\n",
       "      <th>qubits</th>\n",
       "      <th>parameter</th>\n",
       "      <th>schedule</th>\n",
       "    </tr>\n",
       "  </thead>\n",
       "  <tbody>\n",
       "    <tr>\n",
       "      <th>0</th>\n",
       "      <td>0.268224+0.000000j</td>\n",
       "      <td>2021-07-30 05:16:07.057000+0900</td>\n",
       "      <td>True</td>\n",
       "      <td>87dbb1da-da69-4c89-a912-0a2124abf8d6</td>\n",
       "      <td>default</td>\n",
       "      <td>(0,)</td>\n",
       "      <td>amp</td>\n",
       "      <td>sx</td>\n",
       "    </tr>\n",
       "    <tr>\n",
       "      <th>1</th>\n",
       "      <td>0.500000+0.000000j</td>\n",
       "      <td>2021-07-29 20:17:09.766713+0000</td>\n",
       "      <td>True</td>\n",
       "      <td>None</td>\n",
       "      <td>default</td>\n",
       "      <td>()</td>\n",
       "      <td>amp</td>\n",
       "      <td>x</td>\n",
       "    </tr>\n",
       "    <tr>\n",
       "      <th>2</th>\n",
       "      <td>0.500000+0.000000j</td>\n",
       "      <td>2021-07-29 20:11:01.261846+0000</td>\n",
       "      <td>True</td>\n",
       "      <td></td>\n",
       "      <td>default</td>\n",
       "      <td>()</td>\n",
       "      <td>amp</td>\n",
       "      <td>x</td>\n",
       "    </tr>\n",
       "    <tr>\n",
       "      <th>3</th>\n",
       "      <td>0.536449+0.000000j</td>\n",
       "      <td>2021-07-30 05:16:07.057000+0900</td>\n",
       "      <td>True</td>\n",
       "      <td>87dbb1da-da69-4c89-a912-0a2124abf8d6</td>\n",
       "      <td>default</td>\n",
       "      <td>(0,)</td>\n",
       "      <td>amp</td>\n",
       "      <td>x</td>\n",
       "    </tr>\n",
       "    <tr>\n",
       "      <th>4</th>\n",
       "      <td>0.515127+0.000000j</td>\n",
       "      <td>2021-07-30 05:20:50.833000+0900</td>\n",
       "      <td>True</td>\n",
       "      <td>3dfba50b-6fd6-48fc-aa15-fda551e97e19</td>\n",
       "      <td>default</td>\n",
       "      <td>(0,)</td>\n",
       "      <td>amp</td>\n",
       "      <td>x</td>\n",
       "    </tr>\n",
       "    <tr>\n",
       "      <th>5</th>\n",
       "      <td>0.250000+0.000000j</td>\n",
       "      <td>2021-07-29 20:17:09.766755+0000</td>\n",
       "      <td>True</td>\n",
       "      <td>None</td>\n",
       "      <td>default</td>\n",
       "      <td>()</td>\n",
       "      <td>amp</td>\n",
       "      <td>sx</td>\n",
       "    </tr>\n",
       "    <tr>\n",
       "      <th>6</th>\n",
       "      <td>0.250000+0.000000j</td>\n",
       "      <td>2021-07-29 20:11:01.262050+0000</td>\n",
       "      <td>True</td>\n",
       "      <td></td>\n",
       "      <td>default</td>\n",
       "      <td>()</td>\n",
       "      <td>amp</td>\n",
       "      <td>sx</td>\n",
       "    </tr>\n",
       "  </tbody>\n",
       "</table>\n",
       "</div>"
      ],
      "text/plain": [
       "                value                        date_time  valid  \\\n",
       "0  0.268224+0.000000j  2021-07-30 05:16:07.057000+0900   True   \n",
       "1  0.500000+0.000000j  2021-07-29 20:17:09.766713+0000   True   \n",
       "2  0.500000+0.000000j  2021-07-29 20:11:01.261846+0000   True   \n",
       "3  0.536449+0.000000j  2021-07-30 05:16:07.057000+0900   True   \n",
       "4  0.515127+0.000000j  2021-07-30 05:20:50.833000+0900   True   \n",
       "5  0.250000+0.000000j  2021-07-29 20:17:09.766755+0000   True   \n",
       "6  0.250000+0.000000j  2021-07-29 20:11:01.262050+0000   True   \n",
       "\n",
       "                                 exp_id    group qubits parameter schedule  \n",
       "0  87dbb1da-da69-4c89-a912-0a2124abf8d6  default   (0,)       amp       sx  \n",
       "1                                  None  default     ()       amp        x  \n",
       "2                                        default     ()       amp        x  \n",
       "3  87dbb1da-da69-4c89-a912-0a2124abf8d6  default   (0,)       amp        x  \n",
       "4  3dfba50b-6fd6-48fc-aa15-fda551e97e19  default   (0,)       amp        x  \n",
       "5                                  None  default     ()       amp       sx  \n",
       "6                                        default     ()       amp       sx  "
      ]
     },
     "execution_count": 53,
     "metadata": {},
     "output_type": "execute_result"
    }
   ],
   "source": [
    "pd.DataFrame(cals.parameters_table(qubit_list=[qubit, ()], parameters=\"amp\"))"
   ]
  },
  {
   "cell_type": "markdown",
   "metadata": {},
   "source": [
    "To check that we have managed to reduce the error in the rotation angle we will run the fine amplitude calibration experiment once again."
   ]
  },
  {
   "cell_type": "code",
   "execution_count": 54,
   "metadata": {},
   "outputs": [],
   "source": [
    "amp_x_cal.set_experiment_options(schedule=cals.get_schedule(\"x\", qubit))"
   ]
  },
  {
   "cell_type": "code",
   "execution_count": 55,
   "metadata": {},
   "outputs": [
    {
     "data": {
      "text/plain": [
       "ExperimentData(FineXAmplitude, 17122319-c9bd-48e6-b649-870e15a9d33f, backend=ibmq_armonk, job_ids=['61030dbc1e71b01faabfb9c0'])"
      ]
     },
     "execution_count": 55,
     "metadata": {},
     "output_type": "execute_result"
    }
   ],
   "source": [
    "data_fine2 = amp_x_cal.run(backend)\n",
    "data_fine2.block_for_results()"
   ]
  },
  {
   "cell_type": "code",
   "execution_count": 56,
   "metadata": {},
   "outputs": [
    {
     "data": {
      "image/png": "[encoded data removed]",
      "text/plain": [
       "<Figure size 576x360 with 1 Axes>"
      ]
     },
     "execution_count": 56,
     "metadata": {},
     "output_type": "execute_result"
    }
   ],
   "source": [
    "data_fine2.figure(0)"
   ]
  },
  {
   "cell_type": "markdown",
   "metadata": {},
   "source": [
    "As can be seen from the data above and the analysis result below we have managed to reduce the error in the rotation angle ${\\rm d}\\theta$."
   ]
  },
  {
   "cell_type": "code",
   "execution_count": 57,
   "metadata": {},
   "outputs": [
    {
     "name": "stdout",
     "output_type": "stream",
     "text": [
      "DbAnalysisResultV1\n",
      "- name: FineAmplitudeAnalysis\n",
      "- value: [-0.89529008  0.01093395  0.48204843] ± [0.01789049 0.00111472 0.00402248]\n",
      "- χ²: 1.0227995712706188\n",
      "- quality: good\n",
      "- extra: <7 items>\n",
      "- device_components: ['Q0']\n",
      "- verified: False\n"
     ]
    }
   ],
   "source": [
    "for result in data_fine2.analysis_results():\n",
    "    print(result)"
   ]
  },
  {
   "cell_type": "code",
   "execution_count": 58,
   "metadata": {},
   "outputs": [
    {
     "data": {
      "text/plain": [
       "{'popt': array([-0.89529008,  0.01093395,  0.48204843]),\n",
       " 'popt_keys': ['amp', 'd_theta', 'baseline'],\n",
       " 'popt_err': array([0.01789049, 0.00111472, 0.00402248]),\n",
       " 'pcov': array([[3.20069705e-04, 3.48927089e-06, 3.23631197e-05],\n",
       "        [3.48927089e-06, 1.24260113e-06, 1.79036082e-07],\n",
       "        [3.23631197e-05, 1.79036082e-07, 1.61803333e-05]]),\n",
       " 'dof': 13,\n",
       " 'xrange': [0.0, 14.0],\n",
       " 'success': True}"
      ]
     },
     "execution_count": 58,
     "metadata": {},
     "output_type": "execute_result"
    }
   ],
   "source": [
    "data_fine2.analysis_results(0).extra"
   ]
  },
  {
   "cell_type": "markdown",
   "metadata": {},
   "source": [
    "### Fine amplitude calibration of the $\\pi/2$ rotation\n",
    "\n",
    "We now wish to calibrate the amplitude of the $\\pi/2$ rotation."
   ]
  },
  {
   "cell_type": "code",
   "execution_count": 59,
   "metadata": {},
   "outputs": [],
   "source": [
    "from qiskit_experiments.library.calibration.fine_amplitude import FineSXAmplitude"
   ]
  },
  {
   "cell_type": "code",
   "execution_count": 60,
   "metadata": {},
   "outputs": [],
   "source": [
    "amp_sx_cal = FineSXAmplitude(qubit)\n",
    "amp_sx_cal.set_experiment_options(schedule=cals.get_schedule(\"sx\", qubit))"
   ]
  },
  {
   "cell_type": "code",
   "execution_count": 61,
   "metadata": {},
   "outputs": [
    {
     "data": {
      "image/png": "[encoded data removed]",
      "text/plain": [
       "<Figure size 779.079x144.48 with 1 Axes>"
      ]
     },
     "execution_count": 61,
     "metadata": {},
     "output_type": "execute_result"
    }
   ],
   "source": [
    "amp_sx_cal.circuits(backend)[5].draw(output=\"mpl\")"
   ]
  },
  {
   "cell_type": "code",
   "execution_count": 62,
   "metadata": {},
   "outputs": [
    {
     "data": {
      "text/plain": [
       "ExperimentData(FineSXAmplitude, 02d9b3ca-874e-4bbe-b2d2-3407a45e3f8c, backend=ibmq_armonk, job_ids=['61030e1d33f22e108afde283'])"
      ]
     },
     "execution_count": 62,
     "metadata": {},
     "output_type": "execute_result"
    }
   ],
   "source": [
    "data_fine_sx = amp_sx_cal.run(backend)\n",
    "data_fine_sx.block_for_results()"
   ]
  },
  {
   "cell_type": "code",
   "execution_count": 63,
   "metadata": {},
   "outputs": [
    {
     "data": {
      "image/png": "[encoded data removed]",
      "text/plain": [
       "<Figure size 576x360 with 1 Axes>"
      ]
     },
     "execution_count": 63,
     "metadata": {},
     "output_type": "execute_result"
    }
   ],
   "source": [
    "amp_sx_cal.run_analysis(data_fine_sx).figure(0)"
   ]
  },
  {
   "cell_type": "code",
   "execution_count": 65,
   "metadata": {},
   "outputs": [
    {
     "name": "stdout",
     "output_type": "stream",
     "text": [
      "DbAnalysisResultV1\n",
      "- name: FineAmplitudeAnalysis\n",
      "- value: [-0.85857519  0.12059725  0.48607458] ± [0.00733354 0.00086722 0.00307817]\n",
      "- χ²: 1.991179266062998\n",
      "- quality: good\n",
      "- extra: <7 items>\n",
      "- device_components: ['Q0']\n",
      "- verified: False\n",
      "DbAnalysisResultV1\n",
      "- name: FineAmplitudeAnalysis\n",
      "- value: [-0.85857519  0.12059725  0.48607458] ± [0.00733354 0.00086722 0.00307817]\n",
      "- χ²: 1.991179266062998\n",
      "- quality: good\n",
      "- extra: <7 items>\n",
      "- device_components: ['Q0']\n",
      "- verified: False\n"
     ]
    }
   ],
   "source": [
    "for result in data_fine_sx.analysis_results():\n",
    "    print(result)"
   ]
  },
  {
   "cell_type": "code",
   "execution_count": 66,
   "metadata": {},
   "outputs": [
    {
     "data": {
      "text/plain": [
       "{'popt': array([-0.85857519,  0.12059725,  0.48607458]),\n",
       " 'popt_keys': ['amp', 'd_theta', 'baseline'],\n",
       " 'popt_err': array([0.00733354, 0.00086722, 0.00307817]),\n",
       " 'pcov': array([[ 5.37808759e-05, -6.84003118e-07,  2.03622067e-06],\n",
       "        [-6.84003118e-07,  7.52069446e-07,  3.86501986e-07],\n",
       "        [ 2.03622067e-06,  3.86501986e-07,  9.47511355e-06]]),\n",
       " 'dof': 10,\n",
       " 'xrange': [1.0, 25.0],\n",
       " 'success': True}"
      ]
     },
     "execution_count": 66,
     "metadata": {},
     "output_type": "execute_result"
    }
   ],
   "source": [
    "data_fine_sx.analysis_results(0).extra"
   ]
  },
  {
   "cell_type": "code",
   "execution_count": 67,
   "metadata": {},
   "outputs": [],
   "source": [
    "Amplitude.update(cals, data_fine_sx, angles_schedules=[(np.pi/2, \"amp\", \"sx\")])"
   ]
  },
  {
   "cell_type": "code",
   "execution_count": 68,
   "metadata": {},
   "outputs": [
    {
     "data": {
      "text/html": [
       "<div>\n",
       "<style scoped>\n",
       "    .dataframe tbody tr th:only-of-type {\n",
       "        vertical-align: middle;\n",
       "    }\n",
       "\n",
       "    .dataframe tbody tr th {\n",
       "        vertical-align: top;\n",
       "    }\n",
       "\n",
       "    .dataframe thead th {\n",
       "        text-align: right;\n",
       "    }\n",
       "</style>\n",
       "<table border=\"1\" class=\"dataframe\">\n",
       "  <thead>\n",
       "    <tr style=\"text-align: right;\">\n",
       "      <th></th>\n",
       "      <th>value</th>\n",
       "      <th>date_time</th>\n",
       "      <th>valid</th>\n",
       "      <th>exp_id</th>\n",
       "      <th>group</th>\n",
       "      <th>qubits</th>\n",
       "      <th>parameter</th>\n",
       "      <th>schedule</th>\n",
       "    </tr>\n",
       "  </thead>\n",
       "  <tbody>\n",
       "    <tr>\n",
       "      <th>0</th>\n",
       "      <td>0.268224+0.000000j</td>\n",
       "      <td>2021-07-30 05:16:07.057000+0900</td>\n",
       "      <td>True</td>\n",
       "      <td>87dbb1da-da69-4c89-a912-0a2124abf8d6</td>\n",
       "      <td>default</td>\n",
       "      <td>(0,)</td>\n",
       "      <td>amp</td>\n",
       "      <td>sx</td>\n",
       "    </tr>\n",
       "    <tr>\n",
       "      <th>1</th>\n",
       "      <td>0.249100+0.000000j</td>\n",
       "      <td>2021-07-30 05:24:31.033000+0900</td>\n",
       "      <td>True</td>\n",
       "      <td>02d9b3ca-874e-4bbe-b2d2-3407a45e3f8c</td>\n",
       "      <td>default</td>\n",
       "      <td>(0,)</td>\n",
       "      <td>amp</td>\n",
       "      <td>sx</td>\n",
       "    </tr>\n",
       "    <tr>\n",
       "      <th>2</th>\n",
       "      <td>0.500000+0.000000j</td>\n",
       "      <td>2021-07-29 20:17:09.766713+0000</td>\n",
       "      <td>True</td>\n",
       "      <td>None</td>\n",
       "      <td>default</td>\n",
       "      <td>()</td>\n",
       "      <td>amp</td>\n",
       "      <td>x</td>\n",
       "    </tr>\n",
       "    <tr>\n",
       "      <th>3</th>\n",
       "      <td>0.500000+0.000000j</td>\n",
       "      <td>2021-07-29 20:11:01.261846+0000</td>\n",
       "      <td>True</td>\n",
       "      <td></td>\n",
       "      <td>default</td>\n",
       "      <td>()</td>\n",
       "      <td>amp</td>\n",
       "      <td>x</td>\n",
       "    </tr>\n",
       "    <tr>\n",
       "      <th>4</th>\n",
       "      <td>0.536449+0.000000j</td>\n",
       "      <td>2021-07-30 05:16:07.057000+0900</td>\n",
       "      <td>True</td>\n",
       "      <td>87dbb1da-da69-4c89-a912-0a2124abf8d6</td>\n",
       "      <td>default</td>\n",
       "      <td>(0,)</td>\n",
       "      <td>amp</td>\n",
       "      <td>x</td>\n",
       "    </tr>\n",
       "    <tr>\n",
       "      <th>5</th>\n",
       "      <td>0.515127+0.000000j</td>\n",
       "      <td>2021-07-30 05:20:50.833000+0900</td>\n",
       "      <td>True</td>\n",
       "      <td>3dfba50b-6fd6-48fc-aa15-fda551e97e19</td>\n",
       "      <td>default</td>\n",
       "      <td>(0,)</td>\n",
       "      <td>amp</td>\n",
       "      <td>x</td>\n",
       "    </tr>\n",
       "    <tr>\n",
       "      <th>6</th>\n",
       "      <td>0.250000+0.000000j</td>\n",
       "      <td>2021-07-29 20:17:09.766755+0000</td>\n",
       "      <td>True</td>\n",
       "      <td>None</td>\n",
       "      <td>default</td>\n",
       "      <td>()</td>\n",
       "      <td>amp</td>\n",
       "      <td>sx</td>\n",
       "    </tr>\n",
       "    <tr>\n",
       "      <th>7</th>\n",
       "      <td>0.250000+0.000000j</td>\n",
       "      <td>2021-07-29 20:11:01.262050+0000</td>\n",
       "      <td>True</td>\n",
       "      <td></td>\n",
       "      <td>default</td>\n",
       "      <td>()</td>\n",
       "      <td>amp</td>\n",
       "      <td>sx</td>\n",
       "    </tr>\n",
       "  </tbody>\n",
       "</table>\n",
       "</div>"
      ],
      "text/plain": [
       "                value                        date_time  valid  \\\n",
       "0  0.268224+0.000000j  2021-07-30 05:16:07.057000+0900   True   \n",
       "1  0.249100+0.000000j  2021-07-30 05:24:31.033000+0900   True   \n",
       "2  0.500000+0.000000j  2021-07-29 20:17:09.766713+0000   True   \n",
       "3  0.500000+0.000000j  2021-07-29 20:11:01.261846+0000   True   \n",
       "4  0.536449+0.000000j  2021-07-30 05:16:07.057000+0900   True   \n",
       "5  0.515127+0.000000j  2021-07-30 05:20:50.833000+0900   True   \n",
       "6  0.250000+0.000000j  2021-07-29 20:17:09.766755+0000   True   \n",
       "7  0.250000+0.000000j  2021-07-29 20:11:01.262050+0000   True   \n",
       "\n",
       "                                 exp_id    group qubits parameter schedule  \n",
       "0  87dbb1da-da69-4c89-a912-0a2124abf8d6  default   (0,)       amp       sx  \n",
       "1  02d9b3ca-874e-4bbe-b2d2-3407a45e3f8c  default   (0,)       amp       sx  \n",
       "2                                  None  default     ()       amp        x  \n",
       "3                                        default     ()       amp        x  \n",
       "4  87dbb1da-da69-4c89-a912-0a2124abf8d6  default   (0,)       amp        x  \n",
       "5  3dfba50b-6fd6-48fc-aa15-fda551e97e19  default   (0,)       amp        x  \n",
       "6                                  None  default     ()       amp       sx  \n",
       "7                                        default     ()       amp       sx  "
      ]
     },
     "execution_count": 68,
     "metadata": {},
     "output_type": "execute_result"
    }
   ],
   "source": [
    "pd.DataFrame(cals.parameters_table(qubit_list=[qubit, ()], parameters=\"amp\"))"
   ]
  },
  {
   "cell_type": "code",
   "execution_count": 69,
   "metadata": {},
   "outputs": [
    {
     "data": {
      "text/plain": [
       "ScheduleBlock(Play(Drag(duration=480, amp=(0.249099729132492+0j), sigma=120, beta=0), DriveChannel(0)), name=\"sx\", transform=AlignLeft())"
      ]
     },
     "execution_count": 69,
     "metadata": {},
     "output_type": "execute_result"
    }
   ],
   "source": [
    "cals.get_schedule(\"sx\", qubit)"
   ]
  },
  {
   "cell_type": "code",
   "execution_count": 70,
   "metadata": {},
   "outputs": [
    {
     "data": {
      "text/plain": [
       "ScheduleBlock(Play(Drag(duration=480, amp=(0.515127260275151+0j), sigma=120, beta=-0.983354142543333), DriveChannel(0)), name=\"x\", transform=AlignLeft())"
      ]
     },
     "execution_count": 70,
     "metadata": {},
     "output_type": "execute_result"
    }
   ],
   "source": [
    "cals.get_schedule(\"x\", qubit)"
   ]
  },
  {
   "cell_type": "code",
   "execution_count": 71,
   "metadata": {},
   "outputs": [
    {
     "data": {
      "text/plain": [
       "ScheduleBlock(Play(Drag(duration=480, amp=0.515127260275151j, sigma=120, beta=-0.983354142543333), DriveChannel(0)), name=\"y\", transform=AlignLeft())"
      ]
     },
     "execution_count": 71,
     "metadata": {},
     "output_type": "execute_result"
    }
   ],
   "source": [
    "cals.get_schedule(\"y\", qubit)"
   ]
  },
  {
   "cell_type": "code",
   "execution_count": 72,
   "metadata": {},
   "outputs": [
    {
     "data": {
      "text/html": [
       "<div style='width: 100%; background-color:#d5d9e0;padding-left: 10px; padding-bottom: 10px; padding-right: 10px; padding-top: 5px'><h3>This code is a part of Qiskit</h3><p>&copy; Copyright IBM 2017, 2021.</p><p>This code is licensed under the Apache License, Version 2.0. You may<br>obtain a copy of this license in the LICENSE.txt file in the root directory<br> of this source tree or at http://www.apache.org/licenses/LICENSE-2.0.<p>Any modifications or derivative works of this code must retain this<br>copyright notice, and modified files need to carry a notice indicating<br>that they have been altered from the originals.</p></div>"
      ],
      "text/plain": [
       "<IPython.core.display.HTML object>"
      ]
     },
     "metadata": {},
     "output_type": "display_data"
    }
   ],
   "source": [
    "import qiskit.tools.jupyter\n",
    "%qiskit_copyright"
   ]
  },
  {
   "cell_type": "code",
   "execution_count": null,
   "metadata": {},
   "outputs": [],
   "source": []
  }
 ],
 "metadata": {
  "kernelspec": {
   "display_name": "Python 3",
   "language": "python",
   "name": "python3"
  },
  "language_info": {
   "codemirror_mode": {
    "name": "ipython",
    "version": 3
   },
   "file_extension": ".py",
   "mimetype": "text/x-python",
   "name": "python",
   "nbconvert_exporter": "python",
   "pygments_lexer": "ipython3",
   "version": "3.8.0"
  }
 },
 "nbformat": 4,
 "nbformat_minor": 5
}
