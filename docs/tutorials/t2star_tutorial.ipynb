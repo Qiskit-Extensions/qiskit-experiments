{
 "cells": [
  {
   "cell_type": "markdown",
   "metadata": {},
   "source": [
    "# $T_2*$ Ramsey Experiment"
   ]
  },
  {
   "cell_type": "markdown",
   "metadata": {},
   "source": [
    "This experiment serves as one of the series of experiments used to characterize a single qubit. Its purpose is to determine two of the qubit's properties: *detuning frequency* and *$T_2*$*. The rough frequency of the qubit was already determined previously. Here, we would like to measure the *detuning*, that is  the difference between the qubit's precise frequency and the frequency of the rotation pulses (based on the rough frequency). This part of the experiment is also called a *Ramsey Experiment*. $T_2*$ represents the rate of decay toward a mixed state, when the qubits starts initially in the |+⟩ state."
   ]
  },
  {
   "cell_type": "code",
   "execution_count": 1,
   "metadata": {
    "scrolled": true
   },
   "outputs": [],
   "source": [
    "import qiskit\n",
    "from qiskit_experiments.characterization import T2StarExperiment"
   ]
  },
  {
   "cell_type": "markdown",
   "metadata": {},
   "source": [
    "The circuit used for the experiment comprises the following circuit:\n",
    "\n",
    "    1. Hadamard gate\n",
    "    2. delay\n",
    "    3. p gate that rotates the qubit in the x-y plane \n",
    "    4. Hadamard gate\n",
    "    5. measurement\n",
    "\n",
    "During the delay time, we expect the qubit to precess about the z-axis. If the p gate and the precession offset each other perfectly, then the qubit will arrive at the |1⟩ state (after the second Hadamard gate). By varying the extension of the delays, we get a series of oscillations of the qubit state between the |0⟩ and |1⟩ states. We can draw the graph of the resulting function,and can analytically extract the desired values."
   ]
  },
  {
   "cell_type": "code",
   "execution_count": 2,
   "metadata": {},
   "outputs": [],
   "source": [
    "# set the computation units to seconds\n",
    "unit = 's'\n",
    "qubit = 0\n",
    "# set the desired delays\n",
    "delays = list(range(1,50))\n"
   ]
  },
  {
   "cell_type": "code",
   "execution_count": 3,
   "metadata": {
    "scrolled": true
   },
   "outputs": [
    {
     "name": "stdout",
     "output_type": "stream",
     "text": [
      "     ┌───┐┌─────────────┐┌──────┐ ░ ┌───┐ ░ ┌─┐\n",
      "q_0: ┤ H ├┤ DELAY(1[s]) ├┤ P(0) ├─░─┤ H ├─░─┤M├\n",
      "     └───┘└─────────────┘└──────┘ ░ └───┘ ░ └╥┘\n",
      "c: 1/════════════════════════════════════════╩═\n",
      "                                             0 \n"
     ]
    }
   ],
   "source": [
    "# Create a T2* experiment. Print the first circuit as an example\n",
    "exp = T2StarExperiment(qubit, delays, unit=unit)\n",
    "print(exp.circuits()[0])"
   ]
  },
  {
   "cell_type": "markdown",
   "metadata": {},
   "source": [
    "We will the experiment on a simple, simulated backend, created specifically for this experiment."
   ]
  },
  {
   "cell_type": "code",
   "execution_count": 1,
   "metadata": {},
   "outputs": [
    {
     "ename": "NameError",
     "evalue": "name 'T2starBackend' is not defined",
     "output_type": "error",
     "traceback": [
      "\u001b[0;31m---------------------------------------------------------------------------\u001b[0m",
      "\u001b[0;31mNameError\u001b[0m                                 Traceback (most recent call last)",
      "\u001b[0;32m<ipython-input-1-50bb0987cc4c>\u001b[0m in \u001b[0;36m<module>\u001b[0;34m\u001b[0m\n\u001b[1;32m     11\u001b[0m     \u001b[0;34m\"b_guess\"\u001b[0m\u001b[0;34m:\u001b[0m \u001b[0;34m[\u001b[0m\u001b[0;36m0.5\u001b[0m\u001b[0;34m]\u001b[0m\u001b[0;34m,\u001b[0m\u001b[0;34m\u001b[0m\u001b[0;34m\u001b[0m\u001b[0m\n\u001b[1;32m     12\u001b[0m    }\n\u001b[0;32m---> 13\u001b[0;31m \u001b[0mbackend\u001b[0m \u001b[0;34m=\u001b[0m \u001b[0mT2starBackend\u001b[0m\u001b[0;34m(\u001b[0m\u001b[0mp0\u001b[0m\u001b[0;34m=\u001b[0m\u001b[0mp0\u001b[0m\u001b[0;34m)\u001b[0m\u001b[0;34m\u001b[0m\u001b[0;34m\u001b[0m\u001b[0m\n\u001b[0m",
      "\u001b[0;31mNameError\u001b[0m: name 'T2starBackend' is not defined"
     ]
    }
   ],
   "source": [
    "from backends import t2star_backend\n",
    "import qiskit_experiments.matplotlib\n",
    "from qiskit_experiments.matplotlib import pyplot, requires_matplotlib\n",
    "from qiskit_experiments.matplotlib import HAS_MATPLOTLIB\n",
    "\n",
    "\n",
    "p0={\"a_guess\": [0.5],\n",
    "    \"t2star\": [10.0],\n",
    "    \"f_guess\": [0.1],\n",
    "    \"phi_guess\": [0],\n",
    "    \"b_guess\": [0.5],\n",
    "   }\n",
    "backend = T2starBackend(p0=p0)"
   ]
  },
  {
   "cell_type": "code",
   "execution_count": null,
   "metadata": {
    "scrolled": true
   },
   "outputs": [],
   "source": [
    "expdata = exp.run(\n",
    "                backend=backend,\n",
    "                plot=True,\n",
    "                shots=2000,\n",
    "            )"
   ]
  },
  {
   "cell_type": "markdown",
   "metadata": {},
   "source": [
    "The resulting graph will have the form:\n",
    "$ f(t) = a^{-x/T_2*} \\cdot cos(2 \\pi f t + \\phi) + b $\n",
    "where *t* is the delay, $T_2*$ is the decay factor, and *f* is the detuning frequency."
   ]
  },
  {
   "cell_type": "code",
   "execution_count": null,
   "metadata": {},
   "outputs": [],
   "source": [
    "print(expdata)"
   ]
  },
  {
   "cell_type": "code",
   "execution_count": null,
   "metadata": {},
   "outputs": [],
   "source": [
    "\n",
    "\n",
    "\n"
   ]
  },
  {
   "cell_type": "code",
   "execution_count": null,
   "metadata": {},
   "outputs": [],
   "source": []
  }
 ],
 "metadata": {
  "kernelspec": {
   "display_name": "Python 3",
   "language": "python",
   "name": "python3"
  },
  "language_info": {
   "codemirror_mode": {
    "name": "ipython",
    "version": 3
   },
   "file_extension": ".py",
   "mimetype": "text/x-python",
   "name": "python",
   "nbconvert_exporter": "python",
   "pygments_lexer": "ipython3",
   "version": "3.7.7"
  }
 },
 "nbformat": 4,
 "nbformat_minor": 4
}
