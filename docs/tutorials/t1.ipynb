{
 "cells": [
  {
   "cell_type": "markdown",
   "metadata": {},
   "source": [
    "# Running T<sub>1</sub> Experiments with Qiskit"
   ]
  },
  {
   "cell_type": "markdown",
   "metadata": {},
   "source": [
    "In a T<sub>1</sub> experiment, we measure an excited qubit after a delay. Due to decoherence processes (e.g. amplitude damping channel), it is possible that, at the time of measurement, after the delay, the qubit will not be excited anymore. The larger the delay time is, the more likely is the qubit to fall to the ground state. The goal of the experiment is to characterize the decay rate of the qubit towards the ground state.\n",
    "\n",
    "We start by fixing a delay time $t$ and a number of shots $s$. Then, by repeating $s$ times the procedure of exciting the qubit, waiting, and measuring, we estimate the probability to measure $|1\\rangle$ after the delay. We repeat this process for a set of delay times, resulting in a set of probabilities estimates.\n",
    "\n",
    "In the absence of state preparation and measurement errors, the probablity to measure |1> after time $t$ is $e^{-t/T_1}$, for a constant $T_1$ (the coherence time), which is our target number. Since state preparation and measurement errors do exist, the qubit's decay towards the ground state assumes the form $Ae^{-t/T_1} + C$, for parameters $A, T_1$, and $C$, which we deduce form the probabilities estimates. To this end, the T<sub>1</sub> experiment internally calls the `curve_fit` method of `scipy.optimize`.\n",
    "\n",
    "The following code demonstrates a basic run of a T<sub>1</sub> experiment for qubit 0."
   ]
  },
  {
   "cell_type": "code",
   "execution_count": 1,
   "metadata": {},
   "outputs": [
    {
     "data": {
      "text/plain": [
       "{'value': 2.5172215476531314e-05,\n",
       " 'stderr': 6.360137100953947e-07,\n",
       " 'unit': 's',\n",
       " 'label': 'T1',\n",
       " 'fit': {'popt': array([9.97462192e-01, 2.51722155e-05, 2.45571086e-19]),\n",
       "  'popt_keys': ['a', 'tau', 'c'],\n",
       "  'popt_err': array([1.24976459e-02, 6.36013710e-07, 1.34483673e-02]),\n",
       "  'pcov': array([[ 1.56191152e-04,  7.53923739e-09, -1.66014148e-04],\n",
       "         [ 7.53923739e-09,  4.04513439e-13, -8.37398266e-09],\n",
       "         [-1.66014148e-04, -8.37398266e-09,  1.80858584e-04]]),\n",
       "  'reduced_chisq': 0.9724149378943393,\n",
       "  'dof': 10,\n",
       "  'xrange': [1e-06, 3.7e-05],\n",
       "  'circuit_unit': 'us'},\n",
       " 'quality': 'computer_good',\n",
       " 'success': True}"
      ]
     },
     "execution_count": 1,
     "metadata": {},
     "output_type": "execute_result"
    },
    {
     "data": {
      "image/png": "[encoded data removed]",
      "text/plain": [
       "<Figure size 432x288 with 1 Axes>"
      ]
     },
     "metadata": {
      "needs_background": "light"
     },
     "output_type": "display_data"
    }
   ],
   "source": [
    "from qiskit_experiments.characterization import T1Experiment\n",
    "from qiskit_experiments.composite import ParallelExperiment\n",
    "\n",
    "# A T1 simulator\n",
    "from qiskit_experiments.test.t1_backend import T1Backend\n",
    "\n",
    "# Simulate T1 of 25 microseconds\n",
    "t1 = 25\n",
    "backend = T1Backend(t1=[t1*1e-6])\n",
    "\n",
    "# Time intervals to wait before measurement\n",
    "delays = list(range(1, 40, 3))\n",
    "\n",
    "# Create an experiment for qubit 0,\n",
    "# setting the unit to microseconds,\n",
    "# with the specified time intervals\n",
    "exp = T1Experiment(qubit=0, \n",
    "                   delays=delays,\n",
    "                   unit=\"us\")\n",
    "\n",
    "# Run the experiment circuits with 10000 shots each,\n",
    "# and analyze the result\n",
    "exp_data = exp.run(backend=backend,\n",
    "                   shots=10000)\n",
    "\n",
    "# Print the result\n",
    "res = exp_data.analysis_result(0)\n",
    "res"
   ]
  },
  {
   "cell_type": "markdown",
   "metadata": {},
   "source": [
    "It is possible to override the default analysis options. In particular, be aware of the `t1_guess` and `t1_bounds` options. In the following snippet, we instruct to look for T<sub>1</sub> in the range between 3 to 10. Since T<sub>1</sub> is outside this range (equals 25 in the example), the analysis will fail."
   ]
  },
  {
   "cell_type": "code",
   "execution_count": 2,
   "metadata": {},
   "outputs": [
    {
     "name": "stdout",
     "output_type": "stream",
     "text": [
      "{'success': False, 'error_message': AnalysisError('scipy.optimize.curve_fit failed with error: `x0` is infeasible.')}\n"
     ]
    }
   ],
   "source": [
    "exp.set_analysis_options(t1_bounds=[3, 10])\n",
    "fail_fit = exp.run(backend=backend,\n",
    "                   shots=10000)\n",
    "\n",
    "print(fail_fit.analysis_result(0))"
   ]
  },
  {
   "cell_type": "markdown",
   "metadata": {},
   "source": [
    "You can combine a new experiment with an old one. This way, the T<sub>1</sub> estimate will be based on the data of both experiments, hence will be more accurate. This is done by setting the `experiment_data` parameter of `run` with the returned value of an earlier call to `run`:"
   ]
  },
  {
   "cell_type": "code",
   "execution_count": 3,
   "metadata": {},
   "outputs": [
    {
     "name": "stdout",
     "output_type": "stream",
     "text": [
      "T1: 2.5172215476531314e-05\n",
      "Error bar: 6.360137100953947e-07\n",
      "Previous error bar: 6.360137100953947e-07\n"
     ]
    },
    {
     "name": "stderr",
     "output_type": "stream",
     "text": [
      "/opt/anaconda3/lib/python3.8/site-packages/scipy/optimize/minpack.py:755: RuntimeWarning: divide by zero encountered in true_divide\n",
      "  transform = 1.0 / sigma\n"
     ]
    }
   ],
   "source": [
    "# Run again (only 100 shots this time).\n",
    "# Combine with an earlier run.\n",
    "combined = exp.run(backend=backend,\n",
    "                   shots=100,\n",
    "                   experiment_data=exp_data)\n",
    "\n",
    "# Print the result\n",
    "combined_analysis_result = combined.analysis_result(0)\n",
    "print(\"T1:\", combined_analysis_result[\"value\"])\n",
    "print(\"Error bar:\", res[\"stderr\"])\n",
    "\n",
    "# Compare with the previous error bar:\n",
    "print(\"Previous error bar:\", res[\"stderr\"])"
   ]
  },
  {
   "cell_type": "code",
   "execution_count": null,
   "metadata": {},
   "outputs": [],
   "source": [
    "# A simulator where qubits 0 and 1 have T1 of 25 microseconds\n",
    "backend = T1Backend(t1=[t1*1e-6, t1*1e-6])\n",
    "\n",
    "# An experiment for qubit 1\n",
    "exp_q1 = T1Experiment(qubit=1, \n",
    "                      delays=delays,\n",
    "                      unit=\"us\")\n",
    "\n",
    "# A parallel experiment\n",
    "parallel_exp = ParallelExperiment([exp, exp_q1])\n",
    "parallel_data = parallel_exp.run(backend=backend,\n",
    "                                 shots=10000)"
   ]
  }
 ],
 "metadata": {
  "kernelspec": {
   "display_name": "Python 3",
   "language": "python",
   "name": "python3"
  },
  "language_info": {
   "codemirror_mode": {
    "name": "ipython",
    "version": 3
   },
   "file_extension": ".py",
   "mimetype": "text/x-python",
   "name": "python",
   "nbconvert_exporter": "python",
   "pygments_lexer": "ipython3",
   "version": "3.8.5"
  }
 },
 "nbformat": 4,
 "nbformat_minor": 4
}
