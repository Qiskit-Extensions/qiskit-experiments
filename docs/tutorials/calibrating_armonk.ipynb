{
 "cells": [
  {
   "cell_type": "markdown",
   "id": "b11c2f66",
   "metadata": {},
   "source": [
    "# Calibrating single-qubit gates on `ibmq_armonk`\n",
    "\n",
    "In this tutorial we demonstrate how to calibrate single-qubit gates on `ibmq_armonk` using the calibration framework in qiskit-experiments. We will run experiments to find the qubit frequency, calibrate the amplitude of DRAG pulses and chose the value of the DRAG parameter that minimizes leakage. The calibration framework requires the user to\n",
    "\n",
    "* setup an instance of `Calibrations` or `BackendCalibrations`,\n",
    "* run calibration experiments which can be found either in `qiskit_experiments.library.calibration` or `qiskit_experiments.library.characterization`, and\n",
    "* update the values of the parameters stored in the instance of `Calibrations` (or `BackendCalibrations`) using `Update` classes. \n",
    "\n",
    "You will see that the `Update` classes are not meant to be instantiated but provide an `update` class method to extract calibrated parameter values and add them to the calibrations."
   ]
  },
  {
   "cell_type": "code",
   "execution_count": 1,
   "id": "e3836dba",
   "metadata": {},
   "outputs": [],
   "source": [
    "import pandas as pd\n",
    "import numpy as np\n",
    "\n",
    "import qiskit.pulse as pulse\n",
    "from qiskit.circuit import Parameter\n",
    "\n",
    "from qiskit_experiments.calibration_management.backend_calibrations import BackendCalibrations\n",
    "\n",
    "from qiskit import IBMQ, schedule"
   ]
  },
  {
   "cell_type": "code",
   "execution_count": 2,
   "id": "87e1101f",
   "metadata": {},
   "outputs": [],
   "source": [
    "IBMQ.load_account()\n",
    "provider = IBMQ.get_provider(hub='ibm-q', group='open', project='main')\n",
    "backend = provider.get_backend('ibmq_armonk')"
   ]
  },
  {
   "cell_type": "code",
   "execution_count": 3,
   "id": "e3f6f6c1",
   "metadata": {},
   "outputs": [],
   "source": [
    "qubit = 0  # The qubit we will work with"
   ]
  },
  {
   "cell_type": "markdown",
   "id": "5325fe3d",
   "metadata": {},
   "source": [
    "The two functions below show how to setup an instance of `BackendCalibrations`. To do this the user defines the template schedules to calibrate. These template schedules are fully parameterized, even the channel indices on which the pulses are played. Furthermore, the name of the parameter in the channel index must follow the convention laid out in the documentation of the calibration module. Note that the parameters in the channel indices are automatically mapped to the channel index when `get_schedule` is called. "
   ]
  },
  {
   "cell_type": "code",
   "execution_count": 4,
   "id": "ca0c1462",
   "metadata": {},
   "outputs": [],
   "source": [
    "def setup_cals(backend) -> BackendCalibrations:\n",
    "    \"\"\"A function to instantiate calibrations and add a couple of template schedules.\"\"\"\n",
    "    cals = BackendCalibrations(backend)\n",
    "\n",
    "    dur = Parameter(\"dur\")\n",
    "    amp = Parameter(\"amp\")\n",
    "    sigma = Parameter(\"σ\")\n",
    "    beta = Parameter(\"β\")\n",
    "    drive = pulse.DriveChannel(Parameter(\"ch0\"))\n",
    "\n",
    "    # Define and add template schedules.\n",
    "    with pulse.build(name=\"xp\") as xp:\n",
    "        pulse.play(pulse.Drag(dur, amp, sigma, beta), drive)\n",
    "\n",
    "    with pulse.build(name=\"xm\") as xm:\n",
    "        pulse.play(pulse.Drag(dur, -amp, sigma, beta), drive)\n",
    "        \n",
    "    with pulse.build(name=\"x90p\") as x90p:\n",
    "        pulse.play(pulse.Drag(dur, Parameter(\"amp\"), sigma, Parameter(\"β\")), drive)\n",
    "\n",
    "    cals.add_schedule(xp, num_qubits=1)\n",
    "    cals.add_schedule(xm, num_qubits=1)\n",
    "    cals.add_schedule(x90p, num_qubits=1)\n",
    "    \n",
    "    return cals\n",
    "\n",
    "def add_parameter_guesses(cals: BackendCalibrations):\n",
    "    \"\"\"Add guesses for the parameter values to the calibrations.\"\"\"\n",
    "    for sched in [\"xp\", \"x90p\"]:\n",
    "        cals.add_parameter_value(80, \"σ\", schedule=sched)\n",
    "        cals.add_parameter_value(0.5, \"β\", schedule=sched)\n",
    "        cals.add_parameter_value(320, \"dur\", schedule=sched)\n",
    "        cals.add_parameter_value(0.5, \"amp\", schedule=sched)"
   ]
  },
  {
   "cell_type": "markdown",
   "id": "31ec74cd",
   "metadata": {},
   "source": [
    "When setting up the calibrations we add three pulses: a $\\pi$-rotation, with a schedule named `xp`, a schedule `xm` identical to `xp` but with a nagative amplitude, and a $\\pi/2$-rotation, with a schedule named `x90p`. Here, we have linked the amplitude of the `xp` and `xm` pulses. Therefore, calibrating the parameters of `xp` will also calibrate the parameters of `xm`."
   ]
  },
  {
   "cell_type": "code",
   "execution_count": 5,
   "id": "a2f9d7e5",
   "metadata": {},
   "outputs": [],
   "source": [
    "cals = setup_cals(backend)\n",
    "add_parameter_guesses(cals)"
   ]
  },
  {
   "cell_type": "markdown",
   "id": "af0cd5a0",
   "metadata": {},
   "source": [
    "A samilar setup is achieved by using a pre-built library of gates. The library of gates provides a standard set of gates and some initial guesses for the value of the parameters in the template schedules. This is shown below using the `FixedFrequencyTransmon` which provides the `x`, `y`, `sx`, and `sy` pulses. Note that in the example below we change the default value of the pulse duration to 320 samples."
   ]
  },
  {
   "cell_type": "code",
   "execution_count": 6,
   "id": "48895a9f",
   "metadata": {},
   "outputs": [],
   "source": [
    "from qiskit_experiments.calibration_management.basis_gate_library import FixedFrequencyTransmon"
   ]
  },
  {
   "cell_type": "code",
   "execution_count": 7,
   "id": "bd83e088",
   "metadata": {},
   "outputs": [],
   "source": [
    "library = FixedFrequencyTransmon(default_values={\"duration\": 320})\n",
    "cals = BackendCalibrations(backend, library)"
   ]
  },
  {
   "cell_type": "markdown",
   "id": "d145b612",
   "metadata": {},
   "source": [
    "## 1. Finding qubits with spectroscopy\n",
    "\n",
    "Here, we are using a backend for which we already know the qubit frequency. We will therefore use the spectroscopy experiment to confirm that there is a resonance at the qubit frequency reported by the backend."
   ]
  },
  {
   "cell_type": "code",
   "execution_count": 8,
   "id": "908ff764",
   "metadata": {},
   "outputs": [],
   "source": [
    "from qiskit_experiments.library.calibration.rough_frequency import RoughFrequencyCal"
   ]
  },
  {
   "cell_type": "markdown",
   "id": "4c2699ac",
   "metadata": {},
   "source": [
    "We first show the contents of the calibrations for qubit 0. Note that the guess values that we added before apply to all qubits on the chip. We see this in the table below as an empty tuple `()` in the qubits column. Observe that the parameter values of `xm` do not appear in this table as they are given by the values of `xp`."
   ]
  },
  {
   "cell_type": "code",
   "execution_count": 9,
   "id": "fa22b8a4",
   "metadata": {},
   "outputs": [
    {
     "data": {
      "text/html": [
       "<div>\n",
       "<style scoped>\n",
       "    .dataframe tbody tr th:only-of-type {\n",
       "        vertical-align: middle;\n",
       "    }\n",
       "\n",
       "    .dataframe tbody tr th {\n",
       "        vertical-align: top;\n",
       "    }\n",
       "\n",
       "    .dataframe thead th {\n",
       "        text-align: right;\n",
       "    }\n",
       "</style>\n",
       "<table border=\"1\" class=\"dataframe\">\n",
       "  <thead>\n",
       "    <tr style=\"text-align: right;\">\n",
       "      <th></th>\n",
       "      <th>parameter</th>\n",
       "      <th>qubits</th>\n",
       "      <th>schedule</th>\n",
       "      <th>value</th>\n",
       "      <th>group</th>\n",
       "      <th>valid</th>\n",
       "      <th>date_time</th>\n",
       "      <th>exp_id</th>\n",
       "    </tr>\n",
       "  </thead>\n",
       "  <tbody>\n",
       "    <tr>\n",
       "      <th>0</th>\n",
       "      <td>σ</td>\n",
       "      <td>()</td>\n",
       "      <td>sx</td>\n",
       "      <td>8.000000e+01</td>\n",
       "      <td>default</td>\n",
       "      <td>True</td>\n",
       "      <td>2021-11-03 10:23:20.785441+0100</td>\n",
       "      <td>None</td>\n",
       "    </tr>\n",
       "    <tr>\n",
       "      <th>1</th>\n",
       "      <td>duration</td>\n",
       "      <td>()</td>\n",
       "      <td>x</td>\n",
       "      <td>3.200000e+02</td>\n",
       "      <td>default</td>\n",
       "      <td>True</td>\n",
       "      <td>2021-11-03 10:23:20.785387+0100</td>\n",
       "      <td>None</td>\n",
       "    </tr>\n",
       "    <tr>\n",
       "      <th>2</th>\n",
       "      <td>duration</td>\n",
       "      <td>()</td>\n",
       "      <td>sx</td>\n",
       "      <td>3.200000e+02</td>\n",
       "      <td>default</td>\n",
       "      <td>True</td>\n",
       "      <td>2021-11-03 10:23:20.785416+0100</td>\n",
       "      <td>None</td>\n",
       "    </tr>\n",
       "    <tr>\n",
       "      <th>3</th>\n",
       "      <td>β</td>\n",
       "      <td>()</td>\n",
       "      <td>x</td>\n",
       "      <td>0.000000e+00</td>\n",
       "      <td>default</td>\n",
       "      <td>True</td>\n",
       "      <td>2021-11-03 10:23:20.785345+0100</td>\n",
       "      <td>None</td>\n",
       "    </tr>\n",
       "    <tr>\n",
       "      <th>4</th>\n",
       "      <td>β</td>\n",
       "      <td>()</td>\n",
       "      <td>sx</td>\n",
       "      <td>0.000000e+00</td>\n",
       "      <td>default</td>\n",
       "      <td>True</td>\n",
       "      <td>2021-11-03 10:23:20.785429+0100</td>\n",
       "      <td>None</td>\n",
       "    </tr>\n",
       "    <tr>\n",
       "      <th>5</th>\n",
       "      <td>qubit_lo_freq</td>\n",
       "      <td>(0,)</td>\n",
       "      <td>None</td>\n",
       "      <td>4.971589e+09</td>\n",
       "      <td>default</td>\n",
       "      <td>True</td>\n",
       "      <td>2021-11-03 10:23:20.784983+0100</td>\n",
       "      <td>None</td>\n",
       "    </tr>\n",
       "    <tr>\n",
       "      <th>6</th>\n",
       "      <td>amp</td>\n",
       "      <td>()</td>\n",
       "      <td>x</td>\n",
       "      <td>5.000000e-01</td>\n",
       "      <td>default</td>\n",
       "      <td>True</td>\n",
       "      <td>2021-11-03 10:23:20.785369+0100</td>\n",
       "      <td>None</td>\n",
       "    </tr>\n",
       "    <tr>\n",
       "      <th>7</th>\n",
       "      <td>amp</td>\n",
       "      <td>()</td>\n",
       "      <td>sx</td>\n",
       "      <td>2.500000e-01</td>\n",
       "      <td>default</td>\n",
       "      <td>True</td>\n",
       "      <td>2021-11-03 10:23:20.785453+0100</td>\n",
       "      <td>None</td>\n",
       "    </tr>\n",
       "    <tr>\n",
       "      <th>8</th>\n",
       "      <td>σ</td>\n",
       "      <td>()</td>\n",
       "      <td>x</td>\n",
       "      <td>8.000000e+01</td>\n",
       "      <td>default</td>\n",
       "      <td>True</td>\n",
       "      <td>2021-11-03 10:23:20.785402+0100</td>\n",
       "      <td>None</td>\n",
       "    </tr>\n",
       "    <tr>\n",
       "      <th>9</th>\n",
       "      <td>meas_lo_freq</td>\n",
       "      <td>(0,)</td>\n",
       "      <td>None</td>\n",
       "      <td>6.993371e+09</td>\n",
       "      <td>default</td>\n",
       "      <td>True</td>\n",
       "      <td>2021-11-03 10:23:20.785055+0100</td>\n",
       "      <td>None</td>\n",
       "    </tr>\n",
       "  </tbody>\n",
       "</table>\n",
       "</div>"
      ],
      "text/plain": [
       "       parameter qubits schedule         value    group  valid  \\\n",
       "0              σ     ()       sx  8.000000e+01  default   True   \n",
       "1       duration     ()        x  3.200000e+02  default   True   \n",
       "2       duration     ()       sx  3.200000e+02  default   True   \n",
       "3              β     ()        x  0.000000e+00  default   True   \n",
       "4              β     ()       sx  0.000000e+00  default   True   \n",
       "5  qubit_lo_freq   (0,)     None  4.971589e+09  default   True   \n",
       "6            amp     ()        x  5.000000e-01  default   True   \n",
       "7            amp     ()       sx  2.500000e-01  default   True   \n",
       "8              σ     ()        x  8.000000e+01  default   True   \n",
       "9   meas_lo_freq   (0,)     None  6.993371e+09  default   True   \n",
       "\n",
       "                         date_time exp_id  \n",
       "0  2021-11-03 10:23:20.785441+0100   None  \n",
       "1  2021-11-03 10:23:20.785387+0100   None  \n",
       "2  2021-11-03 10:23:20.785416+0100   None  \n",
       "3  2021-11-03 10:23:20.785345+0100   None  \n",
       "4  2021-11-03 10:23:20.785429+0100   None  \n",
       "5  2021-11-03 10:23:20.784983+0100   None  \n",
       "6  2021-11-03 10:23:20.785369+0100   None  \n",
       "7  2021-11-03 10:23:20.785453+0100   None  \n",
       "8  2021-11-03 10:23:20.785402+0100   None  \n",
       "9  2021-11-03 10:23:20.785055+0100   None  "
      ]
     },
     "execution_count": 9,
     "metadata": {},
     "output_type": "execute_result"
    }
   ],
   "source": [
    "pd.DataFrame(**cals.parameters_table(qubit_list=[qubit, ()]))"
   ]
  },
  {
   "cell_type": "code",
   "execution_count": 10,
   "id": "502aef29",
   "metadata": {},
   "outputs": [],
   "source": [
    "freq01_estimate = backend.defaults().qubit_freq_est[qubit]\n",
    "frequencies = np.linspace(freq01_estimate -15e6, freq01_estimate + 15e6, 51)\n",
    "spec = RoughFrequencyCal(qubit, cals, frequencies, backend=backend)\n",
    "spec.set_experiment_options(amp=0.1)"
   ]
  },
  {
   "cell_type": "code",
   "execution_count": 11,
   "id": "91184061",
   "metadata": {},
   "outputs": [
    {
     "data": {
      "image/png": "[encoded data removed]",
      "text/plain": [
       "<Figure size 392.294x144.48 with 1 Axes>"
      ]
     },
     "execution_count": 11,
     "metadata": {},
     "output_type": "execute_result"
    }
   ],
   "source": [
    "circuit = spec.circuits()[0]\n",
    "circuit.draw(output=\"mpl\")"
   ]
  },
  {
   "cell_type": "code",
   "execution_count": 12,
   "id": "32a49399",
   "metadata": {},
   "outputs": [
    {
     "data": {
      "image/png": "[encoded data removed]",
      "text/plain": [
       "<Figure size 936x237.6 with 1 Axes>"
      ]
     },
     "execution_count": 12,
     "metadata": {},
     "output_type": "execute_result"
    }
   ],
   "source": [
    "schedule(circuit, backend).draw()"
   ]
  },
  {
   "cell_type": "code",
   "execution_count": 13,
   "id": "1e24ce2a",
   "metadata": {},
   "outputs": [],
   "source": [
    "spec_data = spec.run().block_for_results()"
   ]
  },
  {
   "cell_type": "code",
   "execution_count": 14,
   "id": "e880af97",
   "metadata": {},
   "outputs": [
    {
     "data": {
      "image/png": "[encoded data removed]",
      "text/plain": [
       "<Figure size 576x360 with 1 Axes>"
      ]
     },
     "execution_count": 14,
     "metadata": {},
     "output_type": "execute_result"
    }
   ],
   "source": [
    "spec_data.figure(0)"
   ]
  },
  {
   "cell_type": "code",
   "execution_count": 15,
   "id": "6e8e067c",
   "metadata": {},
   "outputs": [
    {
     "name": "stdout",
     "output_type": "stream",
     "text": [
      "DbAnalysisResultV1\n",
      "- name: f01\n",
      "- value: 4971644046.603253 ± 46329.06674455518 Hz\n",
      "- χ²: 1.056178573009652\n",
      "- quality: good\n",
      "- device_components: ['Q0']\n",
      "- verified: False\n"
     ]
    }
   ],
   "source": [
    "print(spec_data.analysis_results(\"f01\"))"
   ]
  },
  {
   "cell_type": "markdown",
   "id": "125628a5",
   "metadata": {},
   "source": [
    "We now update the instance of `Calibrations` with the value of the frequency that we measured using the `Frequency.update` function. Note that for the remainder of this notebook we use the value of the qubit frequency in the backend as it is not yet possible to updated qubit frequencies with the circuit path."
   ]
  },
  {
   "cell_type": "code",
   "execution_count": 16,
   "id": "6937956d",
   "metadata": {},
   "outputs": [
    {
     "data": {
      "text/html": [
       "<div>\n",
       "<style scoped>\n",
       "    .dataframe tbody tr th:only-of-type {\n",
       "        vertical-align: middle;\n",
       "    }\n",
       "\n",
       "    .dataframe tbody tr th {\n",
       "        vertical-align: top;\n",
       "    }\n",
       "\n",
       "    .dataframe thead th {\n",
       "        text-align: right;\n",
       "    }\n",
       "</style>\n",
       "<table border=\"1\" class=\"dataframe\">\n",
       "  <thead>\n",
       "    <tr style=\"text-align: right;\">\n",
       "      <th></th>\n",
       "      <th>parameter</th>\n",
       "      <th>qubits</th>\n",
       "      <th>schedule</th>\n",
       "      <th>value</th>\n",
       "      <th>group</th>\n",
       "      <th>valid</th>\n",
       "      <th>date_time</th>\n",
       "      <th>exp_id</th>\n",
       "    </tr>\n",
       "  </thead>\n",
       "  <tbody>\n",
       "    <tr>\n",
       "      <th>0</th>\n",
       "      <td>qubit_lo_freq</td>\n",
       "      <td>(0,)</td>\n",
       "      <td>None</td>\n",
       "      <td>4.971589e+09</td>\n",
       "      <td>default</td>\n",
       "      <td>True</td>\n",
       "      <td>2021-11-03 10:23:20.784983+0100</td>\n",
       "      <td>None</td>\n",
       "    </tr>\n",
       "    <tr>\n",
       "      <th>1</th>\n",
       "      <td>qubit_lo_freq</td>\n",
       "      <td>(0,)</td>\n",
       "      <td>None</td>\n",
       "      <td>4.971644e+09</td>\n",
       "      <td>default</td>\n",
       "      <td>True</td>\n",
       "      <td>2021-11-03 10:24:42.182000+0100</td>\n",
       "      <td>f808753b-c40e-4376-9ce8-548275a4b548</td>\n",
       "    </tr>\n",
       "    <tr>\n",
       "      <th>2</th>\n",
       "      <td>meas_lo_freq</td>\n",
       "      <td>(0,)</td>\n",
       "      <td>None</td>\n",
       "      <td>6.993371e+09</td>\n",
       "      <td>default</td>\n",
       "      <td>True</td>\n",
       "      <td>2021-11-03 10:23:20.785055+0100</td>\n",
       "      <td>None</td>\n",
       "    </tr>\n",
       "  </tbody>\n",
       "</table>\n",
       "</div>"
      ],
      "text/plain": [
       "       parameter qubits schedule         value    group  valid  \\\n",
       "0  qubit_lo_freq   (0,)     None  4.971589e+09  default   True   \n",
       "1  qubit_lo_freq   (0,)     None  4.971644e+09  default   True   \n",
       "2   meas_lo_freq   (0,)     None  6.993371e+09  default   True   \n",
       "\n",
       "                         date_time                                exp_id  \n",
       "0  2021-11-03 10:23:20.784983+0100                                  None  \n",
       "1  2021-11-03 10:24:42.182000+0100  f808753b-c40e-4376-9ce8-548275a4b548  \n",
       "2  2021-11-03 10:23:20.785055+0100                                  None  "
      ]
     },
     "execution_count": 16,
     "metadata": {},
     "output_type": "execute_result"
    }
   ],
   "source": [
    "pd.DataFrame(**cals.parameters_table(qubit_list=[qubit]))"
   ]
  },
  {
   "cell_type": "markdown",
   "id": "adc314d6",
   "metadata": {},
   "source": [
    "As seen from the table above the measured frequency has been added to the calibrations."
   ]
  },
  {
   "cell_type": "markdown",
   "id": "351b4f8a",
   "metadata": {},
   "source": [
    "## 2. Calibrating the pulse amplitudes with a Rabi experiment\n",
    "\n",
    "In the Rabi experiment we apply a pulse at the frequency of the qubit and scan its amplitude to find the amplitude that creates a rotation of a desired angle. We do this with the calibration experiment `RoughXSXAmplitudeCal`. This is a specialization of the `Rabi` experiment that will update the calibrations for both the `X` pulse and the `SX` pulse using a single experiment."
   ]
  },
  {
   "cell_type": "code",
   "execution_count": 17,
   "id": "ed4a5f77",
   "metadata": {},
   "outputs": [],
   "source": [
    "from qiskit_experiments.library.calibration import RoughXSXAmplitudeCal"
   ]
  },
  {
   "cell_type": "code",
   "execution_count": 18,
   "id": "8227b8ba",
   "metadata": {},
   "outputs": [],
   "source": [
    "rabi = RoughXSXAmplitudeCal(qubit, cals, backend=backend)"
   ]
  },
  {
   "cell_type": "markdown",
   "id": "1b425031",
   "metadata": {},
   "source": [
    "The rough amplitude calibration is therefore a Rabi experiment in which each circuit contains a pulse with a gate. Different circuits correspond to pulses with different amplitudes."
   ]
  },
  {
   "cell_type": "code",
   "execution_count": 19,
   "id": "b82cf6dc",
   "metadata": {},
   "outputs": [
    {
     "data": {
      "image/png": "[encoded data removed]",
      "text/plain": [
       "<Figure size 392.294x144.48 with 1 Axes>"
      ]
     },
     "execution_count": 19,
     "metadata": {},
     "output_type": "execute_result"
    }
   ],
   "source": [
    "rabi.circuits()[0].draw(\"mpl\")"
   ]
  },
  {
   "cell_type": "markdown",
   "id": "f8ecc750",
   "metadata": {},
   "source": [
    "After the experiment completes the value of the amplitudes in the calibrations will automatically be updated. This behaviour can be controlled using the `auto_update` argument given to the calibration experiment at initialization."
   ]
  },
  {
   "cell_type": "code",
   "execution_count": 20,
   "id": "68d32b29",
   "metadata": {},
   "outputs": [],
   "source": [
    "rabi_data = rabi.run().block_for_results()"
   ]
  },
  {
   "cell_type": "code",
   "execution_count": 21,
   "id": "9eefc00c",
   "metadata": {},
   "outputs": [
    {
     "data": {
      "image/png": "[encoded data removed]",
      "text/plain": [
       "<Figure size 576x360 with 1 Axes>"
      ]
     },
     "execution_count": 21,
     "metadata": {},
     "output_type": "execute_result"
    }
   ],
   "source": [
    "rabi_data.figure(0)"
   ]
  },
  {
   "cell_type": "code",
   "execution_count": 22,
   "id": "444d829c",
   "metadata": {},
   "outputs": [
    {
     "name": "stdout",
     "output_type": "stream",
     "text": [
      "DbAnalysisResultV1\n",
      "- name: rabi_rate\n",
      "- value: 0.5810497529891635 ± 0.0027460368083858143\n",
      "- χ²: 1.2517635384635177\n",
      "- quality: good\n",
      "- device_components: ['Q0']\n",
      "- verified: False\n"
     ]
    }
   ],
   "source": [
    "print(rabi_data.analysis_results(\"rabi_rate\"))"
   ]
  },
  {
   "cell_type": "code",
   "execution_count": 23,
   "id": "7fa0e4b4",
   "metadata": {},
   "outputs": [
    {
     "data": {
      "text/html": [
       "<div>\n",
       "<style scoped>\n",
       "    .dataframe tbody tr th:only-of-type {\n",
       "        vertical-align: middle;\n",
       "    }\n",
       "\n",
       "    .dataframe tbody tr th {\n",
       "        vertical-align: top;\n",
       "    }\n",
       "\n",
       "    .dataframe thead th {\n",
       "        text-align: right;\n",
       "    }\n",
       "</style>\n",
       "<table border=\"1\" class=\"dataframe\">\n",
       "  <thead>\n",
       "    <tr style=\"text-align: right;\">\n",
       "      <th></th>\n",
       "      <th>parameter</th>\n",
       "      <th>qubits</th>\n",
       "      <th>schedule</th>\n",
       "      <th>value</th>\n",
       "      <th>group</th>\n",
       "      <th>valid</th>\n",
       "      <th>date_time</th>\n",
       "      <th>exp_id</th>\n",
       "    </tr>\n",
       "  </thead>\n",
       "  <tbody>\n",
       "    <tr>\n",
       "      <th>0</th>\n",
       "      <td>amp</td>\n",
       "      <td>()</td>\n",
       "      <td>sx</td>\n",
       "      <td>0.250000+0.000000j</td>\n",
       "      <td>default</td>\n",
       "      <td>True</td>\n",
       "      <td>2021-11-03 10:23:20.785453+0100</td>\n",
       "      <td>None</td>\n",
       "    </tr>\n",
       "    <tr>\n",
       "      <th>1</th>\n",
       "      <td>amp</td>\n",
       "      <td>()</td>\n",
       "      <td>x</td>\n",
       "      <td>0.500000+0.000000j</td>\n",
       "      <td>default</td>\n",
       "      <td>True</td>\n",
       "      <td>2021-11-03 10:23:20.785369+0100</td>\n",
       "      <td>None</td>\n",
       "    </tr>\n",
       "    <tr>\n",
       "      <th>2</th>\n",
       "      <td>amp</td>\n",
       "      <td>(0,)</td>\n",
       "      <td>sx</td>\n",
       "      <td>0.430256+0.000000j</td>\n",
       "      <td>default</td>\n",
       "      <td>True</td>\n",
       "      <td>2021-11-03 10:25:52.837000+0100</td>\n",
       "      <td>d4d482d0-34c7-476a-870e-6984aa387f94</td>\n",
       "    </tr>\n",
       "    <tr>\n",
       "      <th>3</th>\n",
       "      <td>amp</td>\n",
       "      <td>(0,)</td>\n",
       "      <td>x</td>\n",
       "      <td>0.860512+0.000000j</td>\n",
       "      <td>default</td>\n",
       "      <td>True</td>\n",
       "      <td>2021-11-03 10:25:52.837000+0100</td>\n",
       "      <td>d4d482d0-34c7-476a-870e-6984aa387f94</td>\n",
       "    </tr>\n",
       "  </tbody>\n",
       "</table>\n",
       "</div>"
      ],
      "text/plain": [
       "  parameter qubits schedule               value    group  valid  \\\n",
       "0       amp     ()       sx  0.250000+0.000000j  default   True   \n",
       "1       amp     ()        x  0.500000+0.000000j  default   True   \n",
       "2       amp   (0,)       sx  0.430256+0.000000j  default   True   \n",
       "3       amp   (0,)        x  0.860512+0.000000j  default   True   \n",
       "\n",
       "                         date_time                                exp_id  \n",
       "0  2021-11-03 10:23:20.785453+0100                                  None  \n",
       "1  2021-11-03 10:23:20.785369+0100                                  None  \n",
       "2  2021-11-03 10:25:52.837000+0100  d4d482d0-34c7-476a-870e-6984aa387f94  \n",
       "3  2021-11-03 10:25:52.837000+0100  d4d482d0-34c7-476a-870e-6984aa387f94  "
      ]
     },
     "execution_count": 23,
     "metadata": {},
     "output_type": "execute_result"
    }
   ],
   "source": [
    "pd.DataFrame(**cals.parameters_table(qubit_list=[qubit, ()], parameters=\"amp\"))"
   ]
  },
  {
   "cell_type": "markdown",
   "id": "c90b2be5",
   "metadata": {},
   "source": [
    "The table above shows that we have now updated the amplitude of our $\\pi$-pulse from 0.5 to the value obtained in the most recent Rabi experiment. Importantly, since we linked the amplitudes of the `x` and `y` schedules we will see that the amplitude of the `y` schedule has also been updated as seen when requesting schedules form the `Calibrations` instance. Furthermore, we used the result from the `Rabi` experiment to also update the value of the `sx` pulse. This was achieved by specifying `(np.pi/2, \"amp\", \"sx\")` when calling `update`."
   ]
  },
  {
   "cell_type": "code",
   "execution_count": 24,
   "id": "bd9ff343",
   "metadata": {},
   "outputs": [
    {
     "data": {
      "text/plain": [
       "ScheduleBlock(Play(Drag(duration=320, amp=(0.43025575+0j), sigma=80, beta=0), DriveChannel(0)), name=\"sx\", transform=AlignLeft())"
      ]
     },
     "execution_count": 24,
     "metadata": {},
     "output_type": "execute_result"
    }
   ],
   "source": [
    "cals.get_schedule(\"sx\", qubit)"
   ]
  },
  {
   "cell_type": "code",
   "execution_count": 25,
   "id": "95d75c23",
   "metadata": {},
   "outputs": [
    {
     "data": {
      "text/plain": [
       "ScheduleBlock(Play(Drag(duration=320, amp=(0.86051151+0j), sigma=80, beta=0), DriveChannel(0)), name=\"x\", transform=AlignLeft())"
      ]
     },
     "execution_count": 25,
     "metadata": {},
     "output_type": "execute_result"
    }
   ],
   "source": [
    "cals.get_schedule(\"x\", qubit)"
   ]
  },
  {
   "cell_type": "code",
   "execution_count": 26,
   "id": "62b1318f",
   "metadata": {},
   "outputs": [
    {
     "data": {
      "text/plain": [
       "ScheduleBlock(Play(Drag(duration=320, amp=0.86051151j, sigma=80, beta=0), DriveChannel(0)), name=\"y\", transform=AlignLeft())"
      ]
     },
     "execution_count": 26,
     "metadata": {},
     "output_type": "execute_result"
    }
   ],
   "source": [
    "cals.get_schedule(\"y\", qubit)"
   ]
  },
  {
   "cell_type": "markdown",
   "id": "addeda59",
   "metadata": {},
   "source": [
    "## 3. Saving and loading calibrations\n",
    "\n",
    "The values of the calibrated parameters can be saved to a `.csv` file and reloaded at a later point in time.  "
   ]
  },
  {
   "cell_type": "code",
   "execution_count": 27,
   "id": "317994db",
   "metadata": {},
   "outputs": [
    {
     "name": "stderr",
     "output_type": "stream",
     "text": [
      "/home/daniel/Documents/IBM/qiskit/qiskit-experiments/qiskit_experiments/calibration_management/calibrations.py:981: UserWarning: Schedules are only saved in text format. They cannot be re-loaded.\n",
      "  warnings.warn(\"Schedules are only saved in text format. They cannot be re-loaded.\")\n"
     ]
    }
   ],
   "source": [
    "cals.save(file_type=\"csv\", overwrite=True, file_prefix=\"Armonk\")"
   ]
  },
  {
   "cell_type": "markdown",
   "id": "b384d6d0",
   "metadata": {},
   "source": [
    "After saving the values of the parameters you may restart your kernel. If you do so, you will only need to run the following cell to recover the state of your calibrations. Since the schedules are currently not stored we need to call our `setup_cals` function to populate an instance of `Calibrations` with the template schedules. By contrast, the value of the parameters will be recovered from the file."
   ]
  },
  {
   "cell_type": "code",
   "execution_count": 28,
   "id": "24256b82",
   "metadata": {},
   "outputs": [],
   "source": [
    "cals = BackendCalibrations(backend, library)\n",
    "cals.load_parameter_values(file_name=\"Armonkparameter_values.csv\")"
   ]
  },
  {
   "cell_type": "code",
   "execution_count": 29,
   "id": "80ca665c",
   "metadata": {},
   "outputs": [
    {
     "data": {
      "text/html": [
       "<div>\n",
       "<style scoped>\n",
       "    .dataframe tbody tr th:only-of-type {\n",
       "        vertical-align: middle;\n",
       "    }\n",
       "\n",
       "    .dataframe tbody tr th {\n",
       "        vertical-align: top;\n",
       "    }\n",
       "\n",
       "    .dataframe thead th {\n",
       "        text-align: right;\n",
       "    }\n",
       "</style>\n",
       "<table border=\"1\" class=\"dataframe\">\n",
       "  <thead>\n",
       "    <tr style=\"text-align: right;\">\n",
       "      <th></th>\n",
       "      <th>parameter</th>\n",
       "      <th>qubits</th>\n",
       "      <th>schedule</th>\n",
       "      <th>value</th>\n",
       "      <th>group</th>\n",
       "      <th>valid</th>\n",
       "      <th>date_time</th>\n",
       "      <th>exp_id</th>\n",
       "    </tr>\n",
       "  </thead>\n",
       "  <tbody>\n",
       "    <tr>\n",
       "      <th>0</th>\n",
       "      <td>amp</td>\n",
       "      <td>(0,)</td>\n",
       "      <td>x</td>\n",
       "      <td>0.860512+0.000000j</td>\n",
       "      <td>default</td>\n",
       "      <td>True</td>\n",
       "      <td>2021-11-03 10:25:52.837000+0100</td>\n",
       "      <td>d4d482d0-34c7-476a-870e-6984aa387f94</td>\n",
       "    </tr>\n",
       "    <tr>\n",
       "      <th>1</th>\n",
       "      <td>amp</td>\n",
       "      <td>()</td>\n",
       "      <td>sx</td>\n",
       "      <td>0.250000+0.000000j</td>\n",
       "      <td>default</td>\n",
       "      <td>True</td>\n",
       "      <td>2021-11-03 10:25:55.416335+0100</td>\n",
       "      <td>None</td>\n",
       "    </tr>\n",
       "    <tr>\n",
       "      <th>2</th>\n",
       "      <td>amp</td>\n",
       "      <td>()</td>\n",
       "      <td>sx</td>\n",
       "      <td>0.250000+0.000000j</td>\n",
       "      <td>default</td>\n",
       "      <td>True</td>\n",
       "      <td>2021-11-03 10:23:20.785453+0100</td>\n",
       "      <td></td>\n",
       "    </tr>\n",
       "    <tr>\n",
       "      <th>3</th>\n",
       "      <td>amp</td>\n",
       "      <td>()</td>\n",
       "      <td>x</td>\n",
       "      <td>0.500000+0.000000j</td>\n",
       "      <td>default</td>\n",
       "      <td>True</td>\n",
       "      <td>2021-11-03 10:25:55.416203+0100</td>\n",
       "      <td>None</td>\n",
       "    </tr>\n",
       "    <tr>\n",
       "      <th>4</th>\n",
       "      <td>amp</td>\n",
       "      <td>()</td>\n",
       "      <td>x</td>\n",
       "      <td>0.500000+0.000000j</td>\n",
       "      <td>default</td>\n",
       "      <td>True</td>\n",
       "      <td>2021-11-03 10:23:20.785369+0100</td>\n",
       "      <td></td>\n",
       "    </tr>\n",
       "    <tr>\n",
       "      <th>5</th>\n",
       "      <td>amp</td>\n",
       "      <td>(0,)</td>\n",
       "      <td>sx</td>\n",
       "      <td>0.430256+0.000000j</td>\n",
       "      <td>default</td>\n",
       "      <td>True</td>\n",
       "      <td>2021-11-03 10:25:52.837000+0100</td>\n",
       "      <td>d4d482d0-34c7-476a-870e-6984aa387f94</td>\n",
       "    </tr>\n",
       "  </tbody>\n",
       "</table>\n",
       "</div>"
      ],
      "text/plain": [
       "  parameter qubits schedule               value    group  valid  \\\n",
       "0       amp   (0,)        x  0.860512+0.000000j  default   True   \n",
       "1       amp     ()       sx  0.250000+0.000000j  default   True   \n",
       "2       amp     ()       sx  0.250000+0.000000j  default   True   \n",
       "3       amp     ()        x  0.500000+0.000000j  default   True   \n",
       "4       amp     ()        x  0.500000+0.000000j  default   True   \n",
       "5       amp   (0,)       sx  0.430256+0.000000j  default   True   \n",
       "\n",
       "                         date_time                                exp_id  \n",
       "0  2021-11-03 10:25:52.837000+0100  d4d482d0-34c7-476a-870e-6984aa387f94  \n",
       "1  2021-11-03 10:25:55.416335+0100                                  None  \n",
       "2  2021-11-03 10:23:20.785453+0100                                        \n",
       "3  2021-11-03 10:25:55.416203+0100                                  None  \n",
       "4  2021-11-03 10:23:20.785369+0100                                        \n",
       "5  2021-11-03 10:25:52.837000+0100  d4d482d0-34c7-476a-870e-6984aa387f94  "
      ]
     },
     "execution_count": 29,
     "metadata": {},
     "output_type": "execute_result"
    }
   ],
   "source": [
    "pd.DataFrame(**cals.parameters_table(qubit_list=[qubit, ()], parameters=\"amp\"))"
   ]
  },
  {
   "cell_type": "markdown",
   "id": "7d1f127f",
   "metadata": {},
   "source": [
    "## 4. Calibrating the value of the DRAG coefficient\n",
    "\n",
    "A Derivative Removal by Adiabatic Gate (DRAG) pulse is designed to minimize leakage\n",
    "to a neighbouring transition. It is a standard pulse with an additional derivative\n",
    "component. It is designed to reduce the frequency spectrum of a normal pulse near\n",
    "the $|1\\rangle$ - $|2\\rangle$ transition, reducing the chance of leakage\n",
    "to the $|2\\rangle$ state. The optimal value of the DRAG parameter is chosen to\n",
    "minimize both leakage and phase errors resulting from the AC Stark shift.\n",
    "The pulse envelope is $f(t) = \\Omega_x(t) + j \\beta \\frac{\\rm d}{{\\rm d }t} \\Omega_x(t)$.\n",
    "Here, $\\Omega_x$ is the envelop of the in-phase component of the pulse and\n",
    "$\\beta$ is the strength of the quadrature which we refer to as the DRAG\n",
    "parameter and seek to calibrate in this experiment. \n",
    "The DRAG calibration will run\n",
    "several series of circuits. In a given circuit a Rp(β) - Rm(β) block is repeated\n",
    "$N$ times. Here, Rp is a rotation with a positive angle and Rm is the same rotation\n",
    "with a negative amplitude."
   ]
  },
  {
   "cell_type": "code",
   "execution_count": 30,
   "id": "74edd0ee",
   "metadata": {},
   "outputs": [],
   "source": [
    "from qiskit_experiments.library import RoughDragCal"
   ]
  },
  {
   "cell_type": "code",
   "execution_count": 31,
   "id": "fac11c93",
   "metadata": {},
   "outputs": [],
   "source": [
    "cal_drag = RoughDragCal(qubit, cals, backend=backend, betas=np.linspace(-20, 20, 25))"
   ]
  },
  {
   "cell_type": "code",
   "execution_count": 32,
   "id": "3a337cf4",
   "metadata": {},
   "outputs": [
    {
     "data": {
      "image/png": "[encoded data removed]",
      "text/plain": [
       "<Figure size 1656.49x325.08 with 1 Axes>"
      ]
     },
     "execution_count": 32,
     "metadata": {},
     "output_type": "execute_result"
    }
   ],
   "source": [
    "cal_drag.set_experiment_options(reps=[3, 5, 7])\n",
    "\n",
    "cal_drag.circuits()[5].draw(output='mpl')"
   ]
  },
  {
   "cell_type": "code",
   "execution_count": 33,
   "id": "c3958dff",
   "metadata": {
    "scrolled": false
   },
   "outputs": [],
   "source": [
    "drag_data = cal_drag.run().block_for_results()"
   ]
  },
  {
   "cell_type": "code",
   "execution_count": 34,
   "id": "3a6430f4",
   "metadata": {},
   "outputs": [
    {
     "data": {
      "image/png": "[encoded data removed]",
      "text/plain": [
       "<Figure size 576x360 with 1 Axes>"
      ]
     },
     "execution_count": 34,
     "metadata": {},
     "output_type": "execute_result"
    }
   ],
   "source": [
    "drag_data.figure(0)"
   ]
  },
  {
   "cell_type": "code",
   "execution_count": 35,
   "id": "dc39db70",
   "metadata": {},
   "outputs": [
    {
     "name": "stdout",
     "output_type": "stream",
     "text": [
      "DbAnalysisResultV1\n",
      "- name: beta\n",
      "- value: -1.071187039504064 ± 0.017950959722479044\n",
      "- χ²: 1.0808645373835433\n",
      "- quality: good\n",
      "- device_components: ['Q0']\n",
      "- verified: False\n"
     ]
    }
   ],
   "source": [
    "print(drag_data.analysis_results(\"beta\"))"
   ]
  },
  {
   "cell_type": "code",
   "execution_count": 36,
   "id": "f02bd7a6",
   "metadata": {},
   "outputs": [
    {
     "data": {
      "text/html": [
       "<div>\n",
       "<style scoped>\n",
       "    .dataframe tbody tr th:only-of-type {\n",
       "        vertical-align: middle;\n",
       "    }\n",
       "\n",
       "    .dataframe tbody tr th {\n",
       "        vertical-align: top;\n",
       "    }\n",
       "\n",
       "    .dataframe thead th {\n",
       "        text-align: right;\n",
       "    }\n",
       "</style>\n",
       "<table border=\"1\" class=\"dataframe\">\n",
       "  <thead>\n",
       "    <tr style=\"text-align: right;\">\n",
       "      <th></th>\n",
       "      <th>parameter</th>\n",
       "      <th>qubits</th>\n",
       "      <th>schedule</th>\n",
       "      <th>value</th>\n",
       "      <th>group</th>\n",
       "      <th>valid</th>\n",
       "      <th>date_time</th>\n",
       "      <th>exp_id</th>\n",
       "    </tr>\n",
       "  </thead>\n",
       "  <tbody>\n",
       "    <tr>\n",
       "      <th>0</th>\n",
       "      <td>β</td>\n",
       "      <td>(0,)</td>\n",
       "      <td>x</td>\n",
       "      <td>-1.071187</td>\n",
       "      <td>default</td>\n",
       "      <td>True</td>\n",
       "      <td>2021-11-03 10:27:29.247000+0100</td>\n",
       "      <td>c395b263-bd79-47c1-8832-1353ce51ce58</td>\n",
       "    </tr>\n",
       "    <tr>\n",
       "      <th>1</th>\n",
       "      <td>β</td>\n",
       "      <td>()</td>\n",
       "      <td>sx</td>\n",
       "      <td>0.000000</td>\n",
       "      <td>default</td>\n",
       "      <td>True</td>\n",
       "      <td>2021-11-03 10:25:55.416292+0100</td>\n",
       "      <td>None</td>\n",
       "    </tr>\n",
       "    <tr>\n",
       "      <th>2</th>\n",
       "      <td>β</td>\n",
       "      <td>()</td>\n",
       "      <td>sx</td>\n",
       "      <td>0.000000</td>\n",
       "      <td>default</td>\n",
       "      <td>True</td>\n",
       "      <td>2021-11-03 10:23:20.785429+0100</td>\n",
       "      <td></td>\n",
       "    </tr>\n",
       "    <tr>\n",
       "      <th>3</th>\n",
       "      <td>β</td>\n",
       "      <td>()</td>\n",
       "      <td>x</td>\n",
       "      <td>0.000000</td>\n",
       "      <td>default</td>\n",
       "      <td>True</td>\n",
       "      <td>2021-11-03 10:25:55.416175+0100</td>\n",
       "      <td>None</td>\n",
       "    </tr>\n",
       "    <tr>\n",
       "      <th>4</th>\n",
       "      <td>β</td>\n",
       "      <td>()</td>\n",
       "      <td>x</td>\n",
       "      <td>0.000000</td>\n",
       "      <td>default</td>\n",
       "      <td>True</td>\n",
       "      <td>2021-11-03 10:23:20.785345+0100</td>\n",
       "      <td></td>\n",
       "    </tr>\n",
       "  </tbody>\n",
       "</table>\n",
       "</div>"
      ],
      "text/plain": [
       "  parameter qubits schedule     value    group  valid  \\\n",
       "0         β   (0,)        x -1.071187  default   True   \n",
       "1         β     ()       sx  0.000000  default   True   \n",
       "2         β     ()       sx  0.000000  default   True   \n",
       "3         β     ()        x  0.000000  default   True   \n",
       "4         β     ()        x  0.000000  default   True   \n",
       "\n",
       "                         date_time                                exp_id  \n",
       "0  2021-11-03 10:27:29.247000+0100  c395b263-bd79-47c1-8832-1353ce51ce58  \n",
       "1  2021-11-03 10:25:55.416292+0100                                  None  \n",
       "2  2021-11-03 10:23:20.785429+0100                                        \n",
       "3  2021-11-03 10:25:55.416175+0100                                  None  \n",
       "4  2021-11-03 10:23:20.785345+0100                                        "
      ]
     },
     "execution_count": 36,
     "metadata": {},
     "output_type": "execute_result"
    }
   ],
   "source": [
    "pd.DataFrame(**cals.parameters_table(qubit_list=[qubit, ()], parameters=\"β\"))"
   ]
  },
  {
   "cell_type": "markdown",
   "id": "00ae061c",
   "metadata": {},
   "source": [
    "## 5. Fine amplitude calibration\n",
    "\n",
    "The `FineAmplitude` calibration experiment repeats $N$ times a gate with a pulse\n",
    "to amplify the under or over-rotations in the gate to determine the optimal amplitude.\n",
    "The circuits that are run have a custom gate with the pulse schedule attached to it\n",
    "through the calibrations."
   ]
  },
  {
   "cell_type": "code",
   "execution_count": 37,
   "id": "20ab91f2",
   "metadata": {},
   "outputs": [],
   "source": [
    "from qiskit_experiments.library.calibration.fine_amplitude import FineXAmplitudeCal"
   ]
  },
  {
   "cell_type": "code",
   "execution_count": 38,
   "id": "bfb3124b",
   "metadata": {},
   "outputs": [],
   "source": [
    "amp_x_cal = FineXAmplitudeCal(qubit, cals, backend=backend, schedule_name=\"x\")"
   ]
  },
  {
   "cell_type": "code",
   "execution_count": 39,
   "id": "c6127e65",
   "metadata": {},
   "outputs": [
    {
     "data": {
      "image/png": "[encoded data removed]",
      "text/plain": [
       "<Figure size 538.279x144.48 with 1 Axes>"
      ]
     },
     "execution_count": 39,
     "metadata": {},
     "output_type": "execute_result"
    }
   ],
   "source": [
    "amp_x_cal.circuits()[5].draw(output=\"mpl\")"
   ]
  },
  {
   "cell_type": "code",
   "execution_count": 40,
   "id": "24067164",
   "metadata": {},
   "outputs": [],
   "source": [
    "data_fine = amp_x_cal.run().block_for_results()"
   ]
  },
  {
   "cell_type": "code",
   "execution_count": 41,
   "id": "076bed0c",
   "metadata": {},
   "outputs": [
    {
     "data": {
      "image/png": "[encoded data removed]",
      "text/plain": [
       "<Figure size 576x360 with 1 Axes>"
      ]
     },
     "execution_count": 41,
     "metadata": {},
     "output_type": "execute_result"
    }
   ],
   "source": [
    "data_fine.figure(0)"
   ]
  },
  {
   "cell_type": "code",
   "execution_count": 42,
   "id": "cf2cc09a",
   "metadata": {},
   "outputs": [
    {
     "name": "stdout",
     "output_type": "stream",
     "text": [
      "DbAnalysisResultV1\n",
      "- name: d_theta\n",
      "- value: -0.08077045198832339 ± 0.0010627568898399157\n",
      "- χ²: 15.2839558816469\n",
      "- quality: bad\n",
      "- device_components: ['Q0']\n",
      "- verified: False\n"
     ]
    }
   ],
   "source": [
    "print(data_fine.analysis_results(\"d_theta\"))"
   ]
  },
  {
   "cell_type": "markdown",
   "id": "367c2e1f",
   "metadata": {},
   "source": [
    "The cell below shows how the amplitude is updated based on the error in the rotation angle measured by the `FineXAmplitude` experiment. Note that this calculation is automatically done by the `Amplitude.update` function."
   ]
  },
  {
   "cell_type": "code",
   "execution_count": 43,
   "id": "81adf659",
   "metadata": {},
   "outputs": [
    {
     "name": "stdout",
     "output_type": "stream",
     "text": [
      "The ideal angle is 3.14 rad. We measured a deviation of -0.081 rad.\n",
      "Thus, scale the 0.8832+0.0000j pulse amplitude by 1.026 to obtain 0.90653+0.00000j.\n"
     ]
    }
   ],
   "source": [
    "dtheta = data_fine.analysis_results(\"d_theta\").value.value\n",
    "target_angle = np.pi\n",
    "scale = target_angle / (target_angle + dtheta)\n",
    "pulse_amp = cals.get_parameter_value(\"amp\", qubit, \"x\")\n",
    "print(f\"The ideal angle is {target_angle:.2f} rad. We measured a deviation of {dtheta:.3f} rad.\")\n",
    "print(f\"Thus, scale the {pulse_amp:.4f} pulse amplitude by {scale:.3f} to obtain {pulse_amp*scale:.5f}.\")"
   ]
  },
  {
   "cell_type": "markdown",
   "id": "97c69c65",
   "metadata": {},
   "source": [
    "Observe, once again, that the calibrations have automatically been updated."
   ]
  },
  {
   "cell_type": "code",
   "execution_count": 44,
   "id": "81e7f3de",
   "metadata": {},
   "outputs": [
    {
     "data": {
      "text/html": [
       "<div>\n",
       "<style scoped>\n",
       "    .dataframe tbody tr th:only-of-type {\n",
       "        vertical-align: middle;\n",
       "    }\n",
       "\n",
       "    .dataframe tbody tr th {\n",
       "        vertical-align: top;\n",
       "    }\n",
       "\n",
       "    .dataframe thead th {\n",
       "        text-align: right;\n",
       "    }\n",
       "</style>\n",
       "<table border=\"1\" class=\"dataframe\">\n",
       "  <thead>\n",
       "    <tr style=\"text-align: right;\">\n",
       "      <th></th>\n",
       "      <th>parameter</th>\n",
       "      <th>qubits</th>\n",
       "      <th>schedule</th>\n",
       "      <th>value</th>\n",
       "      <th>group</th>\n",
       "      <th>valid</th>\n",
       "      <th>date_time</th>\n",
       "      <th>exp_id</th>\n",
       "    </tr>\n",
       "  </thead>\n",
       "  <tbody>\n",
       "    <tr>\n",
       "      <th>0</th>\n",
       "      <td>amp</td>\n",
       "      <td>(0,)</td>\n",
       "      <td>x</td>\n",
       "      <td>0.860512+0.000000j</td>\n",
       "      <td>default</td>\n",
       "      <td>True</td>\n",
       "      <td>2021-11-03 10:25:52.837000+0100</td>\n",
       "      <td>d4d482d0-34c7-476a-870e-6984aa387f94</td>\n",
       "    </tr>\n",
       "    <tr>\n",
       "      <th>1</th>\n",
       "      <td>amp</td>\n",
       "      <td>(0,)</td>\n",
       "      <td>x</td>\n",
       "      <td>0.883219+0.000000j</td>\n",
       "      <td>default</td>\n",
       "      <td>True</td>\n",
       "      <td>2021-11-03 10:28:02.751000+0100</td>\n",
       "      <td>84f3109a-924e-400d-853c-ab5f3a7a8fbf</td>\n",
       "    </tr>\n",
       "    <tr>\n",
       "      <th>2</th>\n",
       "      <td>amp</td>\n",
       "      <td>()</td>\n",
       "      <td>sx</td>\n",
       "      <td>0.250000+0.000000j</td>\n",
       "      <td>default</td>\n",
       "      <td>True</td>\n",
       "      <td>2021-11-03 10:25:55.416335+0100</td>\n",
       "      <td>None</td>\n",
       "    </tr>\n",
       "    <tr>\n",
       "      <th>3</th>\n",
       "      <td>amp</td>\n",
       "      <td>()</td>\n",
       "      <td>sx</td>\n",
       "      <td>0.250000+0.000000j</td>\n",
       "      <td>default</td>\n",
       "      <td>True</td>\n",
       "      <td>2021-11-03 10:23:20.785453+0100</td>\n",
       "      <td></td>\n",
       "    </tr>\n",
       "    <tr>\n",
       "      <th>4</th>\n",
       "      <td>amp</td>\n",
       "      <td>()</td>\n",
       "      <td>x</td>\n",
       "      <td>0.500000+0.000000j</td>\n",
       "      <td>default</td>\n",
       "      <td>True</td>\n",
       "      <td>2021-11-03 10:25:55.416203+0100</td>\n",
       "      <td>None</td>\n",
       "    </tr>\n",
       "    <tr>\n",
       "      <th>5</th>\n",
       "      <td>amp</td>\n",
       "      <td>()</td>\n",
       "      <td>x</td>\n",
       "      <td>0.500000+0.000000j</td>\n",
       "      <td>default</td>\n",
       "      <td>True</td>\n",
       "      <td>2021-11-03 10:23:20.785369+0100</td>\n",
       "      <td></td>\n",
       "    </tr>\n",
       "    <tr>\n",
       "      <th>6</th>\n",
       "      <td>amp</td>\n",
       "      <td>(0,)</td>\n",
       "      <td>sx</td>\n",
       "      <td>0.430256+0.000000j</td>\n",
       "      <td>default</td>\n",
       "      <td>True</td>\n",
       "      <td>2021-11-03 10:25:52.837000+0100</td>\n",
       "      <td>d4d482d0-34c7-476a-870e-6984aa387f94</td>\n",
       "    </tr>\n",
       "  </tbody>\n",
       "</table>\n",
       "</div>"
      ],
      "text/plain": [
       "  parameter qubits schedule               value    group  valid  \\\n",
       "0       amp   (0,)        x  0.860512+0.000000j  default   True   \n",
       "1       amp   (0,)        x  0.883219+0.000000j  default   True   \n",
       "2       amp     ()       sx  0.250000+0.000000j  default   True   \n",
       "3       amp     ()       sx  0.250000+0.000000j  default   True   \n",
       "4       amp     ()        x  0.500000+0.000000j  default   True   \n",
       "5       amp     ()        x  0.500000+0.000000j  default   True   \n",
       "6       amp   (0,)       sx  0.430256+0.000000j  default   True   \n",
       "\n",
       "                         date_time                                exp_id  \n",
       "0  2021-11-03 10:25:52.837000+0100  d4d482d0-34c7-476a-870e-6984aa387f94  \n",
       "1  2021-11-03 10:28:02.751000+0100  84f3109a-924e-400d-853c-ab5f3a7a8fbf  \n",
       "2  2021-11-03 10:25:55.416335+0100                                  None  \n",
       "3  2021-11-03 10:23:20.785453+0100                                        \n",
       "4  2021-11-03 10:25:55.416203+0100                                  None  \n",
       "5  2021-11-03 10:23:20.785369+0100                                        \n",
       "6  2021-11-03 10:25:52.837000+0100  d4d482d0-34c7-476a-870e-6984aa387f94  "
      ]
     },
     "execution_count": 44,
     "metadata": {},
     "output_type": "execute_result"
    }
   ],
   "source": [
    "pd.DataFrame(**cals.parameters_table(qubit_list=[qubit, ()], parameters=\"amp\"))"
   ]
  },
  {
   "cell_type": "markdown",
   "id": "114a92a9",
   "metadata": {},
   "source": [
    "To check that we have managed to reduce the error in the rotation angle we will run the fine amplitude calibration experiment once again."
   ]
  },
  {
   "cell_type": "code",
   "execution_count": 45,
   "id": "84146c1a",
   "metadata": {},
   "outputs": [],
   "source": [
    "data_fine2 = amp_x_cal.run(backend).block_for_results()"
   ]
  },
  {
   "cell_type": "code",
   "execution_count": 46,
   "id": "5218f8e0",
   "metadata": {},
   "outputs": [
    {
     "data": {
      "image/png": "[encoded data removed]",
      "text/plain": [
       "<Figure size 576x360 with 1 Axes>"
      ]
     },
     "execution_count": 46,
     "metadata": {},
     "output_type": "execute_result"
    }
   ],
   "source": [
    "data_fine2.figure(0)"
   ]
  },
  {
   "cell_type": "markdown",
   "id": "2fbc466a",
   "metadata": {},
   "source": [
    "As can be seen from the data above and the analysis result below we have managed to reduce the error in the rotation angle ${\\rm d}\\theta$."
   ]
  },
  {
   "cell_type": "code",
   "execution_count": 47,
   "id": "25ddccd3",
   "metadata": {},
   "outputs": [
    {
     "name": "stdout",
     "output_type": "stream",
     "text": [
      "DbAnalysisResultV1\n",
      "- name: d_theta\n",
      "- value: -0.04621845427932837 ± 0.0009804174946234\n",
      "- χ²: 7.510365714654594\n",
      "- quality: bad\n",
      "- device_components: ['Q0']\n",
      "- verified: False\n"
     ]
    }
   ],
   "source": [
    "print(data_fine2.analysis_results(\"d_theta\"))"
   ]
  },
  {
   "cell_type": "markdown",
   "id": "a4935730",
   "metadata": {},
   "source": [
    "### Fine amplitude calibration of the $\\pi/2$ rotation\n",
    "\n",
    "We now wish to calibrate the amplitude of the $\\pi/2$ rotation."
   ]
  },
  {
   "cell_type": "code",
   "execution_count": 48,
   "id": "50423105",
   "metadata": {},
   "outputs": [],
   "source": [
    "from qiskit_experiments.library.calibration.fine_amplitude import FineSXAmplitudeCal"
   ]
  },
  {
   "cell_type": "code",
   "execution_count": 49,
   "id": "a075eacb",
   "metadata": {},
   "outputs": [],
   "source": [
    "amp_sx_cal = FineSXAmplitudeCal(qubit, cals, backend=backend, schedule_name=\"sx\")"
   ]
  },
  {
   "cell_type": "code",
   "execution_count": 50,
   "id": "3d38a13f",
   "metadata": {},
   "outputs": [
    {
     "data": {
      "image/png": "[encoded data removed]",
      "text/plain": [
       "<Figure size 779.079x144.48 with 1 Axes>"
      ]
     },
     "execution_count": 50,
     "metadata": {},
     "output_type": "execute_result"
    }
   ],
   "source": [
    "amp_sx_cal.circuits()[5].draw(output=\"mpl\")"
   ]
  },
  {
   "cell_type": "code",
   "execution_count": 51,
   "id": "6c00c3f5",
   "metadata": {},
   "outputs": [
    {
     "name": "stderr",
     "output_type": "stream",
     "text": [
      "Analysis callback <bound method FineAmplitudeCal.update_calibrations of <qiskit_experiments.library.calibration.fine_amplitude.FineSXAmplitudeCal object at 0x7f5b2f4e6e80>> failed:\n",
      "Traceback (most recent call last):\n",
      "  File \"/home/daniel/Documents/IBM/qiskit/qiskit-experiments/qiskit_experiments/database_service/db_experiment_data.py\", line 298, in _wrapped_callback\n",
      "    callback(self, **kwargs)\n",
      "  File \"/home/daniel/Documents/IBM/qiskit/qiskit-experiments/qiskit_experiments/library/calibration/fine_amplitude.py\", line 146, in update_calibrations\n",
      "    BaseUpdater.add_parameter_value(\n",
      "  File \"/home/daniel/Documents/IBM/qiskit/qiskit-experiments/qiskit_experiments/calibration_management/update_library.py\", line 94, in add_parameter_value\n",
      "    cal.add_parameter_value(param_value, param, qubits, schedule)\n",
      "  File \"/home/daniel/Documents/IBM/qiskit/qiskit-experiments/qiskit_experiments/calibration_management/backend_calibrations.py\", line 395, in add_parameter_value\n",
      "    self._parameter_inst_map_update(param_obj)\n",
      "  File \"/home/daniel/Documents/IBM/qiskit/qiskit-experiments/qiskit_experiments/calibration_management/backend_calibrations.py\", line 365, in _parameter_inst_map_update\n",
      "    self.update_inst_map(schedules)\n",
      "  File \"/home/daniel/Documents/IBM/qiskit/qiskit-experiments/qiskit_experiments/calibration_management/backend_calibrations.py\", line 351, in update_inst_map\n",
      "    schedule=self.get_schedule(\n",
      "  File \"/home/daniel/Documents/IBM/qiskit/qiskit-experiments/qiskit_experiments/calibration_management/calibrations.py\", line 667, in get_schedule\n",
      "    assigned_schedule = self._assign(schedule, qubits, assign_params, group, cutoff_date)\n",
      "  File \"/home/daniel/Documents/IBM/qiskit/qiskit-experiments/qiskit_experiments/calibration_management/calibrations.py\", line 864, in _assign\n",
      "    return ret_schedule.assign_parameters(binding_dict, inplace=False)\n",
      "  File \"/home/daniel/Documents/IBM/qiskit/qiskit-terra/qiskit/pulse/schedule.py\", line 1347, in assign_parameters\n",
      "    return self._parameter_manager.assign_parameters(\n",
      "  File \"/home/daniel/Documents/IBM/qiskit/qiskit-terra/qiskit/pulse/parameter_manager.py\", line 408, in assign_parameters\n",
      "    return visitor.visit(source)\n",
      "  File \"/home/daniel/Documents/IBM/qiskit/qiskit-terra/qiskit/pulse/parameter_manager.py\", line 92, in visit\n",
      "    return visitor(node)\n",
      "  File \"/home/daniel/Documents/IBM/qiskit/qiskit-terra/qiskit/pulse/parameter_manager.py\", line 139, in visit_ScheduleBlock\n",
      "    node._blocks = [self.visit(block) for block in node.blocks]\n",
      "  File \"/home/daniel/Documents/IBM/qiskit/qiskit-terra/qiskit/pulse/parameter_manager.py\", line 139, in <listcomp>\n",
      "    node._blocks = [self.visit(block) for block in node.blocks]\n",
      "  File \"/home/daniel/Documents/IBM/qiskit/qiskit-terra/qiskit/pulse/parameter_manager.py\", line 92, in visit\n",
      "    return visitor(node)\n",
      "  File \"/home/daniel/Documents/IBM/qiskit/qiskit-terra/qiskit/pulse/parameter_manager.py\", line 189, in visit_Instruction\n",
      "    node._operands = tuple(self.visit(op) for op in node.operands)\n",
      "  File \"/home/daniel/Documents/IBM/qiskit/qiskit-terra/qiskit/pulse/parameter_manager.py\", line 189, in <genexpr>\n",
      "    node._operands = tuple(self.visit(op) for op in node.operands)\n",
      "  File \"/home/daniel/Documents/IBM/qiskit/qiskit-terra/qiskit/pulse/parameter_manager.py\", line 92, in visit\n",
      "    return visitor(node)\n",
      "  File \"/home/daniel/Documents/IBM/qiskit/qiskit-terra/qiskit/pulse/parameter_manager.py\", line 219, in visit_ParametricPulse\n",
      "    return node.__class__(**new_parameters, name=node.name)\n",
      "  File \"/home/daniel/Documents/IBM/qiskit/qiskit-terra/qiskit/pulse/library/parametric_pulses.py\", line 420, in __init__\n",
      "    super().__init__(duration=duration, name=name, limit_amplitude=limit_amplitude)\n",
      "  File \"/home/daniel/Documents/IBM/qiskit/qiskit-terra/qiskit/pulse/library/parametric_pulses.py\", line 74, in __init__\n",
      "    self.validate_parameters()\n",
      "  File \"/home/daniel/Documents/IBM/qiskit/qiskit-terra/qiskit/pulse/library/parametric_pulses.py\", line 444, in validate_parameters\n",
      "    raise PulseError(\n",
      "qiskit.pulse.exceptions.PulseError: 'The amplitude norm must be <= 1, found: 37.1316214105175This can be overruled by setting Pulse.limit_amplitude.'\n",
      "\n",
      "Possibly incomplete analysis results: an analysis callback raised an error.\n"
     ]
    }
   ],
   "source": [
    "data_fine_sx = amp_sx_cal.run().block_for_results()"
   ]
  },
  {
   "cell_type": "code",
   "execution_count": 52,
   "id": "0117cb2d",
   "metadata": {},
   "outputs": [
    {
     "data": {
      "image/png": "[encoded data removed]",
      "text/plain": [
       "<Figure size 576x360 with 1 Axes>"
      ]
     },
     "execution_count": 52,
     "metadata": {},
     "output_type": "execute_result"
    }
   ],
   "source": [
    "data_fine_sx.figure(0)"
   ]
  },
  {
   "cell_type": "code",
   "execution_count": 57,
   "id": "3d6416eb",
   "metadata": {},
   "outputs": [
    {
     "name": "stdout",
     "output_type": "stream",
     "text": [
      "DbAnalysisResultV1\n",
      "- name: @Parameters_FineAmplitudeAnalysis\n",
      "- value: [-1.58899764  0.10409135] ± [0.00195221 0.00524669]\n",
      "- χ²: 351.5342209701685\n",
      "- quality: bad\n",
      "- extra: <4 items>\n",
      "- device_components: ['Q0']\n",
      "- verified: False\n"
     ]
    }
   ],
   "source": [
    "print(data_fine_sx.analysis_results(0))"
   ]
  },
  {
   "cell_type": "code",
   "execution_count": 53,
   "id": "5d5a1131",
   "metadata": {},
   "outputs": [
    {
     "name": "stdout",
     "output_type": "stream",
     "text": [
      "DbAnalysisResultV1\n",
      "- name: d_theta\n",
      "- value: -1.5889976367837717 ± 0.0019522058755457033\n",
      "- χ²: 351.5342209701685\n",
      "- quality: bad\n",
      "- device_components: ['Q0']\n",
      "- verified: False\n"
     ]
    }
   ],
   "source": [
    "print(data_fine_sx.analysis_results(\"d_theta\"))"
   ]
  },
  {
   "cell_type": "markdown",
   "id": "72571816",
   "metadata": {},
   "source": [
    "The parameter value is reflected in the calibrations."
   ]
  },
  {
   "cell_type": "code",
   "execution_count": 54,
   "id": "ae984c47",
   "metadata": {},
   "outputs": [
    {
     "data": {
      "text/html": [
       "<div>\n",
       "<style scoped>\n",
       "    .dataframe tbody tr th:only-of-type {\n",
       "        vertical-align: middle;\n",
       "    }\n",
       "\n",
       "    .dataframe tbody tr th {\n",
       "        vertical-align: top;\n",
       "    }\n",
       "\n",
       "    .dataframe thead th {\n",
       "        text-align: right;\n",
       "    }\n",
       "</style>\n",
       "<table border=\"1\" class=\"dataframe\">\n",
       "  <thead>\n",
       "    <tr style=\"text-align: right;\">\n",
       "      <th></th>\n",
       "      <th>parameter</th>\n",
       "      <th>qubits</th>\n",
       "      <th>schedule</th>\n",
       "      <th>value</th>\n",
       "      <th>group</th>\n",
       "      <th>valid</th>\n",
       "      <th>date_time</th>\n",
       "      <th>exp_id</th>\n",
       "    </tr>\n",
       "  </thead>\n",
       "  <tbody>\n",
       "    <tr>\n",
       "      <th>0</th>\n",
       "      <td>amp</td>\n",
       "      <td>(0,)</td>\n",
       "      <td>x</td>\n",
       "      <td>0.860512+0.000000j</td>\n",
       "      <td>default</td>\n",
       "      <td>True</td>\n",
       "      <td>2021-11-03 10:25:52.837000+0100</td>\n",
       "      <td>d4d482d0-34c7-476a-870e-6984aa387f94</td>\n",
       "    </tr>\n",
       "    <tr>\n",
       "      <th>1</th>\n",
       "      <td>amp</td>\n",
       "      <td>(0,)</td>\n",
       "      <td>x</td>\n",
       "      <td>0.883219+0.000000j</td>\n",
       "      <td>default</td>\n",
       "      <td>True</td>\n",
       "      <td>2021-11-03 10:28:02.751000+0100</td>\n",
       "      <td>84f3109a-924e-400d-853c-ab5f3a7a8fbf</td>\n",
       "    </tr>\n",
       "    <tr>\n",
       "      <th>2</th>\n",
       "      <td>amp</td>\n",
       "      <td>(0,)</td>\n",
       "      <td>x</td>\n",
       "      <td>0.896407+0.000000j</td>\n",
       "      <td>default</td>\n",
       "      <td>True</td>\n",
       "      <td>2021-11-03 10:29:08.654000+0100</td>\n",
       "      <td>e7e1f053-a5d2-4c94-9d65-da39a9274301</td>\n",
       "    </tr>\n",
       "    <tr>\n",
       "      <th>3</th>\n",
       "      <td>amp</td>\n",
       "      <td>()</td>\n",
       "      <td>sx</td>\n",
       "      <td>0.250000+0.000000j</td>\n",
       "      <td>default</td>\n",
       "      <td>True</td>\n",
       "      <td>2021-11-03 10:25:55.416335+0100</td>\n",
       "      <td>None</td>\n",
       "    </tr>\n",
       "    <tr>\n",
       "      <th>4</th>\n",
       "      <td>amp</td>\n",
       "      <td>()</td>\n",
       "      <td>sx</td>\n",
       "      <td>0.250000+0.000000j</td>\n",
       "      <td>default</td>\n",
       "      <td>True</td>\n",
       "      <td>2021-11-03 10:23:20.785453+0100</td>\n",
       "      <td></td>\n",
       "    </tr>\n",
       "    <tr>\n",
       "      <th>5</th>\n",
       "      <td>amp</td>\n",
       "      <td>()</td>\n",
       "      <td>x</td>\n",
       "      <td>0.500000+0.000000j</td>\n",
       "      <td>default</td>\n",
       "      <td>True</td>\n",
       "      <td>2021-11-03 10:25:55.416203+0100</td>\n",
       "      <td>None</td>\n",
       "    </tr>\n",
       "    <tr>\n",
       "      <th>6</th>\n",
       "      <td>amp</td>\n",
       "      <td>()</td>\n",
       "      <td>x</td>\n",
       "      <td>0.500000+0.000000j</td>\n",
       "      <td>default</td>\n",
       "      <td>True</td>\n",
       "      <td>2021-11-03 10:23:20.785369+0100</td>\n",
       "      <td></td>\n",
       "    </tr>\n",
       "    <tr>\n",
       "      <th>7</th>\n",
       "      <td>amp</td>\n",
       "      <td>(0,)</td>\n",
       "      <td>sx</td>\n",
       "      <td>0.430256+0.000000j</td>\n",
       "      <td>default</td>\n",
       "      <td>True</td>\n",
       "      <td>2021-11-03 10:25:52.837000+0100</td>\n",
       "      <td>d4d482d0-34c7-476a-870e-6984aa387f94</td>\n",
       "    </tr>\n",
       "    <tr>\n",
       "      <th>8</th>\n",
       "      <td>amp</td>\n",
       "      <td>(0,)</td>\n",
       "      <td>sx</td>\n",
       "      <td>-37.131621-0.000000j</td>\n",
       "      <td>default</td>\n",
       "      <td>True</td>\n",
       "      <td>2021-11-03 10:29:39.109000+0100</td>\n",
       "      <td>024bb1b5-d7f5-4245-8270-3b6e3720cdf3</td>\n",
       "    </tr>\n",
       "  </tbody>\n",
       "</table>\n",
       "</div>"
      ],
      "text/plain": [
       "  parameter qubits schedule                value    group  valid  \\\n",
       "0       amp   (0,)        x   0.860512+0.000000j  default   True   \n",
       "1       amp   (0,)        x   0.883219+0.000000j  default   True   \n",
       "2       amp   (0,)        x   0.896407+0.000000j  default   True   \n",
       "3       amp     ()       sx   0.250000+0.000000j  default   True   \n",
       "4       amp     ()       sx   0.250000+0.000000j  default   True   \n",
       "5       amp     ()        x   0.500000+0.000000j  default   True   \n",
       "6       amp     ()        x   0.500000+0.000000j  default   True   \n",
       "7       amp   (0,)       sx   0.430256+0.000000j  default   True   \n",
       "8       amp   (0,)       sx -37.131621-0.000000j  default   True   \n",
       "\n",
       "                         date_time                                exp_id  \n",
       "0  2021-11-03 10:25:52.837000+0100  d4d482d0-34c7-476a-870e-6984aa387f94  \n",
       "1  2021-11-03 10:28:02.751000+0100  84f3109a-924e-400d-853c-ab5f3a7a8fbf  \n",
       "2  2021-11-03 10:29:08.654000+0100  e7e1f053-a5d2-4c94-9d65-da39a9274301  \n",
       "3  2021-11-03 10:25:55.416335+0100                                  None  \n",
       "4  2021-11-03 10:23:20.785453+0100                                        \n",
       "5  2021-11-03 10:25:55.416203+0100                                  None  \n",
       "6  2021-11-03 10:23:20.785369+0100                                        \n",
       "7  2021-11-03 10:25:52.837000+0100  d4d482d0-34c7-476a-870e-6984aa387f94  \n",
       "8  2021-11-03 10:29:39.109000+0100  024bb1b5-d7f5-4245-8270-3b6e3720cdf3  "
      ]
     },
     "execution_count": 54,
     "metadata": {},
     "output_type": "execute_result"
    }
   ],
   "source": [
    "pd.DataFrame(**cals.parameters_table(qubit_list=[qubit, ()], parameters=\"amp\"))"
   ]
  },
  {
   "cell_type": "code",
   "execution_count": 55,
   "id": "f7cb5878",
   "metadata": {},
   "outputs": [
    {
     "ename": "PulseError",
     "evalue": "'The amplitude norm must be <= 1, found: 37.1316214105175This can be overruled by setting Pulse.limit_amplitude.'",
     "output_type": "error",
     "traceback": [
      "\u001b[0;31m---------------------------------------------------------------------------\u001b[0m",
      "\u001b[0;31mPulseError\u001b[0m                                Traceback (most recent call last)",
      "\u001b[0;32m/tmp/ipykernel_8466/2710879246.py\u001b[0m in \u001b[0;36m<module>\u001b[0;34m\u001b[0m\n\u001b[0;32m----> 1\u001b[0;31m \u001b[0mcals\u001b[0m\u001b[0;34m.\u001b[0m\u001b[0mget_schedule\u001b[0m\u001b[0;34m(\u001b[0m\u001b[0;34m\"sx\"\u001b[0m\u001b[0;34m,\u001b[0m \u001b[0mqubit\u001b[0m\u001b[0;34m)\u001b[0m\u001b[0;34m\u001b[0m\u001b[0;34m\u001b[0m\u001b[0m\n\u001b[0m",
      "\u001b[0;32m~/Documents/IBM/qiskit/qiskit-experiments/qiskit_experiments/calibration_management/calibrations.py\u001b[0m in \u001b[0;36mget_schedule\u001b[0;34m(self, name, qubits, assign_params, group, cutoff_date)\u001b[0m\n\u001b[1;32m    665\u001b[0m \u001b[0;34m\u001b[0m\u001b[0m\n\u001b[1;32m    666\u001b[0m         \u001b[0;31m# Now assign the other parameters\u001b[0m\u001b[0;34m\u001b[0m\u001b[0;34m\u001b[0m\u001b[0;34m\u001b[0m\u001b[0m\n\u001b[0;32m--> 667\u001b[0;31m         \u001b[0massigned_schedule\u001b[0m \u001b[0;34m=\u001b[0m \u001b[0mself\u001b[0m\u001b[0;34m.\u001b[0m\u001b[0m_assign\u001b[0m\u001b[0;34m(\u001b[0m\u001b[0mschedule\u001b[0m\u001b[0;34m,\u001b[0m \u001b[0mqubits\u001b[0m\u001b[0;34m,\u001b[0m \u001b[0massign_params\u001b[0m\u001b[0;34m,\u001b[0m \u001b[0mgroup\u001b[0m\u001b[0;34m,\u001b[0m \u001b[0mcutoff_date\u001b[0m\u001b[0;34m)\u001b[0m\u001b[0;34m\u001b[0m\u001b[0;34m\u001b[0m\u001b[0m\n\u001b[0m\u001b[1;32m    668\u001b[0m \u001b[0;34m\u001b[0m\u001b[0m\n\u001b[1;32m    669\u001b[0m         \u001b[0mfree_params\u001b[0m \u001b[0;34m=\u001b[0m \u001b[0mset\u001b[0m\u001b[0;34m(\u001b[0m\u001b[0;34m)\u001b[0m\u001b[0;34m\u001b[0m\u001b[0;34m\u001b[0m\u001b[0m\n",
      "\u001b[0;32m~/Documents/IBM/qiskit/qiskit-experiments/qiskit_experiments/calibration_management/calibrations.py\u001b[0m in \u001b[0;36m_assign\u001b[0;34m(self, schedule, qubits, assign_params, group, cutoff_date)\u001b[0m\n\u001b[1;32m    862\u001b[0m                 )\n\u001b[1;32m    863\u001b[0m \u001b[0;34m\u001b[0m\u001b[0m\n\u001b[0;32m--> 864\u001b[0;31m         \u001b[0;32mreturn\u001b[0m \u001b[0mret_schedule\u001b[0m\u001b[0;34m.\u001b[0m\u001b[0massign_parameters\u001b[0m\u001b[0;34m(\u001b[0m\u001b[0mbinding_dict\u001b[0m\u001b[0;34m,\u001b[0m \u001b[0minplace\u001b[0m\u001b[0;34m=\u001b[0m\u001b[0;32mFalse\u001b[0m\u001b[0;34m)\u001b[0m\u001b[0;34m\u001b[0m\u001b[0;34m\u001b[0m\u001b[0m\n\u001b[0m\u001b[1;32m    865\u001b[0m \u001b[0;34m\u001b[0m\u001b[0m\n\u001b[1;32m    866\u001b[0m     \u001b[0;32mdef\u001b[0m \u001b[0mschedules\u001b[0m\u001b[0;34m(\u001b[0m\u001b[0mself\u001b[0m\u001b[0;34m)\u001b[0m \u001b[0;34m->\u001b[0m \u001b[0mList\u001b[0m\u001b[0;34m[\u001b[0m\u001b[0mDict\u001b[0m\u001b[0;34m[\u001b[0m\u001b[0mstr\u001b[0m\u001b[0;34m,\u001b[0m \u001b[0mAny\u001b[0m\u001b[0;34m]\u001b[0m\u001b[0;34m]\u001b[0m\u001b[0;34m:\u001b[0m\u001b[0;34m\u001b[0m\u001b[0;34m\u001b[0m\u001b[0m\n",
      "\u001b[0;32m~/Documents/IBM/qiskit/qiskit-terra/qiskit/pulse/schedule.py\u001b[0m in \u001b[0;36massign_parameters\u001b[0;34m(self, value_dict, inplace)\u001b[0m\n\u001b[1;32m   1345\u001b[0m             \u001b[0mSchedule\u001b[0m \u001b[0;32mwith\u001b[0m \u001b[0mupdated\u001b[0m \u001b[0mparameters\u001b[0m\u001b[0;34m.\u001b[0m\u001b[0;34m\u001b[0m\u001b[0;34m\u001b[0m\u001b[0m\n\u001b[1;32m   1346\u001b[0m         \"\"\"\n\u001b[0;32m-> 1347\u001b[0;31m         return self._parameter_manager.assign_parameters(\n\u001b[0m\u001b[1;32m   1348\u001b[0m             \u001b[0mpulse_program\u001b[0m\u001b[0;34m=\u001b[0m\u001b[0mself\u001b[0m\u001b[0;34m,\u001b[0m \u001b[0mvalue_dict\u001b[0m\u001b[0;34m=\u001b[0m\u001b[0mvalue_dict\u001b[0m\u001b[0;34m,\u001b[0m \u001b[0minplace\u001b[0m\u001b[0;34m=\u001b[0m\u001b[0minplace\u001b[0m\u001b[0;34m\u001b[0m\u001b[0;34m\u001b[0m\u001b[0m\n\u001b[1;32m   1349\u001b[0m         )\n",
      "\u001b[0;32m~/Documents/IBM/qiskit/qiskit-terra/qiskit/pulse/parameter_manager.py\u001b[0m in \u001b[0;36massign_parameters\u001b[0;34m(self, pulse_program, value_dict, inplace)\u001b[0m\n\u001b[1;32m    406\u001b[0m         \u001b[0;32mif\u001b[0m \u001b[0mvalid_map\u001b[0m\u001b[0;34m:\u001b[0m\u001b[0;34m\u001b[0m\u001b[0;34m\u001b[0m\u001b[0m\n\u001b[1;32m    407\u001b[0m             \u001b[0mvisitor\u001b[0m \u001b[0;34m=\u001b[0m \u001b[0mParameterSetter\u001b[0m\u001b[0;34m(\u001b[0m\u001b[0mparam_map\u001b[0m\u001b[0;34m=\u001b[0m\u001b[0mvalid_map\u001b[0m\u001b[0;34m)\u001b[0m\u001b[0;34m\u001b[0m\u001b[0;34m\u001b[0m\u001b[0m\n\u001b[0;32m--> 408\u001b[0;31m             \u001b[0;32mreturn\u001b[0m \u001b[0mvisitor\u001b[0m\u001b[0;34m.\u001b[0m\u001b[0mvisit\u001b[0m\u001b[0;34m(\u001b[0m\u001b[0msource\u001b[0m\u001b[0;34m)\u001b[0m\u001b[0;34m\u001b[0m\u001b[0;34m\u001b[0m\u001b[0m\n\u001b[0m\u001b[1;32m    409\u001b[0m         \u001b[0;32mreturn\u001b[0m \u001b[0msource\u001b[0m\u001b[0;34m\u001b[0m\u001b[0;34m\u001b[0m\u001b[0m\n\u001b[1;32m    410\u001b[0m \u001b[0;34m\u001b[0m\u001b[0m\n",
      "\u001b[0;32m~/Documents/IBM/qiskit/qiskit-terra/qiskit/pulse/parameter_manager.py\u001b[0m in \u001b[0;36mvisit\u001b[0;34m(self, node)\u001b[0m\n\u001b[1;32m     90\u001b[0m         \u001b[0;34m\"\"\"Visit a node.\"\"\"\u001b[0m\u001b[0;34m\u001b[0m\u001b[0;34m\u001b[0m\u001b[0m\n\u001b[1;32m     91\u001b[0m         \u001b[0mvisitor\u001b[0m \u001b[0;34m=\u001b[0m \u001b[0mself\u001b[0m\u001b[0;34m.\u001b[0m\u001b[0m_get_visitor\u001b[0m\u001b[0;34m(\u001b[0m\u001b[0mtype\u001b[0m\u001b[0;34m(\u001b[0m\u001b[0mnode\u001b[0m\u001b[0;34m)\u001b[0m\u001b[0;34m)\u001b[0m\u001b[0;34m\u001b[0m\u001b[0;34m\u001b[0m\u001b[0m\n\u001b[0;32m---> 92\u001b[0;31m         \u001b[0;32mreturn\u001b[0m \u001b[0mvisitor\u001b[0m\u001b[0;34m(\u001b[0m\u001b[0mnode\u001b[0m\u001b[0;34m)\u001b[0m\u001b[0;34m\u001b[0m\u001b[0;34m\u001b[0m\u001b[0m\n\u001b[0m\u001b[1;32m     93\u001b[0m \u001b[0;34m\u001b[0m\u001b[0m\n\u001b[1;32m     94\u001b[0m     \u001b[0;32mdef\u001b[0m \u001b[0m_get_visitor\u001b[0m\u001b[0;34m(\u001b[0m\u001b[0mself\u001b[0m\u001b[0;34m,\u001b[0m \u001b[0mnode_class\u001b[0m\u001b[0;34m)\u001b[0m\u001b[0;34m:\u001b[0m\u001b[0;34m\u001b[0m\u001b[0;34m\u001b[0m\u001b[0m\n",
      "\u001b[0;32m~/Documents/IBM/qiskit/qiskit-terra/qiskit/pulse/parameter_manager.py\u001b[0m in \u001b[0;36mvisit_ScheduleBlock\u001b[0;34m(self, node)\u001b[0m\n\u001b[1;32m    137\u001b[0m         \"\"\"\n\u001b[1;32m    138\u001b[0m         \u001b[0;31m# accessing to protected member\u001b[0m\u001b[0;34m\u001b[0m\u001b[0;34m\u001b[0m\u001b[0;34m\u001b[0m\u001b[0m\n\u001b[0;32m--> 139\u001b[0;31m         \u001b[0mnode\u001b[0m\u001b[0;34m.\u001b[0m\u001b[0m_blocks\u001b[0m \u001b[0;34m=\u001b[0m \u001b[0;34m[\u001b[0m\u001b[0mself\u001b[0m\u001b[0;34m.\u001b[0m\u001b[0mvisit\u001b[0m\u001b[0;34m(\u001b[0m\u001b[0mblock\u001b[0m\u001b[0;34m)\u001b[0m \u001b[0;32mfor\u001b[0m \u001b[0mblock\u001b[0m \u001b[0;32min\u001b[0m \u001b[0mnode\u001b[0m\u001b[0;34m.\u001b[0m\u001b[0mblocks\u001b[0m\u001b[0;34m]\u001b[0m\u001b[0;34m\u001b[0m\u001b[0;34m\u001b[0m\u001b[0m\n\u001b[0m\u001b[1;32m    140\u001b[0m         \u001b[0mnode\u001b[0m\u001b[0;34m.\u001b[0m\u001b[0m_alignment_context\u001b[0m \u001b[0;34m=\u001b[0m \u001b[0mself\u001b[0m\u001b[0;34m.\u001b[0m\u001b[0mvisit_AlignmentKind\u001b[0m\u001b[0;34m(\u001b[0m\u001b[0mnode\u001b[0m\u001b[0;34m.\u001b[0m\u001b[0malignment_context\u001b[0m\u001b[0;34m)\u001b[0m\u001b[0;34m\u001b[0m\u001b[0;34m\u001b[0m\u001b[0m\n\u001b[1;32m    141\u001b[0m \u001b[0;34m\u001b[0m\u001b[0m\n",
      "\u001b[0;32m~/Documents/IBM/qiskit/qiskit-terra/qiskit/pulse/parameter_manager.py\u001b[0m in \u001b[0;36m<listcomp>\u001b[0;34m(.0)\u001b[0m\n\u001b[1;32m    137\u001b[0m         \"\"\"\n\u001b[1;32m    138\u001b[0m         \u001b[0;31m# accessing to protected member\u001b[0m\u001b[0;34m\u001b[0m\u001b[0;34m\u001b[0m\u001b[0;34m\u001b[0m\u001b[0m\n\u001b[0;32m--> 139\u001b[0;31m         \u001b[0mnode\u001b[0m\u001b[0;34m.\u001b[0m\u001b[0m_blocks\u001b[0m \u001b[0;34m=\u001b[0m \u001b[0;34m[\u001b[0m\u001b[0mself\u001b[0m\u001b[0;34m.\u001b[0m\u001b[0mvisit\u001b[0m\u001b[0;34m(\u001b[0m\u001b[0mblock\u001b[0m\u001b[0;34m)\u001b[0m \u001b[0;32mfor\u001b[0m \u001b[0mblock\u001b[0m \u001b[0;32min\u001b[0m \u001b[0mnode\u001b[0m\u001b[0;34m.\u001b[0m\u001b[0mblocks\u001b[0m\u001b[0;34m]\u001b[0m\u001b[0;34m\u001b[0m\u001b[0;34m\u001b[0m\u001b[0m\n\u001b[0m\u001b[1;32m    140\u001b[0m         \u001b[0mnode\u001b[0m\u001b[0;34m.\u001b[0m\u001b[0m_alignment_context\u001b[0m \u001b[0;34m=\u001b[0m \u001b[0mself\u001b[0m\u001b[0;34m.\u001b[0m\u001b[0mvisit_AlignmentKind\u001b[0m\u001b[0;34m(\u001b[0m\u001b[0mnode\u001b[0m\u001b[0;34m.\u001b[0m\u001b[0malignment_context\u001b[0m\u001b[0;34m)\u001b[0m\u001b[0;34m\u001b[0m\u001b[0;34m\u001b[0m\u001b[0m\n\u001b[1;32m    141\u001b[0m \u001b[0;34m\u001b[0m\u001b[0m\n",
      "\u001b[0;32m~/Documents/IBM/qiskit/qiskit-terra/qiskit/pulse/parameter_manager.py\u001b[0m in \u001b[0;36mvisit\u001b[0;34m(self, node)\u001b[0m\n\u001b[1;32m     90\u001b[0m         \u001b[0;34m\"\"\"Visit a node.\"\"\"\u001b[0m\u001b[0;34m\u001b[0m\u001b[0;34m\u001b[0m\u001b[0m\n\u001b[1;32m     91\u001b[0m         \u001b[0mvisitor\u001b[0m \u001b[0;34m=\u001b[0m \u001b[0mself\u001b[0m\u001b[0;34m.\u001b[0m\u001b[0m_get_visitor\u001b[0m\u001b[0;34m(\u001b[0m\u001b[0mtype\u001b[0m\u001b[0;34m(\u001b[0m\u001b[0mnode\u001b[0m\u001b[0;34m)\u001b[0m\u001b[0;34m)\u001b[0m\u001b[0;34m\u001b[0m\u001b[0;34m\u001b[0m\u001b[0m\n\u001b[0;32m---> 92\u001b[0;31m         \u001b[0;32mreturn\u001b[0m \u001b[0mvisitor\u001b[0m\u001b[0;34m(\u001b[0m\u001b[0mnode\u001b[0m\u001b[0;34m)\u001b[0m\u001b[0;34m\u001b[0m\u001b[0;34m\u001b[0m\u001b[0m\n\u001b[0m\u001b[1;32m     93\u001b[0m \u001b[0;34m\u001b[0m\u001b[0m\n\u001b[1;32m     94\u001b[0m     \u001b[0;32mdef\u001b[0m \u001b[0m_get_visitor\u001b[0m\u001b[0;34m(\u001b[0m\u001b[0mself\u001b[0m\u001b[0;34m,\u001b[0m \u001b[0mnode_class\u001b[0m\u001b[0;34m)\u001b[0m\u001b[0;34m:\u001b[0m\u001b[0;34m\u001b[0m\u001b[0;34m\u001b[0m\u001b[0m\n",
      "\u001b[0;32m~/Documents/IBM/qiskit/qiskit-terra/qiskit/pulse/parameter_manager.py\u001b[0m in \u001b[0;36mvisit_Instruction\u001b[0;34m(self, node)\u001b[0m\n\u001b[1;32m    187\u001b[0m         \"\"\"\n\u001b[1;32m    188\u001b[0m         \u001b[0;32mif\u001b[0m \u001b[0mnode\u001b[0m\u001b[0;34m.\u001b[0m\u001b[0mis_parameterized\u001b[0m\u001b[0;34m(\u001b[0m\u001b[0;34m)\u001b[0m\u001b[0;34m:\u001b[0m\u001b[0;34m\u001b[0m\u001b[0;34m\u001b[0m\u001b[0m\n\u001b[0;32m--> 189\u001b[0;31m             \u001b[0mnode\u001b[0m\u001b[0;34m.\u001b[0m\u001b[0m_operands\u001b[0m \u001b[0;34m=\u001b[0m \u001b[0mtuple\u001b[0m\u001b[0;34m(\u001b[0m\u001b[0mself\u001b[0m\u001b[0;34m.\u001b[0m\u001b[0mvisit\u001b[0m\u001b[0;34m(\u001b[0m\u001b[0mop\u001b[0m\u001b[0;34m)\u001b[0m \u001b[0;32mfor\u001b[0m \u001b[0mop\u001b[0m \u001b[0;32min\u001b[0m \u001b[0mnode\u001b[0m\u001b[0;34m.\u001b[0m\u001b[0moperands\u001b[0m\u001b[0;34m)\u001b[0m\u001b[0;34m\u001b[0m\u001b[0;34m\u001b[0m\u001b[0m\n\u001b[0m\u001b[1;32m    190\u001b[0m \u001b[0;34m\u001b[0m\u001b[0m\n\u001b[1;32m    191\u001b[0m         \u001b[0;32mreturn\u001b[0m \u001b[0mnode\u001b[0m\u001b[0;34m\u001b[0m\u001b[0;34m\u001b[0m\u001b[0m\n",
      "\u001b[0;32m~/Documents/IBM/qiskit/qiskit-terra/qiskit/pulse/parameter_manager.py\u001b[0m in \u001b[0;36m<genexpr>\u001b[0;34m(.0)\u001b[0m\n\u001b[1;32m    187\u001b[0m         \"\"\"\n\u001b[1;32m    188\u001b[0m         \u001b[0;32mif\u001b[0m \u001b[0mnode\u001b[0m\u001b[0;34m.\u001b[0m\u001b[0mis_parameterized\u001b[0m\u001b[0;34m(\u001b[0m\u001b[0;34m)\u001b[0m\u001b[0;34m:\u001b[0m\u001b[0;34m\u001b[0m\u001b[0;34m\u001b[0m\u001b[0m\n\u001b[0;32m--> 189\u001b[0;31m             \u001b[0mnode\u001b[0m\u001b[0;34m.\u001b[0m\u001b[0m_operands\u001b[0m \u001b[0;34m=\u001b[0m \u001b[0mtuple\u001b[0m\u001b[0;34m(\u001b[0m\u001b[0mself\u001b[0m\u001b[0;34m.\u001b[0m\u001b[0mvisit\u001b[0m\u001b[0;34m(\u001b[0m\u001b[0mop\u001b[0m\u001b[0;34m)\u001b[0m \u001b[0;32mfor\u001b[0m \u001b[0mop\u001b[0m \u001b[0;32min\u001b[0m \u001b[0mnode\u001b[0m\u001b[0;34m.\u001b[0m\u001b[0moperands\u001b[0m\u001b[0;34m)\u001b[0m\u001b[0;34m\u001b[0m\u001b[0;34m\u001b[0m\u001b[0m\n\u001b[0m\u001b[1;32m    190\u001b[0m \u001b[0;34m\u001b[0m\u001b[0m\n\u001b[1;32m    191\u001b[0m         \u001b[0;32mreturn\u001b[0m \u001b[0mnode\u001b[0m\u001b[0;34m\u001b[0m\u001b[0;34m\u001b[0m\u001b[0m\n",
      "\u001b[0;32m~/Documents/IBM/qiskit/qiskit-terra/qiskit/pulse/parameter_manager.py\u001b[0m in \u001b[0;36mvisit\u001b[0;34m(self, node)\u001b[0m\n\u001b[1;32m     90\u001b[0m         \u001b[0;34m\"\"\"Visit a node.\"\"\"\u001b[0m\u001b[0;34m\u001b[0m\u001b[0;34m\u001b[0m\u001b[0m\n\u001b[1;32m     91\u001b[0m         \u001b[0mvisitor\u001b[0m \u001b[0;34m=\u001b[0m \u001b[0mself\u001b[0m\u001b[0;34m.\u001b[0m\u001b[0m_get_visitor\u001b[0m\u001b[0;34m(\u001b[0m\u001b[0mtype\u001b[0m\u001b[0;34m(\u001b[0m\u001b[0mnode\u001b[0m\u001b[0;34m)\u001b[0m\u001b[0;34m)\u001b[0m\u001b[0;34m\u001b[0m\u001b[0;34m\u001b[0m\u001b[0m\n\u001b[0;32m---> 92\u001b[0;31m         \u001b[0;32mreturn\u001b[0m \u001b[0mvisitor\u001b[0m\u001b[0;34m(\u001b[0m\u001b[0mnode\u001b[0m\u001b[0;34m)\u001b[0m\u001b[0;34m\u001b[0m\u001b[0;34m\u001b[0m\u001b[0m\n\u001b[0m\u001b[1;32m     93\u001b[0m \u001b[0;34m\u001b[0m\u001b[0m\n\u001b[1;32m     94\u001b[0m     \u001b[0;32mdef\u001b[0m \u001b[0m_get_visitor\u001b[0m\u001b[0;34m(\u001b[0m\u001b[0mself\u001b[0m\u001b[0;34m,\u001b[0m \u001b[0mnode_class\u001b[0m\u001b[0;34m)\u001b[0m\u001b[0;34m:\u001b[0m\u001b[0;34m\u001b[0m\u001b[0;34m\u001b[0m\u001b[0m\n",
      "\u001b[0;32m~/Documents/IBM/qiskit/qiskit-terra/qiskit/pulse/parameter_manager.py\u001b[0m in \u001b[0;36mvisit_ParametricPulse\u001b[0;34m(self, node)\u001b[0m\n\u001b[1;32m    217\u001b[0m                 \u001b[0mnew_parameters\u001b[0m\u001b[0;34m[\u001b[0m\u001b[0mop\u001b[0m\u001b[0;34m]\u001b[0m \u001b[0;34m=\u001b[0m \u001b[0mop_value\u001b[0m\u001b[0;34m\u001b[0m\u001b[0;34m\u001b[0m\u001b[0m\n\u001b[1;32m    218\u001b[0m \u001b[0;34m\u001b[0m\u001b[0m\n\u001b[0;32m--> 219\u001b[0;31m             \u001b[0;32mreturn\u001b[0m \u001b[0mnode\u001b[0m\u001b[0;34m.\u001b[0m\u001b[0m__class__\u001b[0m\u001b[0;34m(\u001b[0m\u001b[0;34m**\u001b[0m\u001b[0mnew_parameters\u001b[0m\u001b[0;34m,\u001b[0m \u001b[0mname\u001b[0m\u001b[0;34m=\u001b[0m\u001b[0mnode\u001b[0m\u001b[0;34m.\u001b[0m\u001b[0mname\u001b[0m\u001b[0;34m)\u001b[0m\u001b[0;34m\u001b[0m\u001b[0;34m\u001b[0m\u001b[0m\n\u001b[0m\u001b[1;32m    220\u001b[0m \u001b[0;34m\u001b[0m\u001b[0m\n\u001b[1;32m    221\u001b[0m         \u001b[0;32mreturn\u001b[0m \u001b[0mnode\u001b[0m\u001b[0;34m\u001b[0m\u001b[0;34m\u001b[0m\u001b[0m\n",
      "\u001b[0;32m~/Documents/IBM/qiskit/qiskit-terra/qiskit/pulse/library/parametric_pulses.py\u001b[0m in \u001b[0;36m__init__\u001b[0;34m(self, duration, amp, sigma, beta, name, limit_amplitude)\u001b[0m\n\u001b[1;32m    418\u001b[0m         \u001b[0mself\u001b[0m\u001b[0;34m.\u001b[0m\u001b[0m_sigma\u001b[0m \u001b[0;34m=\u001b[0m \u001b[0msigma\u001b[0m\u001b[0;34m\u001b[0m\u001b[0;34m\u001b[0m\u001b[0m\n\u001b[1;32m    419\u001b[0m         \u001b[0mself\u001b[0m\u001b[0;34m.\u001b[0m\u001b[0m_beta\u001b[0m \u001b[0;34m=\u001b[0m \u001b[0mbeta\u001b[0m\u001b[0;34m\u001b[0m\u001b[0;34m\u001b[0m\u001b[0m\n\u001b[0;32m--> 420\u001b[0;31m         \u001b[0msuper\u001b[0m\u001b[0;34m(\u001b[0m\u001b[0;34m)\u001b[0m\u001b[0;34m.\u001b[0m\u001b[0m__init__\u001b[0m\u001b[0;34m(\u001b[0m\u001b[0mduration\u001b[0m\u001b[0;34m=\u001b[0m\u001b[0mduration\u001b[0m\u001b[0;34m,\u001b[0m \u001b[0mname\u001b[0m\u001b[0;34m=\u001b[0m\u001b[0mname\u001b[0m\u001b[0;34m,\u001b[0m \u001b[0mlimit_amplitude\u001b[0m\u001b[0;34m=\u001b[0m\u001b[0mlimit_amplitude\u001b[0m\u001b[0;34m)\u001b[0m\u001b[0;34m\u001b[0m\u001b[0;34m\u001b[0m\u001b[0m\n\u001b[0m\u001b[1;32m    421\u001b[0m \u001b[0;34m\u001b[0m\u001b[0m\n\u001b[1;32m    422\u001b[0m     \u001b[0;34m@\u001b[0m\u001b[0mproperty\u001b[0m\u001b[0;34m\u001b[0m\u001b[0;34m\u001b[0m\u001b[0m\n",
      "\u001b[0;32m~/Documents/IBM/qiskit/qiskit-terra/qiskit/pulse/library/parametric_pulses.py\u001b[0m in \u001b[0;36m__init__\u001b[0;34m(self, duration, name, limit_amplitude)\u001b[0m\n\u001b[1;32m     72\u001b[0m         \"\"\"\n\u001b[1;32m     73\u001b[0m         \u001b[0msuper\u001b[0m\u001b[0;34m(\u001b[0m\u001b[0;34m)\u001b[0m\u001b[0;34m.\u001b[0m\u001b[0m__init__\u001b[0m\u001b[0;34m(\u001b[0m\u001b[0mduration\u001b[0m\u001b[0;34m=\u001b[0m\u001b[0mduration\u001b[0m\u001b[0;34m,\u001b[0m \u001b[0mname\u001b[0m\u001b[0;34m=\u001b[0m\u001b[0mname\u001b[0m\u001b[0;34m,\u001b[0m \u001b[0mlimit_amplitude\u001b[0m\u001b[0;34m=\u001b[0m\u001b[0mlimit_amplitude\u001b[0m\u001b[0;34m)\u001b[0m\u001b[0;34m\u001b[0m\u001b[0;34m\u001b[0m\u001b[0m\n\u001b[0;32m---> 74\u001b[0;31m         \u001b[0mself\u001b[0m\u001b[0;34m.\u001b[0m\u001b[0mvalidate_parameters\u001b[0m\u001b[0;34m(\u001b[0m\u001b[0;34m)\u001b[0m\u001b[0;34m\u001b[0m\u001b[0;34m\u001b[0m\u001b[0m\n\u001b[0m\u001b[1;32m     75\u001b[0m \u001b[0;34m\u001b[0m\u001b[0m\n\u001b[1;32m     76\u001b[0m     \u001b[0;34m@\u001b[0m\u001b[0mabstractmethod\u001b[0m\u001b[0;34m\u001b[0m\u001b[0;34m\u001b[0m\u001b[0m\n",
      "\u001b[0;32m~/Documents/IBM/qiskit/qiskit-terra/qiskit/pulse/library/parametric_pulses.py\u001b[0m in \u001b[0;36mvalidate_parameters\u001b[0;34m(self)\u001b[0m\n\u001b[1;32m    442\u001b[0m     \u001b[0;32mdef\u001b[0m \u001b[0mvalidate_parameters\u001b[0m\u001b[0;34m(\u001b[0m\u001b[0mself\u001b[0m\u001b[0;34m)\u001b[0m \u001b[0;34m->\u001b[0m \u001b[0;32mNone\u001b[0m\u001b[0;34m:\u001b[0m\u001b[0;34m\u001b[0m\u001b[0;34m\u001b[0m\u001b[0m\n\u001b[1;32m    443\u001b[0m         \u001b[0;32mif\u001b[0m \u001b[0;32mnot\u001b[0m \u001b[0m_is_parameterized\u001b[0m\u001b[0;34m(\u001b[0m\u001b[0mself\u001b[0m\u001b[0;34m.\u001b[0m\u001b[0mamp\u001b[0m\u001b[0;34m)\u001b[0m \u001b[0;32mand\u001b[0m \u001b[0mabs\u001b[0m\u001b[0;34m(\u001b[0m\u001b[0mself\u001b[0m\u001b[0;34m.\u001b[0m\u001b[0mamp\u001b[0m\u001b[0;34m)\u001b[0m \u001b[0;34m>\u001b[0m \u001b[0;36m1.0\u001b[0m \u001b[0;32mand\u001b[0m \u001b[0mself\u001b[0m\u001b[0;34m.\u001b[0m\u001b[0mlimit_amplitude\u001b[0m\u001b[0;34m:\u001b[0m\u001b[0;34m\u001b[0m\u001b[0;34m\u001b[0m\u001b[0m\n\u001b[0;32m--> 444\u001b[0;31m             raise PulseError(\n\u001b[0m\u001b[1;32m    445\u001b[0m                 \u001b[0;34mf\"The amplitude norm must be <= 1, found: {abs(self.amp)}\"\u001b[0m\u001b[0;34m\u001b[0m\u001b[0;34m\u001b[0m\u001b[0m\n\u001b[1;32m    446\u001b[0m                 \u001b[0;34m+\u001b[0m \u001b[0;34m\"This can be overruled by setting Pulse.limit_amplitude.\"\u001b[0m\u001b[0;34m\u001b[0m\u001b[0;34m\u001b[0m\u001b[0m\n",
      "\u001b[0;31mPulseError\u001b[0m: 'The amplitude norm must be <= 1, found: 37.1316214105175This can be overruled by setting Pulse.limit_amplitude.'"
     ]
    }
   ],
   "source": [
    "cals.get_schedule(\"sx\", qubit)"
   ]
  },
  {
   "cell_type": "code",
   "execution_count": null,
   "id": "f45f6482",
   "metadata": {},
   "outputs": [],
   "source": [
    "cals.get_schedule(\"x\", qubit)"
   ]
  },
  {
   "cell_type": "code",
   "execution_count": null,
   "id": "68f6e469",
   "metadata": {},
   "outputs": [],
   "source": [
    "cals.get_schedule(\"y\", qubit)"
   ]
  },
  {
   "cell_type": "code",
   "execution_count": null,
   "id": "8c8369d4",
   "metadata": {},
   "outputs": [],
   "source": [
    "import qiskit.tools.jupyter\n",
    "%qiskit_copyright"
   ]
  },
  {
   "cell_type": "code",
   "execution_count": null,
   "id": "1ef7ec55",
   "metadata": {},
   "outputs": [],
   "source": []
  }
 ],
 "metadata": {
  "kernelspec": {
   "display_name": "Python 3 (ipykernel)",
   "language": "python",
   "name": "python3"
  },
  "language_info": {
   "codemirror_mode": {
    "name": "ipython",
    "version": 3
   },
   "file_extension": ".py",
   "mimetype": "text/x-python",
   "name": "python",
   "nbconvert_exporter": "python",
   "pygments_lexer": "ipython3",
   "version": "3.8.5"
  }
 },
 "nbformat": 4,
 "nbformat_minor": 5
}
