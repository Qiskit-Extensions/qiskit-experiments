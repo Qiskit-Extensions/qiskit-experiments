{
 "cells": [
  {
   "cell_type": "markdown",
   "metadata": {},
   "source": [
    "# Quantum State Tomography"
   ]
  },
  {
   "cell_type": "code",
   "execution_count": 1,
   "metadata": {},
   "outputs": [],
   "source": [
    "import qiskit\n",
    "import qiskit_experiments as qe\n",
    "tomo = qe.tomography\n",
    "\n",
    "# For simulation\n",
    "from qiskit.providers.aer import AerSimulator\n",
    "from qiskit.test.mock import FakeParis\n",
    "\n",
    "# Noisy simulator backend\n",
    "backend = AerSimulator.from_backend(FakeParis())"
   ]
  },
  {
   "cell_type": "markdown",
   "metadata": {},
   "source": [
    "## State Tomography Experiment\n",
    "\n",
    "To run a state tomography experiment we initialize the experiment with a circuit to prepare the state to be measured. We can also pass in an `Operator`, or a `Statevector` to describe the preparation circuit."
   ]
  },
  {
   "cell_type": "code",
   "execution_count": 2,
   "metadata": {},
   "outputs": [
    {
     "name": "stdout",
     "output_type": "stream",
     "text": [
      "FIT RESULT\n",
      "state: DensityMatrix([[ 0.49283854+0.00000000e+00j, -0.00195313-2.37630208e-02j,\n",
      "                -0.00406901-5.04557292e-03j, -0.00097656-4.53125000e-01j],\n",
      "               [-0.00195313+2.37630208e-02j,  0.02148438+4.33680869e-19j,\n",
      "                 0.00878906-2.92968750e-03j,  0.02132161-6.02213542e-03j],\n",
      "               [-0.00406901+5.04557292e-03j,  0.00878906+2.92968750e-03j,\n",
      "                 0.03710938+1.73472348e-18j,  0.01367187-1.00911458e-02j],\n",
      "               [-0.00097656+4.53125000e-01j,  0.02132161+6.02213542e-03j,\n",
      "                 0.01367187+1.00911458e-02j,  0.44856771+0.00000000e+00j]],\n",
      "              dims=(2, 2))\n",
      "fitter: linear_inversion\n",
      "fitter_time: 0.0024261474609375\n",
      "state_eigvals: [0.92572447 0.046586   0.01704463 0.0106449 ]\n",
      "raw_eigvals: [0.92572447 0.046586   0.01704463 0.0106449 ]\n",
      "value: 0.9238281249999996\n",
      "value_label: state_fidelity\n",
      "success: True\n"
     ]
    }
   ],
   "source": [
    "# Run experiments\n",
    "\n",
    "# GHZ State preparation circuit\n",
    "nq = 2\n",
    "qc_ghz = qiskit.QuantumCircuit(nq)\n",
    "qc_ghz.h(0)\n",
    "qc_ghz.s(0)\n",
    "for i in range(1, nq):\n",
    "    qc_ghz.cx(0, i)\n",
    "\n",
    "# QST Experiment\n",
    "qstexp1 = tomo.StateTomographyExperiment(qc_ghz)\n",
    "qstdata1 = qstexp1.run(backend)\n",
    "qstresult1 = qstdata1.analysis_result(-1)\n",
    "\n",
    "print('FIT RESULT')\n",
    "for key, val in qstresult1.items():\n",
    "    print(f'{key}:', val)"
   ]
  },
  {
   "cell_type": "markdown",
   "metadata": {},
   "source": [
    "## Tomography Fitters\n",
    "\n",
    "The default fitters is `linear_inversion`, which reconstructs the state using *dual basis* of the tomography basis. This will typically result in a non-postive reconstructed state. This state is rescaled to be postive-semidfinite (PSD) by computing its eigen-decomposition and rescaling its eigenvalues using the approach from *J Smolin, JM Gambetta, G Smith, Phys. Rev. Lett. 108, 070502 (2012), [open access](https://arxiv.org/abs/arXiv:1106.5458).\n",
    "\n",
    "There are several other fitters are included (See API documentation for details). For example if `cvxpy` is installed we can use the `cvxpy_gaussian_lstsq` fitter which allows constraining the fit to be PSD without requiring rescaling."
   ]
  },
  {
   "cell_type": "code",
   "execution_count": 7,
   "metadata": {},
   "outputs": [
    {
     "name": "stdout",
     "output_type": "stream",
     "text": [
      "FIT RESULT\n",
      "state: DensityMatrix([[ 0.49283837+0.00000000e+00j, -0.001953  -2.37630069e-02j,\n",
      "                -0.00406892-5.04570013e-03j, -0.00097657-4.53124212e-01j],\n",
      "               [-0.001953  +2.37630069e-02j,  0.02148456-4.33680869e-19j,\n",
      "                 0.00878896-2.92970733e-03j,  0.02132159-6.02200603e-03j],\n",
      "               [-0.00406892+5.04570013e-03j,  0.00878896+2.92970733e-03j,\n",
      "                 0.03710949-1.73472348e-18j,  0.01367174-1.00910654e-02j],\n",
      "               [-0.00097657+4.53124212e-01j,  0.02132159+6.02200603e-03j,\n",
      "                 0.01367174+1.00910654e-02j,  0.44856757+0.00000000e+00j]],\n",
      "              dims=(2, 2))\n",
      "cvxpy_solver: CVXOPT\n",
      "cvxpy_status: optimal\n",
      "fitter: cvxpy_linear_lstsq\n",
      "fitter_time: 0.059506893157958984\n",
      "state_eigvals: [0.92572353 0.04658598 0.01704486 0.01064563]\n",
      "raw_eigvals: [0.92572364 0.04658598 0.01704486 0.01064564]\n",
      "value: 0.9238271848631854\n",
      "value_label: state_fidelity\n",
      "success: True\n"
     ]
    }
   ],
   "source": [
    "qstexp1.run_analysis(qstdata1, fitter='cvxpy_linear_lstsq')\n",
    "qstresult2 = qstdata1.analysis_result(-1)\n",
    "\n",
    "print('FIT RESULT')\n",
    "for key, val in qstresult2.items():\n",
    "    print(f'{key}:', val)"
   ]
  },
  {
   "cell_type": "markdown",
   "metadata": {},
   "source": [
    "## Parallel Tomography Experiment\n",
    "\n",
    "We can also use the `qiskit_experiments.ParallelExperiment` class to run subsystem tomography on multiple qubits in parallel.\n",
    "\n",
    "For example if we want to perform 1-qubit QST on several qubits at once:"
   ]
  },
  {
   "cell_type": "code",
   "execution_count": 8,
   "metadata": {},
   "outputs": [
    {
     "name": "stdout",
     "output_type": "stream",
     "text": [
      "{'experiment_types': ['StateTomographyExperiment', 'StateTomographyExperiment', 'StateTomographyExperiment', 'StateTomographyExperiment', 'StateTomographyExperiment'], 'experiment_ids': ['fc504aa5-63f7-4913-b98c-bdb6e25b2050', 'db773ced-43bf-47e2-b43a-051340fccede', '6a9aa414-6c35-4d0e-bf3a-cc8edccff18e', '5a471760-905e-4512-982e-5d7dd02651e4', '3536a471-d3da-48f2-9578-20d2d4969ae4'], 'experiment_qubits': [(0,), (1,), (2,), (3,), (4,)], 'success': True}\n"
     ]
    }
   ],
   "source": [
    "from math import pi\n",
    "num_qubits = 5\n",
    "gates = [qiskit.circuit.library.RXGate(i * pi / (num_qubits - 1))\n",
    "         for i in range(num_qubits)]\n",
    "\n",
    "subexps = [\n",
    "    tomo.StateTomographyExperiment(gate, qubits=[i])\n",
    "    for i, gate in enumerate(gates)\n",
    "]\n",
    "parexp = qe.composite.ParallelExperiment(subexps)\n",
    "pardata = parexp.run(backend)\n",
    "print(pardata.analysis_result(-1))"
   ]
  },
  {
   "cell_type": "markdown",
   "metadata": {},
   "source": [
    "View component experiment analysis results"
   ]
  },
  {
   "cell_type": "code",
   "execution_count": 5,
   "metadata": {},
   "outputs": [
    {
     "name": "stdout",
     "output_type": "stream",
     "text": [
      "\n",
      "PARALLEL EXP 0: FIT RESULT\n",
      "state: DensityMatrix([[0.984375  +0.j        , 0.02441406-0.01757812j],\n",
      "               [0.02441406+0.01757812j, 0.015625  +0.j        ]],\n",
      "              dims=(2,))\n",
      "fitter: linear_inversion\n",
      "fitter_time: 0.0002219676971435547\n",
      "state_eigvals: [0.98530833 0.01469167]\n",
      "raw_eigvals: [0.98530833 0.01469167]\n",
      "value: 0.9843749999999999\n",
      "value_label: state_fidelity\n",
      "success: True\n",
      "\n",
      "PARALLEL EXP 1: FIT RESULT\n",
      "state: DensityMatrix([[0.85253906+0.00000000e+00j, 0.01757812+3.35937500e-01j],\n",
      "               [0.01757812-3.35937500e-01j, 0.14746094-8.67361738e-19j]],\n",
      "              dims=(2,))\n",
      "fitter: linear_inversion\n",
      "fitter_time: 0.00011014938354492188\n",
      "state_eigvals: [0.98728512 0.01271488]\n",
      "raw_eigvals: [0.98728512 0.01271488]\n",
      "value: 0.9868264460317541\n",
      "value_label: state_fidelity\n",
      "success: True\n",
      "\n",
      "PARALLEL EXP 2: FIT RESULT\n",
      "state: DensityMatrix([[0.48535156+0.j        , 0.00976562+0.47070312j],\n",
      "               [0.00976562-0.47070312j, 0.51464844+0.j        ]],\n",
      "              dims=(2,))\n",
      "fitter: linear_inversion\n",
      "fitter_time: 0.00012087821960449219\n",
      "state_eigvals: [0.97103225 0.02896775]\n",
      "raw_eigvals: [0.97103225 0.02896775]\n",
      "value: 0.970703125\n",
      "value_label: state_fidelity\n",
      "success: True\n",
      "\n",
      "PARALLEL EXP 3: FIT RESULT\n",
      "state: DensityMatrix([[ 0.17578125+0.j        , -0.015625  +0.33007813j],\n",
      "               [-0.015625  -0.33007813j,  0.82421875+0.j        ]],\n",
      "              dims=(2,))\n",
      "fitter: linear_inversion\n",
      "fitter_time: 0.0001506805419921875\n",
      "state_eigvals: [0.96294007 0.03705993]\n",
      "raw_eigvals: [0.96294007 0.03705993]\n",
      "value: 0.962657757221667\n",
      "value_label: state_fidelity\n",
      "success: True\n",
      "\n",
      "PARALLEL EXP 4: FIT RESULT\n",
      "state: DensityMatrix([[ 0.03320313+0.j        , -0.00878906-0.02441406j],\n",
      "               [-0.00878906+0.02441406j,  0.96679688+0.j        ]],\n",
      "              dims=(2,))\n",
      "fitter: linear_inversion\n",
      "fitter_time: 0.00010991096496582031\n",
      "state_eigvals: [0.9675175 0.0324825]\n",
      "raw_eigvals: [0.9675175 0.0324825]\n",
      "value: 0.9667968750000001\n",
      "value_label: state_fidelity\n",
      "success: True\n"
     ]
    }
   ],
   "source": [
    "for i in range(parexp.num_experiments):\n",
    "    expdata = pardata.component_experiment_data(i)\n",
    "    result = expdata.analysis_result(-1)\n",
    "    \n",
    "    print(f'\\nPARALLEL EXP {i}: FIT RESULT')\n",
    "    for key, val in result.items():\n",
    "        print(f'{key}:', val)"
   ]
  }
 ],
 "metadata": {
  "kernelspec": {
   "display_name": "Python [conda env:qiskit-dev]",
   "language": "python",
   "name": "conda-env-qiskit-dev-py"
  },
  "language_info": {
   "codemirror_mode": {
    "name": "ipython",
    "version": 3
   },
   "file_extension": ".py",
   "mimetype": "text/x-python",
   "name": "python",
   "nbconvert_exporter": "python",
   "pygments_lexer": "ipython3",
   "version": "3.7.7"
  }
 },
 "nbformat": 4,
 "nbformat_minor": 4
}
