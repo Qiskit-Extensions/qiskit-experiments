{
 "cells": [
  {
   "cell_type": "markdown",
   "metadata": {},
   "source": [
    "# T<sub>2</sub> Hahn Characterization And CPMG"
   ]
  },
  {
   "cell_type": "markdown",
   "metadata": {},
   "source": [
    "The purpose of the $T_2$ Hahn Echo experiment is to determine $T_2$ qubit property. \n",
    "\n",
    "In this experiment, we would like to get a more precise estimate of the qubit's decay time. $T_2$ represents the amount of time required for a single qubit Bloch vector projection on the XY plane, to fall to approximately 37% ($\\frac{1}{e}$) of its initial amplitude.<br>\n",
    "In Ramsey Experiemnt we were introduced to the term <I>detuning frequency</I>. Hahn Echo expriemnt and CPMG sequence are experiments to estimate $T_2$ which are robust to the <I>detuning frequency</I>.\n",
    "The decay in amplitude causes the probability function to take the following form:<br>\n",
    "$$f(t) = a \\cdot e^{-\\frac{t}{T_2}}+ b$$\n",
    "The diffrence between Hahn Echo and CPMG sequence is that in Hahn Echo experiment, there is only one echo sequences while in CPMG there are multiple echo sequences."
   ]
  },
  {
   "cell_type": "markdown",
   "metadata": {},
   "source": [
    "## 1. Deohernce Time\n",
    "Decohernce time is the time that takes for the system to lose it's quantum properties and return to the classical physics regime.\n",
    "\n",
    "Since the qubit is exposed to other types of noise (like $T_1$), we are using a $Rx(\\pi)$ pulses for decoupling and to solve our inaccuracy for the qubit frequency estimation."
   ]
  },
  {
   "cell_type": "code",
   "execution_count": null,
   "metadata": {
    "scrolled": true
   },
   "outputs": [],
   "source": [
    "import qiskit\n",
    "from qiskit_experiments.library.characterization.t2hahn import T2Hahn"
   ]
  },
  {
   "cell_type": "markdown",
   "metadata": {},
   "source": [
    "The circuit used for an experiment with $N$ echoes comprises the following components:\n",
    "\n",
    "&emsp; 1.$Rx(\\frac{\\pi}{2})$ gate <br>\n",
    "&emsp; 2. $N$ times Echo sequence : <br>\n",
    "&emsp; &emsp; (a) $Delay(t_{0})$ gate <br>\n",
    "&emsp; &emsp; (b) $Rx(\\pi)$ <br>\n",
    "&emsp; &emsp; (c) $Delay(t_{0})$ gate <br>\n",
    "&emsp; 3. $Rx(\\pm \\frac{\\pi}{2})$ gate (sign depends on the number of echoes) <br>\n",
    "&emsp; 4. Measurement gate\n",
    "\n",
    "The user provides as input a series of delays in seconds. During the delay, we expect the qubit to precess about the z-axis. Because of the echo gate ($Rx(\\pi)$) for each echo, the angle after the delay gates will be $\\theta_{new} = \\theta_{old} + \\pi$. After waiting the same delay time, the angle will be approximately $0$ or $\\pi$. By varying the extension of the delays, we get a series of decaying measurements. We can draw the graph of the resulting function and can analytically extract the desired values."
   ]
  },
  {
   "cell_type": "code",
   "execution_count": null,
   "metadata": {},
   "outputs": [],
   "source": [
    "qubit = 0\n",
    "conversion_factor = 1e-6 # our delay will be in micro-sec\n",
    "delays = list(range(1, 50, 1) )\n",
    "delays = [float(_) * conversion_factor for _ in delays]\n",
    "number_of_echoes = 1\n",
    "\n",
    "# Create a T2Hahn experiment. Print the first circuit as an example\n",
    "exp1 = T2Hahn(qubit=qubit, delays=delays, num_echoes=number_of_echoes)\n",
    "print(exp1.circuits()[0])"
   ]
  },
  {
   "cell_type": "markdown",
   "metadata": {},
   "source": [
    "We run the experiment on a simple, simulated backend, created specifically for this experiment's tutorial."
   ]
  },
  {
   "cell_type": "code",
   "execution_count": null,
   "metadata": {},
   "outputs": [],
   "source": [
    "from qiskit_experiments.test.t2hahn_backend import T2HahnBackend\n",
    "\n",
    "estimated_t2hahn = 20 * conversion_factor\n",
    "# The behavior of the backend is determined by the following parameters\n",
    "backend = T2HahnBackend(\n",
    "    t2hahn=[estimated_t2hahn],\n",
    "    frequency=[100100],\n",
    "    initialization_error=[0.0],\n",
    "    readout0to1=[0.02],\n",
    "    readout1to0=[0.02],\n",
    ")"
   ]
  },
  {
   "cell_type": "markdown",
   "metadata": {},
   "source": [
    "The resulting graph will have the form:\n",
    "$f(t) = a \\cdot e^{-\\frac{t}{T_2}}+ b$\n",
    "where *t* is the delay and $T_2$ is the decay factor."
   ]
  },
  {
   "cell_type": "code",
   "execution_count": null,
   "metadata": {
    "scrolled": true
   },
   "outputs": [],
   "source": [
    "exp1.analysis.set_options(p0=None, plot=True)\n",
    "expdata1 = exp1.run(backend=backend, shots=2000)\n",
    "expdata1.block_for_results()  # Wait for job/analysis to finish.\n",
    "\n",
    "# Display the figure\n",
    "display(expdata1.figure(0))"
   ]
  },
  {
   "cell_type": "code",
   "execution_count": null,
   "metadata": {},
   "outputs": [],
   "source": [
    "# Print results\n",
    "for result in expdata1.analysis_results():\n",
    "    print(result)"
   ]
  },
  {
   "cell_type": "markdown",
   "metadata": {},
   "source": [
    "### 2. Providing initial user estimates\n",
    "The user can provide initial estimates for the parameters to help the analysis process. Because the curve is expected to decay toward $0.5$, the natural choice for parameter $B$ is $0.5$. When there is no $T_2$ error, we would expect that the probability to measure `1` is $100\\%$, therefore we will guess that A is $0.5$. In this experiment, `t2hahn` is the parameter of interest. Good estimate for it is the value computed in previous experiments on this qubit or a similar value computed for other qubits."
   ]
  },
  {
   "cell_type": "code",
   "execution_count": null,
   "metadata": {},
   "outputs": [],
   "source": [
    "exp_with_p0 = T2Hahn(qubit=qubit, delays=delays, num_echoes=number_of_echoes)\n",
    "exp_with_p0.analysis.set_options(p0={\"amp\": 0.5, \"tau\": estimated_t2hahn, \"base\": 0.5})\n",
    "expdata_with_p0 = exp_with_p0.run(backend=backend, shots=2000)\n",
    "expdata_with_p0.block_for_results()\n",
    "\n",
    "# Display fit figure\n",
    "display(expdata_with_p0.figure(0))"
   ]
  },
  {
   "cell_type": "code",
   "execution_count": null,
   "metadata": {},
   "outputs": [],
   "source": [
    "# Print results\n",
    "for result in expdata_with_p0.analysis_results():\n",
    "    print(result)"
   ]
  },
  {
   "cell_type": "markdown",
   "metadata": {},
   "source": [
    "### 3. Number of echoes\n",
    "The user can provide the number of echoes that the circuit will perform. This will determine the amount of delay and echo gates. As the number of echoes increases, the total time of the circuit will grow. The echoes decrease the effects of $T_{1}$ noise and frequency inaccuracy estimation. Due to that, the Hahn Echo experiment improves our estimate for $T_{2}$. In the following code, we will compare results of the Hahn experiment with `0` echoes and `4` echoes. In addition, we will add frequency to the qubit and see how the result changes due to that (We can see Rabi Oscillations in the `0` echoes case).\n",
    "Note, that the provided delay time is the for each delay in the circuit and not the total time."
   ]
  },
  {
   "cell_type": "code",
   "execution_count": null,
   "metadata": {},
   "outputs": [],
   "source": [
    "import numpy as np\n",
    "\n",
    "qubit2 = 0\n",
    "# set the desired delays\n",
    "conversion_factor = 1e-6\n",
    "\n",
    "# The delays aren't equally spaced due the behavior of exponential decay curve where the change in the result\n",
    "# in earlier times is larger than later times. In addition, since the total delay is 'delay * 2 * num_of_echoes',\n",
    "# the construction of the delays for each experiment will be different, such that their total length will be the same.\n",
    "\n",
    "# Delays for Hahn Echo Experiment with 0 echoes\n",
    "delays2 = np.append(\n",
    "                    (np.linspace(0.0, 51.0, num=26)).astype(float),\n",
    "                    (np.linspace(53, 100.0, num=25)).astype(float),\n",
    "                )\n",
    "\n",
    "delays2 = [float(_) * conversion_factor for _ in delays2]\n",
    "\n",
    "# Delays for Hahn Echo Experiment with 4 echoes\n",
    "delays3 = np.append(\n",
    "                    (np.linspace(0.0, 6.375, num=26)).astype(float),\n",
    "                    (np.linspace(6.625, 12.5, num=25)).astype(float),\n",
    "                )\n",
    "delays3 = [float(_) * conversion_factor for _ in delays3]\n",
    "\n",
    "num_echoes = 4\n",
    "estimated_t2hahn2 = 20 * conversion_factor\n",
    "\n",
    "# Create a T2Hahn experiment with 0 echoes\n",
    "exp2_0echoes = T2Hahn(qubit2, delays2, num_echoes=0)\n",
    "exp2_0echoes.analysis.set_options(p0={\"amp\": 0.5, \"tau\": estimated_t2hahn2, \"base\": 0.5})\n",
    "print(\"The first circuit of hahn echo experiment with 0 echoes:\")\n",
    "print(exp2_0echoes.circuits()[0])\n",
    "\n",
    "# Create a T2Hahn experiment with 4 echoes. Print the first circuit as an example\n",
    "exp2_4echoes = T2Hahn(qubit2, delays3, num_echoes=4)\n",
    "exp2_4echoes.analysis.set_options(p0={\"amp\": 0.5, \"tau\": estimated_t2hahn2, \"base\": 0.5})\n",
    "print(\"The first circuit of hahn echo experiment with 4 echoes:\")\n",
    "print(exp2_4echoes.circuits()[0])\n"
   ]
  },
  {
   "cell_type": "code",
   "execution_count": null,
   "metadata": {
    "scrolled": false
   },
   "outputs": [],
   "source": [
    "from qiskit_experiments.test.t2hahn_backend import T2HahnBackend\n",
    "\n",
    "estimated_t2hahn2 = 30 * conversion_factor\n",
    "detuning_frequency = 2 * np.pi * 10000\n",
    "\n",
    "# The behavior of the backend is determined by the following parameters\n",
    "backend2 = T2HahnBackend(\n",
    "    t2hahn=[estimated_t2hahn2],\n",
    "    frequency=[detuning_frequency],\n",
    "    initialization_error=[0.0],\n",
    "    readout0to1=[0.02],\n",
    "    readout1to0=[0.02],)\n",
    "\n",
    "# Analysis for Hahn Echo experiemnt with 0 echoes.\n",
    "expdata2_0echoes = exp2_0echoes.run(backend=backend2, shots=2000)\n",
    "expdata2_0echoes.block_for_results()  # Wait for job/analysis to finish.\n",
    "\n",
    "# Analysis for Hahn Echo experiemnt with 4 echoes\n",
    "expdata2_4echoes = exp2_4echoes.run(backend=backend2, shots=2000)\n",
    "expdata2_4echoes.block_for_results()  # Wait for job/analysis to finish.\n",
    "\n",
    "# Display the figure\n",
    "print(\"Hahn Echo with 0 echoes:\")\n",
    "display(expdata2_0echoes.figure(0))\n",
    "print(\"Hahn Echo with 4 echoes:\")\n",
    "display(expdata2_4echoes.figure(0))"
   ]
  },
  {
   "cell_type": "markdown",
   "metadata": {},
   "source": [
    "We see that the estimate $T_2$ is different in the two plots. The mock backend for this experiment used $T_{2} = 30[\\mu s]$, which is close to the estimate of the 4 echoes experiment"
   ]
  },
  {
   "cell_type": "code",
   "execution_count": null,
   "metadata": {
    "scrolled": false
   },
   "outputs": [],
   "source": [
    "import qiskit.tools.jupyter\n",
    "%qiskit_copyright"
   ]
  }
 ],
 "metadata": {
  "kernelspec": {
   "display_name": "Python 3",
   "language": "python",
   "name": "python3"
  },
  "language_info": {
   "codemirror_mode": {
    "name": "ipython",
    "version": 3
   },
   "file_extension": ".py",
   "mimetype": "text/x-python",
   "name": "python",
   "nbconvert_exporter": "python",
   "pygments_lexer": "ipython3",
   "version": "3.8.5"
  }
 },
 "nbformat": 4,
 "nbformat_minor": 4
}
