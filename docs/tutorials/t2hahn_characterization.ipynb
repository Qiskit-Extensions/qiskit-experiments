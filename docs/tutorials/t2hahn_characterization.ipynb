{
 "cells": [
  {
   "cell_type": "markdown",
   "metadata": {},
   "source": [
    "# T<sub>2</sub> Hahn Characterization"
   ]
  },
  {
   "cell_type": "markdown",
   "metadata": {},
   "source": [
    "The purpose of the $T_2$ Hahn Echo experiment is to determine $T_2$ qubit property. \n",
    "\n",
    "In this experiment, we would like to get a more precise estimate of the qubit's decay time. $T_2$ represents the amount of time required for the transverse magnetization to fall to approximately 37% ($\\frac{1}{e}$) of its initial value.\n",
    "\n",
    "Since the qubit exposed to other noises (like $T_1$), we are using a $Rx(\\pi)$ pulse for decoupling and to solve our inaccuracy for the qubit frequency estimation."
   ]
  },
  {
   "cell_type": "code",
   "execution_count": 1,
   "metadata": {
    "scrolled": true
   },
   "outputs": [],
   "source": [
    "import qiskit\n",
    "from qiskit.utils import apply_prefix\n",
    "from qiskit_experiments.library.characterization.t2hahn import T2Hahn"
   ]
  },
  {
   "cell_type": "markdown",
   "metadata": {},
   "source": [
    "The circuit used for the experiment comprises the following:\n",
    "\n",
    "    1. Rx gate\n",
    "    2. delay\n",
    "    3. measurement\n",
    "\n",
    "The user provides as input a series of delays and the time unit for the delays, e.g., seconds, milliseconds, etc. During the delay, we expect the qubit to precess about the z-axis. Because of the echo gate ($Rx(\\pi)$) for each echo, the angle will converge after the delay gates as following $\\theta_{new} = \\theta_{old} + \\pi$. By varying the extension of the delays, we get a series of decaying measurements. We can draw the graph of the resulting function and can analytically extract the desired values."
   ]
  },
  {
   "cell_type": "code",
   "execution_count": 2,
   "metadata": {},
   "outputs": [],
   "source": [
    "# set the computation units to microseconds\n",
    "unit = \"us\"  # microseconds\n",
    "qubit = 0\n",
    "# set the desired delays\n",
    "conversion_factor = 1e-6\n",
    "delays = list(range(1, 50, 1) )\n",
    "delays = [float(_) * conversion_factor for _ in delays]"
   ]
  },
  {
   "cell_type": "code",
   "execution_count": 3,
   "metadata": {
    "scrolled": true
   },
   "outputs": [
    {
     "name": "stdout",
     "output_type": "stream",
     "text": [
      "     ┌─────────┐┌─────────────────┐┌───────┐┌─────────────────┐┌─────────┐┌─┐\n",
      "q_0: ┤ Rx(π/2) ├┤ Delay(1e-06[s]) ├┤ Rx(π) ├┤ Delay(1e-06[s]) ├┤ Rx(π/2) ├┤M├\n",
      "     └─────────┘└─────────────────┘└───────┘└─────────────────┘└─────────┘└╥┘\n",
      "c: 1/══════════════════════════════════════════════════════════════════════╩═\n",
      "                                                                           0 \n"
     ]
    },
    {
     "name": "stderr",
     "output_type": "stream",
     "text": [
      "c:\\users\\014780756\\documents\\github_2\\qiskit_experiments\\framework\\base_experiment.py:82: UserWarning: Defining a default BaseAnalysis class for an experiment using the __analysis_class__ attribute is deprecated as of 0.2.0. Use the `analysis` kwarg of BaseExperiment.__init__ to specify a default analysis class.\n",
      "  warnings.warn(\n"
     ]
    }
   ],
   "source": [
    "# Create a T2Hahn experiment. Print the first circuit as an example\n",
    "exp1 = T2Hahn(qubit, delays)\n",
    "print(exp1.circuits()[0])"
   ]
  },
  {
   "cell_type": "markdown",
   "metadata": {},
   "source": [
    "We run the experiment on a simple, simulated backend, created specifically for this experiment's tutorial."
   ]
  },
  {
   "cell_type": "code",
   "execution_count": 4,
   "metadata": {},
   "outputs": [
    {
     "ename": "SyntaxError",
     "evalue": "invalid syntax (t2hahn_backend.py, line 83)",
     "output_type": "error",
     "traceback": [
      "Traceback \u001b[1;36m(most recent call last)\u001b[0m:\n",
      "  File \u001b[0;32m\"C:\\Users\\014780756\\Anaconda3\\lib\\site-packages\\IPython\\core\\interactiveshell.py\"\u001b[0m, line \u001b[0;32m3418\u001b[0m, in \u001b[0;35mrun_code\u001b[0m\n    exec(code_obj, self.user_global_ns, self.user_ns)\n",
      "\u001b[1;36m  File \u001b[1;32m\"<ipython-input-4-b23a53a6ddf0>\"\u001b[1;36m, line \u001b[1;32m1\u001b[1;36m, in \u001b[1;35m<module>\u001b[1;36m\u001b[0m\n\u001b[1;33m    from qiskit_experiments.test.t2hahn_backend import T2HahnBackend\u001b[0m\n",
      "\u001b[1;36m  File \u001b[1;32m\"c:\\users\\014780756\\documents\\github_2\\qiskit_experiments\\test\\t2hahn_backend.py\"\u001b[1;36m, line \u001b[1;32m83\u001b[0m\n\u001b[1;33m    qubits_sates[qubit] {\"XY plain\": False, \"ZX plain\": True, \"Theta\": np.pi}\u001b[0m\n\u001b[1;37m                        ^\u001b[0m\n\u001b[1;31mSyntaxError\u001b[0m\u001b[1;31m:\u001b[0m invalid syntax\n"
     ]
    }
   ],
   "source": [
    "from qiskit_experiments.test.t2hahn_backend import T2HahnBackend\n",
    "# FakeJob is a wrapper for the backend, to give it the form of a job\n",
    "from qiskit_experiments.test.utils import FakeJob\n",
    "\n",
    "\n",
    "estimated_t2hahn = 20\n",
    "# The behavior of the backend is determined by the following parameters\n",
    "backend = T2HahnBackend(\n",
    "    t2hahn=[20],\n",
    "    frequency=[100100],\n",
    "    initialization_error=[0.0],\n",
    "    readout0to1=[0.02],\n",
    "    readout1to0=[0.02],\n",
    "    conversion_factor=conversion_factor,\n",
    ")\n",
    "print(conversion_factor)"
   ]
  },
  {
   "cell_type": "markdown",
   "metadata": {},
   "source": [
    "The resulting graph will have the form:\n",
    "$f(t) = a \\cdot e^{-\\frac{t}{T_2}}+ b$\n",
    "where *t* is the delay and $T_2$ is the decay factor.\n",
    "`conversion_factor` is a scaling factor that depends on the measurement units used. It is 1E-6 here, because the unit is microseconds."
   ]
  },
  {
   "cell_type": "code",
   "execution_count": null,
   "metadata": {
    "scrolled": true
   },
   "outputs": [],
   "source": [
    "dt_factor = apply_prefix(1, unit)\n",
    "\n",
    "# exp1.set_analysis_options(p0={\"amp\": 0.5, \"tau\": 20 * conversion_factor, \"base\": 0.5})\n",
    "\n",
    "expdata1 = exp1.run(backend=backend, shots=2000)\n",
    "expdata1.block_for_results()  # Wait for job/analysis to finish.\n",
    "\n",
    "# Display the figure\n",
    "display(expdata1.figure(0))"
   ]
  },
  {
   "cell_type": "code",
   "execution_count": null,
   "metadata": {},
   "outputs": [],
   "source": [
    "# Print results\n",
    "for result in expdata1.analysis_results():\n",
    "    print(result)"
   ]
  },
  {
   "cell_type": "markdown",
   "metadata": {},
   "source": [
    "### Providing initial user estimates\n",
    "The user can provide initial estimates for the parameters to help the analysis process. Because the curve is expected to decay toward $0.5$, the natural choice for parameters $A$ and $B$ is $0.5$.In this experiment, `t2hahn` is the parameter of interest. Good estimate for it is the value computed in previous experiments on this qubit or a similar value computed for other qubits."
   ]
  },
  {
   "cell_type": "code",
   "execution_count": null,
   "metadata": {},
   "outputs": [],
   "source": [
    "exp_with_p0 = T2Hahn(qubit, delays)\n",
    "exp_with_p0.set_analysis_options(p0={\"amp\": 0.5, \"tau\": 20 * conversion_factor, \"base\": 0.5})\n",
    "expdata_with_p0 = exp_with_p0.run(backend=backend, shots=2000)\n",
    "expdata_with_p0.block_for_results()\n",
    "\n",
    "# Display fit figure\n",
    "display(expdata_with_p0.figure(0))"
   ]
  },
  {
   "cell_type": "code",
   "execution_count": null,
   "metadata": {},
   "outputs": [],
   "source": [
    "# Print results\n",
    "for result in expdata_with_p0.analysis_results():\n",
    "    print(result)"
   ]
  },
  {
   "cell_type": "markdown",
   "metadata": {},
   "source": [
    "### Number of echoes\n",
    "The user can provide the number of echoes that the circuit will perform. This will determine the amount of delay and echo gates. As the number of echoes increase, the total time of the circuit will grow. The echoes decrease the effects of $T_{1}$ noise and frequency inaccuracy estimation. Due to that, Hahn Echo experiment let us estimate $T_{2}$ better.\n",
    "Note, that the delay time provided is the for each delay in the circuit and not the total time."
   ]
  },
  {
   "cell_type": "code",
   "execution_count": null,
   "metadata": {},
   "outputs": [],
   "source": [
    "import numpy as np\n",
    "# set the computation units to microseconds\n",
    "unit2 = \"us\"  # microseconds\n",
    "qubit2 = 0\n",
    "\n",
    "# set the desired delays\n",
    "conversion_factor = 1e-6\n",
    "\n",
    "delays2 = np.append(\n",
    "                    (np.linspace(1.0, 10.0, num=37)).astype(float),\n",
    "                    (np.linspace(10.5, 45.0, num=70)).astype(float),\n",
    "                )\n",
    "delays2 = [float(_) * conversion_factor for _ in delays2]\n",
    "num_echoes = 4\n",
    "\n",
    "\n",
    "# Create a T2Hahn experiment. Print the first circuit as an example\n",
    "exp2 = T2Hahn(qubit2, delays2, num_echoes=num_echoes)\n",
    "print(exp2.circuits()[0])\n"
   ]
  },
  {
   "cell_type": "code",
   "execution_count": null,
   "metadata": {
    "scrolled": false
   },
   "outputs": [],
   "source": [
    "\n",
    "from qiskit_experiments.test.t2hahn_backend import T2HahnBackend\n",
    "# FakeJob is a wrapper for the backend, to give it the form of a job\n",
    "from qiskit_experiments.test.utils import FakeJob\n",
    "\n",
    "\n",
    "estimated_t2hahn2 = 20\n",
    "# The behavior of the backend is determined by the following parameters\n",
    "backend2 = T2HahnBackend(\n",
    "    t2hahn=[20],\n",
    "    frequency=[100100],\n",
    "    initialization_error=[0.0],\n",
    "    readout0to1=[0.02],\n",
    "    readout1to0=[0.02],\n",
    "    conversion_factor=conversion_factor,\n",
    ")\n",
    "\n",
    "\n",
    "dt_factor2 = apply_prefix(1, unit2)\n",
    "\n",
    "# exp2.set_analysis_options(p0={\"amp\": 0.5, \"tau\": 20 * conversion_factor, \"base\": 0.5})\n",
    "\n",
    "expdata2 = exp2.run(backend=backend2, shots=2000)\n",
    "expdata2.block_for_results()  # Wait for job/analysis to finish.\n",
    "\n",
    "# Display the figure\n",
    "display(expdata2.figure(0))"
   ]
  },
  {
   "cell_type": "markdown",
   "metadata": {},
   "source": [
    "###  $T_{2}$ v.s  $T_{2}^{\\ast}$\n",
    "This experiment purpose is to give a better estimation for the dephasing noise. In Ramsey experiment, we can estimate $T_{2}^{\\ast}$ but this is not truly the dephasing noise as the information is not lost.\n",
    "The $\\ast$ indicates that $T_{2}^{\\ast}$ is sensitive to inhomogeneous broadening. By using echo pulse ($Rx(\\pi)$) we can reduce the effect of the inhomogeneous broadening and get better estimation."
   ]
  },
  {
   "cell_type": "code",
   "execution_count": null,
   "metadata": {},
   "outputs": [],
   "source": [
    "import qiskit\n",
    "from qiskit_experiments.library import T2Ramsey\n",
    "from qiskit_experiments.test.t2ramsey_backend import T2RamseyBackend\n",
    "# FakeJob is a wrapper for the backend, to give it the form of a job\n",
    "from qiskit_experiments.test.utils import FakeJob\n",
    "\n",
    "# set the computation units to microseconds\n",
    "unit_ramsey = \"us\"  # microseconds\n",
    "qubit_ramsey = 0\n",
    "# set the desired delays\n",
    "delays_ramsey = list(range(1, 50, 1))\n",
    "\n",
    "conversion_factor_ramsey = 1e-6\n",
    "# defining backend for the experiment\n",
    "backend_ramsey = T2RamseyBackend(\n",
    "    p0={\n",
    "        \"A\": [0.5],\n",
    "        \"T2star\": [20.0],\n",
    "        \"f\": [100100],\n",
    "        \"phi\": [0.0],\n",
    "        \"B\": [0.5],\n",
    "    },\n",
    "    initial_prob_plus=[0.0],\n",
    "    readout0to1=[0.02],\n",
    "    readout1to0=[0.02],\n",
    "    conversion_factor=conversion_factor_ramsey,\n",
    ")\n",
    "\n",
    "# Create a T2Ramsey experiment. Print the first circuit as an example\n",
    "exp1_ramsey = T2Ramsey(qubit_ramsey, delays_ramsey, unit=unit_ramsey, osc_freq=1e5, backend=backend_ramsey)\n",
    "\n",
    "# Run the experiment\n",
    "expdata1_ramsey = exp1_ramsey.run(backend=backend_ramsey, shots=2000)\n",
    "expdata1_ramsey.block_for_results()  # Wait for job/analysis to finish.\n",
    "\n",
    "# Printing a circuit for example\n",
    "print(exp1_ramsey.circuits()[0])"
   ]
  },
  {
   "cell_type": "markdown",
   "metadata": {},
   "source": [
    "We can see that while both backends have $T_2 = 20 [\\mu s]$, the estimation of the Hahn Echo experiment is better."
   ]
  },
  {
   "cell_type": "raw",
   "metadata": {},
   "source": [
    "import matplotlib.pyplot as plt\n",
    "\n",
    "\n",
    "display(expdata1_ramsey.figure(0), expdata2.figure(0))"
   ]
  },
  {
   "cell_type": "code",
   "execution_count": null,
   "metadata": {
    "scrolled": false
   },
   "outputs": [],
   "source": [
    "import qiskit.tools.jupyter\n",
    "%qiskit_copyright"
   ]
  }
 ],
 "metadata": {
  "kernelspec": {
   "display_name": "Python 3",
   "language": "python",
   "name": "python3"
  },
  "language_info": {
   "codemirror_mode": {
    "name": "ipython",
    "version": 3
   },
   "file_extension": ".py",
   "mimetype": "text/x-python",
   "name": "python",
   "nbconvert_exporter": "python",
   "pygments_lexer": "ipython3",
   "version": "3.8.5"
  }
 },
 "nbformat": 4,
 "nbformat_minor": 4
}
