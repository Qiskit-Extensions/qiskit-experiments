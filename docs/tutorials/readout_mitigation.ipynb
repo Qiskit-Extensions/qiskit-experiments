{
 "cells": [
  {
   "cell_type": "markdown",
   "metadata": {},
   "source": [
    "# Readout Mitigation\n",
    "\n"
   ]
  },
  {
   "cell_type": "markdown",
   "metadata": {},
   "source": [
    "Readout errors affect quantum computation during the measurement of the qubits in a quantum device. By characterizing the readout errors, it is possible to construct a *readout error mitigator* that is used both to obtain a more accurate distribution of the outputs, and more accurate measurements of expectation value for measurables.\n",
    "\n",
    "The readout mitigator is generated from an *assignment matrix*: a $2^n \\times 2^n$ matrix $A$ such that $A_{y,x}$ is the probability to observe $y$ given the true outcome should be $x$. The assignment matrix is used to compute the *mitigation matrix* used in the readout error mitigation process itself.\n",
    "\n",
    "A *Local readout mitigator* works under the assumption that readout errors are mostly *local*, meaning readout errors for different qubits are independent of each other. In this case, the assignment matrix is the tensor product of $n$ $2 \\times 2$ matrices, one for each qubit, making it practical to store the assignment matrix in implicit form, by storing the individual $2 \\times 2$ assignment matrices. The corresponding class in Qiskit is the [Local readout mitigator](https://qiskit.org/documentation/stubs/qiskit.result.LocalReadoutMitigator.html>) in ``qiskit-terra``.\n",
    "\n",
    " A *Correlated readout mitigator* uses the full $2^n \\times 2^n$ assignment matrix, meaning it can only be used for small values of $n$. The corresponding class in Qiskit is the [Correlated readout mitigator](https://qiskit.org/documentation/stubs/qiskit.result.CorrelatedReadoutMitigator.html) in ``qiskit-terra``.\n",
    "\n",
    "This notebook demonstrates the usage of both the local and correlated experiments to generate the corresponding mitigators."
   ]
  },
  {
   "cell_type": "code",
   "execution_count": 1,
   "metadata": {},
   "outputs": [],
   "source": [
    "import numpy as np\n",
    "import matplotlib.pyplot as plt\n",
    "from qiskit import QuantumCircuit\n",
    "from qiskit.visualization import plot_histogram\n",
    "from qiskit_experiments.library import LocalReadoutError, CorrelatedReadoutError\n",
    "# For simulation\n",
    "from qiskit.providers.aer import AerSimulator\n",
    "from qiskit.test.mock import FakeParis\n",
    "\n",
    "from qiskit.result.mitigation.utils import (\n",
    "    expval_with_stddev,\n",
    "    str2diag,\n",
    "    counts_probability_vector\n",
    ")\n",
    "\n",
    "backend = AerSimulator.from_backend(FakeParis())"
   ]
  },
  {
   "cell_type": "code",
   "execution_count": 2,
   "metadata": {},
   "outputs": [],
   "source": [
    "SHOTS = 1024\n",
    "qubits = [0,1,2,3]\n",
    "num_qubits = len(qubits)"
   ]
  },
  {
   "cell_type": "markdown",
   "metadata": {},
   "source": [
    "# Standard mitigation experiment\n",
    "\n",
    "The default mitigation experiment is *local*, meaning error probability is measured individually for each qubit. The experiment generates two circuits, one for all \"0\" and one for all \"1\" results."
   ]
  },
  {
   "cell_type": "code",
   "execution_count": 3,
   "metadata": {},
   "outputs": [
    {
     "name": "stdout",
     "output_type": "stream",
     "text": [
      "         ░ ┌─┐         \n",
      "   q_0: ─░─┤M├─────────\n",
      "         ░ └╥┘┌─┐      \n",
      "   q_1: ─░──╫─┤M├──────\n",
      "         ░  ║ └╥┘┌─┐   \n",
      "   q_2: ─░──╫──╫─┤M├───\n",
      "         ░  ║  ║ └╥┘┌─┐\n",
      "   q_3: ─░──╫──╫──╫─┤M├\n",
      "         ░  ║  ║  ║ └╥┘\n",
      "meas: 4/════╩══╩══╩══╩═\n",
      "            0  1  2  3 \n",
      "        ┌───┐ ░ ┌─┐         \n",
      "   q_0: ┤ X ├─░─┤M├─────────\n",
      "        ├───┤ ░ └╥┘┌─┐      \n",
      "   q_1: ┤ X ├─░──╫─┤M├──────\n",
      "        ├───┤ ░  ║ └╥┘┌─┐   \n",
      "   q_2: ┤ X ├─░──╫──╫─┤M├───\n",
      "        ├───┤ ░  ║  ║ └╥┘┌─┐\n",
      "   q_3: ┤ X ├─░──╫──╫──╫─┤M├\n",
      "        └───┘ ░  ║  ║  ║ └╥┘\n",
      "meas: 4/═════════╩══╩══╩══╩═\n",
      "                 0  1  2  3 \n"
     ]
    }
   ],
   "source": [
    "exp = LocalReadoutError(qubits)\n",
    "for c in exp.circuits():\n",
    "    print(c)"
   ]
  },
  {
   "cell_type": "code",
   "execution_count": 4,
   "metadata": {},
   "outputs": [
    {
     "name": "stderr",
     "output_type": "stream",
     "text": [
      "Analysis callback <function BaseAnalysis.run.<locals>.run_analysis at 0x00000209F948FCA0> failed:\n",
      "Traceback (most recent call last):\n",
      "  File \"C:\\Users\\gadia\\anaconda3\\envs\\qiskit38\\lib\\site-packages\\qiskit_experiments\\database_service\\db_experiment_data.py\", line 299, in _wrapped_callback\n",
      "    callback(self, **kwargs)\n",
      "  File \"C:\\Users\\gadia\\anaconda3\\envs\\qiskit38\\lib\\site-packages\\qiskit_experiments\\framework\\base_analysis.py\", line 168, in run_analysis\n",
      "    results, figures = analysis._run_analysis(expdata)\n",
      "  File \"C:\\Users\\gadia\\anaconda3\\envs\\qiskit38\\lib\\site-packages\\qiskit_experiments\\library\\characterization\\analysis\\local_readout_error_analysis.py\", line 77, in _run_analysis\n",
      "    figure = assignment_matrix_visualization(\n",
      "  File \"C:\\Users\\gadia\\anaconda3\\envs\\qiskit38\\lib\\site-packages\\qiskit_experiments\\library\\characterization\\analysis\\local_readout_error_analysis.py\", line 120, in assignment_matrix_visualization\n",
      "    ax.title(r\"$|A - I|$\")\n",
      "TypeError: 'Text' object is not callable\n",
      "\n",
      "Possibly incomplete analysis results: an analysis callback raised an error.\n"
     ]
    },
    {
     "ename": "DbExperimentEntryNotFound",
     "evalue": "'Analysis result 0 not found. Errors: Traceback (most recent call last):\\nAnalysis callback <function BaseAnalysis.run.<locals>.run_analysis at 0x00000209F948FCA0> failed: \\n  File \"C:\\\\Users\\\\gadia\\\\anaconda3\\\\envs\\\\qiskit38\\\\lib\\\\site-packages\\\\qiskit_experiments\\\\database_service\\\\db_experiment_data.py\", line 299, in _wrapped_callback\\n    callback(self, **kwargs)\\nAnalysis callback <function BaseAnalysis.run.<locals>.run_analysis at 0x00000209F948FCA0> failed: \\n  File \"C:\\\\Users\\\\gadia\\\\anaconda3\\\\envs\\\\qiskit38\\\\lib\\\\site-packages\\\\qiskit_experiments\\\\framework\\\\base_analysis.py\", line 168, in run_analysis\\n    results, figures = analysis._run_analysis(expdata)\\nAnalysis callback <function BaseAnalysis.run.<locals>.run_analysis at 0x00000209F948FCA0> failed: \\n  File \"C:\\\\Users\\\\gadia\\\\anaconda3\\\\envs\\\\qiskit38\\\\lib\\\\site-packages\\\\qiskit_experiments\\\\library\\\\characterization\\\\analysis\\\\local_readout_error_analysis.py\", line 77, in _run_analysis\\n    figure = assignment_matrix_visualization(\\nAnalysis callback <function BaseAnalysis.run.<locals>.run_analysis at 0x00000209F948FCA0> failed: \\n  File \"C:\\\\Users\\\\gadia\\\\anaconda3\\\\envs\\\\qiskit38\\\\lib\\\\site-packages\\\\qiskit_experiments\\\\library\\\\characterization\\\\analysis\\\\local_readout_error_analysis.py\", line 120, in assignment_matrix_visualization\\n    ax.title(r\"$|A - I|$\")\\nAnalysis callback <function BaseAnalysis.run.<locals>.run_analysis at 0x00000209F948FCA0> failed: \\nTypeError: \\'Text\\' object is not callable\\n'",
     "output_type": "error",
     "traceback": [
      "\u001b[1;31m---------------------------------------------------------------------------\u001b[0m",
      "\u001b[1;31mDbExperimentEntryNotFound\u001b[0m                 Traceback (most recent call last)",
      "\u001b[1;32m~\\DOCUME~1\\MobaXterm\\slash\\var\\log\\xwin/ipykernel_48628/3444147233.py\u001b[0m in \u001b[0;36m<module>\u001b[1;34m\u001b[0m\n\u001b[0;32m      1\u001b[0m \u001b[0mexp\u001b[0m\u001b[1;33m.\u001b[0m\u001b[0mset_analysis_options\u001b[0m\u001b[1;33m(\u001b[0m\u001b[0mplot\u001b[0m\u001b[1;33m=\u001b[0m\u001b[1;32mTrue\u001b[0m\u001b[1;33m)\u001b[0m\u001b[1;33m\u001b[0m\u001b[1;33m\u001b[0m\u001b[0m\n\u001b[0;32m      2\u001b[0m \u001b[0mresult\u001b[0m \u001b[1;33m=\u001b[0m \u001b[0mexp\u001b[0m\u001b[1;33m.\u001b[0m\u001b[0mrun\u001b[0m\u001b[1;33m(\u001b[0m\u001b[0mbackend\u001b[0m\u001b[1;33m)\u001b[0m\u001b[1;33m\u001b[0m\u001b[1;33m\u001b[0m\u001b[0m\n\u001b[1;32m----> 3\u001b[1;33m \u001b[0mmitigator\u001b[0m \u001b[1;33m=\u001b[0m \u001b[0mresult\u001b[0m\u001b[1;33m.\u001b[0m\u001b[0manalysis_results\u001b[0m\u001b[1;33m(\u001b[0m\u001b[1;36m0\u001b[0m\u001b[1;33m)\u001b[0m\u001b[1;33m.\u001b[0m\u001b[0mvalue\u001b[0m\u001b[1;33m\u001b[0m\u001b[1;33m\u001b[0m\u001b[0m\n\u001b[0m",
      "\u001b[1;32m~\\anaconda3\\envs\\qiskit38\\lib\\site-packages\\qiskit_experiments\\database_service\\db_experiment_data.py\u001b[0m in \u001b[0;36manalysis_results\u001b[1;34m(self, index, refresh, block, timeout)\u001b[0m\n\u001b[0;32m    716\u001b[0m         \u001b[1;32mif\u001b[0m \u001b[0misinstance\u001b[0m\u001b[1;33m(\u001b[0m\u001b[0mindex\u001b[0m\u001b[1;33m,\u001b[0m \u001b[0mint\u001b[0m\u001b[1;33m)\u001b[0m\u001b[1;33m:\u001b[0m\u001b[1;33m\u001b[0m\u001b[1;33m\u001b[0m\u001b[0m\n\u001b[0;32m    717\u001b[0m             \u001b[1;32mif\u001b[0m \u001b[0mindex\u001b[0m \u001b[1;33m>=\u001b[0m \u001b[0mlen\u001b[0m\u001b[1;33m(\u001b[0m\u001b[0mself\u001b[0m\u001b[1;33m.\u001b[0m\u001b[0m_analysis_results\u001b[0m\u001b[1;33m.\u001b[0m\u001b[0mvalues\u001b[0m\u001b[1;33m(\u001b[0m\u001b[1;33m)\u001b[0m\u001b[1;33m)\u001b[0m\u001b[1;33m:\u001b[0m\u001b[1;33m\u001b[0m\u001b[1;33m\u001b[0m\u001b[0m\n\u001b[1;32m--> 718\u001b[1;33m                 raise DbExperimentEntryNotFound(\n\u001b[0m\u001b[0;32m    719\u001b[0m                     \u001b[1;34mf\"Analysis result {index} not found. \"\u001b[0m \u001b[1;34mf\"Errors: {self.errors()}\"\u001b[0m\u001b[1;33m\u001b[0m\u001b[1;33m\u001b[0m\u001b[0m\n\u001b[0;32m    720\u001b[0m                 )\n",
      "\u001b[1;31mDbExperimentEntryNotFound\u001b[0m: 'Analysis result 0 not found. Errors: Traceback (most recent call last):\\nAnalysis callback <function BaseAnalysis.run.<locals>.run_analysis at 0x00000209F948FCA0> failed: \\n  File \"C:\\\\Users\\\\gadia\\\\anaconda3\\\\envs\\\\qiskit38\\\\lib\\\\site-packages\\\\qiskit_experiments\\\\database_service\\\\db_experiment_data.py\", line 299, in _wrapped_callback\\n    callback(self, **kwargs)\\nAnalysis callback <function BaseAnalysis.run.<locals>.run_analysis at 0x00000209F948FCA0> failed: \\n  File \"C:\\\\Users\\\\gadia\\\\anaconda3\\\\envs\\\\qiskit38\\\\lib\\\\site-packages\\\\qiskit_experiments\\\\framework\\\\base_analysis.py\", line 168, in run_analysis\\n    results, figures = analysis._run_analysis(expdata)\\nAnalysis callback <function BaseAnalysis.run.<locals>.run_analysis at 0x00000209F948FCA0> failed: \\n  File \"C:\\\\Users\\\\gadia\\\\anaconda3\\\\envs\\\\qiskit38\\\\lib\\\\site-packages\\\\qiskit_experiments\\\\library\\\\characterization\\\\analysis\\\\local_readout_error_analysis.py\", line 77, in _run_analysis\\n    figure = assignment_matrix_visualization(\\nAnalysis callback <function BaseAnalysis.run.<locals>.run_analysis at 0x00000209F948FCA0> failed: \\n  File \"C:\\\\Users\\\\gadia\\\\anaconda3\\\\envs\\\\qiskit38\\\\lib\\\\site-packages\\\\qiskit_experiments\\\\library\\\\characterization\\\\analysis\\\\local_readout_error_analysis.py\", line 120, in assignment_matrix_visualization\\n    ax.title(r\"$|A - I|$\")\\nAnalysis callback <function BaseAnalysis.run.<locals>.run_analysis at 0x00000209F948FCA0> failed: \\nTypeError: \\'Text\\' object is not callable\\n'"
     ]
    }
   ],
   "source": [
    "exp.analysis.set_options(plot=True)\n",
    "result = exp.run(backend)\n",
    "mitigator = result.analysis_results(0).value"
   ]
  },
  {
   "cell_type": "markdown",
   "metadata": {},
   "source": [
    "The resulting measurement matrix can be illustrated by comparing it to the identity."
   ]
  },
  {
   "cell_type": "code",
   "execution_count": null,
   "metadata": {},
   "outputs": [],
   "source": [
    "result.figure(0)"
   ]
  },
  {
   "cell_type": "markdown",
   "metadata": {},
   "source": [
    "## Mitigation matrices\n",
    "\n",
    "The individual mitigation matrices can be read off the mitigator."
   ]
  },
  {
   "cell_type": "code",
   "execution_count": null,
   "metadata": {},
   "outputs": [],
   "source": [
    "for m in mitigator._mitigation_mats:\n",
    "    print(m)\n",
    "    print()"
   ]
  },
  {
   "cell_type": "markdown",
   "metadata": {},
   "source": [
    "## Mitigation Example"
   ]
  },
  {
   "cell_type": "code",
   "execution_count": null,
   "metadata": {},
   "outputs": [],
   "source": [
    "qc = QuantumCircuit(num_qubits)\n",
    "qc.h(0)\n",
    "for i in range(1, num_qubits):\n",
    "    qc.cx(i - 1, i)\n",
    "qc.measure_all()"
   ]
  },
  {
   "cell_type": "code",
   "execution_count": null,
   "metadata": {},
   "outputs": [],
   "source": [
    "counts = backend.run(qc, shots=SHOTS, seed_simulator=42, method=\"density_matrix\").result().get_counts()\n",
    "unmitigated_probs = {label: count / SHOTS for label, count in counts.items()}"
   ]
  },
  {
   "cell_type": "code",
   "execution_count": null,
   "metadata": {},
   "outputs": [],
   "source": [
    "mitigated_quasi_probs = mitigator.quasi_probabilities(counts)\n",
    "mitigated_stddev = mitigated_quasi_probs._stddev_upper_bound\n",
    "mitigated_probs = (mitigated_quasi_probs.nearest_probability_distribution().binary_probabilities())"
   ]
  },
  {
   "cell_type": "markdown",
   "metadata": {},
   "source": [
    "### Probabilities"
   ]
  },
  {
   "cell_type": "code",
   "execution_count": null,
   "metadata": {},
   "outputs": [],
   "source": [
    "legend = ['Mitigated Probabilities', 'Unmitigated Probabilities']\n",
    "plot_histogram([mitigated_probs, unmitigated_probs], legend=legend, sort=\"value_desc\", bar_labels=False)"
   ]
  },
  {
   "cell_type": "markdown",
   "metadata": {},
   "source": [
    "## Expectation value"
   ]
  },
  {
   "cell_type": "code",
   "execution_count": null,
   "metadata": {},
   "outputs": [],
   "source": [
    "diagonal_labels = [\"ZZZZ\", \"ZIZI\", \"IZII\", \"1ZZ0\"]\n",
    "ideal_expectation = []\n",
    "diagonals = [str2diag(d) for d in diagonal_labels]\n",
    "qubit_index = {i: i for i in range(num_qubits)}\n",
    "unmitigated_probs_vector, _ = counts_probability_vector(unmitigated_probs, qubit_index=qubit_index)\n",
    "unmitigated_expectation = [expval_with_stddev(d, unmitigated_probs_vector, SHOTS) for d in diagonals]\n",
    "mitigated_expectation = [mitigator.expectation_value(counts, d) for d in diagonals]"
   ]
  },
  {
   "cell_type": "code",
   "execution_count": null,
   "metadata": {},
   "outputs": [],
   "source": [
    "mitigated_expectation_values, mitigated_stddev = zip(*mitigated_expectation)\n",
    "unmitigated_expectation_values, unmitigated_stddev = zip(*unmitigated_expectation)\n",
    "legend = ['Mitigated Expectation', 'Unmitigated Expectation']\n",
    "fig, ax = plt.subplots()\n",
    "X = np.arange(4)\n",
    "ax.bar(X + 0.00, mitigated_expectation_values, yerr=mitigated_stddev, color='b', width = 0.25, label=\"Mitigated Expectation\")\n",
    "ax.bar(X + 0.25, unmitigated_expectation_values, yerr=unmitigated_stddev, color='g', width = 0.25, label=\"Unmitigated Expectation\")\n",
    "ax.set_xticks([0.125 + i for i in range(len(diagonals))])\n",
    "ax.set_xticklabels(diagonal_labels)\n",
    "ax.legend()"
   ]
  },
  {
   "cell_type": "markdown",
   "metadata": {},
   "source": [
    "## Correlated readout mitigation\n",
    "\n",
    "In correlated readout mitigation on $n$ qubits, a circuit is generated for each of the possible $2^n$ combinations of \"0\" and \"1\". This results in more accurate mitigation in the case where the readout errors are correlated and not independent, but requires a large amount of circuits and storage space, and so is infeasible for more than a few qubits."
   ]
  },
  {
   "cell_type": "code",
   "execution_count": null,
   "metadata": {},
   "outputs": [],
   "source": [
    "qubits = [0,3]\n",
    "num_qubits = len(qubits)\n",
    "exp = CorrelatedReadoutError(qubits)\n",
    "for c in exp.circuits():\n",
    "    print(c)"
   ]
  },
  {
   "cell_type": "code",
   "execution_count": null,
   "metadata": {},
   "outputs": [],
   "source": [
    "import qiskit.tools.jupyter\n",
    "%qiskit_copyright"
   ]
  }
 ],
 "metadata": {
  "interpreter": {
   "hash": "42e50baa22dbe56fc7f4f6bf32ac20952839a6a23dcf2ef84eded7e8cac03444"
  },
  "kernelspec": {
   "display_name": "qiskit38",
   "language": "python",
   "name": "qiskit38"
  },
  "language_info": {
   "codemirror_mode": {
    "name": "ipython",
    "version": 3
   },
   "file_extension": ".py",
   "mimetype": "text/x-python",
   "name": "python",
   "nbconvert_exporter": "python",
   "pygments_lexer": "ipython3",
   "version": "3.8.12"
  }
 },
 "nbformat": 4,
 "nbformat_minor": 4
}
