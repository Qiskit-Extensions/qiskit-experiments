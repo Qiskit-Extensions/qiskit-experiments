{
 "cells": [
  {
   "cell_type": "markdown",
   "metadata": {},
   "source": [
    "# Qiskit Experiment Classes\n",
    "\n",
    "It includes implementions of full experiments for:\n",
    "* `QSTExperiment` an example implementation of a basic experiment\n",
    "* `ParallelExperiment` class for combining experiments on different qubits into a single experiment\n",
    "* `BatchExperiment` class for combining arbitrary experiments into a single batch experiment\n",
    "\n",
    "The parallel and batch experiments will be used to combine various QST experiments on different numbers of qubits"
   ]
  },
  {
   "cell_type": "code",
   "execution_count": 1,
   "metadata": {},
   "outputs": [],
   "source": [
    "from qiskit import QuantumCircuit, execute\n",
    "from qiskit.circuit.library import HGate, XGate\n",
    "from qiskit.providers.aer import QasmSimulator\n",
    "\n",
    "\n",
    "import qiskit_experiments as qe\n",
    "import qiskit_experiments.tomography as tomo\n",
    "\n",
    "backend = QasmSimulator()"
   ]
  },
  {
   "cell_type": "markdown",
   "metadata": {},
   "source": [
    "## Running single experiments\n",
    "\n",
    "First run several individual QST experiments"
   ]
  },
  {
   "cell_type": "code",
   "execution_count": 2,
   "metadata": {},
   "outputs": [
    {
     "data": {
      "text/plain": [
       "---------------------------------------------------\n",
       "Experiment: QSTExperiment\n",
       "Experiment ID: 70f207c4-6e8f-4d51-b280-d3aaf7f4bf7f\n",
       "Status: COMPLETE\n",
       "Circuits: 3\n",
       "Analysis Results: 1\n",
       "---------------------------------------------------\n",
       "Last Analysis Result\n",
       "- value: DensityMatrix([[0.49707036+0.00000000e+00j 0.49999142+3.90783589e-17j]\n",
       "               [0.49999142-3.90783589e-17j 0.50292964+0.00000000e+00j]])"
      ]
     },
     "execution_count": 2,
     "metadata": {},
     "output_type": "execute_result"
    }
   ],
   "source": [
    "# Run QST for applying H gate to qubit-4\n",
    "exp1 = tomo.QSTExperiment(HGate(), [4])\n",
    "data1 = exp1.run(backend)\n",
    "\n",
    "# View result data\n",
    "data1"
   ]
  },
  {
   "cell_type": "code",
   "execution_count": 3,
   "metadata": {},
   "outputs": [
    {
     "data": {
      "text/plain": [
       "---------------------------------------------------\n",
       "Experiment: QSTExperiment\n",
       "Experiment ID: 3c8907c6-4db0-4ca5-9dd1-b360e071ee7c\n",
       "Status: COMPLETE\n",
       "Circuits: 3\n",
       "Analysis Results: 1\n",
       "---------------------------------------------------\n",
       "Last Analysis Result\n",
       "- value: DensityMatrix([[ 1.90733772e-06+0.j         -9.76558775e-04-0.00097656j]\n",
       "               [-9.76558775e-04+0.00097656j  9.99998093e-01+0.j        ]])"
      ]
     },
     "execution_count": 3,
     "metadata": {},
     "output_type": "execute_result"
    }
   ],
   "source": [
    "# Run QST for applying X gate to qubit-4\n",
    "exp2 = tomo.QSTExperiment(XGate(), [1])\n",
    "data2 = exp2.run(backend)\n",
    "\n",
    "# View result data\n",
    "data2"
   ]
  },
  {
   "cell_type": "code",
   "execution_count": 4,
   "metadata": {},
   "outputs": [
    {
     "data": {
      "text/plain": [
       "---------------------------------------------------\n",
       "Experiment: QSTExperiment\n",
       "Experiment ID: bfdc3b2e-acd6-48cc-a8c2-cbf48f605cf1\n",
       "Status: COMPLETE\n",
       "Circuits: 9\n",
       "Analysis Results: 1\n",
       "---------------------------------------------------\n",
       "Last Analysis Result\n",
       "- value: DensityMatrix([[ 0.4922344 +0.j         -0.0023835 -0.00641539j\n",
       "                 0.0029571 +0.00251222j  0.49192597+0.01783698j]\n",
       "               [-0.0023835 +0.00641539j  0.00392868+0.j\n",
       "                 0.00104455+0.00374231j -0.00664926+0.00317927j]\n",
       "               [ 0.0029571 -0.00251222j  0.00104455-0.00374231j\n",
       "                 0.00394338+0.j         -0.00115189+0.00061176j]\n",
       "               [ 0.49192597-0.01783698j -0.00664926-0.00317927j\n",
       "                -0.00115189-0.00061176j  0.49909203+0.j        ]])"
      ]
     },
     "execution_count": 4,
     "metadata": {},
     "output_type": "execute_result"
    }
   ],
   "source": [
    "# 2-qubit state preparation circuit\n",
    "qc3 = QuantumCircuit(2)\n",
    "qc3.h(0)\n",
    "qc3.cx(0, 1)\n",
    "\n",
    "# Run QST for applying circuit to qubits [3, 0]\n",
    "exp3 = tomo.QSTExperiment(qc3, [3, 0])\n",
    "data3 = exp3.run(backend)\n",
    "\n",
    "# View result data\n",
    "data3"
   ]
  },
  {
   "cell_type": "markdown",
   "metadata": {},
   "source": [
    "## Batch Experiments\n",
    "\n",
    "Next we demonstrate batch experiments where several individual experiments are grouped into a single meta-experiment. Currently this just appends the circuits from each sub experiment sequentially, but in the future it should allow shuffling or interleaving circuits from individual experiments in the batch circuit list to be executed.\n",
    "\n",
    "For a simple first demonstration we consider running multiple experiments on the same qubit (in this case the same experiment twice)"
   ]
  },
  {
   "cell_type": "code",
   "execution_count": 5,
   "metadata": {},
   "outputs": [
    {
     "data": {
      "text/plain": [
       "---------------------------------------------------\n",
       "Experiment: BatchExperiment\n",
       "Experiment ID: 89980a9b-a3a0-4055-b169-1ae3cc272440\n",
       "Status: COMPLETE\n",
       "Component Experiments: 2\n",
       "Circuits: 6\n",
       "Analysis Results: 1\n",
       "---------------------------------------------------\n",
       "Last Analysis Result\n",
       "- experiment_types: ['QSTExperiment', 'QSTExperiment']\n",
       "- experiment_ids: ['6084f3d8-dbe1-40d2-9345-faa6a7963961', '38fcfcc9-c201-45ed-bec7-38af92f283b9']\n",
       "- experiment_qubits: [(4,), (4,)]"
      ]
     },
     "execution_count": 5,
     "metadata": {},
     "output_type": "execute_result"
    }
   ],
   "source": [
    "# Batch of two experiments both on qubit-4\n",
    "batch_exp1 = qe.composite.BatchExperiment(2 * [exp1])\n",
    "batch_data1 = batch_exp1.run(backend)\n",
    "\n",
    "# View result\n",
    "batch_data1"
   ]
  },
  {
   "cell_type": "markdown",
   "metadata": {},
   "source": [
    "#### Viewing sub experiment data\n",
    "\n",
    "The experiment data returned from a batched experiment also contains individual experiment data for each sub experiment which can be accessed using `experiment_data(index)`"
   ]
  },
  {
   "cell_type": "code",
   "execution_count": 6,
   "metadata": {},
   "outputs": [
    {
     "name": "stdout",
     "output_type": "stream",
     "text": [
      "---------------------------------------------------\n",
      "Experiment: QSTExperiment\n",
      "Experiment ID: 6084f3d8-dbe1-40d2-9345-faa6a7963961\n",
      "Status: COMPLETE\n",
      "Circuits: 3\n",
      "Analysis Results: 1\n",
      "---------------------------------------------------\n",
      "Last Analysis Result\n",
      "- value: DensityMatrix([[0.49414113+0.j         0.49995709+0.00292944j]\n",
      "               [0.49995709-0.00292944j 0.50585887+0.j        ]]) \n",
      "\n",
      "---------------------------------------------------\n",
      "Experiment: QSTExperiment\n",
      "Experiment ID: 38fcfcc9-c201-45ed-bec7-38af92f283b9\n",
      "Status: COMPLETE\n",
      "Circuits: 3\n",
      "Analysis Results: 1\n",
      "---------------------------------------------------\n",
      "Last Analysis Result\n",
      "- value: DensityMatrix([[0.51950801+0.j         0.49940502+0.01463101j]\n",
      "               [0.49940502-0.01463101j 0.48049199+0.j        ]]) \n",
      "\n"
     ]
    }
   ],
   "source": [
    "# Print sub-experiment data\n",
    "for i in range(2):\n",
    "    print(batch_data1.component_experiment_data(i), '\\n')"
   ]
  },
  {
   "cell_type": "markdown",
   "metadata": {},
   "source": [
    "### Batches on differing qubits\n",
    "\n",
    "Batch experiments don't need to be on the same qubits, each individual one can be run on arbitrary qubits."
   ]
  },
  {
   "cell_type": "code",
   "execution_count": 7,
   "metadata": {},
   "outputs": [
    {
     "data": {
      "text/plain": [
       "---------------------------------------------------\n",
       "Experiment: BatchExperiment\n",
       "Experiment ID: 02df03ac-5888-4f97-991f-5abe7bf2cda4\n",
       "Status: COMPLETE\n",
       "Component Experiments: 4\n",
       "Circuits: 18\n",
       "Analysis Results: 1\n",
       "---------------------------------------------------\n",
       "Last Analysis Result\n",
       "- experiment_types: ['QSTExperiment', 'QSTExperiment', 'QSTExperiment', 'QSTExperiment']\n",
       "- experiment_ids: ['8761af27-5e68-453c-8f4c-414b6a1ba39e', 'd9a39d8f-87bf-4c38-b864-321cd3752716', '54148db2-c764-4255-8468-254636868b68', 'a22a22dd-5864-4a3b-b8e4-b16f89f36c9e']\n",
       "- experiment_qubits: [(4,), (1,), (4,), (3, 0)]"
      ]
     },
     "execution_count": 7,
     "metadata": {},
     "output_type": "execute_result"
    }
   ],
   "source": [
    "batch_exp2 = qe.composite.BatchExperiment([exp1, exp2, exp1, exp3])\n",
    "batch_data2 = batch_exp2.run(backend)\n",
    "\n",
    "# Batch data\n",
    "batch_data2"
   ]
  },
  {
   "cell_type": "markdown",
   "metadata": {},
   "source": [
    "#### View sub experiment data"
   ]
  },
  {
   "cell_type": "code",
   "execution_count": 8,
   "metadata": {},
   "outputs": [
    {
     "name": "stdout",
     "output_type": "stream",
     "text": [
      "---------------------------------------------------\n",
      "Experiment: QSTExperiment\n",
      "Experiment ID: 8761af27-5e68-453c-8f4c-414b6a1ba39e\n",
      "Status: COMPLETE\n",
      "Circuits: 3\n",
      "Analysis Results: 1\n",
      "---------------------------------------------------\n",
      "Last Analysis Result\n",
      "- value: DensityMatrix([[0.5       +0.j        0.49930622-0.0263306j]\n",
      "               [0.49930622+0.0263306j 0.5       +0.j       ]]) \n",
      "\n",
      "---------------------------------------------------\n",
      "Experiment: QSTExperiment\n",
      "Experiment ID: d9a39d8f-87bf-4c38-b864-321cd3752716\n",
      "Status: COMPLETE\n",
      "Circuits: 3\n",
      "Analysis Results: 1\n",
      "---------------------------------------------------\n",
      "Last Analysis Result\n",
      "- value: DensityMatrix([[ 0.00153121+0.j         -0.03699573-0.01265643j]\n",
      "               [-0.03699573+0.01265643j  0.99846879+0.j        ]]) \n",
      "\n",
      "---------------------------------------------------\n",
      "Experiment: QSTExperiment\n",
      "Experiment ID: 54148db2-c764-4255-8468-254636868b68\n",
      "Status: COMPLETE\n",
      "Circuits: 3\n",
      "Analysis Results: 1\n",
      "---------------------------------------------------\n",
      "Last Analysis Result\n",
      "- value: DensityMatrix([[0.5107338 +0.j        0.49960945-0.0165886j]\n",
      "               [0.49960945+0.0165886j 0.4892662 +0.j       ]]) \n",
      "\n",
      "---------------------------------------------------\n",
      "Experiment: QSTExperiment\n",
      "Experiment ID: a22a22dd-5864-4a3b-b8e4-b16f89f36c9e\n",
      "Status: COMPLETE\n",
      "Circuits: 9\n",
      "Analysis Results: 1\n",
      "---------------------------------------------------\n",
      "Last Analysis Result\n",
      "- value: DensityMatrix([[ 4.85612179e-01+0.j         -4.52436029e-03+0.01080032j\n",
      "                 2.61217556e-04-0.0018117j   4.94671507e-01+0.01308474j]\n",
      "               [-4.52436029e-03-0.01080032j  1.97304172e-03+0.j\n",
      "                -1.54280324e-03+0.00080554j -3.62551379e-03-0.00797075j]\n",
      "               [ 2.61217556e-04+0.0018117j  -1.54280324e-03-0.00080554j\n",
      "                 1.71118572e-03+0.j          1.08468632e-03-0.00127026j]\n",
      "               [ 4.94671507e-01-0.01308474j -3.62551379e-03+0.00797075j\n",
      "                 1.08468632e-03+0.00127026j  5.10415813e-01+0.j        ]]) \n",
      "\n"
     ]
    }
   ],
   "source": [
    "for i in range(4):\n",
    "    print(batch_data2.component_experiment_data(i), '\\n')"
   ]
  },
  {
   "cell_type": "markdown",
   "metadata": {},
   "source": [
    "## Parallel Experiments\n",
    "\n",
    "Another kind of meta-experiment is a *parallel experiment*. This involves combing sub experiments on different qubits into a single experiment where each sub circuit is applied to different qubits in parallel. The total number of circuits in the parallel experiment will be equal to the largest number of circuits of the individual sub experiments.\n",
    "\n",
    "Processing is done by marginalizing the joint measurements into the exected count dictionaries defined by the classical bit registers in the individaul experiments.\n",
    "\n",
    "### Parallel tomography example\n",
    "For our example we run parallel 1 qubit QST on qubits [4] and [1], and 2-qubit QST on qubits [3, 0]. This results in 9 circuits being executed -- the number required for the 2-qubit QST experiment"
   ]
  },
  {
   "cell_type": "code",
   "execution_count": 9,
   "metadata": {},
   "outputs": [
    {
     "data": {
      "text/plain": [
       "---------------------------------------------------\n",
       "Experiment: ParallelExperiment\n",
       "Experiment ID: f9b01823-896c-4a16-b4ef-c5c3b8a993fe\n",
       "Status: COMPLETE\n",
       "Component Experiments: 3\n",
       "Circuits: 9\n",
       "Analysis Results: 1\n",
       "---------------------------------------------------\n",
       "Last Analysis Result\n",
       "- experiment_types: ['QSTExperiment', 'QSTExperiment', 'QSTExperiment']\n",
       "- experiment_ids: ['8405d5af-a720-4609-bd14-e8f16ee32a23', '9e492174-58b3-4e7d-a8e5-34248f71a37d', 'f2cb74a0-c09b-4085-82a5-ffeae3f7b8f6']\n",
       "- experiment_qubits: [(4,), (1,), (3, 0)]"
      ]
     },
     "execution_count": 9,
     "metadata": {},
     "output_type": "execute_result"
    }
   ],
   "source": [
    "# Define a parallel experiment\n",
    "par_exp = qe.composite.ParallelExperiment([exp1, exp2, exp3])\n",
    "par_data = par_exp.run(backend)\n",
    "\n",
    "# View data\n",
    "par_data"
   ]
  },
  {
   "cell_type": "markdown",
   "metadata": {},
   "source": [
    "#### View sub experiment data"
   ]
  },
  {
   "cell_type": "code",
   "execution_count": 10,
   "metadata": {},
   "outputs": [
    {
     "name": "stdout",
     "output_type": "stream",
     "text": [
      "---------------------------------------------------\n",
      "Experiment: QSTExperiment\n",
      "Experiment ID: 8761af27-5e68-453c-8f4c-414b6a1ba39e\n",
      "Status: COMPLETE\n",
      "Circuits: 3\n",
      "Analysis Results: 1\n",
      "---------------------------------------------------\n",
      "Last Analysis Result\n",
      "- value: DensityMatrix([[0.5       +0.j        0.49930622-0.0263306j]\n",
      "               [0.49930622+0.0263306j 0.5       +0.j       ]]) \n",
      "\n",
      "---------------------------------------------------\n",
      "Experiment: QSTExperiment\n",
      "Experiment ID: d9a39d8f-87bf-4c38-b864-321cd3752716\n",
      "Status: COMPLETE\n",
      "Circuits: 3\n",
      "Analysis Results: 1\n",
      "---------------------------------------------------\n",
      "Last Analysis Result\n",
      "- value: DensityMatrix([[ 0.00153121+0.j         -0.03699573-0.01265643j]\n",
      "               [-0.03699573+0.01265643j  0.99846879+0.j        ]]) \n",
      "\n",
      "---------------------------------------------------\n",
      "Experiment: QSTExperiment\n",
      "Experiment ID: 54148db2-c764-4255-8468-254636868b68\n",
      "Status: COMPLETE\n",
      "Circuits: 3\n",
      "Analysis Results: 1\n",
      "---------------------------------------------------\n",
      "Last Analysis Result\n",
      "- value: DensityMatrix([[0.5107338 +0.j        0.49960945-0.0165886j]\n",
      "               [0.49960945+0.0165886j 0.4892662 +0.j       ]]) \n",
      "\n",
      "---------------------------------------------------\n",
      "Experiment: QSTExperiment\n",
      "Experiment ID: a22a22dd-5864-4a3b-b8e4-b16f89f36c9e\n",
      "Status: COMPLETE\n",
      "Circuits: 9\n",
      "Analysis Results: 1\n",
      "---------------------------------------------------\n",
      "Last Analysis Result\n",
      "- value: DensityMatrix([[ 4.85612179e-01+0.j         -4.52436029e-03+0.01080032j\n",
      "                 2.61217556e-04-0.0018117j   4.94671507e-01+0.01308474j]\n",
      "               [-4.52436029e-03-0.01080032j  1.97304172e-03+0.j\n",
      "                -1.54280324e-03+0.00080554j -3.62551379e-03-0.00797075j]\n",
      "               [ 2.61217556e-04+0.0018117j  -1.54280324e-03-0.00080554j\n",
      "                 1.71118572e-03+0.j          1.08468632e-03-0.00127026j]\n",
      "               [ 4.94671507e-01-0.01308474j -3.62551379e-03+0.00797075j\n",
      "                 1.08468632e-03+0.00127026j  5.10415813e-01+0.j        ]]) \n",
      "\n"
     ]
    }
   ],
   "source": [
    "for i in range(4):\n",
    "    print(batch_data2.component_experiment_data(i), '\\n')"
   ]
  },
  {
   "cell_type": "markdown",
   "metadata": {},
   "source": [
    "## Complicated Meta Experiments\n",
    "\n",
    "We can arbitrarily combine batch experiments and parallel experiments into nested metaexperiments (so long as the parallel experiment components are defined on different qubits of course).\n",
    "\n",
    "For example we can consider the following contribed example involving multiple layers of batch and parallel tomography experiments:"
   ]
  },
  {
   "cell_type": "code",
   "execution_count": 11,
   "metadata": {},
   "outputs": [
    {
     "data": {
      "text/plain": [
       "---------------------------------------------------\n",
       "Experiment: BatchExperiment\n",
       "Experiment ID: 774e31f4-cbe0-4166-968b-43b4fbfe8eda\n",
       "Status: COMPLETE\n",
       "Component Experiments: 3\n",
       "Circuits: 24\n",
       "Analysis Results: 1\n",
       "---------------------------------------------------\n",
       "Last Analysis Result\n",
       "- experiment_types: ['ParallelExperiment', 'BatchExperiment', 'QSTExperiment']\n",
       "- experiment_ids: ['5c59295f-8ec8-498d-b9ca-6291b3145304', '1e187167-a079-4600-9a4f-183942abea2d', 'f0e04804-ea1a-4ef0-8d3a-cba54acfbbab']\n",
       "- experiment_qubits: [(3, 0, 4, 1), (4, 1), (3, 0)]"
      ]
     },
     "execution_count": 11,
     "metadata": {},
     "output_type": "execute_result"
    }
   ],
   "source": [
    "big_exp = qe.composite.BatchExperiment([\n",
    "            qe.composite.ParallelExperiment([exp3, qe.composite.ParallelExperiment([exp1, exp2])]),\n",
    "            qe.composite.BatchExperiment([exp1, exp2]),\n",
    "            exp3])\n",
    "big_data = big_exp.run(backend)\n",
    "big_data"
   ]
  },
  {
   "cell_type": "code",
   "execution_count": 12,
   "metadata": {},
   "outputs": [
    {
     "name": "stdout",
     "output_type": "stream",
     "text": [
      "---------------------------------------------------\n",
      "Experiment: ParallelExperiment\n",
      "Experiment ID: 5c59295f-8ec8-498d-b9ca-6291b3145304\n",
      "Status: COMPLETE\n",
      "Component Experiments: 2\n",
      "Circuits: 9\n",
      "Analysis Results: 1\n",
      "---------------------------------------------------\n",
      "Last Analysis Result\n",
      "- experiment_types: ['QSTExperiment', 'ParallelExperiment']\n",
      "- experiment_ids: ['b2451047-dd2d-4c17-bfc5-5e70094e55a3', '11b3194b-ecb8-4f30-9865-ea45d56b5561']\n",
      "- experiment_qubits: [(3, 0), (4, 1)] \n",
      "\n",
      "---------------------------------------------------\n",
      "Experiment: BatchExperiment\n",
      "Experiment ID: 1e187167-a079-4600-9a4f-183942abea2d\n",
      "Status: COMPLETE\n",
      "Component Experiments: 2\n",
      "Circuits: 6\n",
      "Analysis Results: 1\n",
      "---------------------------------------------------\n",
      "Last Analysis Result\n",
      "- experiment_types: ['QSTExperiment', 'QSTExperiment']\n",
      "- experiment_ids: ['7712035e-187b-4ff4-bf5c-f8804c8c2f36', 'a532322f-cf5c-49b8-894f-584cb4c118e9']\n",
      "- experiment_qubits: [(4,), (1,)] \n",
      "\n",
      "---------------------------------------------------\n",
      "Experiment: QSTExperiment\n",
      "Experiment ID: f0e04804-ea1a-4ef0-8d3a-cba54acfbbab\n",
      "Status: COMPLETE\n",
      "Circuits: 9\n",
      "Analysis Results: 1\n",
      "---------------------------------------------------\n",
      "Last Analysis Result\n",
      "- value: DensityMatrix([[ 0.49720039+0.j          0.00384124+0.00727339j\n",
      "                -0.00555581+0.00498785j  0.49290579-0.0093256j ]\n",
      "               [ 0.00384124-0.00727339j  0.00304793+0.j\n",
      "                -0.00108376-0.00263309j  0.00121139-0.00355234j]\n",
      "               [-0.00555581-0.00498785j -0.00108376+0.00263309j\n",
      "                 0.00314077+0.j         -0.00818695-0.00859335j]\n",
      "               [ 0.49290579+0.0093256j   0.00121139+0.00355234j\n",
      "                -0.00818695+0.00859335j  0.49568058+0.j        ]]) \n",
      "\n"
     ]
    }
   ],
   "source": [
    "# print sub experiments\n",
    "# We could also print the sub^2-experiments of the parallel and batch sub-experiments\n",
    "\n",
    "for i in range(3):\n",
    "    print(big_data.component_experiment_data(i), '\\n')"
   ]
  }
 ],
 "metadata": {
  "kernelspec": {
   "display_name": "Python [conda env:qiskit-dev]",
   "language": "python",
   "name": "conda-env-qiskit-dev-py"
  },
  "language_info": {
   "codemirror_mode": {
    "name": "ipython",
    "version": 3
   },
   "file_extension": ".py",
   "mimetype": "text/x-python",
   "name": "python",
   "nbconvert_exporter": "python",
   "pygments_lexer": "ipython3",
   "version": "3.7.7"
  }
 },
 "nbformat": 4,
 "nbformat_minor": 4
}
