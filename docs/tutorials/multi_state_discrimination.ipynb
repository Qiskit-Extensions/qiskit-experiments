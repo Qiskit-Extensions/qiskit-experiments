{
 "cells": [
  {
   "cell_type": "markdown",
   "id": "661bfb2e",
   "metadata": {},
   "source": [
    "# Multi State Discrimination\n",
    "\n",
    "In this tutorial we show how to set up an experiment to discriminate between the first $n$ energy states. The experiment will create $n$ circuits that prepare, respectively, the states $|0\\rangle, \\cdots, |n-1\\rangle$. The measured data is then used to train a discriminator.\n",
    "\n",
    "Here we will take $n=3$ and thus discriminate between $|0\\rangle, |1\\rangle$ and $|2\\rangle$.\n",
    "\n",
    "## Calibrate schedules\n",
    "\n",
    "The first step is to calibrate the pulse schedules that take the energy level $|i\\rangle$ to $|i+1\\rangle$. These schedules will be later used to build the $n$ circuits for the experiment."
   ]
  },
  {
   "cell_type": "code",
   "execution_count": 1,
   "id": "0da985c6",
   "metadata": {},
   "outputs": [],
   "source": [
    "import pandas as pd\n",
    "\n",
    "from qiskit import IBMQ, pulse\n",
    "\n",
    "from qiskit.circuit import Parameter\n",
    "from qiskit_experiments.calibration_management import Calibrations\n",
    "from qiskit_experiments.library import EFRoughXSXAmplitudeCal"
   ]
  },
  {
   "cell_type": "code",
   "execution_count": 2,
   "id": "8771cded",
   "metadata": {},
   "outputs": [],
   "source": [
    "IBMQ.load_account()\n",
    "provider = IBMQ.get_provider(hub='ibm-q-internal', group='deployed', project='default')\n",
    "backend = provider.get_backend('ibm_perth')"
   ]
  },
  {
   "cell_type": "code",
   "execution_count": 3,
   "id": "85754420",
   "metadata": {},
   "outputs": [],
   "source": [
    "qubit = 0"
   ]
  },
  {
   "cell_type": "code",
   "execution_count": 4,
   "id": "2cc5c214",
   "metadata": {},
   "outputs": [],
   "source": [
    "# get schedule for |1> -> |2>\n",
    "cals = Calibrations.from_backend(backend)\n",
    "\n",
    "props = backend.properties()\n",
    "\n",
    "anharm = props.qubit_property(qubit)['anharmonicity'][0]\n",
    "\n",
    "chan = Parameter('ch0')\n",
    "amp_x = Parameter('amp')\n",
    "amp_sx = Parameter('amp')\n",
    "\n",
    "with pulse.build(name='x12') as x12:\n",
    "    pulse.shift_frequency(anharm, pulse.DriveChannel(chan))\n",
    "    pulse.play(pulse.Gaussian(160, amp_x, sigma=40), pulse.DriveChannel(chan))\n",
    "    pulse.shift_frequency(-anharm, pulse.DriveChannel(chan))\n",
    "    \n",
    "with pulse.build(name='sx12') as sx12:\n",
    "    pulse.shift_frequency(anharm, pulse.DriveChannel(chan))\n",
    "    pulse.play(pulse.Gaussian(160, amp_sx, sigma=40), pulse.DriveChannel(chan))\n",
    "    pulse.shift_frequency(-anharm, pulse.DriveChannel(chan))\n",
    "    \n",
    "cals.add_schedule(x12, qubits=qubit, num_qubits=1)\n",
    "cals.add_schedule(sx12, qubits=qubit, num_qubits=1)\n",
    "cals.add_parameter_value(0.5, \"amp\", qubits=qubit, schedule=x12)\n",
    "cals.add_parameter_value(0.25, \"amp\", qubits=qubit, schedule=sx12)"
   ]
  },
  {
   "cell_type": "code",
   "execution_count": 5,
   "id": "c7ce113c",
   "metadata": {},
   "outputs": [
    {
     "name": "stderr",
     "output_type": "stream",
     "text": [
      "Job was cancelled before completion [Job ID: 636536c3b54402a783cb5e81]\n"
     ]
    }
   ],
   "source": [
    "# Create Rabi experiment\n",
    "exp = EFRoughXSXAmplitudeCal(qubit, cals, backend=backend)\n",
    "exp_data = exp.run()"
   ]
  },
  {
   "cell_type": "code",
   "execution_count": 6,
   "id": "b1f6aabd",
   "metadata": {},
   "outputs": [
    {
     "data": {
      "text/plain": [
       "<ExperimentStatus.DONE: 'experiment jobs and analysis have successfully run'>"
      ]
     },
     "execution_count": 6,
     "metadata": {},
     "output_type": "execute_result"
    }
   ],
   "source": [
    "exp_data.status()"
   ]
  },
  {
   "cell_type": "code",
   "execution_count": 7,
   "id": "9cc1ad19",
   "metadata": {},
   "outputs": [
    {
     "data": {
      "text/html": [
       "<div>\n",
       "<style scoped>\n",
       "    .dataframe tbody tr th:only-of-type {\n",
       "        vertical-align: middle;\n",
       "    }\n",
       "\n",
       "    .dataframe tbody tr th {\n",
       "        vertical-align: top;\n",
       "    }\n",
       "\n",
       "    .dataframe thead th {\n",
       "        text-align: right;\n",
       "    }\n",
       "</style>\n",
       "<table border=\"1\" class=\"dataframe\">\n",
       "  <thead>\n",
       "    <tr style=\"text-align: right;\">\n",
       "      <th></th>\n",
       "      <th>parameter</th>\n",
       "      <th>qubits</th>\n",
       "      <th>schedule</th>\n",
       "      <th>value</th>\n",
       "      <th>group</th>\n",
       "      <th>valid</th>\n",
       "      <th>date_time</th>\n",
       "      <th>exp_id</th>\n",
       "    </tr>\n",
       "  </thead>\n",
       "  <tbody>\n",
       "    <tr>\n",
       "      <th>0</th>\n",
       "      <td>drive_freq</td>\n",
       "      <td>(0,)</td>\n",
       "      <td>None</td>\n",
       "      <td>5.157545e+09+0.000000e+00j</td>\n",
       "      <td>default</td>\n",
       "      <td>True</td>\n",
       "      <td>2022-11-02 09:11:29.225310+0100</td>\n",
       "      <td>None</td>\n",
       "    </tr>\n",
       "    <tr>\n",
       "      <th>1</th>\n",
       "      <td>amp</td>\n",
       "      <td>(0,)</td>\n",
       "      <td>x12</td>\n",
       "      <td>1.239369e-01+0.000000e+00j</td>\n",
       "      <td>default</td>\n",
       "      <td>True</td>\n",
       "      <td>2022-11-02 09:40:41.621000+0100</td>\n",
       "      <td>7e80f8e2-3a38-4c4a-ae7f-9cb71a894ca2</td>\n",
       "    </tr>\n",
       "    <tr>\n",
       "      <th>2</th>\n",
       "      <td>meas_freq</td>\n",
       "      <td>(0,)</td>\n",
       "      <td>None</td>\n",
       "      <td>7.163116e+09+0.000000e+00j</td>\n",
       "      <td>default</td>\n",
       "      <td>True</td>\n",
       "      <td>2022-11-02 09:11:29.225310+0100</td>\n",
       "      <td>None</td>\n",
       "    </tr>\n",
       "    <tr>\n",
       "      <th>3</th>\n",
       "      <td>amp</td>\n",
       "      <td>(0,)</td>\n",
       "      <td>sx12</td>\n",
       "      <td>6.196845e-02+0.000000e+00j</td>\n",
       "      <td>default</td>\n",
       "      <td>True</td>\n",
       "      <td>2022-11-02 09:40:41.621000+0100</td>\n",
       "      <td>7e80f8e2-3a38-4c4a-ae7f-9cb71a894ca2</td>\n",
       "    </tr>\n",
       "  </tbody>\n",
       "</table>\n",
       "</div>"
      ],
      "text/plain": [
       "    parameter qubits schedule                       value    group  valid  \\\n",
       "0  drive_freq   (0,)     None  5.157545e+09+0.000000e+00j  default   True   \n",
       "1         amp   (0,)      x12  1.239369e-01+0.000000e+00j  default   True   \n",
       "2   meas_freq   (0,)     None  7.163116e+09+0.000000e+00j  default   True   \n",
       "3         amp   (0,)     sx12  6.196845e-02+0.000000e+00j  default   True   \n",
       "\n",
       "                         date_time                                exp_id  \n",
       "0  2022-11-02 09:11:29.225310+0100                                  None  \n",
       "1  2022-11-02 09:40:41.621000+0100  7e80f8e2-3a38-4c4a-ae7f-9cb71a894ca2  \n",
       "2  2022-11-02 09:11:29.225310+0100                                  None  \n",
       "3  2022-11-02 09:40:41.621000+0100  7e80f8e2-3a38-4c4a-ae7f-9cb71a894ca2  "
      ]
     },
     "execution_count": 7,
     "metadata": {},
     "output_type": "execute_result"
    }
   ],
   "source": [
    "pd.DataFrame(**cals.parameters_table(qubit_list=[0,()]))"
   ]
  },
  {
   "cell_type": "markdown",
   "id": "c3b9cbc0",
   "metadata": {},
   "source": [
    "## Discriminator experiment\n",
    "\n",
    "Now that the pulse schedules are calibrated we can build the multi state discriminator experiment. The calibrated schedules are used as an initialisation argument for the experiment."
   ]
  },
  {
   "cell_type": "code",
   "execution_count": 8,
   "id": "e0fa19ae",
   "metadata": {},
   "outputs": [],
   "source": [
    "from qiskit_experiments.library import MultiStateDiscrimination\n",
    "exp_disc = MultiStateDiscrimination(qubit, n_states=3, backend=backend, schedules={'x12':cals.get_schedule('x12', qubit)})"
   ]
  },
  {
   "cell_type": "markdown",
   "id": "2996bd29",
   "metadata": {},
   "source": [
    "The circuits preparing the different energy levels are of the form:"
   ]
  },
  {
   "cell_type": "code",
   "execution_count": 9,
   "id": "8d921924",
   "metadata": {},
   "outputs": [
    {
     "data": {
      "text/html": [
       "<pre style=\"word-wrap: normal;white-space: pre;background: #fff0;line-height: 1.1;font-family: &quot;Courier New&quot;,Courier,monospace\">       ░ ┌─┐\n",
       "   q: ─░─┤M├\n",
       "       ░ └╥┘\n",
       "meas: ════╩═\n",
       "            </pre>"
      ],
      "text/plain": [
       "       ░ ┌─┐\n",
       "   q: ─░─┤M├\n",
       "       ░ └╥┘\n",
       "meas: ════╩═\n",
       "            "
      ]
     },
     "execution_count": 9,
     "metadata": {},
     "output_type": "execute_result"
    }
   ],
   "source": [
    "# circuit preparing |0>\n",
    "exp_disc.circuits()[0].draw()"
   ]
  },
  {
   "cell_type": "code",
   "execution_count": 10,
   "id": "d01e62f7",
   "metadata": {},
   "outputs": [
    {
     "data": {
      "text/html": [
       "<pre style=\"word-wrap: normal;white-space: pre;background: #fff0;line-height: 1.1;font-family: &quot;Courier New&quot;,Courier,monospace\">      ┌───┐ ░ ┌─┐\n",
       "   q: ┤ X ├─░─┤M├\n",
       "      └───┘ ░ └╥┘\n",
       "meas: ═════════╩═\n",
       "                 </pre>"
      ],
      "text/plain": [
       "      ┌───┐ ░ ┌─┐\n",
       "   q: ┤ X ├─░─┤M├\n",
       "      └───┘ ░ └╥┘\n",
       "meas: ═════════╩═\n",
       "                 "
      ]
     },
     "execution_count": 10,
     "metadata": {},
     "output_type": "execute_result"
    }
   ],
   "source": [
    "# circuit preparing |1>\n",
    "exp_disc.circuits()[1].draw()"
   ]
  },
  {
   "cell_type": "code",
   "execution_count": 11,
   "id": "2d8d1964",
   "metadata": {},
   "outputs": [
    {
     "data": {
      "text/html": [
       "<pre style=\"word-wrap: normal;white-space: pre;background: #fff0;line-height: 1.1;font-family: &quot;Courier New&quot;,Courier,monospace\">      ┌───┐┌─────┐ ░ ┌─┐\n",
       "   q: ┤ X ├┤ x12 ├─░─┤M├\n",
       "      └───┘└─────┘ ░ └╥┘\n",
       "meas: ════════════════╩═\n",
       "                        </pre>"
      ],
      "text/plain": [
       "      ┌───┐┌─────┐ ░ ┌─┐\n",
       "   q: ┤ X ├┤ x12 ├─░─┤M├\n",
       "      └───┘└─────┘ ░ └╥┘\n",
       "meas: ════════════════╩═\n",
       "                        "
      ]
     },
     "execution_count": 11,
     "metadata": {},
     "output_type": "execute_result"
    }
   ],
   "source": [
    "# circuit preparing |2>\n",
    "exp_disc.circuits()[2].draw()"
   ]
  },
  {
   "cell_type": "code",
   "execution_count": 12,
   "id": "4795ea07",
   "metadata": {},
   "outputs": [],
   "source": [
    "exp_data_disc = exp_disc.run()"
   ]
  },
  {
   "cell_type": "code",
   "execution_count": null,
   "id": "c4d5d4d7",
   "metadata": {},
   "outputs": [],
   "source": [
    "exp_disc.analysis_results"
   ]
  },
  {
   "cell_type": "code",
   "execution_count": null,
   "id": "c123de3a",
   "metadata": {},
   "outputs": [],
   "source": [
    "exp_data_disc.figure(0)"
   ]
  }
 ],
 "metadata": {
  "kernelspec": {
   "display_name": "extrapolation",
   "language": "python",
   "name": "extrapolation"
  },
  "language_info": {
   "codemirror_mode": {
    "name": "ipython",
    "version": 3
   },
   "file_extension": ".py",
   "mimetype": "text/x-python",
   "name": "python",
   "nbconvert_exporter": "python",
   "pygments_lexer": "ipython3",
   "version": "3.9.4"
  }
 },
 "nbformat": 4,
 "nbformat_minor": 5
}
