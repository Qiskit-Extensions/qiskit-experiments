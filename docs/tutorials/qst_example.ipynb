{
 "cells": [
  {
   "cell_type": "markdown",
   "metadata": {},
   "source": [
    "# Quantum State Tomography"
   ]
  },
  {
   "cell_type": "code",
   "execution_count": 1,
   "metadata": {},
   "outputs": [],
   "source": [
    "import qiskit\n",
    "import qiskit_experiments as qe\n",
    "tomo = qe.tomography\n",
    "\n",
    "# For simulation\n",
    "from qiskit.providers.aer import AerSimulator\n",
    "from qiskit.test.mock import FakeParis\n",
    "\n",
    "# Noisy simulator backend\n",
    "backend = AerSimulator.from_backend(FakeParis())"
   ]
  },
  {
   "cell_type": "markdown",
   "metadata": {},
   "source": [
    "## State Tomography Experiment\n",
    "\n",
    "To run a state tomography experiment we initialize the experiment with a circuit to prepare the state to be measured. We can also pass in an `Operator`, or a `Statevector` to describe the preparation circuit."
   ]
  },
  {
   "cell_type": "code",
   "execution_count": 2,
   "metadata": {},
   "outputs": [
    {
     "name": "stdout",
     "output_type": "stream",
     "text": [
      "FIT RESULT\n",
      "state: DensityMatrix([[ 4.87955729e-01+0.j        ,  6.99869792e-03-0.00585938j,\n",
      "                -3.25520833e-04-0.02490234j,  5.37109375e-03-0.44775391j],\n",
      "               [ 6.99869792e-03+0.00585938j,  3.38541667e-02+0.j        ,\n",
      "                -4.39453125e-03-0.00537109j,  3.58072917e-03-0.00830078j],\n",
      "               [-3.25520833e-04+0.02490234j, -4.39453125e-03+0.00537109j,\n",
      "                 2.37630208e-02+0.j        ,  1.28580729e-02-0.01953125j],\n",
      "               [ 5.37109375e-03+0.44775391j,  3.58072917e-03+0.00830078j,\n",
      "                 1.28580729e-02+0.01953125j,  4.54427083e-01+0.j        ]],\n",
      "              dims=(2, 2))\n",
      "fitter: linear_inversion\n",
      "fitter_time: 0.002052783966064453\n",
      "state_eigvals: [0.92046815 0.04229466 0.03198052 0.00525667]\n",
      "state_trace: 1.0000000000000004\n",
      "value: 0.9189453125000002\n",
      "value_label: state_fidelity\n",
      "success: True\n"
     ]
    }
   ],
   "source": [
    "# Run experiments\n",
    "\n",
    "# GHZ State preparation circuit\n",
    "nq = 2\n",
    "qc_ghz = qiskit.QuantumCircuit(nq)\n",
    "qc_ghz.h(0)\n",
    "qc_ghz.s(0)\n",
    "for i in range(1, nq):\n",
    "    qc_ghz.cx(0, i)\n",
    "\n",
    "# QST Experiment\n",
    "qstexp1 = tomo.StateTomography(qc_ghz)\n",
    "qstdata1 = qstexp1.run(backend, seed_simulation=100)\n",
    "qstresult = qstdata1.analysis_result(-1)\n",
    "\n",
    "print('FIT RESULT')\n",
    "for key, val in qstresult.items():\n",
    "    print(f'{key}:', val)"
   ]
  },
  {
   "cell_type": "markdown",
   "metadata": {},
   "source": [
    "### Tomography Results\n",
    "\n",
    "The main results for tomography are the fitted state, which is stored in the `\"state\"` key as a `DensityMatrix` object:"
   ]
  },
  {
   "cell_type": "code",
   "execution_count": 3,
   "metadata": {},
   "outputs": [
    {
     "name": "stdout",
     "output_type": "stream",
     "text": [
      "DensityMatrix([[ 4.87955729e-01+0.j        ,  6.99869792e-03-0.00585938j,\n",
      "                -3.25520833e-04-0.02490234j,  5.37109375e-03-0.44775391j],\n",
      "               [ 6.99869792e-03+0.00585938j,  3.38541667e-02+0.j        ,\n",
      "                -4.39453125e-03-0.00537109j,  3.58072917e-03-0.00830078j],\n",
      "               [-3.25520833e-04+0.02490234j, -4.39453125e-03+0.00537109j,\n",
      "                 2.37630208e-02+0.j        ,  1.28580729e-02-0.01953125j],\n",
      "               [ 5.37109375e-03+0.44775391j,  3.58072917e-03+0.00830078j,\n",
      "                 1.28580729e-02+0.01953125j,  4.54427083e-01+0.j        ]],\n",
      "              dims=(2, 2))\n"
     ]
    }
   ],
   "source": [
    "print(qstresult[\"state\"])"
   ]
  },
  {
   "cell_type": "markdown",
   "metadata": {},
   "source": [
    "Additional data stored in the tomography result including:\n",
    "- `\"value\"`: The `state_fidelity` with the ideal target state\n",
    "- `\"state_trace\"`: The trace of the fitted state (sum of state eigenvalues)\n",
    "- `\"state_eigvals\"`: the eigenvalues of the fitted state"
   ]
  },
  {
   "cell_type": "code",
   "execution_count": 4,
   "metadata": {},
   "outputs": [
    {
     "name": "stdout",
     "output_type": "stream",
     "text": [
      "State fidelity = 0.9189453125000002\n",
      "State eigenvalues = [0.92046815 0.04229466 0.03198052 0.00525667]\n",
      "State trace = 1.0000000000000004\n"
     ]
    }
   ],
   "source": [
    "print(\"State fidelity =\", qstresult[\"value\"])\n",
    "print(\"State eigenvalues =\", qstresult[\"state_eigvals\"])\n",
    "print(\"State trace =\", qstresult[\"state_trace\"])"
   ]
  },
  {
   "cell_type": "markdown",
   "metadata": {},
   "source": [
    "#### Additional result metadata\n",
    "\n",
    "If the fitted returned a non-positive hat was rescaled to be PSD there will be additional fields in the metadata containing the raw (unscaled) eigenvalues:\n",
    "\n",
    "- `\"raw_eigenvalues\"`: the eigenvalues of the state before rescaling\n",
    "- `\"rescaled_psd:` : True if PSD rescaling was performed.\n",
    "\n",
    "If trace rescaling was performed because the input state was not trace 1, there will also be extra fields:\n",
    "- `\"raw_trace\"`: the sum of the raw eigenvalues before rescaling\n",
    "- `\"rescaled_trace\"`: True if trace rescaling was performed"
   ]
  },
  {
   "cell_type": "markdown",
   "metadata": {},
   "source": [
    "To see the effect of rescaling we can perform a \"bad\" fit with very low counts"
   ]
  },
  {
   "cell_type": "code",
   "execution_count": 5,
   "metadata": {},
   "outputs": [
    {
     "name": "stdout",
     "output_type": "stream",
     "text": [
      "FIT RESULT\n",
      "state: DensityMatrix([[ 0.48466135+0.00000000e+00j,  0.0351084 +5.00191453e-02j,\n",
      "                -0.06052864-2.99669459e-02j,  0.00565657-3.99468876e-01j],\n",
      "               [ 0.0351084 -5.00191453e-02j,  0.02085624+3.25260652e-19j,\n",
      "                -0.02773083+2.44702872e-02j, -0.0066963 -3.71313180e-02j],\n",
      "               [-0.06052864+2.99669459e-02j, -0.02773083-2.44702872e-02j,\n",
      "                 0.0722317 +0.00000000e+00j, -0.0403584 +9.04506868e-03j],\n",
      "               [ 0.00565657+3.99468876e-01j, -0.0066963 +3.71313180e-02j,\n",
      "                -0.0403584 -9.04506868e-03j,  0.42225071+0.00000000e+00j]],\n",
      "              dims=(2, 2))\n",
      "fitter: linear_inversion\n",
      "fitter_time: 0.0014231204986572266\n",
      "rescaled_psd: True\n",
      "state_eigvals: [0.8630812 0.1369188 0.        0.       ]\n",
      "raw_eigvals: [ 0.96091694  0.23475455 -0.03939899 -0.1562725 ]\n",
      "state_trace: 0.9999999999999984\n",
      "value: 0.8529249072196502\n",
      "value_label: state_fidelity\n",
      "success: True\n"
     ]
    }
   ],
   "source": [
    "# QST Experiment\n",
    "bad_data = qstexp1.run(backend, shots=10, seed_simulation=100)\n",
    "bad_result = bad_data.analysis_result(-1)\n",
    "\n",
    "print('FIT RESULT')\n",
    "for key, val in bad_result.items():\n",
    "    print(f'{key}:', val)"
   ]
  },
  {
   "cell_type": "markdown",
   "metadata": {},
   "source": [
    "## Tomography Fitters\n",
    "\n",
    "The default fitters is `linear_inversion`, which reconstructs the state using *dual basis* of the tomography basis. This will typically result in a non-postive reconstructed state. This state is rescaled to be postive-semidfinite (PSD) by computing its eigen-decomposition and rescaling its eigenvalues using the approach from *J Smolin, JM Gambetta, G Smith, Phys. Rev. Lett. 108, 070502 (2012), [open access](https://arxiv.org/abs/arXiv:1106.5458).\n",
    "\n",
    "There are several other fitters are included (See API documentation for details). For example if `cvxpy` is installed we can use the `cvxpy_gaussian_lstsq` fitter which allows constraining the fit to be PSD without requiring rescaling."
   ]
  },
  {
   "cell_type": "code",
   "execution_count": 6,
   "metadata": {},
   "outputs": [
    {
     "name": "stdout",
     "output_type": "stream",
     "text": [
      "FIT RESULT\n",
      "state: DensityMatrix([[ 4.87955754e-01+0.00000000e+00j,\n",
      "                 6.99870000e-03-5.85933455e-03j,\n",
      "                -3.25598752e-04-2.49023865e-02j,\n",
      "                 5.37110228e-03-4.47754024e-01j],\n",
      "               [ 6.99870000e-03+5.85933455e-03j,\n",
      "                 3.38541760e-02+0.00000000e+00j,\n",
      "                -4.39458616e-03-5.37112965e-03j,\n",
      "                 3.58076870e-03-8.30077829e-03j],\n",
      "               [-3.25598752e-04+2.49023865e-02j,\n",
      "                -4.39458616e-03+5.37112965e-03j,\n",
      "                 2.37629662e-02-1.73472348e-18j,\n",
      "                 1.28580366e-02-1.95313352e-02j],\n",
      "               [ 5.37110228e-03+4.47754024e-01j,\n",
      "                 3.58076870e-03+8.30077829e-03j,\n",
      "                 1.28580366e-02+1.95313352e-02j,\n",
      "                 4.54427104e-01+0.00000000e+00j]],\n",
      "              dims=(2, 2))\n",
      "cvxpy_solver: CVXOPT\n",
      "cvxpy_status: optimal\n",
      "fitter: cvxpy_linear_lstsq\n",
      "fitter_time: 0.06333804130554199\n",
      "rescaled_trace: True\n",
      "state_eigvals: [0.92046829 0.04229472 0.03198053 0.00525646]\n",
      "raw_eigvals: [0.92046825 0.04229472 0.03198053 0.00525646]\n",
      "state_trace: 1.0\n",
      "raw_trace: 0.9999999534571753\n",
      "value: 0.918945453003044\n",
      "value_label: state_fidelity\n",
      "success: True\n"
     ]
    }
   ],
   "source": [
    "qstexp1.run_analysis(qstdata1, fitter='cvxpy_linear_lstsq')\n",
    "qstresult2 = qstdata1.analysis_result(-1)\n",
    "\n",
    "print('FIT RESULT')\n",
    "for key, val in qstresult2.items():\n",
    "    print(f'{key}:', val)"
   ]
  },
  {
   "cell_type": "markdown",
   "metadata": {},
   "source": [
    "## Parallel Tomography Experiment\n",
    "\n",
    "We can also use the `qiskit_experiments.ParallelExperiment` class to run subsystem tomography on multiple qubits in parallel.\n",
    "\n",
    "For example if we want to perform 1-qubit QST on several qubits at once:"
   ]
  },
  {
   "cell_type": "code",
   "execution_count": 7,
   "metadata": {},
   "outputs": [
    {
     "name": "stdout",
     "output_type": "stream",
     "text": [
      "\n",
      "- experiment_types: ['StateTomography', 'StateTomography', 'StateTomography', 'StateTomography', 'StateTomography']\n",
      "- experiment_ids: ['a74e8105-c3a4-48a9-8523-82d5999a6337', '49db1987-2719-436d-b447-ffb52d70ef54', 'ee4a0325-938f-476a-8d0e-bc0422cf8747', 'e1e02742-7e44-40b8-aa51-d0da07f3f094', '2b62d974-ab35-4b81-b595-b64322f637cf']\n",
      "- experiment_qubits: [(0,), (1,), (2,), (3,), (4,)]\n",
      "- success: True\n"
     ]
    }
   ],
   "source": [
    "from math import pi\n",
    "num_qubits = 5\n",
    "gates = [qiskit.circuit.library.RXGate(i * pi / (num_qubits - 1))\n",
    "         for i in range(num_qubits)]\n",
    "\n",
    "subexps = [\n",
    "    tomo.StateTomography(gate, qubits=[i])\n",
    "    for i, gate in enumerate(gates)\n",
    "]\n",
    "parexp = qe.composite.ParallelExperiment(subexps)\n",
    "pardata = parexp.run(backend, seed_simulation=100)\n",
    "print(pardata.analysis_result(-1))"
   ]
  },
  {
   "cell_type": "markdown",
   "metadata": {},
   "source": [
    "View component experiment analysis results"
   ]
  },
  {
   "cell_type": "code",
   "execution_count": 8,
   "metadata": {},
   "outputs": [
    {
     "name": "stdout",
     "output_type": "stream",
     "text": [
      "\n",
      "PARALLEL EXP 0: FIT RESULT\n",
      "state: DensityMatrix([[0.98144531+0.j        , 0.05761719-0.00292969j],\n",
      "               [0.05761719+0.00292969j, 0.01855469+0.j        ]],\n",
      "              dims=(2,))\n",
      "fitter: linear_inversion\n",
      "fitter_time: 0.00013399124145507812\n",
      "state_eigvals: [0.98488959 0.01511041]\n",
      "state_trace: 1.0\n",
      "value: 0.9814453124999999\n",
      "value_label: state_fidelity\n",
      "success: True\n",
      "\n",
      "PARALLEL EXP 1: FIT RESULT\n",
      "state: DensityMatrix([[0.85058594+0.j        , 0.01074219+0.31445313j],\n",
      "               [0.01074219-0.31445313j, 0.14941406+0.j        ]],\n",
      "              dims=(2,))\n",
      "fitter: linear_inversion\n",
      "fitter_time: 0.00010800361633300781\n",
      "state_eigvals: [0.9710697 0.0289303]\n",
      "state_trace: 0.9999999999999998\n",
      "value: 0.9702536308476938\n",
      "value_label: state_fidelity\n",
      "success: True\n",
      "\n",
      "PARALLEL EXP 2: FIT RESULT\n",
      "state: DensityMatrix([[0.51953125+0.j        , 0.01464844+0.48242188j],\n",
      "               [0.01464844-0.48242188j, 0.48046875+0.j        ]],\n",
      "              dims=(2,))\n",
      "fitter: linear_inversion\n",
      "fitter_time: 0.00010800361633300781\n",
      "state_eigvals: [0.98303924 0.01696076]\n",
      "state_trace: 0.9999999999999998\n",
      "value: 0.982421875\n",
      "value_label: state_fidelity\n",
      "success: True\n",
      "\n",
      "PARALLEL EXP 3: FIT RESULT\n",
      "state: DensityMatrix([[0.19628906+0.j        , 0.00195312+0.31640625j],\n",
      "               [0.00195312-0.31640625j, 0.80371094+0.j        ]],\n",
      "              dims=(2,))\n",
      "fitter: linear_inversion\n",
      "fitter_time: 0.00010800361633300781\n",
      "state_eigvals: [0.9385853 0.0614147]\n",
      "state_trace: 1.0\n",
      "value: 0.9384890684115796\n",
      "value_label: state_fidelity\n",
      "success: True\n",
      "\n",
      "PARALLEL EXP 4: FIT RESULT\n",
      "state: DensityMatrix([[0.02734375+0.j        , 0.00683594-0.01953125j],\n",
      "               [0.00683594+0.01953125j, 0.97265625+0.j        ]],\n",
      "              dims=(2,))\n",
      "fitter: linear_inversion\n",
      "fitter_time: 0.00010585784912109375\n",
      "state_eigvals: [0.973109 0.026891]\n",
      "state_trace: 1.0\n",
      "value: 0.9726562499999996\n",
      "value_label: state_fidelity\n",
      "success: True\n"
     ]
    }
   ],
   "source": [
    "for i in range(parexp.num_experiments):\n",
    "    expdata = pardata.component_experiment_data(i)\n",
    "    result = expdata.analysis_result(-1)\n",
    "    \n",
    "    print(f'\\nPARALLEL EXP {i}: FIT RESULT')\n",
    "    for key, val in result.items():\n",
    "        print(f'{key}:', val)"
   ]
  }
 ],
 "metadata": {
  "kernelspec": {
   "display_name": "Python [conda env:qiskit-dev]",
   "language": "python",
   "name": "conda-env-qiskit-dev-py"
  },
  "language_info": {
   "codemirror_mode": {
    "name": "ipython",
    "version": 3
   },
   "file_extension": ".py",
   "mimetype": "text/x-python",
   "name": "python",
   "nbconvert_exporter": "python",
   "pygments_lexer": "ipython3",
   "version": "3.7.7"
  }
 },
 "nbformat": 4,
 "nbformat_minor": 4
}
