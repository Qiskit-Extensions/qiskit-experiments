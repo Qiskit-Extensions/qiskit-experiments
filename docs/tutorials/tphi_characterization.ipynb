{
 "cells": [
  {
   "cell_type": "markdown",
   "id": "d90cef84",
   "metadata": {},
   "source": [
    "# $T_\\phi$ characterization"
   ]
  },
  {
   "cell_type": "markdown",
   "id": "16825eb1",
   "metadata": {},
   "source": [
    "T is defined as by T_2* when removing the effect of T1, or more precisely:\n",
    "$1/T_2* = 1/2T_1 + 1/T_\\phi.$\n",
    "We therefore create a composite experiment consisting of a $T_1$ experiment and a $T_2* $ experiment. From the results of these two, we compute the results for T$_\\phi.$"
   ]
  },
  {
   "cell_type": "code",
   "execution_count": 1,
   "id": "bb7abc10",
   "metadata": {
    "scrolled": true
   },
   "outputs": [],
   "source": [
    "import numpy as np\n",
    "import qiskit\n",
    "from qiskit_experiments.library.characterization import Tphi\n",
    "from qiskit_experiments.library.characterization import TphiAnalysis"
   ]
  },
  {
   "cell_type": "code",
   "execution_count": 2,
   "id": "ba59e1ef",
   "metadata": {},
   "outputs": [
    {
     "name": "stdout",
     "output_type": "stream",
     "text": [
      "T1 for FakeVigo = 0.00012170801410836628\n",
      "[1.00e-06 1.10e-05 2.10e-05 3.10e-05 4.10e-05 5.10e-05 6.10e-05 7.10e-05\n",
      " 8.10e-05 9.10e-05 1.01e-04 1.11e-04 1.21e-04 1.31e-04 1.41e-04 1.51e-04\n",
      " 1.61e-04 1.71e-04 1.81e-04 1.91e-04 2.01e-04 2.11e-04 2.21e-04 2.31e-04\n",
      " 2.41e-04 2.51e-04 2.61e-04 2.71e-04 2.81e-04 2.91e-04 3.01e-04 3.11e-04\n",
      " 3.21e-04 3.31e-04 3.41e-04 3.51e-04 3.61e-04]\n",
      "[1e-06, 3e-06, 5e-06, 7.000000000000001e-06, 9.000000000000002e-06, 1.1000000000000003e-05, 1.3000000000000003e-05, 1.5000000000000002e-05, 1.7000000000000003e-05, 1.9000000000000004e-05, 2.1000000000000006e-05, 2.3000000000000003e-05, 2.5000000000000005e-05, 2.7000000000000006e-05, 2.9000000000000004e-05, 3.1e-05, 3.3e-05, 3.5000000000000004e-05, 3.7000000000000005e-05, 3.9000000000000006e-05, 4.100000000000001e-05, 4.3e-05, 4.5e-05, 4.7000000000000004e-05, 4.9000000000000005e-05]\n"
     ]
    }
   ],
   "source": [
    "# An Aer simulator\n",
    "from qiskit.test.mock import FakeVigo\n",
    "from qiskit.providers.aer import AerSimulator\n",
    "from qiskit.providers.aer.noise import NoiseModel\n",
    "\n",
    "# Create a pure relaxation noise model for AerSimulator\n",
    "noise_model = NoiseModel.from_backend(\n",
    "    FakeVigo(), thermal_relaxation=True, gate_error=False, readout_error=False\n",
    ")\n",
    "\n",
    "# Create a fake backend simulator\n",
    "backend = AerSimulator.from_backend(FakeVigo(), noise_model=noise_model)\n",
    "\n",
    "# Look up target T1 of qubit-0 from device properties\n",
    "qubit0_t1 = backend.properties().t1(0)\n",
    "print(\"T1 for FakeVigo = \" + str(qubit0_t1))\n",
    "\n",
    "# Time intervals to wait before measurement\n",
    "delays_t1 = np.arange(1e-6, 3 * qubit0_t1, 1e-5)\n",
    "print(delays_t1)\n",
    "\n",
    "# set the desired delays\n",
    "delays_t2 = list(np.arange(1e-6, 50e-6, 2e-6))\n",
    "print(delays_t2)\n",
    "qubit = 0\n",
    "\n"
   ]
  },
  {
   "cell_type": "code",
   "execution_count": 3,
   "id": "c7154472",
   "metadata": {
    "scrolled": true
   },
   "outputs": [
    {
     "name": "stdout",
     "output_type": "stream",
     "text": [
      "in t2ramsey _set_backend\n"
     ]
    }
   ],
   "source": [
    "# Create an experiment for qubit 0 with the specified time intervals\n",
    "exp = Tphi(qubit=0, delays_t1=delays_t1, delays_t2=delays_t2, osc_freq=1e5)\n",
    "# Set scheduling method so circuit is scheduled for delay noise simulation\n",
    "exp.set_transpile_options(scheduling_method='asap')\n",
    "\n",
    "expdata = exp.run(backend=backend, analysis=TphiAnalysis()).block_for_results()\n",
    "result = expdata.analysis_results(\"T_phi\")"
   ]
  },
  {
   "cell_type": "code",
   "execution_count": 4,
   "id": "1d3c529a",
   "metadata": {},
   "outputs": [
    {
     "name": "stdout",
     "output_type": "stream",
     "text": [
      "DbAnalysisResultV1\n",
      "- name: T_phi\n",
      "- value: 1.1713979863091273e-05 ± 3.1442018893973085e-05\n",
      "- quality: bad\n",
      "- device_components: ['Q0']\n",
      "- verified: False\n"
     ]
    }
   ],
   "source": [
    "# Print the result for T_phi\n",
    "print(result)"
   ]
  },
  {
   "cell_type": "code",
   "execution_count": 5,
   "id": "75b81403",
   "metadata": {
    "scrolled": false
   },
   "outputs": [
    {
     "name": "stdout",
     "output_type": "stream",
     "text": [
      "---------------------------------------------------\n",
      "Experiment: Tphi\n",
      "Experiment ID: 8c52fb0e-3ab3-47a9-8550-1a2d65e1438d\n",
      "Child Experiment Data: 2\n",
      "Status: ExperimentStatus.DONE\n",
      "Backend: aer_simulator(fake_vigo)\n",
      "Data: 62\n",
      "Analysis Results: 1\n",
      "Figures: 0\n"
     ]
    }
   ],
   "source": [
    "# It is possible to see the results of the sub-experiments:\n",
    "print(expdata)"
   ]
  },
  {
   "cell_type": "code",
   "execution_count": 6,
   "id": "5f69ac24",
   "metadata": {},
   "outputs": [
    {
     "name": "stdout",
     "output_type": "stream",
     "text": [
      "DbAnalysisResultV1\n",
      "- name: T1\n",
      "- value: 0.00012318856580158585 ± 2.2075141225835903e-06 s\n",
      "- χ²: 1.4066670765740719\n",
      "- quality: good\n",
      "- device_components: ['Q0']\n",
      "- verified: False\n"
     ]
    }
   ],
   "source": [
    "print(expdata.child_data(0).analysis_results(\"T1\"))"
   ]
  },
  {
   "cell_type": "code",
   "execution_count": 7,
   "id": "17157f4c",
   "metadata": {},
   "outputs": [
    {
     "name": "stdout",
     "output_type": "stream",
     "text": [
      "DbAnalysisResultV1\n",
      "- name: T2star\n",
      "- value: 1.1182317523178244e-05 ± 2.865266987893251e-05 s\n",
      "- χ²: 1.0430271249496532\n",
      "- quality: bad\n",
      "- device_components: ['Q0']\n",
      "- verified: False\n"
     ]
    }
   ],
   "source": [
    "print(expdata.child_data(1).analysis_results(\"T2star\"))"
   ]
  },
  {
   "cell_type": "code",
   "execution_count": null,
   "id": "f64045d7",
   "metadata": {},
   "outputs": [],
   "source": []
  }
 ],
 "metadata": {
  "kernelspec": {
   "display_name": "Python 3",
   "language": "python",
   "name": "python3"
  },
  "language_info": {
   "codemirror_mode": {
    "name": "ipython",
    "version": 3
   },
   "file_extension": ".py",
   "mimetype": "text/x-python",
   "name": "python",
   "nbconvert_exporter": "python",
   "pygments_lexer": "ipython3",
   "version": "3.8.10"
  }
 },
 "nbformat": 4,
 "nbformat_minor": 5
}
