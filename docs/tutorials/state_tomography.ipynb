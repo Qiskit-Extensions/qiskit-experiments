{
 "cells": [
  {
   "cell_type": "markdown",
   "metadata": {},
   "source": [
    "# Quantum State Tomography"
   ]
  },
  {
   "cell_type": "code",
   "execution_count": 1,
   "metadata": {},
   "outputs": [],
   "source": [
    "import qiskit\n",
    "from qiskit_experiments.framework import ParallelExperiment\n",
    "from qiskit_experiments.library import StateTomography\n",
    "\n",
    "# For simulation\n",
    "from qiskit.providers.aer import AerSimulator\n",
    "from qiskit.test.mock import FakeParis\n",
    "\n",
    "# Noisy simulator backend\n",
    "backend = AerSimulator.from_backend(FakeParis())"
   ]
  },
  {
   "cell_type": "markdown",
   "metadata": {},
   "source": [
    "## State Tomography Experiment\n",
    "\n",
    "To run a state tomography experiment we initialize the experiment with a circuit to prepare the state to be measured. We can also pass in an `Operator`, or a `Statevector` to describe the preparation circuit."
   ]
  },
  {
   "cell_type": "code",
   "execution_count": 2,
   "metadata": {},
   "outputs": [
    {
     "name": "stdout",
     "output_type": "stream",
     "text": [
      "DbAnalysisResultV1\n",
      "- name: state\n",
      "- value: DensityMatrix([[ 0.48079427+0.j        , -0.00732422+0.00585937j,\n",
      "                -0.00358073+0.01155599j,  0.00488281-0.44238281j],\n",
      "               [-0.00732422-0.00585937j,  0.02604167+0.j        ,\n",
      "                 0.00390625+0.00195312j,  0.00813802-0.01188151j],\n",
      "               [-0.00358073-0.01155599j,  0.00390625-0.00195312j,\n",
      "                 0.0218099 +0.j        ,  0.01416016-0.01269531j],\n",
      "               [ 0.00488281+0.44238281j,  0.00813802+0.01188151j,\n",
      "                 0.01416016+0.01269531j,  0.47135417+0.j        ]],\n",
      "              dims=(2, 2))\n",
      "- extra: <4 items>\n",
      "- device_components: ['Q0', 'Q1']\n",
      "- verified: False\n",
      "DbAnalysisResultV1\n",
      "- name: state_fidelity\n",
      "- value: 0.9184570312499998\n",
      "- device_components: ['Q0', 'Q1']\n",
      "- verified: False\n",
      "DbAnalysisResultV1\n",
      "- name: positive\n",
      "- value: True\n",
      "- device_components: ['Q0', 'Q1']\n",
      "- verified: False\n"
     ]
    }
   ],
   "source": [
    "# Run experiments\n",
    "\n",
    "# GHZ State preparation circuit\n",
    "nq = 2\n",
    "qc_ghz = qiskit.QuantumCircuit(nq)\n",
    "qc_ghz.h(0)\n",
    "qc_ghz.s(0)\n",
    "for i in range(1, nq):\n",
    "    qc_ghz.cx(0, i)\n",
    "\n",
    "# QST Experiment\n",
    "qstexp1 = StateTomography(qc_ghz)\n",
    "qstdata1 = qstexp1.run(backend, seed_simulation=100).block_for_results()\n",
    "\n",
    "# Print results\n",
    "for result in qstdata1.analysis_results():\n",
    "    print(result)"
   ]
  },
  {
   "cell_type": "markdown",
   "metadata": {},
   "source": [
    "### Tomography Results\n",
    "\n",
    "The main result for tomography is the fitted state, which is stored as a `DensityMatrix` object:"
   ]
  },
  {
   "cell_type": "code",
   "execution_count": 3,
   "metadata": {},
   "outputs": [
    {
     "name": "stdout",
     "output_type": "stream",
     "text": [
      "DensityMatrix([[ 0.48079427+0.j        , -0.00732422+0.00585937j,\n",
      "                -0.00358073+0.01155599j,  0.00488281-0.44238281j],\n",
      "               [-0.00732422-0.00585937j,  0.02604167+0.j        ,\n",
      "                 0.00390625+0.00195312j,  0.00813802-0.01188151j],\n",
      "               [-0.00358073-0.01155599j,  0.00390625-0.00195312j,\n",
      "                 0.0218099 +0.j        ,  0.01416016-0.01269531j],\n",
      "               [ 0.00488281+0.44238281j,  0.00813802+0.01188151j,\n",
      "                 0.01416016+0.01269531j,  0.47135417+0.j        ]],\n",
      "              dims=(2, 2))\n"
     ]
    }
   ],
   "source": [
    "state_result = qstdata1.analysis_results(\"state\")\n",
    "print(state_result.value)"
   ]
  },
  {
   "cell_type": "markdown",
   "metadata": {},
   "source": [
    "The state fidelity of the fitted state with the ideal state prepared by the input circuit is stored in the `\"state_fidelity\"` result field. Note that if the input circuit contained any measurements the ideal state cannot be automatically generated and this field will be set to `None`."
   ]
  },
  {
   "cell_type": "code",
   "execution_count": 4,
   "metadata": {},
   "outputs": [
    {
     "name": "stdout",
     "output_type": "stream",
     "text": [
      "State Fidelity = 0.91846\n"
     ]
    }
   ],
   "source": [
    "fid_result = qstdata1.analysis_results(\"state_fidelity\")\n",
    "print(\"State Fidelity = {:.5f}\".format(fid_result.value))"
   ]
  },
  {
   "cell_type": "markdown",
   "metadata": {},
   "source": [
    "#### Additional state metadata\n",
    "\n",
    "Additional data is stored in the tomography under the `\"state_metadata\"` field. This includes\n",
    "- `eigvals`: the eigenvalues of the fitted state\n",
    "- `trace`: the trace of the fitted state\n",
    "- `positive`: Whether the eigenvalues are all non-negative\n",
    "- `positive_delta`: the deviation from positivity given by 1-norm of negative eigenvalues.\n",
    "\n",
    "If trace rescaling was performed this dictionary will also contain a `raw_trace` field containing the trace before rescaling.\n",
    "Futhermore, if the state was rescaled to be positive or trace 1 an additional field `raw_eigvals` will contain the state eigenvalues before rescaling was performed."
   ]
  },
  {
   "cell_type": "code",
   "execution_count": 5,
   "metadata": {},
   "outputs": [
    {
     "data": {
      "text/plain": [
       "{'fitter': 'linear_inversion',\n",
       " 'fitter_time': 0.002582073211669922,\n",
       " 'eigvals': array([0.91857346, 0.05769817, 0.02190643, 0.00182194]),\n",
       " 'trace': 0.9999999999999998}"
      ]
     },
     "execution_count": 5,
     "metadata": {},
     "output_type": "execute_result"
    }
   ],
   "source": [
    "state_result.extra"
   ]
  },
  {
   "cell_type": "markdown",
   "metadata": {},
   "source": [
    "To see the effect of rescaling we can perform a \"bad\" fit with very low counts"
   ]
  },
  {
   "cell_type": "code",
   "execution_count": 6,
   "metadata": {},
   "outputs": [
    {
     "name": "stdout",
     "output_type": "stream",
     "text": [
      "DbAnalysisResultV1\n",
      "- name: state\n",
      "- value: DensityMatrix([[ 0.48229097+0.j        , -0.05136656-0.01922528j,\n",
      "                -0.00576701+0.05963492j, -0.2045793 -0.32837222j],\n",
      "               [-0.05136656+0.01922528j,  0.12109684+0.j        ,\n",
      "                -0.04873269-0.00115347j, -0.04065805-0.00651795j],\n",
      "               [-0.00576701-0.05963492j, -0.04873269+0.00115347j,\n",
      "                 0.02690666+0.j        , -0.00884281+0.04642445j],\n",
      "               [-0.2045793 +0.32837222j, -0.04065805+0.00651795j,\n",
      "                -0.00884281-0.04642445j,  0.36970552+0.j        ]],\n",
      "              dims=(2, 2))\n",
      "- extra: <5 items>\n",
      "- device_components: ['Q0', 'Q1']\n",
      "- verified: False\n"
     ]
    },
    {
     "data": {
      "text/plain": [
       "{'fitter': 'linear_inversion',\n",
       " 'fitter_time': 0.0013988018035888672,\n",
       " 'eigvals': array([0.82391588, 0.17608412, 0.        , 0.        ]),\n",
       " 'raw_eigvals': array([ 0.88353364,  0.23570189,  0.03766169, -0.15689722]),\n",
       " 'trace': 0.999999999999999}"
      ]
     },
     "execution_count": 6,
     "metadata": {},
     "output_type": "execute_result"
    }
   ],
   "source": [
    "# QST Experiment\n",
    "bad_data = qstexp1.run(backend, shots=10, seed_simulation=100).block_for_results()\n",
    "bad_state_result = bad_data.analysis_results(\"state\")\n",
    "\n",
    "# Print result\n",
    "print(bad_state_result)\n",
    "\n",
    "# Show extra data\n",
    "bad_state_result.extra"
   ]
  },
  {
   "cell_type": "markdown",
   "metadata": {},
   "source": [
    "## Tomography Fitters\n",
    "\n",
    "The default fitters is `linear_inversion`, which reconstructs the state using *dual basis* of the tomography basis. This will typically result in a non-postive reconstructed state. This state is rescaled to be postive-semidfinite (PSD) by computing its eigen-decomposition and rescaling its eigenvalues using the approach from *J Smolin, JM Gambetta, G Smith, Phys. Rev. Lett. 108, 070502 (2012), [open access](https://arxiv.org/abs/arXiv:1106.5458).\n",
    "\n",
    "There are several other fitters are included (See API documentation for details). For example if `cvxpy` is installed we can use the `cvxpy_gaussian_lstsq` fitter which allows constraining the fit to be PSD without requiring rescaling."
   ]
  },
  {
   "cell_type": "code",
   "execution_count": 7,
   "metadata": {},
   "outputs": [
    {
     "name": "stdout",
     "output_type": "stream",
     "text": [
      "DbAnalysisResultV1\n",
      "- name: state\n",
      "- value: DensityMatrix([[ 0.49424158+0.00000000e+00j, -0.00841736+1.99277568e-04j,\n",
      "                 0.00598117+5.72570156e-03j,  0.00185319-4.50350231e-01j],\n",
      "               [-0.00841736-1.99277568e-04j,  0.02760711+0.00000000e+00j,\n",
      "                 0.00588045-6.01534114e-03j,  0.01346635-1.33325538e-02j],\n",
      "               [ 0.00598117-5.72570156e-03j,  0.00588045+6.01534114e-03j,\n",
      "                 0.01842177+0.00000000e+00j,  0.01351345-2.41429664e-02j],\n",
      "               [ 0.00185319+4.50350231e-01j,  0.01346635+1.33325538e-02j,\n",
      "                 0.01351345+2.41429664e-02j,  0.45972953+0.00000000e+00j]],\n",
      "              dims=(2, 2))\n",
      "- extra: <8 items>\n",
      "- device_components: ['Q0', 'Q1']\n",
      "- verified: False\n",
      "\n",
      "extra:\n",
      "- cvxpy_solver: CVXOPT\n",
      "- cvxpy_status: optimal\n",
      "- fitter: cvxpy_gaussian_lstsq\n",
      "- fitter_time: 0.03557395935058594\n",
      "- eigvals: [0.9282924  0.05504855 0.01665905 0.        ]\n",
      "- raw_eigvals: [ 9.27753637e-01  5.50166071e-02  1.66493815e-02 -1.24969847e-08]\n",
      "- trace: 1.0\n",
      "- raw_trace: 0.9994196126969401\n"
     ]
    }
   ],
   "source": [
    "try:\n",
    "    import cvxpy\n",
    "    \n",
    "    # Set analysis option for cvxpy fitter\n",
    "    qstexp1.set_analysis_options(fitter='cvxpy_gaussian_lstsq')\n",
    "    \n",
    "    # Re-run experiment\n",
    "    qstdata2 = qstexp1.run(backend, seed_simulation=100).block_for_results()\n",
    "\n",
    "    state_result2 = qstdata2.analysis_results(\"state\")\n",
    "    print(state_result2)   \n",
    "    print(\"\\nextra:\")\n",
    "    for key, val in state_result2.extra.items():\n",
    "        print(f\"- {key}: {val}\")\n",
    "\n",
    "except ModuleNotFoundError:\n",
    "    print(\"CVXPY is not installed\")"
   ]
  },
  {
   "cell_type": "markdown",
   "metadata": {},
   "source": [
    "## Parallel Tomography Experiment\n",
    "\n",
    "We can also use the `qiskit_experiments.ParallelExperiment` class to run subsystem tomography on multiple qubits in parallel.\n",
    "\n",
    "For example if we want to perform 1-qubit QST on several qubits at once:"
   ]
  },
  {
   "cell_type": "code",
   "execution_count": 8,
   "metadata": {},
   "outputs": [
    {
     "name": "stdout",
     "output_type": "stream",
     "text": [
      "DbAnalysisResultV1\n",
      "- name: parallel_experiment\n",
      "- value: 5\n",
      "- extra: <2 items>\n",
      "- device_components: ['Q0', 'Q1', 'Q2', 'Q3', 'Q4']\n",
      "- verified: False\n"
     ]
    }
   ],
   "source": [
    "from math import pi\n",
    "num_qubits = 5\n",
    "gates = [qiskit.circuit.library.RXGate(i * pi / (num_qubits - 1))\n",
    "         for i in range(num_qubits)]\n",
    "\n",
    "subexps = [\n",
    "    StateTomography(gate, qubits=[i])\n",
    "    for i, gate in enumerate(gates)\n",
    "]\n",
    "parexp = ParallelExperiment(subexps)\n",
    "pardata = parexp.run(backend, seed_simulation=100).block_for_results()\n",
    "\n",
    "for result in pardata.analysis_results():\n",
    "    print(result)"
   ]
  },
  {
   "cell_type": "markdown",
   "metadata": {},
   "source": [
    "View component experiment analysis results"
   ]
  },
  {
   "cell_type": "code",
   "execution_count": 9,
   "metadata": {},
   "outputs": [
    {
     "name": "stdout",
     "output_type": "stream",
     "text": [
      "\n",
      "PARALLEL EXP 0\n",
      "State Fidelity: 0.98633\n",
      "State: DensityMatrix([[0.98632812+0.j        , 0.0078125 -0.00195312j],\n",
      "               [0.0078125 +0.00195312j, 0.01367188+0.j        ]],\n",
      "              dims=(2,))\n",
      "\n",
      "PARALLEL EXP 1\n",
      "State Fidelity: 0.98545\n",
      "State: DensityMatrix([[0.84765625+0.j        , 0.00585938+0.33886719j],\n",
      "               [0.00585938-0.33886719j, 0.15234375+0.j        ]],\n",
      "              dims=(2,))\n",
      "\n",
      "PARALLEL EXP 2\n",
      "State Fidelity: 0.97070\n",
      "State: DensityMatrix([[0.52050781+0.j        , 0.01074219+0.47070313j],\n",
      "               [0.01074219-0.47070313j, 0.47949219+0.j        ]],\n",
      "              dims=(2,))\n",
      "\n",
      "PARALLEL EXP 3\n",
      "State Fidelity: 0.98337\n",
      "State: DensityMatrix([[ 0.16601563+0.j        , -0.01953125+0.34960938j],\n",
      "               [-0.01953125-0.34960938j,  0.83398437+0.j        ]],\n",
      "              dims=(2,))\n",
      "\n",
      "PARALLEL EXP 4\n",
      "State Fidelity: 0.97559\n",
      "State: DensityMatrix([[ 0.02441406+0.j        , -0.01855469-0.01074219j],\n",
      "               [-0.01855469+0.01074219j,  0.97558594+0.j        ]],\n",
      "              dims=(2,))\n"
     ]
    }
   ],
   "source": [
    "for i in range(parexp.num_experiments):\n",
    "    expdata = pardata.component_experiment_data(i)\n",
    "    state_result_i = expdata.analysis_results(\"state\")\n",
    "    fid_result_i = expdata.analysis_results(\"state_fidelity\")\n",
    "    \n",
    "    print(f'\\nPARALLEL EXP {i}')\n",
    "    print(\"State Fidelity: {:.5f}\".format(fid_result_i.value))\n",
    "    print(\"State: {}\".format(state_result_i.value))"
   ]
  }
 ],
 "metadata": {
  "interpreter": {
   "hash": "c45f46a7fd077198472649b02925a2e599779de14e258f4f9ba8eb1d4e684fd2"
  },
  "kernelspec": {
   "display_name": "Python 3",
   "language": "python",
   "name": "python3"
  },
  "language_info": {
   "codemirror_mode": {
    "name": "ipython",
    "version": 3
   },
   "file_extension": ".py",
   "mimetype": "text/x-python",
   "name": "python",
   "nbconvert_exporter": "python",
   "pygments_lexer": "ipython3",
   "version": "3.7.5"
  }
 },
 "nbformat": 4,
 "nbformat_minor": 4
}
