{
 "cells": [
  {
   "cell_type": "markdown",
   "id": "86672e10",
   "metadata": {},
   "source": [
    "# Gate Set Tomography"
   ]
  },
  {
   "cell_type": "raw",
   "id": "5fd6cb19",
   "metadata": {},
   "source": []
  },
  {
   "cell_type": "code",
   "execution_count": 46,
   "id": "6a05c61a",
   "metadata": {},
   "outputs": [],
   "source": [
    "import numpy as np\n",
    "import qiskit\n",
    "from qiskit_experiments.framework import ParallelExperiment\n",
    "from qiskit_experiment.library.gateset_tomography import GateSetTomography\n",
    "from qiskit_experiment.library.gateset_tomography.gatesetbasis import GateSetBasis,default_gateset_basis, gram_matrix_rank\n",
    "\n",
    "# For simulation\n",
    "from qiskit.providers.aer import AerSimulator\n",
    "from qiskit.test.mock import FakeParis\n",
    "from qiskit.extensions import XGate, YGate, HGate, U2Gate, IGate, SXGate, RZGate\n",
    "from qiskit.quantum_info import Operator, Choi, PTM, DensityMatrix\n",
    "from qiskit.quantum_info import DensityMatrix\n",
    "\n",
    "# Noisy simulator backend\n",
    "backend = AerSimulator.from_backend(FakeParis())"
   ]
  },
  {
   "cell_type": "markdown",
   "id": "22f397cf",
   "metadata": {},
   "source": [
    "## Overview"
   ]
  },
  {
   "cell_type": "markdown",
   "id": "3f7ec4f7",
   "metadata": {},
   "source": [
    "\n",
    "Gate-Set Tomography is used to perform $\\bf{full}$ $\\bf{characterization}$ of quantum processes using measurement data we obtain after measuring specific set of quantum circuits."
   ]
  },
  {
   "cell_type": "markdown",
   "id": "75728063",
   "metadata": {},
   "source": [
    "Unlike the quantum process tomography, gate set tomography $\\bf{deals}$ $\\bf{with}$the state preparation and measurements $\\bf{(SPAM)}$ errors self-consistently by including the gates used for both initializing and measuring the qubits in the gate set which is reconstructed from processing measurement data."
   ]
  },
  {
   "cell_type": "raw",
   "id": "9ecea097",
   "metadata": {},
   "source": []
  },
  {
   "cell_type": "markdown",
   "id": "a4b0d212",
   "metadata": {},
   "source": [
    "To do this, GST performs full characterization of a set of gates: $(G_0, ..., G_M)$, the native state: $|\\rho\\rangle$ and the native measurement: $|E\\rangle$, where:"
   ]
  },
  {
   "cell_type": "markdown",
   "id": "1ad5410b",
   "metadata": {},
   "source": [
    "$|\\rho\\rangle$ and $|E\\rangle$ are the native preparation state and measurement. The $|\\cdot \\rangle$ here indicates they are displayed in a superstate form in the Pauli strings basis- also called the PTM representation. "
   ]
  },
  {
   "cell_type": "markdown",
   "id": "a2e1827f",
   "metadata": {},
   "source": [
    "$G_0, .. ,G_k$ should include the gates we wish to characterize, and additional gates such that \n",
    "from set of gates, $[G_i]_{i=0}^{i=M}$, we are able to construct the SPAM gates, $[F_i]_{i=0}^{i=d-1}$, which when applied on the native state and measurement give:\n",
    "\n",
    "- An informationally complete set of initial states: $|\\rho_i\\rangle= R_{F_i}|\\rho\\rangle$, $i=1,2,..,d$\n",
    "\n",
    "and\n",
    "\n",
    "- An informationally complete set of measurements: $|E_i\\rangle= R_{F_i}|E\\rangle$, $i=1,2,..,d$.\n",
    "\n",
    "** d is the superspace dim.= $2^{2*qubits}$ and R with subscript ${F_i}$ or ${G_k}$ is the PTM representation of $F_i$ and $G_k$ respictively."
   ]
  },
  {
   "cell_type": "markdown",
   "id": "4b4ed3b1",
   "metadata": {},
   "source": [
    "Each $F_i$ is constructed from the gates in the gate set. For example, we can have\n",
    "$F_1=G_5$ and $F_2=G_1o\\ G_3$ ($G3$ followed by $G1$)."
   ]
  },
  {
   "cell_type": "raw",
   "id": "1ace17c9",
   "metadata": {},
   "source": []
  },
  {
   "cell_type": "markdown",
   "id": "76046fe9",
   "metadata": {},
   "source": [
    "To be able to characterize the full data, GST uses the following $\\bf{three\\ sets\\ of\\ circuits}$: \n",
    "\n",
    "1. Circuits that measure elements of the form: $\\langle \\rho|R_{F_i} R_{G_k} R_{F_j}|E\\rangle$"
   ]
  },
  {
   "cell_type": "markdown",
   "id": "6457aeb8",
   "metadata": {},
   "source": [
    "![alt text](GST_circuit_rho_F_G_F_E_element1.png \"Title\")"
   ]
  },
  {
   "cell_type": "markdown",
   "id": "1c25cb68",
   "metadata": {},
   "source": [
    "2. Circuits that measure elements of the form: $\\langle\\rho|R_{F_i}R_{F_j}|E\\rangle$ (the Gram Matrix -g- Elements)"
   ]
  },
  {
   "cell_type": "markdown",
   "id": "7cc5a435",
   "metadata": {},
   "source": [
    "![alt text](gram_matrix_elements.png \"Title\")"
   ]
  },
  {
   "cell_type": "markdown",
   "id": "505833f6",
   "metadata": {},
   "source": [
    "2. Circuits that measure elements of the form: $\\langle\\rho|R_{F_i}|E\\rangle$ "
   ]
  },
  {
   "cell_type": "markdown",
   "id": "9f005343",
   "metadata": {},
   "source": [
    "![alt text](GST_circuit_rho_F_E_element.png \"Title\")"
   ]
  },
  {
   "cell_type": "raw",
   "id": "2953ddac",
   "metadata": {},
   "source": []
  },
  {
   "cell_type": "markdown",
   "id": "a1a3bc6b",
   "metadata": {},
   "source": [
    "#### Analyzing the experimental data"
   ]
  },
  {
   "cell_type": "markdown",
   "id": "8b0c9355",
   "metadata": {},
   "source": [
    "- The above experimental data, is enough to fully characterize the gate set. To do this, we may use two fitters:\n",
    "\n",
    "$\\bf{1)\\ Linear\\ inversion}$ (the idea is similar to linear inversion in QPT..). But, the final results are true up to some gauge, which is found using scipy optimization method so the final results with the optimized gauge are close as much as possible to some target set. In qiskit GST code, the target is chosen to be the ideal set. \n",
    "$\\bf{Throwback:}$ This method does not gaurantee the results are TP and CP.\n",
    "\n",
    "$\\bf{2)\\ Maximum\\ likelihood\\ estimation:}$ We find the most likely gate set that gives the true probabilities $p_{ijk}$ based on experimental data $m_{ijk}$ under the physical constraints including CPTP constraints. Here the default is to use the solution obtained by linear inversion after the gauge optimization as a starting point for the optimization problem (the user can choose not to and provide his/her own starting point). $\\bf{Advantage:}$ The results satisfy the physical constraints. The problem statement this method attempts to solves is:\n"
   ]
  },
  {
   "cell_type": "markdown",
   "id": "ab7cd8d1",
   "metadata": {},
   "source": [
    "![alt text](MLE_problem2.PNG \"Title\")"
   ]
  },
  {
   "cell_type": "markdown",
   "id": "03f4ff24",
   "metadata": {},
   "source": [
    "where $p_{ijk} = \\langle E|R_{F_{i}}R_{G_{k}}R_{F_{j}}|\\rho\\rangle$, and $|E\\rangle$, $R_{F_{i}},\\ R_{G_{k}},\\ R_{F_{j}},$ and $|\\rho\\rangle$ are parametrized using a set of parameters $\\vec{t}$ that the optimization algorithm should find such that the above statement is satisfied."
   ]
  },
  {
   "cell_type": "markdown",
   "id": "58c3bc88",
   "metadata": {},
   "source": [
    "# GST Experiment"
   ]
  },
  {
   "cell_type": "markdown",
   "id": "2ccad422",
   "metadata": {},
   "source": [
    "To run GST experiment, we need to provide the following parameters:\n",
    "\n",
    "1) qubits: A list of physical qubits GST is performed on.\n",
    "\n",
    "2) gateset: The gateset, GST experiment characterizes as explained above. More details are in the following section. \n",
    "\n",
    "3) additional_gates: List of gates to be added to the gateset to be characterized.\n",
    "\n",
    "4) only_basis_gates: A boolean variable that indicates whether the gateset argument got a full gatesebasis as a GateSetBasis instance or the 'default' option, or the user provided only basis gates from which the algorithm needs to construct SPAM gates and create the GateSetBasis object."
   ]
  },
  {
   "cell_type": "markdown",
   "id": "b73afaaa",
   "metadata": {},
   "source": [
    "### GateSetBasis Class:"
   ]
  },
  {
   "cell_type": "markdown",
   "id": "f2b211a4",
   "metadata": {},
   "source": [
    "The gateset we pass in to the GST experiment can be any of the following:\n",
    "    \n",
    "a) GateSetBasis instance (A class defined in qiskit_experiment.library.gateset_tomography.gatesetbasis), that is constructed after providing the gateset basis and the SPAM gates. It includes attributes related to the gates in the gate set and SPAM gates. In addition, useful functions that are applied on the gates are included. "
   ]
  },
  {
   "cell_type": "code",
   "execution_count": 31,
   "id": "24b9dd47",
   "metadata": {},
   "outputs": [],
   "source": [
    "num_qubits=1\n",
    "\n",
    "# Define the basis gates as a dictionary, where the keys are the names of the gates, and the\n",
    "#values are the corresponding gates of type: FunctionType (lambda), Gate.\n",
    "gates_1 = {\n",
    "    'Id': lambda circ, qubit: None,\n",
    "    'X_Rot_90': lambda circ, qubit: circ.append(U2Gate(-np.pi / 2, np.pi / 2), [qubit]),\n",
    "    'Y_Rot_90': lambda circ, qubit: circ.append(U2Gate(0, 0), [qubit])\n",
    "    }\n",
    "\n",
    "# Define the SPAM gates which are constructed from the basis gates and give an informationally\n",
    "#complete set of initial states and measurements when applied on rho=|00><00| and E=|00><00|. \n",
    "#The spam dictionary should be of the following form:\n",
    "\n",
    "spam_1 = {\n",
    "    'F0': ('Id',),\n",
    "    'F1': ('X_Rot_90',),\n",
    "    'F2': ('Y_Rot_90',),\n",
    "    'F3': ('X_Rot_90', 'X_Rot_90')\n",
    "}\n",
    "\n",
    "#Create the GateSetBasis instance\n",
    "gateset_1=GateSetBasis(name='GST gateset #1', gates = gates_1, spam = spam_1, num_qubits=1)\n",
    "\n",
    "# The default of only_basis_gates is False, so we don't need to pass it in in this case.\n",
    "only_basis_gates_1 = False"
   ]
  },
  {
   "cell_type": "markdown",
   "id": "0e6fabd4",
   "metadata": {},
   "source": [
    "- Note: For the sake of obtaining good tomography results, it is important to check before running the experiment that the gram matrix has a full rank and not singular or ill-conditioned, so it can be \n",
    "inverted appropriately. In addition, the gate set should be picked so the gram matrix singular values are\n",
    "as large as possible. to display the gram matrix singular values and rank, we can use the gram_matrix_rank function:"
   ]
  },
  {
   "cell_type": "code",
   "execution_count": 36,
   "id": "33aac1f0",
   "metadata": {},
   "outputs": [
    {
     "name": "stdout",
     "output_type": "stream",
     "text": [
      "Gram matrix rank: 4\n",
      "Gram matrix singular values: [1.78077641 1.         0.5        0.28077641]\n"
     ]
    }
   ],
   "source": [
    "gram_rank, singular_values = gram_matrix_rank(num_qubits = 1, spam_gates_labels = list(spam_1.values()) ,basis_gates = gates_1)\n",
    "print('Gram matrix rank:', gram_rank)\n",
    "print('Gram matrix singular values:', singular_values)"
   ]
  },
  {
   "cell_type": "code",
   "execution_count": null,
   "id": "44c6f0ca",
   "metadata": {},
   "outputs": [],
   "source": []
  },
  {
   "cell_type": "markdown",
   "id": "15eba011",
   "metadata": {},
   "source": [
    "b)  A string = 'default' or None, for which the algorithm uses the built-in default gate sets. The default is only available for single qubit or two qubits, and both are built from the backends basis gates.<br><br>\n",
    "     \n",
    "$\\bf{For \\ the \\ single-qubit\\ case:}$ <br><br>\n",
    "The gateset basis of the default is: <br>\n",
    "$\\;\\;\\;$ $G$ = {'I', 'SX','RZ_pi/2', 'RZ_-pi/2'} <br><br>\n",
    "and the SPAM gates are: <br>\n",
    "$\\;\\;\\;$ = {<br>\n",
    "$\\;\\;\\;$    'F0': ('Id',),<br>\n",
    "$\\;\\;\\;$    'F1': ('SX',),<br>\n",
    "$\\;\\;\\;$    'F2': ('RZ_pi/2','SX','RZ_-pi/2',),<br>\n",
    "$\\;\\;\\;$    'F3': ('SX', 'SX')<br>\n",
    "$\\;\\;\\;$}\n",
    "<br><br>\n",
    "Where I is the identity gate IGate(), SX is SXGate(), RZ_pi/2 is RZGate($\\theta=\\pi/2$) and RZ_-pi/2 is RZGate($\\theta=-\\pi/2$).<br>\n",
    "<br><br>\n",
    "$\\bf{For\\ the\\ two-qubits\\ case:}$<br><br>\n",
    "$\\;\\;\\;$ $G$={'I I','X I', 'I X', 'RZ_pi/3 I', 'I RZ_pi/3', 'I SX', 'SX I', 'CX' )}<br><br>\n",
    "And the SPAM gates are:<br>\n",
    "$\\;\\;\\;${<br>\n",
    "$\\;\\;\\;$    'F0': ('I I',),<br>\n",
    "$\\;\\;\\;$    'F1': ('X I',),<br>\n",
    "$\\;\\;\\;$    'F2': ('I X',),<br>\n",
    "$\\;\\;\\;$    'F3': ('X I', 'I X',),<br>\n",
    "$\\;\\;\\;$    'F4': ('I X', 'SX I', 'CX',),<br>\n",
    "$\\;\\;\\;$    'F5': ('I SX', 'I RZ_pi/3', 'I SX',),<br>\n",
    "$\\;\\;\\;$    'F6': ('SX I', 'RZ_pi/3 I', 'SX I',),<br>\n",
    "$\\;\\;\\;$    'F7': ('X I', 'I SX', 'I RZ_pi/3', 'I SX'),<br>\n",
    "$\\;\\;\\;$    'F8': ('I X', 'I SX', 'CX', 'I SX'),<br>\n",
    "$\\;\\;\\;$    'F9': ('I X', 'SX I', 'RZ I', 'SX I'),<br>\n",
    "$\\;\\;\\;$    'F10': ('RZ_pi/3 I', 'RZ_pi/3 I', 'RZ_pi/3 I', 'SX I'),<br>\n",
    "$\\;\\;\\;$    'F11': ('I RZ_pi/3', 'I RZ_pi/3', 'I RZ_pi/3', 'I SX'),<br>\n",
    "$\\;\\;\\;$    'F12': ('I SX', 'SX I', 'CX', 'I SX'),<br>\n",
    "$\\;\\;\\;$    'F13': ('X I', 'I RZ_pi/3', 'I RZ_pi/3', 'I RZ_pi/3', 'I SX'),<br>\n",
    "$\\;\\;\\;$    'F14': ('I SX', 'I RZ_pi/3', 'SX I', 'CX', 'I SX'),<br>\n",
    "$\\;\\;\\;$    'F15': ('RZ_pi/3 I', 'RZ_pi/3 I', 'RZ_pi/3 I', 'CX', 'I SX', 'CX')<br>\n",
    "$\\;\\;\\;$},<br>\n",
    "where here, 'A B' stands for applying a gate B on the first qubit, and gate A on the second qubit. 'RZ_pi/3' is the $RZGate(\\theta=\\pi/3)$.\n"
   ]
  },
  {
   "cell_type": "code",
   "execution_count": 37,
   "id": "6d5b2709",
   "metadata": {},
   "outputs": [],
   "source": [
    "gateset_2 = 'default'\n",
    "\n",
    "# Alternatively,\n",
    "# gateset_2 = None\n",
    "# or we can pass the default as a GateSetBasis:\n",
    "# gateset_2 = default_gateset_basis(num_qubits)\n",
    "\n",
    "only_basis_gates_2 = False"
   ]
  },
  {
   "cell_type": "markdown",
   "id": "e5a4001a",
   "metadata": {},
   "source": [
    "c) Only a set of basis gates the gate set is composed of. In this case, the boolean variable\n",
    "'only_basis_gates' should take the True value. \n",
    "\n",
    "\n",
    "In this case, the algorithm will use a built-in function:\n",
    "gatesetbasis_constrction_from_basis_gates() from 'qiskit_experiment/library/gateset_tomography/gatesetbasis.py'\n",
    "\n",
    "This function, takes basis gates, and construct spam gates which are informationally complete.\n",
    "\n",
    "For example, the provided gate set can simply be:"
   ]
  },
  {
   "cell_type": "code",
   "execution_count": 7,
   "id": "1933c151",
   "metadata": {},
   "outputs": [],
   "source": [
    "# The basis gates are provided as a dictionary similar to the one we pass to the GateSetBasis class.\n",
    "gateset_3 = {\n",
    " 'Id': lambda circ, qubit: None,\n",
    " 'H': lambda circ, qubit: circ.append(HGate(), [qubit]),\n",
    " 'Y': lambda circ, qubit: circ.append(YGate(), [qubit]),\n",
    " 'X_Rot_90': lambda circ, qubit: circ.append(U2Gate(-np.pi / 2, np.pi / 2), [qubit]),\n",
    "}\n",
    "\n",
    "only_basis_gates_3 = True"
   ]
  },
  {
   "cell_type": "code",
   "execution_count": null,
   "id": "7df892b2",
   "metadata": {},
   "outputs": [],
   "source": []
  },
  {
   "cell_type": "markdown",
   "id": "497cb9b9",
   "metadata": {},
   "source": [
    "## Running gate set tomography on 1-qubit"
   ]
  },
  {
   "cell_type": "code",
   "execution_count": 8,
   "id": "66ba1dbe",
   "metadata": {},
   "outputs": [
    {
     "name": "stdout",
     "output_type": "stream",
     "text": [
      "DbAnalysisResultV1\n",
      "- name: GST Experiment properties\n",
      "- value: {'fitter': 'scipy_optimizer_MLE_gst', 'fitter_time': 2.22953462600708, 'fitter_initial_guess': 'linear_inversion', 'GST gates': ['Id', 'SX', 'RZ_pi/2', 'RZ_-pi/2', 'h'], 'GST SPAM gates': {'F0': ('Id',), 'F1': ('SX',), 'F2': ('RZ_pi/2', 'SX', 'RZ_-pi/2'), 'F3': ('SX', 'SX')}}\n",
      "- device_components: ['Q0']\n",
      "- verified: False\n",
      "DbAnalysisResultV1\n",
      "- name: gst estimation of E\n",
      "- value: Operator([[0.98887364+0.j        , 0.00170124-0.00170124j],\n",
      "          [0.00170124+0.00170124j, 0.00925987+0.j        ]],\n",
      "         input_dims=(2,), output_dims=(2,))\n",
      "- device_components: ['Q0']\n",
      "- verified: False\n",
      "DbAnalysisResultV1\n",
      "- name: gst estimation of rho\n",
      "- value: DensityMatrix([[9.99999792e-01+0.00000000e+00j,\n",
      "                6.57398415e-08-6.57398415e-08j],\n",
      "               [6.57398415e-08+6.57398415e-08j,\n",
      "                2.40143595e-07+0.00000000e+00j]],\n",
      "              dims=(2,))\n",
      "- device_components: ['Q0']\n",
      "- verified: False\n",
      "DbAnalysisResultV1\n",
      "- name: gst estimation of Id\n",
      "- value: Choi([[ 0.97378009+0.j        ,  0.01964827+0.01025498j,\n",
      "        0.02619147+0.02651043j,  0.92626442-0.03046299j],\n",
      "      [ 0.01964827-0.01025498j,  0.03319894+0.j        ,\n",
      "       -0.00424523+0.03224628j, -0.00978956+0.01675804j],\n",
      "      [ 0.02619147-0.02651043j, -0.00424523-0.03224628j,\n",
      "        0.03366971+0.j        ,  0.05418993-0.0048007j ],\n",
      "      [ 0.92626442+0.03046299j, -0.00978956-0.01675804j,\n",
      "        0.05418993+0.0048007j ,  0.95935126+0.j        ]],\n",
      "     input_dims=(2,), output_dims=(2,))\n",
      "- extra: <1 items>\n",
      "- device_components: ['Q0']\n",
      "- verified: False\n",
      "DbAnalysisResultV1\n",
      "- name: gst estimation of SX\n",
      "- value: Choi([[0.5190236 +0.j        , 0.13568902+0.45431291j,\n",
      "       0.15719955+0.47222981j, 0.48020383-0.09953489j],\n",
      "      [0.13568902-0.45431291j, 0.51352484+0.j        ,\n",
      "       0.45598422-0.01211562j, 0.0012199 -0.46973837j],\n",
      "      [0.15719955-0.47222981j, 0.45598422+0.01211562j,\n",
      "       0.47927342+0.j        , 0.05341016-0.46778436j],\n",
      "      [0.48020383+0.09953489j, 0.0012199 +0.46973837j,\n",
      "       0.05341016+0.46778436j, 0.48817814+0.j        ]],\n",
      "     input_dims=(2,), output_dims=(2,))\n",
      "- extra: <1 items>\n",
      "- device_components: ['Q0']\n",
      "- verified: False\n",
      "DbAnalysisResultV1\n",
      "- name: gst estimation of RZ_pi/2\n",
      "- value: Choi([[ 1.00196015e+00+0.00000000e+00j,  1.71563857e-04+2.13147438e-02j,\n",
      "        5.01843064e-02+2.91783034e-03j,  5.31424091e-02-9.68955715e-01j],\n",
      "      [ 1.71563857e-04-2.13147438e-02j,  1.51768486e-02+0.00000000e+00j,\n",
      "        2.16178142e-03+1.93598913e-04j, -4.33365390e-03+1.67410677e-02j],\n",
      "      [ 5.01843064e-02-2.91783034e-03j,  2.16178142e-03-1.93598913e-04j,\n",
      "        2.92800383e-03+0.00000000e+00j,  3.69586295e-03-4.75183688e-02j],\n",
      "      [ 5.31424091e-02+9.68955715e-01j, -4.33365390e-03-1.67410677e-02j,\n",
      "        3.69586295e-03+4.75183688e-02j,  9.79935001e-01+0.00000000e+00j]],\n",
      "     input_dims=(2,), output_dims=(2,))\n",
      "- extra: <1 items>\n",
      "- device_components: ['Q0']\n",
      "- verified: False\n",
      "DbAnalysisResultV1\n",
      "- name: gst estimation of RZ_-pi/2\n",
      "- value: Choi([[ 9.88822829e-01+0.00000000e+00j, -6.83389421e-04+1.60802918e-02j,\n",
      "       -1.24215259e-02+5.00680347e-03j,  1.78061334e-02+9.54171812e-01j],\n",
      "      [-6.83389421e-04-1.60802918e-02j,  1.98163055e-02+0.00000000e+00j,\n",
      "       -1.76654935e-02+5.68166021e-04j, -1.65191605e-02-6.45493218e-03j],\n",
      "      [-1.24215259e-02-5.00680347e-03j, -1.76654935e-02-5.68166021e-04j,\n",
      "        1.63105181e-02+0.00000000e+00j,  3.35813371e-02-6.47164615e-03j],\n",
      "      [ 1.78061334e-02-9.54171812e-01j, -1.65191605e-02+6.45493218e-03j,\n",
      "        3.35813371e-02+6.47164615e-03j,  9.75050347e-01+0.00000000e+00j]],\n",
      "     input_dims=(2,), output_dims=(2,))\n",
      "- extra: <1 items>\n",
      "- device_components: ['Q0']\n",
      "- verified: False\n",
      "DbAnalysisResultV1\n",
      "- name: gst estimation of h\n",
      "- value: Choi([[ 0.5376268 +0.j        ,  0.48430946-0.05626482j,\n",
      "        0.48640777-0.01900839j, -0.50677187+0.05802195j],\n",
      "      [ 0.48430946+0.05626482j,  0.48132187+0.j        ,\n",
      "        0.46497992-0.00035591j, -0.48319045-0.00168208j],\n",
      "      [ 0.48640777+0.01900839j,  0.46497992+0.00035591j,\n",
      "        0.48623817+0.j        , -0.47280803+0.01603342j],\n",
      "      [-0.50677187-0.05802195j, -0.48319045+0.00168208j,\n",
      "       -0.47280803-0.01603342j,  0.49481317+0.j        ]],\n",
      "     input_dims=(2,), output_dims=(2,))\n",
      "- extra: <1 items>\n",
      "- device_components: ['Q0']\n",
      "- verified: False\n"
     ]
    }
   ],
   "source": [
    "\n",
    "#First option: Arbitrary gate set provided by the user as a GateSetBasis instance:\n",
    "#gstexp1 = GateSetTomography(qubits=[0], gateset=gateset_1, additional_gates=[HGate()], \n",
    "#                            only_basis_gates=False)\n",
    "\n",
    "#Second option: Default gate set:\n",
    "gstexp1 = GateSetTomography(qubits=[0], gateset=gateset_2, additional_gates=[HGate()], \n",
    "                            only_basis_gates=False)\n",
    "\n",
    "#Third option:Providing only basis gates without SPAM:\n",
    "#gstexp1 = GateSetTomography(qubits=[0], gateset=gateset_3,additional_gates=[HGate()] \n",
    "#                            only_basis_gates=True)\n",
    "\n",
    "#Run GST experiment\n",
    "gstdata1 = gstexp1.run(backend).block_for_results()\n",
    "\n",
    "#View final analysis results\n",
    "for result in gstdata1.analysis_results():\n",
    "    print(result)"
   ]
  },
  {
   "cell_type": "markdown",
   "id": "ba3a2654",
   "metadata": {},
   "source": [
    "### Tomography Results"
   ]
  },
  {
   "cell_type": "markdown",
   "id": "9835a499",
   "metadata": {},
   "source": [
    "The main results of GST experiment, are the fitted native state and measurement and all the gates in the gate set."
   ]
  },
  {
   "cell_type": "code",
   "execution_count": 9,
   "id": "88b025a1",
   "metadata": {},
   "outputs": [
    {
     "name": "stdout",
     "output_type": "stream",
     "text": [
      "DensityMatrix([[9.99999792e-01+0.00000000e+00j,\n",
      "                6.57398415e-08-6.57398415e-08j],\n",
      "               [6.57398415e-08+6.57398415e-08j,\n",
      "                2.40143595e-07+0.00000000e+00j]],\n",
      "              dims=(2,))\n"
     ]
    }
   ],
   "source": [
    "native_state_result = gstdata1.analysis_results(\"gst estimation of rho\")\n",
    "print(native_state_result.value)"
   ]
  },
  {
   "cell_type": "code",
   "execution_count": 10,
   "id": "585e3da5",
   "metadata": {},
   "outputs": [
    {
     "name": "stdout",
     "output_type": "stream",
     "text": [
      "Operator([[0.98887364+0.j        , 0.00170124-0.00170124j],\n",
      "          [0.00170124+0.00170124j, 0.00925987+0.j        ]],\n",
      "         input_dims=(2,), output_dims=(2,))\n"
     ]
    }
   ],
   "source": [
    "native_measurement_result = gstdata1.analysis_results(\"gst estimation of E\")\n",
    "print(native_measurement_result.value)"
   ]
  },
  {
   "cell_type": "code",
   "execution_count": 40,
   "id": "45bea027",
   "metadata": {},
   "outputs": [
    {
     "name": "stdout",
     "output_type": "stream",
     "text": [
      "Choi([[0.5190236 +0.j        , 0.13568902+0.45431291j,\n",
      "       0.15719955+0.47222981j, 0.48020383-0.09953489j],\n",
      "      [0.13568902-0.45431291j, 0.51352484+0.j        ,\n",
      "       0.45598422-0.01211562j, 0.0012199 -0.46973837j],\n",
      "      [0.15719955-0.47222981j, 0.45598422+0.01211562j,\n",
      "       0.47927342+0.j        , 0.05341016-0.46778436j],\n",
      "      [0.48020383+0.09953489j, 0.0012199 +0.46973837j,\n",
      "       0.05341016+0.46778436j, 0.48817814+0.j        ]],\n",
      "     input_dims=(2,), output_dims=(2,))\n"
     ]
    }
   ],
   "source": [
    "SX_gate_result = gstdata1.analysis_results(\"gst estimation of SX\")\n",
    "print(SX_gate_result.value)"
   ]
  },
  {
   "cell_type": "markdown",
   "id": "9d33da87",
   "metadata": {},
   "source": [
    "### Additional state metadata\n",
    "Additional data about the fidelity is stored in the results extra.\n",
    "The fidelity measure, computes the avarage gate fidelity of GST results and some target using the function: 'qiskit.quantum_info.average_gate_fidelity'. If the target and the GST result are both non unitary (which is usually the case when the target is noisy), the qiskit.quantum_info.process_fidelity will be used.\n",
    "\n",
    "The target's default, as in the above experiment, is the ideal gates. However, the user can provide \n",
    "an arbitrary target as in the next example.\n",
    "\n",
    "To show the fidelity of the gates with the default target of the previous example, we type:"
   ]
  },
  {
   "cell_type": "code",
   "execution_count": 12,
   "id": "ce2f8d64",
   "metadata": {},
   "outputs": [
    {
     "name": "stdout",
     "output_type": "stream",
     "text": [
      "extra:\n",
      " {'Average gate fidelity': 0.9667089171844322}\n"
     ]
    }
   ],
   "source": [
    "print('extra:\\n', gstdata1.analysis_results(\"gst estimation of SX\").extra)"
   ]
  },
  {
   "cell_type": "code",
   "execution_count": 14,
   "id": "5842d6d2",
   "metadata": {},
   "outputs": [
    {
     "name": "stdout",
     "output_type": "stream",
     "text": [
      "extra:\n",
      " {'Average gate fidelity': 0.9866344296912347}\n"
     ]
    }
   ],
   "source": [
    "print('extra:\\n', gstdata1.analysis_results(\"gst estimation of RZ_pi/2\").extra)"
   ]
  },
  {
   "cell_type": "markdown",
   "id": "8a53cccf",
   "metadata": {},
   "source": [
    "### Comparing the GST results to an arbitrary target set"
   ]
  },
  {
   "cell_type": "markdown",
   "id": "98be1648",
   "metadata": {},
   "source": [
    "The user can provide an arbitrary target set to compare the results to.\n",
    "The target set is a dictionary, where the keys are the names of the gates (including E and rho),\n",
    "and the corresponding values provided as Operator, Gate, FunctionType, PTM or Choi. \n",
    "target_set is passed in as an analysis option.\n",
    "\n",
    "For example:"
   ]
  },
  {
   "cell_type": "code",
   "execution_count": 41,
   "id": "a3c5bdd9",
   "metadata": {},
   "outputs": [
    {
     "name": "stderr",
     "output_type": "stream",
     "text": [
      "<>:27: SyntaxWarning: \"is not\" with a literal. Did you mean \"!=\"?\n",
      "<>:27: SyntaxWarning: \"is not\" with a literal. Did you mean \"!=\"?\n",
      "<ipython-input-41-792bbddba1ff>:27: SyntaxWarning: \"is not\" with a literal. Did you mean \"!=\"?\n",
      "  if key is not 'I':\n",
      "Input channel is not TP. Tr_2[Choi] - I has non-zero eigenvalues: [-0.01528154  0.01528154]\n",
      "Input channel is not TP. Tr_2[Choi] - I has non-zero eigenvalues: [-0.01462444  0.01462444]\n",
      "Input channel is not TP. Tr_2[Choi] - I has non-zero eigenvalues: [-0.02094982  0.02094982]\n",
      "Input channel is not TP. Tr_2[Choi] - I has non-zero eigenvalues: [-0.17694236  0.17694236]\n"
     ]
    },
    {
     "name": "stdout",
     "output_type": "stream",
     "text": [
      "GST estimation of H:\n",
      " Choi([[ 0.50011885+0.j        ,  0.47802155-0.03416989j,\n",
      "        0.4838061 -0.01559969j, -0.49240045+0.02350927j],\n",
      "      [ 0.47802155+0.03416989j,  0.49970625+0.j        ,\n",
      "        0.46387217-0.02054228j, -0.48644554+0.00121647j],\n",
      "      [ 0.4838061 +0.01559969j,  0.46387217+0.02054228j,\n",
      "        0.50549751+0.j        , -0.48904736-0.00607059j],\n",
      "      [-0.49240045-0.02350927j, -0.48644554-0.00121647j,\n",
      "       -0.48904736+0.00607059j,  0.49467739+0.j        ]],\n",
      "     input_dims=(2,), output_dims=(2,))\n",
      "extra:\n",
      " {'Process fidelity': 0.978508093140756}\n"
     ]
    }
   ],
   "source": [
    "from qiskit.providers.aer.noise import NoiseModel\n",
    "from qiskit import Aer\n",
    "\n",
    "gateset_basis = gateset_3 \n",
    "\n",
    "#Noise model: Amplitude damping applied on each qubit after each gate. Th PTM representation of\n",
    "#amplitude damping channel: \n",
    "gamma = 0.05\n",
    "noise_ptm_AD = PTM(np.array([[1, 0, 0, 0],\n",
    "                             [0, np.sqrt(1 - gamma), 0, 0],\n",
    "                             [0, 0, np.sqrt(1 - gamma), 0],\n",
    "                             [gamma, 0, 0, 1 - gamma]]))\n",
    "         \n",
    "# We can add targets E and rho, but they are not relevant, as the fidelity measure is applied only \n",
    "#on the target set.\n",
    "target_set = {\n",
    " 'Id':Choi(IGate()),\n",
    " 'H': Choi(HGate()),\n",
    " 'Y': Choi(YGate()),\n",
    " 'X_Rot_90': Choi(U2Gate(-np.pi / 2, np.pi / 2)),\n",
    "}\n",
    "         \n",
    "#As the gates after the noise in PTM representation is simply the multiplication of the noise\n",
    "#channel by each gate channel, the noisy target set can be obtained in the PTM representation via:\n",
    "target_set_noisy = {}\n",
    "for key in target_set:\n",
    "    if key is not 'I':\n",
    "        target_set_noisy[key]= PTM(np.dot(noise_ptm_AD, PTM(target_set[key]).data))\n",
    "    \n",
    "#Noise model\n",
    "noise_model = NoiseModel()\n",
    "noise_model.add_all_qubit_quantum_error(noise_ptm_AD, ['sx', 'x', 'rz'])\n",
    "backend_qasm = Aer.get_backend('qasm_simulator')\n",
    "\n",
    "#GST experiment:\n",
    "gstexp4=GateSetTomography(qubits=[0], gateset=gateset_3, only_basis_gates=True)\n",
    "gstexp4.set_analysis_options(target_set = target_set_noisy)\n",
    "\n",
    "gstdata4 = gstexp4.run(backend=backend_qasm, noise_model=noise_model).block_for_results()\n",
    "\n",
    "additional_gate_result = gstdata4.analysis_results(\"gst estimation of H\")\n",
    "print('GST estimation of H:\\n', additional_gate_result.value)\n",
    "print('extra:\\n', additional_gate_result.extra)\n",
    "\n"
   ]
  },
  {
   "cell_type": "markdown",
   "id": "b66569fe",
   "metadata": {},
   "source": [
    "### Tomography Fitters and additional analysis options:"
   ]
  },
  {
   "cell_type": "markdown",
   "id": "4defa5f1",
   "metadata": {},
   "source": [
    "There are two fitters that can be used for the GST experiment analysis, which can be set as analysis options, by setting fitter = 'name of the fitter'."
   ]
  },
  {
   "cell_type": "markdown",
   "id": "784a9948",
   "metadata": {},
   "source": [
    "$\\bf{1.}$ The first fitter is the $\\bf{linear \\ inversion \\ fitter}$: 'linear_inversion_gst'. The rsults of this fitter as mentioned earlier are not physical. Namely,\n",
    "they are not TP or CP. The user however can choose to rescale the results to be TP or not CP or both. To do this, the user\n",
    "should set the analysis option $\\bf{rescale}$ _ ${TP}$ and $\\bf{rescale}$_${CP}$ to be true. The default value of rescale_TP and rescale_CP is False for both. The values of both will be displayed in\n",
    "the 'GST Experiment properties' AnalysisResult."
   ]
  },
  {
   "cell_type": "markdown",
   "id": "b15a629c",
   "metadata": {},
   "source": [
    "$\\bf{2.}$ The second fitter which is the default fitter is the $\\bf{MLE \\ fitter}$: 'scipy_optimizer_MLE_gst'. The results of this fitter are always CPTP and hence, rescale_TP and rescale_CP options are not relevant here. \n",
    "For this fitter, a fitter_initial_guess can be passed in as an analysis option. If the fitter_initial_guess is None, the optimization will be performed without an initial point and it may\n",
    "fail. It also takes as a string either \"default\" or \"linear_inversion\" and in both cases it uses linear inversion result as a starting solution. \n",
    "\n",
    "The user can provide an arbitrary initial guess for the MLE fitter which is a dictionary, including the names of the state, measurements and gates and their corresponding values, where:\n",
    "\n",
    "- The value of rho can be a DensityMatrix or an array representing the PTM representation in the orthonormal\n",
    "Pauli basis composed of strings of the form: $$\\frac{1}{2^{N/2}}\\Pi_{i_0 i_1 \\cdots i_N} P_{i_0}\\otimes P_{i_1}\\otimes \\cdots \\otimes P_{i_{N-1}}$$, where $P_{i_j}\\in [I, X, Y, Z]$ and \n",
    "$N$ is the number of qubits. \n",
    "- The value of E is an array representing the PTM representation of E. \n",
    "- The value of each one of the gates can be of type: FunctionType, Choi, PTM, Gate or Operator."
   ]
  },
  {
   "cell_type": "markdown",
   "id": "ae43fbd1",
   "metadata": {},
   "source": [
    "$\\bf{Note:}$ In the examples above, the default fitter which is the MLE fitter, with the default fitter \n",
    "initial guess which is the linear inversion results, were used."
   ]
  },
  {
   "cell_type": "markdown",
   "id": "0fc3a742",
   "metadata": {},
   "source": [
    "#### Example for displaying the rescaled linear inversion GST results:"
   ]
  },
  {
   "cell_type": "code",
   "execution_count": 42,
   "id": "4f897f4f",
   "metadata": {},
   "outputs": [
    {
     "name": "stdout",
     "output_type": "stream",
     "text": [
      "DbAnalysisResultV1\n",
      "- name: GST Experiment properties\n",
      "- value: {'fitter': 'linear_inversion_gst', 'fitter_time': 0.8010118007659912, 'rescale_CP': True, 'rescale_TP': True, 'GST gates': ['Id', 'X_Rot_90', 'Y_Rot_90'], 'GST SPAM gates': {'F0': ('Id',), 'F1': ('X_Rot_90',), 'F2': ('Y_Rot_90',), 'F3': ('X_Rot_90', 'X_Rot_90')}}\n",
      "- device_components: ['Q0']\n",
      "- verified: False\n",
      "DbAnalysisResultV1\n",
      "- name: gst estimation of X_Rot_90\n",
      "- value: Choi([[ 0.52021125+0.j        ,  0.00590678+0.48343384j,\n",
      "       -0.00598464+0.49323409j,  0.47633078-0.00414032j],\n",
      "      [ 0.00590678-0.48343384j,  0.4841892 +0.j        ,\n",
      "        0.47852852-0.02417098j, -0.01530775-0.47812161j],\n",
      "      [-0.00598464-0.49323409j,  0.47852852+0.02417098j,\n",
      "        0.51527237+0.j        ,  0.01669942-0.48923003j],\n",
      "      [ 0.47633078+0.00414032j, -0.01530775+0.47812161j,\n",
      "        0.01669942+0.48923003j,  0.48032718+0.j        ]],\n",
      "     input_dims=(2,), output_dims=(2,))\n",
      "- extra: <1 items>\n",
      "- device_components: ['Q0']\n",
      "- verified: False\n",
      "extra:\n",
      " {'Average gate fidelity': 0.9831464800156766}\n"
     ]
    }
   ],
   "source": [
    "gstexp5 = GateSetTomography(qubits=[0],gateset=gateset_1)\n",
    "gstexp5.set_analysis_options(fitter='linear_inversion_gst',rescale_TP=True, rescale_CP=True)\n",
    "gstdata5 = gstexp5.run(backend).block_for_results()\n",
    "print(gstdata5.analysis_results(\"GST Experiment properties\"))\n",
    "print(gstdata5.analysis_results(\"gst estimation of X_Rot_90\"))\n",
    "print('extra:\\n', gstdata5.analysis_results(\"gst estimation of X_Rot_90\").extra)"
   ]
  },
  {
   "cell_type": "markdown",
   "id": "110ea8d3",
   "metadata": {},
   "source": [
    "#### Example for providing an arbitrary fitter initial guess for MLE fitter:"
   ]
  },
  {
   "cell_type": "code",
   "execution_count": 43,
   "id": "d06350f7",
   "metadata": {},
   "outputs": [
    {
     "name": "stdout",
     "output_type": "stream",
     "text": [
      "DbAnalysisResultV1\n",
      "- name: GST Experiment properties\n",
      "- value: {'fitter': 'scipy_optimizer_MLE_gst', 'fitter_time': 2.910433053970337, 'fitter_initial_guess': {'E': array([0.70710678, 0.        , 0.        , 0.70710678]), 'rho': array([[0.70710678+0.j],\n",
      "       [0.        +0.j],\n",
      "       [0.        +0.j],\n",
      "       [0.70710678+0.j]]), 'Id': PTM([[1.+0.j, 0.+0.j, 0.+0.j, 0.+0.j],\n",
      "     [0.+0.j, 1.+0.j, 0.+0.j, 0.+0.j],\n",
      "     [0.+0.j, 0.+0.j, 1.+0.j, 0.+0.j],\n",
      "     [0.+0.j, 0.+0.j, 0.+0.j, 1.+0.j]],\n",
      "    input_dims=(2,), output_dims=(2,)), 'H': PTM([[ 1.+0.j,  0.+0.j,  0.+0.j,  0.+0.j],\n",
      "     [ 0.+0.j,  0.+0.j,  0.+0.j,  1.+0.j],\n",
      "     [ 0.+0.j,  0.+0.j, -1.+0.j,  0.+0.j],\n",
      "     [ 0.+0.j,  1.+0.j,  0.+0.j,  0.+0.j]],\n",
      "    input_dims=(2,), output_dims=(2,)), 'Y': PTM([[ 1.+0.j,  0.+0.j,  0.+0.j,  0.+0.j],\n",
      "     [ 0.+0.j, -1.+0.j,  0.+0.j,  0.+0.j],\n",
      "     [ 0.+0.j,  0.+0.j,  1.+0.j,  0.+0.j],\n",
      "     [ 0.+0.j,  0.+0.j,  0.+0.j, -1.+0.j]],\n",
      "    input_dims=(2,), output_dims=(2,)), 'X_Rot_90': PTM([[ 1.000000e+00+0.j,  0.000000e+00+0.j,  0.000000e+00+0.j,\n",
      "       0.000000e+00+0.j],\n",
      "     [ 0.000000e+00+0.j,  1.000000e+00+0.j,  6.123234e-17+0.j,\n",
      "       6.123234e-17+0.j],\n",
      "     [ 0.000000e+00+0.j,  6.123234e-17+0.j,  0.000000e+00+0.j,\n",
      "      -1.000000e+00+0.j],\n",
      "     [ 0.000000e+00+0.j, -6.123234e-17+0.j,  1.000000e+00+0.j,\n",
      "       0.000000e+00+0.j]],\n",
      "    input_dims=(2,), output_dims=(2,))}, 'GST gates': ['Id', 'H', 'Y', 'X_Rot_90'], 'GST SPAM gates': {'F0': ('Id',), 'F1': ('H',), 'F2': ('Y',), 'F3': ('Y', 'X_Rot_90')}}\n",
      "- device_components: ['Q0']\n",
      "- verified: False\n",
      "DbAnalysisResultV1\n",
      "- name: gst estimation of H\n",
      "- value: Choi([[ 0.5+0.00000000e+00j,  0.5-1.18274300e-07j,  0.5-1.18274300e-07j,\n",
      "       -0.5+1.18274300e-07j],\n",
      "      [ 0.5+1.18274300e-07j,  0.5+0.00000000e+00j,  0.5-2.64697796e-23j,\n",
      "       -0.5+1.32348898e-23j],\n",
      "      [ 0.5+1.18274300e-07j,  0.5+2.64697796e-23j,  0.5+0.00000000e+00j,\n",
      "       -0.5+0.00000000e+00j],\n",
      "      [-0.5-1.18274300e-07j, -0.5-1.32348898e-23j, -0.5+0.00000000e+00j,\n",
      "        0.5+0.00000000e+00j]],\n",
      "     input_dims=(2,), output_dims=(2,))\n",
      "- extra: <1 items>\n",
      "- device_components: ['Q0']\n",
      "- verified: False\n",
      "extra:\n",
      " {'Average gate fidelity': 0.9999999999999861}\n"
     ]
    }
   ],
   "source": [
    "fitter_initial_gateset = {\n",
    " 'E': np.array([1/np.sqrt(2), 0, 0, 1/np.sqrt(2)]),\n",
    " 'rho': DensityMatrix(np.array([[1,0],[0,0]])),\n",
    " 'Id':PTM(IGate()),\n",
    " 'H': PTM(HGate()),\n",
    " 'Y': PTM(YGate()),\n",
    " 'X_Rot_90': PTM(U2Gate(-np.pi / 2, np.pi / 2)),\n",
    "}\n",
    "\n",
    "\n",
    "gstexp6 = GateSetTomography(qubits=[0],gateset=gateset_3, only_basis_gates=True)\n",
    "gstexp6.set_analysis_options(fitter_initial_guess=fitter_initial_gateset, rescale_TP=True, rescale_CP=True)\n",
    "gstdata6 = gstexp6.run(backend).block_for_results()\n",
    "print(gstdata6.analysis_results(\"GST Experiment properties\"))\n",
    "print(gstdata6.analysis_results(\"gst estimation of H\"))\n",
    "print('extra:\\n', gstdata6.analysis_results(\"gst estimation of H\").extra)\n",
    "\n"
   ]
  },
  {
   "cell_type": "markdown",
   "id": "8b686c31",
   "metadata": {},
   "source": [
    "## Running gate set tomography on 2-qubits"
   ]
  },
  {
   "cell_type": "markdown",
   "id": "b787f7d7",
   "metadata": {},
   "source": [
    "GST experiment can be run on an arbitrary number of qubits. However, as solving the highly nonlinear MLE optimization problem takes a long time which sharply increases as we increase the number of qubits, it is almost non possible to run GST on three qubits with MLE fitter.\n",
    "\n",
    "To run GST on two qubits:"
   ]
  },
  {
   "cell_type": "code",
   "execution_count": 21,
   "id": "9d151f12",
   "metadata": {},
   "outputs": [
    {
     "name": "stdout",
     "output_type": "stream",
     "text": [
      "DbAnalysisResultV1\n",
      "- name: GST Experiment properties\n",
      "- value: {'fitter': 'scipy_optimizer_MLE_gst', 'fitter_time': 1905.7633047103882, 'fitter_initial_guess': 'linear_inversion', 'GST gates': ['I I', 'X I', 'I X', 'RZ_pi_over_3 I', 'I RZ_pi_over_3', 'I SX', 'SX I', 'CX'], 'GST SPAM gates': {'F0': ('I I',), 'F1': ('X I',), 'F2': ('I X',), 'F3': ('X I', 'I X'), 'F4': ('I X', 'SX I', 'CX'), 'F5': ('I SX', 'I RZ_pi_over_3', 'I SX'), 'F6': ('SX I', 'RZ_pi_over_3 I', 'SX I'), 'F7': ('X I', 'I SX', 'I RZ_pi_over_3', 'I SX'), 'F8': ('I X', 'I SX', 'CX', 'I SX'), 'F9': ('I X', 'SX I', 'RZ_pi_over_3 I', 'SX I'), 'F10': ('RZ_pi_over_3 I', 'RZ_pi_over_3 I', 'RZ_pi_over_3 I', 'SX I'), 'F11': ('I RZ_pi_over_3', 'I RZ_pi_over_3', 'I RZ_pi_over_3', 'I SX'), 'F12': ('I SX', 'SX I', 'CX', 'I SX'), 'F13': ('X I', 'I RZ_pi_over_3', 'I RZ_pi_over_3', 'I RZ_pi_over_3', 'I SX'), 'F14': ('I SX', 'I RZ_pi_over_3', 'SX I', 'CX', 'I SX'), 'F15': ('RZ_pi_over_3 I', 'RZ_pi_over_3 I', 'RZ_pi_over_3 I', 'CX', 'I SX', 'CX')}}\n",
      "- device_components: ['Q0', 'Q1']\n",
      "- verified: False\n",
      "DbAnalysisResultV1\n",
      "- name: gst estimation of CX\n",
      "- value: Choi([[ 1.00273896e+00+0.j        ,  1.35329885e-02-0.01065516j,\n",
      "        7.49249241e-03-0.03661101j,  1.51680630e-02-0.00469864j,\n",
      "       -9.51985311e-03-0.02917911j,  2.58664911e-03-0.01103224j,\n",
      "       -3.10484661e-03-0.02526281j,  9.38222163e-01-0.06323317j,\n",
      "       -3.62508216e-02+0.03307262j,  9.85657473e-03-0.00257076j,\n",
      "        9.16338032e-01-0.1402877j ,  5.64645090e-03+0.03349763j,\n",
      "       -1.10327912e-02+0.02666297j,  8.74170685e-01-0.11032628j,\n",
      "        9.45625251e-04-0.0391076j ,  4.17329248e-03+0.02733688j],\n",
      "      [ 1.35329885e-02+0.01065516j,  2.93471085e-02+0.j        ,\n",
      "       -4.88766225e-03+0.00177771j,  7.32031335e-03-0.01365253j,\n",
      "        8.68530494e-03+0.00585739j, -8.00973926e-03+0.00911503j,\n",
      "       -1.24109918e-02-0.0108354j ,  5.18036793e-03+0.03064759j,\n",
      "       -1.32176706e-02-0.00636313j, -5.20694583e-03-0.02636319j,\n",
      "        3.74187768e-02+0.00268759j, -9.23007279e-03+0.00402274j,\n",
      "       -5.14943596e-04+0.02469245j, -1.02922967e-02+0.00745906j,\n",
      "        8.34510049e-03-0.02869416j, -8.59806639e-03+0.00402958j],\n",
      "      [ 7.49249241e-03+0.03661101j, -4.88766225e-03-0.00177771j,\n",
      "        1.47968861e-02+0.j        , -6.37278065e-03+0.00279709j,\n",
      "       -1.03518049e-02-0.00465266j, -5.77806982e-03-0.01243593j,\n",
      "        2.28256528e-02-0.00739476j,  1.22279707e-02+0.03777984j,\n",
      "        8.66035069e-04-0.01524067j,  9.62136969e-03+0.00320295j,\n",
      "        1.27389068e-02+0.04435756j,  1.17891096e-02-0.01403655j,\n",
      "        1.96093235e-03-0.00485288j,  2.28416629e-02+0.0586369j ,\n",
      "        3.41873738e-03+0.00669271j, -3.59043211e-03+0.00185869j],\n",
      "      [ 1.51680630e-02+0.00469864j,  7.32031335e-03+0.01365253j,\n",
      "       -6.37278065e-03-0.00279709j,  1.33316549e-02+0.j        ,\n",
      "        6.19711108e-03+0.00871429j, -7.23073633e-03+0.00037797j,\n",
      "       -3.28669093e-03-0.00432224j,  1.28547994e-03+0.00491943j,\n",
      "       -2.01896584e-03-0.00076502j,  9.11804610e-03-0.00472134j,\n",
      "        2.54112981e-02+0.00490553j, -8.90704202e-03+0.00299198j,\n",
      "       -1.23551051e-02+0.00761973j,  4.80290320e-03-0.01456765j,\n",
      "        1.26444900e-02+0.00040525j,  6.68816782e-04-0.00100667j],\n",
      "      [-9.51985311e-03+0.02917911j,  8.68530494e-03-0.00585739j,\n",
      "       -1.03518049e-02+0.00465266j,  6.19711108e-03-0.00871429j,\n",
      "        1.97184659e-02+0.j        ,  3.52095045e-03+0.0133125j ,\n",
      "       -1.69146952e-02+0.01193896j, -5.17834979e-03+0.03366713j,\n",
      "       -3.47021461e-03+0.01446881j, -1.12445308e-02+0.00044444j,\n",
      "       -3.11048117e-03+0.00548757j, -9.53171125e-03+0.01869571j,\n",
      "        4.69131301e-03+0.00841298j, -2.21012149e-02+0.0159272j ,\n",
      "       -4.83617060e-03-0.00436925j,  5.67649881e-03+0.00062231j],\n",
      "      [ 2.58664911e-03+0.01103224j, -8.00973926e-03-0.00911503j,\n",
      "       -5.77806982e-03+0.01243593j, -7.23073633e-03-0.00037797j,\n",
      "        3.52095045e-03-0.0133125j ,  2.69683635e-02+0.j        ,\n",
      "       -7.55857945e-03+0.03223921j,  5.33302708e-03-0.00231556j,\n",
      "        1.62327027e-02+0.01595731j, -1.56100319e-02+0.01752063j,\n",
      "       -2.32843747e-02+0.00551751j,  9.43576525e-03+0.020672j  ,\n",
      "        6.04952797e-03-0.00725216j, -2.01845239e-02+0.00217231j,\n",
      "       -1.88220222e-02+0.00275617j,  3.76633470e-04-0.00396615j],\n",
      "      [-3.10484661e-03+0.02526281j, -1.24109918e-02+0.0108354j ,\n",
      "        2.28256528e-02+0.00739476j, -3.28669093e-03+0.00432224j,\n",
      "       -1.69146952e-02-0.01193896j, -7.55857945e-03-0.03223921j,\n",
      "        5.40624186e-02+0.j        , -1.14876126e-02+0.02593524j,\n",
      "        2.09076655e-02-0.02858929j,  3.38938243e-02+0.01595069j,\n",
      "       -7.24548208e-03+0.05634379j,  3.19254172e-02-0.01887656j,\n",
      "       -6.79997106e-03-0.00940221j,  3.41811546e-03+0.06617913j,\n",
      "        1.67910596e-02+0.02736078j, -4.19488773e-03-0.00559502j],\n",
      "      [ 9.38222163e-01+0.06323317j,  5.18036793e-03-0.03064759j,\n",
      "        1.22279707e-02-0.03777984j,  1.28547994e-03-0.00491943j,\n",
      "       -5.17834979e-03-0.03366713j,  5.33302708e-03+0.00231556j,\n",
      "       -1.14876126e-02-0.02593524j,  9.07188166e-01+0.j        ,\n",
      "       -4.63110855e-02+0.04003119j, -8.00522847e-03+0.00078941j,\n",
      "        8.59646702e-01-0.09562832j,  4.28806621e-04+0.03123575j,\n",
      "        7.14763895e-03+0.01629551j,  8.49638686e-01-0.03636748j,\n",
      "       -1.40336158e-02-0.03908022j,  8.80616583e-03+0.03054732j],\n",
      "      [-3.62508216e-02-0.03307262j, -1.32176706e-02+0.00636313j,\n",
      "        8.66035069e-04+0.01524067j, -2.01896584e-03+0.00076502j,\n",
      "       -3.47021461e-03-0.01446881j,  1.62327027e-02-0.01595731j,\n",
      "        2.09076655e-02+0.02858929j, -4.63110855e-02-0.04003119j,\n",
      "        3.10879103e-02+0.j        ,  1.16837025e-02+0.02250563j,\n",
      "       -6.49182951e-02-0.01001695j,  2.41023818e-02+0.00909663j,\n",
      "       -3.61378611e-03-0.00981415j, -5.82414178e-02-0.01865807j,\n",
      "       -1.96764628e-04+0.02160485j,  9.51681676e-04-0.01138357j],\n",
      "      [ 9.85657473e-03+0.00257076j, -5.20694583e-03+0.02636319j,\n",
      "        9.62136969e-03-0.00320295j,  9.11804610e-03+0.00472134j,\n",
      "       -1.12445308e-02-0.00044444j, -1.56100319e-02-0.01752063j,\n",
      "        3.38938243e-02-0.01595069j, -8.00522847e-03-0.00078941j,\n",
      "        1.16837025e-02-0.02250563j,  3.91372041e-02+0.j        ,\n",
      "        1.10777324e-02+0.02947073j,  1.14489011e-02-0.01735928j,\n",
      "       -1.99682795e-02-0.00357499j,  1.82843610e-02+0.00638388j,\n",
      "        3.36449522e-02+0.01835613j, -2.32855128e-03-0.00976067j],\n",
      "      [ 9.16338032e-01+0.1402877j ,  3.74187768e-02-0.00268759j,\n",
      "        1.27389068e-02-0.04435756j,  2.54112981e-02-0.00490553j,\n",
      "       -3.11048117e-03-0.00548757j, -2.32843747e-02-0.00551751j,\n",
      "       -7.24548208e-03-0.05634379j,  8.59646702e-01+0.09562832j,\n",
      "       -6.49182951e-02+0.01001695j,  1.10777324e-02-0.02947073j,\n",
      "        9.00578385e-01+0.j        , -1.93550479e-02+0.01525939j,\n",
      "       -1.89371778e-02+0.04309215j,  8.21816755e-01+0.02381785j,\n",
      "        1.76611414e-02-0.05586164j, -5.62990400e-03+0.03729673j],\n",
      "      [ 5.64645090e-03-0.03349763j, -9.23007279e-03-0.00402274j,\n",
      "        1.17891096e-02+0.01403655j, -8.90704202e-03-0.00299198j,\n",
      "       -9.53171125e-03-0.01869571j,  9.43576525e-03-0.020672j  ,\n",
      "        3.19254172e-02+0.01887656j,  4.28806621e-04-0.03123575j,\n",
      "        2.41023818e-02-0.00909663j,  1.14489011e-02+0.01735928j,\n",
      "       -1.93550479e-02-0.01525939j,  3.19879602e-02+0.j        ,\n",
      "        5.41001655e-03-0.00604984j, -1.36741778e-02+0.00534787j,\n",
      "       -3.19935160e-03+0.01525406j, -1.96426976e-03-0.00530218j],\n",
      "      [-1.10327912e-02-0.02666297j, -5.14943596e-04-0.02469245j,\n",
      "        1.96093235e-03+0.00485288j, -1.23551051e-02-0.00761973j,\n",
      "        4.69131301e-03-0.00841298j,  6.04952797e-03+0.00725216j,\n",
      "       -6.79997106e-03+0.00940221j,  7.14763895e-03-0.01629551j,\n",
      "       -3.61378611e-03+0.00981415j, -1.99682795e-02+0.00357499j,\n",
      "       -1.89371778e-02-0.04309215j,  5.41001655e-03+0.00604984j,\n",
      "        2.20591406e-02+0.j        , -1.09254081e-02+0.00047859j,\n",
      "       -2.22385857e-02-0.00562694j,  4.09923930e-03+0.00551788j],\n",
      "      [ 8.74170685e-01+0.11032628j, -1.02922967e-02-0.00745906j,\n",
      "        2.28416629e-02-0.0586369j ,  4.80290320e-03+0.01456765j,\n",
      "       -2.21012149e-02-0.0159272j , -2.01845239e-02-0.00217231j,\n",
      "        3.41811546e-03-0.06617913j,  8.49638686e-01+0.03636748j,\n",
      "       -5.82414178e-02+0.01865807j,  1.82843610e-02-0.00638388j,\n",
      "        8.21816755e-01-0.02381785j, -1.36741778e-02-0.00534787j,\n",
      "       -1.09254081e-02-0.00047859j,  8.55898745e-01+0.j        ,\n",
      "        1.30292746e-02-0.02241314j,  8.68211062e-03+0.02801832j],\n",
      "      [ 9.45625251e-04+0.0391076j ,  8.34510049e-03+0.02869416j,\n",
      "        3.41873738e-03-0.00669271j,  1.26444900e-02-0.00040525j,\n",
      "       -4.83617060e-03+0.00436925j, -1.88220222e-02-0.00275617j,\n",
      "        1.67910596e-02-0.02736078j, -1.40336158e-02+0.03908022j,\n",
      "       -1.96764628e-04-0.02160485j,  3.36449522e-02-0.01835613j,\n",
      "        1.76611414e-02+0.05586164j, -3.19935160e-03-0.01525406j,\n",
      "       -2.22385857e-02+0.00562694j,  1.30292746e-02+0.02241314j,\n",
      "        4.18714384e-02+0.j        , -6.20231971e-03-0.01031676j],\n",
      "      [ 4.17329248e-03-0.02733688j, -8.59806639e-03-0.00402958j,\n",
      "       -3.59043211e-03-0.00185869j,  6.68816782e-04+0.00100667j,\n",
      "        5.67649881e-03-0.00062231j,  3.76633470e-04+0.00396615j,\n",
      "       -4.19488773e-03+0.00559502j,  8.80616583e-03-0.03054732j,\n",
      "        9.51681676e-04+0.01138357j, -2.32855128e-03+0.00976067j,\n",
      "       -5.62990400e-03-0.03729673j, -1.96426976e-03+0.00530218j,\n",
      "        4.09923930e-03-0.00551788j,  8.68211062e-03-0.02801832j,\n",
      "       -6.20231971e-03+0.01031676j,  9.22719450e-03+0.j        ]],\n",
      "     input_dims=(2, 2), output_dims=(2, 2))\n",
      "- extra: <1 items>\n",
      "- device_components: ['Q0', 'Q1']\n",
      "- verified: False\n",
      "extra:\n",
      " {'Average gate fidelity': 0.909303515094172}\n"
     ]
    }
   ],
   "source": [
    "qstexp7 = GateSetTomography(qubits=[0,1], gateset='default')\n",
    "qstexp7.set_analysis_options(fitter='scipy_optimizer_MLE_gst', fitter_initial_guess='default')\n",
    "qstdata7 = qstexp7.run(backend).block_for_results()\n",
    "print(qstdata7.analysis_results(\"GST Experiment properties\"))\n",
    "print(qstdata7.analysis_results(\"gst estimation of CX\"))\n",
    "print('extra:\\n', qstdata7.analysis_results(\"gst estimation of CX\").extra)"
   ]
  },
  {
   "cell_type": "markdown",
   "id": "95b79ba4",
   "metadata": {},
   "source": [
    "## References"
   ]
  },
  {
   "cell_type": "markdown",
   "id": "75eebe09",
   "metadata": {},
   "source": [
    "[1] Greenbaum, Daniel. \"Introduction to quantum gate set tomography.\" arXiv preprint arXiv:1509.02921 (2015)."
   ]
  },
  {
   "cell_type": "code",
   "execution_count": 45,
   "id": "8a14c3c7",
   "metadata": {},
   "outputs": [
    {
     "data": {
      "text/html": [
       "<div style='width: 100%; background-color:#d5d9e0;padding-left: 10px; padding-bottom: 10px; padding-right: 10px; padding-top: 5px'><h3>This code is a part of Qiskit</h3><p>&copy; Copyright IBM 2017, 2021.</p><p>This code is licensed under the Apache License, Version 2.0. You may<br>obtain a copy of this license in the LICENSE.txt file in the root directory<br> of this source tree or at http://www.apache.org/licenses/LICENSE-2.0.<p>Any modifications or derivative works of this code must retain this<br>copyright notice, and modified files need to carry a notice indicating<br>that they have been altered from the originals.</p></div>"
      ],
      "text/plain": [
       "<IPython.core.display.HTML object>"
      ]
     },
     "metadata": {},
     "output_type": "display_data"
    }
   ],
   "source": [
    "import qiskit.tools.jupyter\n",
    "%qiskit_copyright"
   ]
  }
 ],
 "metadata": {
  "kernelspec": {
   "display_name": "Python 3",
   "language": "python",
   "name": "python3"
  },
  "language_info": {
   "codemirror_mode": {
    "name": "ipython",
    "version": 3
   },
   "file_extension": ".py",
   "mimetype": "text/x-python",
   "name": "python",
   "nbconvert_exporter": "python",
   "pygments_lexer": "ipython3",
   "version": "3.8.8"
  }
 },
 "nbformat": 4,
 "nbformat_minor": 5
}
