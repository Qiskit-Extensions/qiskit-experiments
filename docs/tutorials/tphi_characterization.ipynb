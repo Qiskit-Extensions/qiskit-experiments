{
 "cells": [
  {
   "cell_type": "markdown",
   "id": "d90cef84",
   "metadata": {},
   "source": [
    "# $T_{\\phi}$"
   ]
  },
  {
   "cell_type": "markdown",
   "id": "16825eb1",
   "metadata": {},
   "source": [
    "T is defined as follows."
   ]
  },
  {
   "cell_type": "code",
   "execution_count": 1,
   "id": "bb7abc10",
   "metadata": {
    "scrolled": true
   },
   "outputs": [],
   "source": [
    "import qiskit\n",
    "from qiskit_experiments.library.characterization import Tphi"
   ]
  },
  {
   "cell_type": "code",
   "execution_count": 2,
   "id": "65433519",
   "metadata": {},
   "outputs": [],
   "source": [
    "# set the computation units to microseconds\n",
    "\n",
    "qubit = 0\n",
    "# set the desired delays\n",
    "delays_t1 = list(range(1, 40, 3))\n",
    "delays_t2 = list(range(1, 50, 2))\n",
    "\n",
    "\n"
   ]
  },
  {
   "cell_type": "code",
   "execution_count": 3,
   "id": "ba59e1ef",
   "metadata": {},
   "outputs": [
    {
     "ename": "TypeError",
     "evalue": "__init__() got an unexpected keyword argument 'unit'",
     "output_type": "error",
     "traceback": [
      "\u001b[0;31m---------------------------------------------------------------------------\u001b[0m",
      "\u001b[0;31mTypeError\u001b[0m                                 Traceback (most recent call last)",
      "\u001b[0;32m<ipython-input-3-c5e9f00fb2a4>\u001b[0m in \u001b[0;36m<module>\u001b[0;34m\u001b[0m\n\u001b[0;32m----> 1\u001b[0;31m \u001b[0mexp\u001b[0m \u001b[0;34m=\u001b[0m \u001b[0mTphi\u001b[0m\u001b[0;34m(\u001b[0m\u001b[0mqubit\u001b[0m\u001b[0;34m=\u001b[0m\u001b[0;36m0\u001b[0m\u001b[0;34m,\u001b[0m \u001b[0mdelays_t1\u001b[0m\u001b[0;34m=\u001b[0m\u001b[0mdelays_t1\u001b[0m\u001b[0;34m,\u001b[0m \u001b[0mdelays_t2\u001b[0m\u001b[0;34m=\u001b[0m\u001b[0mdelays_t2\u001b[0m\u001b[0;34m,\u001b[0m \u001b[0munit\u001b[0m\u001b[0;34m=\u001b[0m\u001b[0;34m\"s\"\u001b[0m\u001b[0;34m,\u001b[0m \u001b[0mosc_freq\u001b[0m\u001b[0;34m=\u001b[0m\u001b[0;36m0.1\u001b[0m\u001b[0;34m)\u001b[0m\u001b[0;34m\u001b[0m\u001b[0;34m\u001b[0m\u001b[0m\n\u001b[0m\u001b[1;32m      2\u001b[0m \u001b[0;34m\u001b[0m\u001b[0m\n",
      "\u001b[0;31mTypeError\u001b[0m: __init__() got an unexpected keyword argument 'unit'"
     ]
    }
   ],
   "source": [
    "exp = Tphi(qubit=0, delays_t1=delays_t1, delays_t2=delays_t2, unit=\"s\", osc_freq=0.1)\n",
    "    "
   ]
  },
  {
   "cell_type": "code",
   "execution_count": null,
   "id": "c7154472",
   "metadata": {},
   "outputs": [],
   "source": [
    "print(exp._experiments[1].circuits()[0])"
   ]
  },
  {
   "cell_type": "code",
   "execution_count": null,
   "id": "1d3c529a",
   "metadata": {},
   "outputs": [],
   "source": [
    "print(exp.num_experiments)"
   ]
  },
  {
   "cell_type": "code",
   "execution_count": null,
   "id": "75b81403",
   "metadata": {},
   "outputs": [],
   "source": [
    "\n",
    "from qiskit_experiments.test.tphi_backend import TphiBackend\n",
    "backend = TphiBackend(t1=10, t2ramsey=25, freq=0.1, dt_factor=1)\n",
    "#print(backend)\n",
    "expdata = exp.run(backend, experiment_data=None)\n",
    "#print(expdata)"
   ]
  },
  {
   "cell_type": "code",
   "execution_count": null,
   "id": "5f69ac24",
   "metadata": {},
   "outputs": [],
   "source": []
  },
  {
   "cell_type": "code",
   "execution_count": null,
   "id": "17157f4c",
   "metadata": {},
   "outputs": [],
   "source": []
  },
  {
   "cell_type": "code",
   "execution_count": null,
   "id": "f64045d7",
   "metadata": {},
   "outputs": [],
   "source": []
  }
 ],
 "metadata": {
  "kernelspec": {
   "display_name": "Python 3",
   "language": "python",
   "name": "python3"
  },
  "language_info": {
   "codemirror_mode": {
    "name": "ipython",
    "version": 3
   },
   "file_extension": ".py",
   "mimetype": "text/x-python",
   "name": "python",
   "nbconvert_exporter": "python",
   "pygments_lexer": "ipython3",
   "version": "3.8.10"
  }
 },
 "nbformat": 4,
 "nbformat_minor": 5
}
