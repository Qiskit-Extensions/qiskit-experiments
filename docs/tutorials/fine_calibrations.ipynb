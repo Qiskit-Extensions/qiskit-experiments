{
 "cells": [
  {
   "cell_type": "markdown",
   "id": "tamil-indonesia",
   "metadata": {},
   "source": [
    "# Fine Calibrations"
   ]
  },
  {
   "cell_type": "markdown",
   "id": "civilian-radio",
   "metadata": {},
   "source": [
    "The amplitude of a pulse can be precisely calibrated using error amplifying gate sequences. These gate sequences apply the same gate a variable number of times. Therefore, if each gate has a small error $\\delta\\theta$ in the rotation angle then a sequence of $n$ gates will have a rotation error of $n\\cdot\\delta\\theta$. We will work with `ibmq_lima` and compare our results to those reported by the backend."
   ]
  },
  {
   "cell_type": "code",
   "execution_count": 1,
   "id": "acoustic-paint",
   "metadata": {},
   "outputs": [],
   "source": [
    "import numpy as np\n",
    "\n",
    "from qiskit import IBMQ\n",
    "from qiskit.pulse import InstructionScheduleMap\n",
    "import qiskit.pulse as pulse\n",
    "\n",
    "from qiskit_experiments.library import FineXAmplitude, FineSXAmplitude"
   ]
  },
  {
   "cell_type": "code",
   "execution_count": 2,
   "id": "accessory-alexandria",
   "metadata": {},
   "outputs": [
    {
     "name": "stderr",
     "output_type": "stream",
     "text": [
      "accountprovider._discover_remote_backends:WARNING:2022-07-09 11:51:45,470: Remote backend \"alt_auckland\" for provider <AccountProvider for IBMQ(hub='ibm-q-internal', group='dev-sys-software', project='internal-test')> could not be instantiated due to an invalid config: Traceback (most recent call last):\n",
      "  File \"/usr/local/lib/python3.9/site-packages/qiskit/providers/ibmq/accountprovider.py\", line 198, in _discover_remote_backends\n",
      "    config = PulseBackendConfiguration.from_dict(raw_config)\n",
      "  File \"/usr/local/lib/python3.9/site-packages/qiskit/providers/models/backendconfiguration.py\", line 692, in from_dict\n",
      "    input_uchannels = in_data.pop(\"u_channel_lo\")\n",
      "KeyError: 'u_channel_lo'\n",
      "\n",
      "During handling of the above exception, another exception occurred:\n",
      "\n",
      "Traceback (most recent call last):\n",
      "  File \"/usr/local/lib/python3.9/site-packages/qiskit/providers/ibmq/accountprovider.py\", line 200, in _discover_remote_backends\n",
      "    config = QasmBackendConfiguration.from_dict(raw_config)\n",
      "  File \"/usr/local/lib/python3.9/site-packages/qiskit/providers/models/backendconfiguration.py\", line 402, in from_dict\n",
      "    return cls(**in_data)\n",
      "TypeError: __init__() missing 2 required positional arguments: 'local' and 'conditional'\n",
      "\n",
      "accountprovider._discover_remote_backends:WARNING:2022-07-09 11:51:45,471: Remote backend \"alt_cairo\" for provider <AccountProvider for IBMQ(hub='ibm-q-internal', group='dev-sys-software', project='internal-test')> could not be instantiated due to an invalid config: Traceback (most recent call last):\n",
      "  File \"/usr/local/lib/python3.9/site-packages/qiskit/providers/ibmq/accountprovider.py\", line 198, in _discover_remote_backends\n",
      "    config = PulseBackendConfiguration.from_dict(raw_config)\n",
      "  File \"/usr/local/lib/python3.9/site-packages/qiskit/providers/models/backendconfiguration.py\", line 692, in from_dict\n",
      "    input_uchannels = in_data.pop(\"u_channel_lo\")\n",
      "KeyError: 'u_channel_lo'\n",
      "\n",
      "During handling of the above exception, another exception occurred:\n",
      "\n",
      "Traceback (most recent call last):\n",
      "  File \"/usr/local/lib/python3.9/site-packages/qiskit/providers/ibmq/accountprovider.py\", line 200, in _discover_remote_backends\n",
      "    config = QasmBackendConfiguration.from_dict(raw_config)\n",
      "  File \"/usr/local/lib/python3.9/site-packages/qiskit/providers/models/backendconfiguration.py\", line 402, in from_dict\n",
      "    return cls(**in_data)\n",
      "TypeError: __init__() missing 2 required positional arguments: 'local' and 'conditional'\n",
      "\n"
     ]
    }
   ],
   "source": [
    "IBMQ.load_account()\n",
    "provider = IBMQ.get_provider(hub='ibm-q', group='open', project='main')\n",
    "backend = provider.get_backend('ibmq_lima')"
   ]
  },
  {
   "cell_type": "code",
   "execution_count": null,
   "id": "unusual-amendment",
   "metadata": {},
   "outputs": [],
   "source": [
    "qubit = 0"
   ]
  },
  {
   "cell_type": "markdown",
   "id": "5b924bfd",
   "metadata": {},
   "source": [
    "### Instruction schedule map\n",
    "\n",
    "We will run the fine calibration experiments with our own pulse schedules. To do this we create an instruction to schedule map which we populate with the schedules we wish to work with. This instruction schedule map is then given to the transpile options of the calibration experiments so that the Qiskit transpiler can attach the pulse schedules to the gates in the experiments. We will base all our pulses on the default `X` pulse of Armonk."
   ]
  },
  {
   "cell_type": "code",
   "execution_count": null,
   "id": "phantom-language",
   "metadata": {},
   "outputs": [],
   "source": [
    "x_pulse = backend.defaults().instruction_schedule_map.get('x', (qubit,)).instructions[0][1].pulse\n",
    "x_pulse"
   ]
  },
  {
   "cell_type": "code",
   "execution_count": null,
   "id": "478d07d1",
   "metadata": {},
   "outputs": [],
   "source": [
    "# create the schedules we need and add them to an instruction schedule map.\n",
    "sx_pulse = pulse.Drag(x_pulse.duration, 0.5*x_pulse.amp, x_pulse.sigma, x_pulse.beta, name=\"SXp_d0\")\n",
    "y_pulse = pulse.Drag(x_pulse.duration, 1.0j*x_pulse.amp, x_pulse.sigma, x_pulse.beta, name=\"Yp_d0\")\n",
    "\n",
    "d0, inst_map = pulse.DriveChannel(qubit), InstructionScheduleMap()\n",
    "\n",
    "for name, pulse_ in [(\"x\", x_pulse), (\"y\", y_pulse), (\"sx\", sx_pulse)]:\n",
    "    with pulse.build(name=name) as sched:\n",
    "        pulse.play(pulse_, d0)\n",
    "    \n",
    "    inst_map.add(name, (qubit,), sched)"
   ]
  },
  {
   "cell_type": "markdown",
   "id": "grand-color",
   "metadata": {},
   "source": [
    "## Fine Amplitude Calibration"
   ]
  },
  {
   "cell_type": "code",
   "execution_count": null,
   "id": "adjusted-religious",
   "metadata": {},
   "outputs": [],
   "source": [
    "ideal_amp = x_pulse.amp\n",
    "print(f\"The reported amplitude of the X pulse is {ideal_amp:.4f}.\")"
   ]
  },
  {
   "cell_type": "markdown",
   "id": "distributed-official",
   "metadata": {},
   "source": [
    "### Detecting an over-rotated pulse\n",
    "\n",
    "We now take the x pulse reported by the backend and add a 2% overrotation to it by scaling the amplitude and see if the experiment can detect this overrotation. We replace the default `X` pulse in the instruction schedule map with this overrotated pulse."
   ]
  },
  {
   "cell_type": "code",
   "execution_count": null,
   "id": "wanted-soundtrack",
   "metadata": {},
   "outputs": [],
   "source": [
    "pulse_amp = ideal_amp*1.02\n",
    "target_angle = np.pi\n",
    "\n",
    "with pulse.build(backend=backend, name=\"x\") as x_over:\n",
    "    pulse.play(pulse.Drag(x_pulse.duration, pulse_amp, x_pulse.sigma, x_pulse.beta), d0)\n",
    "    \n",
    "inst_map.add(\"x\", (qubit,), x_over)"
   ]
  },
  {
   "cell_type": "code",
   "execution_count": null,
   "id": "former-quest",
   "metadata": {},
   "outputs": [],
   "source": [
    "amp_cal = FineXAmplitude(qubit, backend=backend)\n",
    "amp_cal.set_transpile_options(inst_map=inst_map)"
   ]
  },
  {
   "cell_type": "markdown",
   "id": "available-bread",
   "metadata": {},
   "source": [
    "Observe here that we added a square-root of X pulse before appyling the error amplifying sequence. This is done to be able to distinguish between over-rotated and under-rotated pulses."
   ]
  },
  {
   "cell_type": "code",
   "execution_count": null,
   "id": "subsequent-composite",
   "metadata": {},
   "outputs": [],
   "source": [
    "amp_cal.circuits()[5].draw(output=\"mpl\")"
   ]
  },
  {
   "cell_type": "code",
   "execution_count": null,
   "id": "numeric-motion",
   "metadata": {},
   "outputs": [],
   "source": [
    "data_over = amp_cal.run().block_for_results()"
   ]
  },
  {
   "cell_type": "code",
   "execution_count": null,
   "id": "cooperative-division",
   "metadata": {},
   "outputs": [],
   "source": [
    "data_over.figure(0)"
   ]
  },
  {
   "cell_type": "code",
   "execution_count": null,
   "id": "outer-growing",
   "metadata": {},
   "outputs": [],
   "source": [
    "print(data_over.analysis_results(\"d_theta\"))"
   ]
  },
  {
   "cell_type": "code",
   "execution_count": null,
   "id": "convinced-juice",
   "metadata": {},
   "outputs": [],
   "source": [
    "dtheta = data_over.analysis_results(\"d_theta\").value.value\n",
    "scale = target_angle / (target_angle + dtheta)\n",
    "print(f\"The ideal angle is {target_angle:.2f} rad. We measured a deviation of {dtheta:.3f} rad.\")\n",
    "print(f\"Thus, scale the {pulse_amp:.4f} pulse amplitude by {scale:.3f} to obtain {pulse_amp*scale:.5f}.\")\n",
    "print(f\"Amplitude reported by the backend {ideal_amp:.4f}.\")"
   ]
  },
  {
   "cell_type": "markdown",
   "id": "leading-partition",
   "metadata": {},
   "source": [
    "### Detecting an under-rotated pulse"
   ]
  },
  {
   "cell_type": "code",
   "execution_count": null,
   "id": "unable-deficit",
   "metadata": {},
   "outputs": [],
   "source": [
    "pulse_amp = ideal_amp*0.98\n",
    "target_angle = np.pi\n",
    "\n",
    "with pulse.build(backend=backend, name=\"xp\") as x_under:\n",
    "    pulse.play(pulse.Drag(x_pulse.duration, pulse_amp, x_pulse.sigma, x_pulse.beta), d0)\n",
    "    \n",
    "inst_map.add(\"x\", (qubit,), x_under)"
   ]
  },
  {
   "cell_type": "code",
   "execution_count": null,
   "id": "double-difference",
   "metadata": {},
   "outputs": [],
   "source": [
    "amp_cal = FineXAmplitude(qubit, backend=backend)\n",
    "amp_cal.set_transpile_options(inst_map=inst_map)"
   ]
  },
  {
   "cell_type": "code",
   "execution_count": null,
   "id": "worth-basis",
   "metadata": {},
   "outputs": [],
   "source": [
    "data_under = amp_cal.run().block_for_results()"
   ]
  },
  {
   "cell_type": "code",
   "execution_count": null,
   "id": "proud-commission",
   "metadata": {},
   "outputs": [],
   "source": [
    "data_under.figure(0)"
   ]
  },
  {
   "cell_type": "code",
   "execution_count": null,
   "id": "separated-niger",
   "metadata": {},
   "outputs": [],
   "source": [
    "print(data_under.analysis_results(\"d_theta\"))"
   ]
  },
  {
   "cell_type": "code",
   "execution_count": null,
   "id": "equal-exploration",
   "metadata": {},
   "outputs": [],
   "source": [
    "dtheta = data_under.analysis_results(\"d_theta\").value.value\n",
    "scale = target_angle / (target_angle + dtheta)\n",
    "print(f\"The ideal angle is {target_angle:.2f} rad. We measured a deviation of {dtheta:.3f} rad.\")\n",
    "print(f\"Thus, scale the {pulse_amp:.4f} pulse amplitude by {scale:.3f} to obtain {pulse_amp*scale:.5f}.\")\n",
    "print(f\"Amplitude reported by the backend {ideal_amp:.4f}.\")"
   ]
  },
  {
   "cell_type": "markdown",
   "id": "novel-booking",
   "metadata": {},
   "source": [
    "### Analyzing a $\\frac{\\pi}{2}$ pulse"
   ]
  },
  {
   "cell_type": "markdown",
   "id": "usual-battle",
   "metadata": {},
   "source": [
    "We now consider the $\\frac{\\pi}{2}$ rotation. Note that in this case we do not need to add a $\\frac{\\pi}{2}$ rotation to the circuits."
   ]
  },
  {
   "cell_type": "code",
   "execution_count": null,
   "id": "coordinated-education",
   "metadata": {},
   "outputs": [],
   "source": [
    "# restor the x_pulse\n",
    "inst_map.add(\"x\", (qubit,), backend.defaults().instruction_schedule_map.get('x', (qubit,)))"
   ]
  },
  {
   "cell_type": "code",
   "execution_count": null,
   "id": "boring-shaft",
   "metadata": {},
   "outputs": [],
   "source": [
    "amp_cal = FineSXAmplitude(qubit, backend)\n",
    "amp_cal.set_transpile_options(inst_map=inst_map)"
   ]
  },
  {
   "cell_type": "code",
   "execution_count": null,
   "id": "interior-schedule",
   "metadata": {},
   "outputs": [],
   "source": [
    "amp_cal.circuits()[5].draw(output=\"mpl\")"
   ]
  },
  {
   "cell_type": "code",
   "execution_count": null,
   "id": "normal-content",
   "metadata": {},
   "outputs": [],
   "source": [
    "data_x90p = amp_cal.run().block_for_results()"
   ]
  },
  {
   "cell_type": "code",
   "execution_count": null,
   "id": "naval-franklin",
   "metadata": {},
   "outputs": [],
   "source": [
    "data_x90p.figure(0)"
   ]
  },
  {
   "cell_type": "code",
   "execution_count": null,
   "id": "indonesian-tribe",
   "metadata": {},
   "outputs": [],
   "source": [
    "print(data_x90p.analysis_results(\"d_theta\"))"
   ]
  },
  {
   "cell_type": "code",
   "execution_count": null,
   "id": "swiss-prayer",
   "metadata": {},
   "outputs": [],
   "source": [
    "sx = backend.defaults().instruction_schedule_map.get('sx', (qubit,))\n",
    "sx_ideal_amp = sx.instructions[0][1].pulse.amp\n",
    "\n",
    "target_angle = np.pi / 2\n",
    "dtheta = data_x90p.analysis_results(\"d_theta\").value.value\n",
    "scale = target_angle / (target_angle + dtheta)\n",
    "print(f\"The ideal angle is {target_angle:.2f} rad. We measured a deviation of {dtheta:.3f} rad.\")\n",
    "print(f\"Thus, scale the {sx_pulse.amp:.4f} pulse amplitude by {scale:.3f} to obtain {sx_pulse.amp*scale:.5f}.\")\n",
    "print(f\"Amplitude reported by the backend {sx_ideal_amp:.4f}.\")"
   ]
  },
  {
   "cell_type": "markdown",
   "id": "specified-english",
   "metadata": {},
   "source": [
    "Let's rerun this calibration using the updated value of the amplitude of the $\\frac{\\pi}{2}$ pulse."
   ]
  },
  {
   "cell_type": "code",
   "execution_count": null,
   "id": "extended-wedding",
   "metadata": {},
   "outputs": [],
   "source": [
    "pulse_amp = sx_pulse.amp*scale\n",
    "\n",
    "with pulse.build(backend=backend, name=\"sx\") as sx_new:\n",
    "    pulse.play(pulse.Drag(x_pulse.duration, pulse_amp, x_pulse.sigma, x_pulse.beta), d0)\n",
    "    \n",
    "inst_map.add(\"sx\", (qubit,), sx_new)"
   ]
  },
  {
   "cell_type": "code",
   "execution_count": null,
   "id": "artistic-stand",
   "metadata": {},
   "outputs": [],
   "source": [
    "data_x90p = amp_cal.run().block_for_results()"
   ]
  },
  {
   "cell_type": "code",
   "execution_count": null,
   "id": "excessive-transformation",
   "metadata": {},
   "outputs": [],
   "source": [
    "data_x90p.figure(0)"
   ]
  },
  {
   "cell_type": "code",
   "execution_count": null,
   "id": "liquid-details",
   "metadata": {},
   "outputs": [],
   "source": [
    "print(data_x90p.analysis_results(\"d_theta\"))"
   ]
  },
  {
   "cell_type": "code",
   "execution_count": null,
   "id": "driving-density",
   "metadata": {},
   "outputs": [],
   "source": [
    "dtheta = data_x90p.analysis_results(\"d_theta\").value.value\n",
    "scale = target_angle / (target_angle + dtheta)\n",
    "print(f\"The ideal angle is {target_angle:.2f} rad. We measured a deviation of {dtheta:.3f} rad.\")\n",
    "print(f\"Thus, scale the {pulse_amp:.4f} pulse amplitude by {scale:.3f} to obtain {pulse_amp*scale:.5f}.\")\n",
    "print(f\"Amplitude reported by the backend {sx_ideal_amp:.4f}.\")"
   ]
  },
  {
   "cell_type": "markdown",
   "id": "restricted-brick",
   "metadata": {},
   "source": [
    "## Fine DRAG Calibrations"
   ]
  },
  {
   "cell_type": "code",
   "execution_count": null,
   "id": "billion-calibration",
   "metadata": {},
   "outputs": [],
   "source": [
    "from qiskit_experiments.library import FineXDrag"
   ]
  },
  {
   "cell_type": "code",
   "execution_count": null,
   "id": "aging-volunteer",
   "metadata": {},
   "outputs": [],
   "source": [
    "ideal_beta = x_pulse.beta\n",
    "print(f\"The reported beta of the X pulse is {ideal_beta:.4f}.\")"
   ]
  },
  {
   "cell_type": "code",
   "execution_count": null,
   "id": "asian-anniversary",
   "metadata": {},
   "outputs": [],
   "source": [
    "pulse_beta = ideal_beta*1.25\n",
    "target_angle = np.pi\n",
    "\n",
    "with pulse.build(backend=backend, name=\"x\") as x_over:\n",
    "    pulse.play(pulse.Drag(x_pulse.duration, x_pulse.amp, x_pulse.sigma, pulse_beta), d0)\n",
    "    \n",
    "inst_map.add(\"x\", (qubit,), x_over)"
   ]
  },
  {
   "cell_type": "code",
   "execution_count": null,
   "id": "continuing-arkansas",
   "metadata": {},
   "outputs": [],
   "source": [
    "drag_cal = FineXDrag(qubit, backend)\n",
    "drag_cal.set_transpile_options(inst_map=inst_map)"
   ]
  },
  {
   "cell_type": "code",
   "execution_count": null,
   "id": "independent-extraction",
   "metadata": {},
   "outputs": [],
   "source": [
    "drag_cal.circuits()[2].draw(\"mpl\")"
   ]
  },
  {
   "cell_type": "code",
   "execution_count": null,
   "id": "excited-eleven",
   "metadata": {},
   "outputs": [],
   "source": [
    "data_drag_x = drag_cal.run().block_for_results()"
   ]
  },
  {
   "cell_type": "code",
   "execution_count": null,
   "id": "driven-fiber",
   "metadata": {},
   "outputs": [],
   "source": [
    "data_drag_x.figure(0)"
   ]
  },
  {
   "cell_type": "code",
   "execution_count": null,
   "id": "pacific-bible",
   "metadata": {},
   "outputs": [],
   "source": [
    "print(data_drag_x.analysis_results(0))"
   ]
  },
  {
   "cell_type": "code",
   "execution_count": null,
   "id": "geographic-terminology",
   "metadata": {},
   "outputs": [],
   "source": [
    "data_drag_x.analysis_results(\"d_theta\").value.value"
   ]
  },
  {
   "cell_type": "code",
   "execution_count": null,
   "id": "cutting-firewall",
   "metadata": {},
   "outputs": [],
   "source": [
    "dtheta = data_drag_x.analysis_results(\"d_theta\").value.value\n",
    "\n",
    "ddelta = -0.25 * np.sqrt(np.pi) * dtheta * x_pulse.sigma / ((target_angle**2) / 4)\n",
    "\n",
    "print(f\"Adjust β={pulse_beta:.3f} by ddelta={ddelta:.3f} to get {ddelta + pulse_beta:.3f} as new β.\")\n",
    "print(f\"The backend reports β={x_pulse.beta:.3f}\")"
   ]
  },
  {
   "cell_type": "markdown",
   "id": "05ffc1e1",
   "metadata": {},
   "source": [
    "## Half angle calibrations\n",
    "\n",
    "Phase errors imply that it is possible for the `sx` and `x` pulse to be misaligned. This can occure, for example, due to non-linearities in the mixer skew. The half angle experiment allows us to measure such issues."
   ]
  },
  {
   "cell_type": "code",
   "execution_count": null,
   "id": "adc1e987",
   "metadata": {},
   "outputs": [],
   "source": [
    "from qiskit_experiments.library import HalfAngle"
   ]
  },
  {
   "cell_type": "code",
   "execution_count": null,
   "id": "7b15ae90",
   "metadata": {},
   "outputs": [],
   "source": [
    "hac = HalfAngle(qubit, backend)\n",
    "hac.set_transpile_options(inst_map=inst_map)"
   ]
  },
  {
   "cell_type": "code",
   "execution_count": null,
   "id": "46785cdb",
   "metadata": {},
   "outputs": [],
   "source": [
    "hac.circuits()[5].draw(\"mpl\")"
   ]
  },
  {
   "cell_type": "code",
   "execution_count": null,
   "id": "adf28640",
   "metadata": {},
   "outputs": [],
   "source": [
    "exp_data = hac.run().block_for_results()"
   ]
  },
  {
   "cell_type": "code",
   "execution_count": null,
   "id": "b1a1e889",
   "metadata": {},
   "outputs": [],
   "source": [
    "exp_data.figure(0)"
   ]
  },
  {
   "cell_type": "code",
   "execution_count": null,
   "id": "7b14a270",
   "metadata": {},
   "outputs": [],
   "source": [
    "print(exp_data.analysis_results(0))"
   ]
  },
  {
   "cell_type": "code",
   "execution_count": null,
   "id": "e994b6a6",
   "metadata": {},
   "outputs": [],
   "source": [
    "dhac = exp_data.analysis_results(\"d_hac\").value.value"
   ]
  },
  {
   "cell_type": "code",
   "execution_count": null,
   "id": "315fab21",
   "metadata": {},
   "outputs": [],
   "source": [
    "sx = backend.defaults().instruction_schedule_map.get('sx', (qubit,))\n",
    "sx_amp = sx.instructions[0][1].pulse.amp\n",
    "\n",
    "print(f\"Adjust the phase of {np.angle(sx_pulse.amp)} of the sx pulse by {-dhac/2:.3f} rad.\")\n",
    "print(f\"The backend reports an angle of {np.angle(sx_amp):.3f} for the sx pulse.\")"
   ]
  },
  {
   "cell_type": "code",
   "execution_count": null,
   "id": "divided-messaging",
   "metadata": {},
   "outputs": [],
   "source": [
    "import qiskit.tools.jupyter\n",
    "%qiskit_copyright"
   ]
  },
  {
   "cell_type": "code",
   "execution_count": null,
   "id": "71cbb2b7",
   "metadata": {},
   "outputs": [],
   "source": []
  }
 ],
 "metadata": {
  "kernelspec": {
   "display_name": "Python 3 (ipykernel)",
   "language": "python",
   "name": "python3"
  },
  "language_info": {
   "codemirror_mode": {
    "name": "ipython",
    "version": 3
   },
   "file_extension": ".py",
   "mimetype": "text/x-python",
   "name": "python",
   "nbconvert_exporter": "python",
   "pygments_lexer": "ipython3",
   "version": "3.9.10"
  }
 },
 "nbformat": 4,
 "nbformat_minor": 5
}
