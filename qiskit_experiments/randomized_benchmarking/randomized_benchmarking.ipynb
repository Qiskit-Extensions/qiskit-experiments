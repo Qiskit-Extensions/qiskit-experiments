{
 "cells": [
  {
   "cell_type": "markdown",
   "metadata": {},
   "source": [
    "# Randomized Benchmarking\n",
    "\n",
    "\n",
    "## Introduction\n",
    "\n",
    "**Randomization benchmarking (RB)** is a well-known technique to measure average gate performance by running sequences of random Clifford gates that should return the qubits to the initial state. \n",
    "Qiskit Ignis has tools to generate one- and two-qubit Clifford gate sequences simultaneously. \n",
    "\n",
    "This notebook gives an example for how to use the ``ignis.verification.randomized_benchmarking`` module. This particular example shows how to run 2-qubit randomized benchmarking (RB) simultaneous with 1-qubit RB. There are also examples on how to use some of the companion functions for predicting RB fidelity.\n"
   ]
  },
  {
   "cell_type": "code",
   "execution_count": 11,
   "metadata": {
    "ExecuteTime": {
     "end_time": "2019-12-10T21:49:09.958187Z",
     "start_time": "2019-12-10T21:49:08.131232Z"
    }
   },
   "outputs": [],
   "source": [
    "#Import general libraries (needed for functions)\n",
    "import numpy as np\n",
    "import matplotlib.pyplot as plt\n",
    "from IPython import display\n",
    "\n",
    "#Import Qiskit classes\n",
    "import qiskit\n",
    "from qiskit.providers.aer.noise import NoiseModel\n",
    "from qiskit.providers.aer.noise.errors.standard_errors import (depolarizing_error,\n",
    "                                                               thermal_relaxation_error,\n",
    "                                                               coherent_unitary_error)\n",
    "\n",
    "from qiskit.quantum_info import SuperOp\n",
    "from qiskit import QuantumCircuit\n",
    "\n",
    "#Import the RB Functions\n",
    "from qiskit_experiments.randomized_benchmarking import (RBExperiment,\n",
    "                                                        InterleavedRBExperiment,\n",
    "                                                        PurityRBExperiment,\n",
    "                                                        RBUtils)"
   ]
  },
  {
   "cell_type": "markdown",
   "metadata": {},
   "source": [
    "## 1) Select the Parameters of the RB Run <a name='select_params_RB'></a>\n",
    "\n",
    "First, wee need to choose the following parameters:\n",
    "\n",
    "- **nseeds:** The number of seeds. For each seed you will get a separate list of output circuits in rb_circs.\n",
    "- **length_vector:** The length vector of Clifford lengths. Must be in ascending order. RB sequences of increasing length grow on top of the previous sequences.\n",
    "- **rb_pattern:** A list of the form [[i,j],[k],...] which will make simultaneous RB sequences where Qi,Qj are a 2-qubit RB sequence and Qk is a 1-qubit sequence, etc. The number of qubits is the sum of the entries. For 'regular' RB the qubit_pattern is just [[0]],[[0,1]].\n",
    "- **length_multiplier:** If this is an array it scales each rb_sequence by the multiplier.\n",
    "- **seed_offset:** What to start the seeds at (e.g. if we want to add more seeds later).\n",
    "- **align_cliffs:**  If true adds a barrier across all qubits in rb_pattern after each set of cliffords.\n",
    "\n",
    "In this example we have 3 qubits Q0,Q1,Q2. \n",
    "We are running 2Q RB (on qubits Q0,Q2) and 1Q RB (on qubit Q1) simultaneously, \n",
    "where there are twice as many 1Q Clifford gates."
   ]
  },
  {
   "cell_type": "code",
   "execution_count": 2,
   "metadata": {
    "ExecuteTime": {
     "end_time": "2019-12-10T21:49:09.963476Z",
     "start_time": "2019-12-10T21:49:09.960218Z"
    }
   },
   "outputs": [],
   "source": [
    "#Number of qubits\n",
    "nQ = 3\n",
    "#There are 3 qubits: Q0,Q1,Q2.\n",
    "#Number of seeds (random sequences)\n",
    "nseeds = 5\n",
    "#Number of Cliffords in the sequence (start, stop, steps)\n",
    "nCliffs = np.arange(1,200,20)"
   ]
  },
  {
   "cell_type": "markdown",
   "metadata": {},
   "source": [
    "## 2) Create the RB experiments <a name='gen_RB_seq'></a>\n",
    "\n",
    "We generate RB experiments. We start with a small example (so it doesn't take too long to run). This is done by using the `RBExperiment` class."
   ]
  },
  {
   "cell_type": "code",
   "execution_count": 3,
   "metadata": {
    "ExecuteTime": {
     "end_time": "2019-12-10T21:49:15.001889Z",
     "start_time": "2019-12-10T21:49:09.966440Z"
    },
    "scrolled": false
   },
   "outputs": [],
   "source": [
    "exp02 = RBExperiment(nseeds=1, qubits=[0,2], lengths=nCliffs)\n",
    "exp1 = RBExperiment(nseeds=1, qubits=[1], lengths=[x*3 for x in nCliffs])"
   ]
  },
  {
   "cell_type": "markdown",
   "metadata": {},
   "source": [
    "As an example, we print the circuit corresponding to the first RB sequence of the 2-qubit experiment:"
   ]
  },
  {
   "cell_type": "code",
   "execution_count": 4,
   "metadata": {
    "ExecuteTime": {
     "end_time": "2019-12-10T21:49:15.015115Z",
     "start_time": "2019-12-10T21:49:15.004449Z"
    }
   },
   "outputs": [
    {
     "name": "stdout",
     "output_type": "stream",
     "text": [
      "      ┌───┐┌───┐     ┌─────┐┌───┐      ░      ┌───┐┌───┐     ┌─────┐┌───┐┌─┐\n",
      "qr_0: ┤ H ├┤ S ├──■──┤ SDG ├┤ H ├──■───░───■──┤ H ├┤ S ├──■──┤ SDG ├┤ H ├┤M├\n",
      "      └───┘└───┘  │  └─────┘└───┘  │   ░   │  └───┘└───┘  │  └─────┘└───┘└╥┘\n",
      "qr_1: ────────────┼────────────────┼───────┼──────────────┼───────────────╫─\n",
      "      ┌───┐     ┌─┴─┐┌─────┐┌───┐┌─┴─┐ ░ ┌─┴─┐┌───┐┌───┐┌─┴─┐ ┌───┐  ┌─┐  ║ \n",
      "qr_2: ┤ H ├─────┤ X ├┤ SDG ├┤ H ├┤ X ├─░─┤ X ├┤ H ├┤ S ├┤ X ├─┤ H ├──┤M├──╫─\n",
      "      └───┘     └───┘└─────┘└───┘└───┘ ░ └───┘└───┘└───┘└───┘ └───┘  └╥┘  ║ \n",
      "cr: 2/════════════════════════════════════════════════════════════════╩═══╩═\n",
      "                                                                      1   0 \n"
     ]
    }
   ],
   "source": [
    "print(exp02.circuits()[0])"
   ]
  },
  {
   "cell_type": "markdown",
   "metadata": {},
   "source": [
    "## Look at the Unitary for 1 Circuit"
   ]
  },
  {
   "cell_type": "markdown",
   "metadata": {},
   "source": [
    "The Unitary representing each RB circuit should be the identity (with a global phase),\n",
    "since we multiply random Clifford elements, including a computed reversal gate. We simulate this using an Aer unitary simulator."
   ]
  },
  {
   "cell_type": "code",
   "execution_count": 5,
   "metadata": {
    "ExecuteTime": {
     "end_time": "2019-12-10T21:49:15.069700Z",
     "start_time": "2019-12-10T21:49:15.016779Z"
    }
   },
   "outputs": [
    {
     "name": "stdout",
     "output_type": "stream",
     "text": [
      "[[ 0.707-0.707j  0.   -0.j     0.   +0.j     0.   +0.j     0.   +0.j\n",
      "  -0.   -0.j     0.   +0.j     0.   +0.j   ]\n",
      " [-0.   +0.j     0.707-0.707j  0.   +0.j     0.   +0.j     0.   +0.j\n",
      "   0.   -0.j     0.   +0.j     0.   +0.j   ]\n",
      " [ 0.   +0.j     0.   +0.j     0.707-0.707j  0.   -0.j     0.   +0.j\n",
      "   0.   +0.j     0.   +0.j    -0.   -0.j   ]\n",
      " [ 0.   +0.j     0.   +0.j    -0.   +0.j     0.707-0.707j  0.   +0.j\n",
      "   0.   +0.j     0.   +0.j     0.   -0.j   ]\n",
      " [ 0.   +0.j     0.   +0.j     0.   +0.j     0.   +0.j     0.707-0.707j\n",
      "  -0.   +0.j     0.   +0.j     0.   +0.j   ]\n",
      " [-0.   -0.j    -0.   +0.j     0.   +0.j     0.   +0.j     0.   -0.j\n",
      "   0.707-0.707j  0.   +0.j     0.   +0.j   ]\n",
      " [ 0.   +0.j     0.   +0.j     0.   +0.j     0.   +0.j     0.   +0.j\n",
      "   0.   +0.j     0.707-0.707j -0.   +0.j   ]\n",
      " [ 0.   +0.j     0.   +0.j    -0.   -0.j    -0.   +0.j     0.   +0.j\n",
      "   0.   +0.j     0.   -0.j     0.707-0.707j]]\n"
     ]
    }
   ],
   "source": [
    "#Create a new circuit without the measurement\n",
    "circ = exp02.circuits()[-1]\n",
    "qc = qiskit.QuantumCircuit(*circ.qregs,*circ.cregs)\n",
    "for i in circ[0:-2]:\n",
    "    qc.data.append(i)\n",
    "backend = qiskit.Aer.get_backend('unitary_simulator')\n",
    "basis_gates = ['id', 'rz', 'x', 'sx', 'cx']\n",
    "job = qiskit.execute(qc, backend=backend, basis_gates=basis_gates)\n",
    "print(np.around(job.result().get_unitary(), 3))"
   ]
  },
  {
   "cell_type": "markdown",
   "metadata": {},
   "source": [
    "## Define the noise model"
   ]
  },
  {
   "cell_type": "markdown",
   "metadata": {},
   "source": [
    "We define a noise model for the simulator. To simulate decay, we add depolarizing error probabilities to the CNOT and U gates."
   ]
  },
  {
   "cell_type": "code",
   "execution_count": 6,
   "metadata": {
    "ExecuteTime": {
     "end_time": "2019-12-10T21:49:16.809930Z",
     "start_time": "2019-12-10T21:49:16.806016Z"
    }
   },
   "outputs": [],
   "source": [
    "noise_model = NoiseModel()\n",
    "p1Q = 0.002\n",
    "p2Q = 0.01\n",
    "noise_model.add_all_qubit_quantum_error(depolarizing_error(p1Q, 1), 'x')\n",
    "noise_model.add_all_qubit_quantum_error(depolarizing_error(p1Q, 1), 'sx')\n",
    "noise_model.add_all_qubit_quantum_error(depolarizing_error(p2Q, 2), 'cx')"
   ]
  },
  {
   "cell_type": "markdown",
   "metadata": {},
   "source": [
    "## 3) Run the RB experiment on Aer simulator <a name='ex_RB_seq'></a>\n",
    "\n",
    "We can run the RB experiment either using a Qiskit Aer Simulator (with some noise model) or using an IBMQ provider. The results are automatically passed to the fitter."
   ]
  },
  {
   "cell_type": "code",
   "execution_count": 7,
   "metadata": {},
   "outputs": [
    {
     "ename": "KeyboardInterrupt",
     "evalue": "",
     "output_type": "error",
     "traceback": [
      "\u001b[0;31m---------------------------------------------------------------------------\u001b[0m",
      "\u001b[0;31mKeyboardInterrupt\u001b[0m                         Traceback (most recent call last)",
      "\u001b[0;32m<ipython-input-7-218e2f927547>\u001b[0m in \u001b[0;36m<module>\u001b[0;34m\u001b[0m\n\u001b[1;32m      3\u001b[0m \u001b[0;34m\u001b[0m\u001b[0m\n\u001b[1;32m      4\u001b[0m \u001b[0mrb_experiment_data_02\u001b[0m \u001b[0;34m=\u001b[0m \u001b[0mexp02\u001b[0m\u001b[0;34m.\u001b[0m\u001b[0mrun\u001b[0m\u001b[0;34m(\u001b[0m\u001b[0mbackend\u001b[0m\u001b[0;34m,\u001b[0m \u001b[0mnoise_model\u001b[0m\u001b[0;34m=\u001b[0m\u001b[0mnoise_model\u001b[0m\u001b[0;34m,\u001b[0m \u001b[0mshots\u001b[0m\u001b[0;34m=\u001b[0m\u001b[0mshots\u001b[0m\u001b[0;34m)\u001b[0m\u001b[0;34m\u001b[0m\u001b[0;34m\u001b[0m\u001b[0m\n\u001b[0;32m----> 5\u001b[0;31m \u001b[0mrb_experiment_data_1\u001b[0m \u001b[0;34m=\u001b[0m \u001b[0mexp1\u001b[0m\u001b[0;34m.\u001b[0m\u001b[0mrun\u001b[0m\u001b[0;34m(\u001b[0m\u001b[0mbackend\u001b[0m\u001b[0;34m,\u001b[0m \u001b[0mnoise_model\u001b[0m\u001b[0;34m=\u001b[0m\u001b[0mnoise_model\u001b[0m\u001b[0;34m,\u001b[0m \u001b[0mshots\u001b[0m\u001b[0;34m=\u001b[0m\u001b[0mshots\u001b[0m\u001b[0;34m)\u001b[0m\u001b[0;34m\u001b[0m\u001b[0;34m\u001b[0m\u001b[0m\n\u001b[0m\u001b[1;32m      6\u001b[0m \u001b[0mrb_result_02\u001b[0m \u001b[0;34m=\u001b[0m \u001b[0mrb_experiment_data_02\u001b[0m\u001b[0;34m.\u001b[0m\u001b[0manalysis_result\u001b[0m\u001b[0;34m(\u001b[0m\u001b[0;36m0\u001b[0m\u001b[0;34m)\u001b[0m\u001b[0;34m\u001b[0m\u001b[0;34m\u001b[0m\u001b[0m\n\u001b[1;32m      7\u001b[0m \u001b[0mrb_result_1\u001b[0m \u001b[0;34m=\u001b[0m \u001b[0mrb_experiment_data_1\u001b[0m\u001b[0;34m.\u001b[0m\u001b[0manalysis_result\u001b[0m\u001b[0;34m(\u001b[0m\u001b[0;36m0\u001b[0m\u001b[0;34m)\u001b[0m\u001b[0;34m\u001b[0m\u001b[0;34m\u001b[0m\u001b[0m\n",
      "\u001b[0;32m~/miniconda3/envs/qiskit-exp-dev/lib/python3.8/site-packages/qiskit_experiments/randomized_benchmarking/base_rb_experiment.py\u001b[0m in \u001b[0;36mrun\u001b[0;34m(self, backend, experiment_data, **kwargs)\u001b[0m\n\u001b[1;32m     43\u001b[0m         \u001b[0;32mif\u001b[0m \u001b[0;34m'basis_gates'\u001b[0m \u001b[0;32mnot\u001b[0m \u001b[0;32min\u001b[0m \u001b[0mkwargs\u001b[0m\u001b[0;34m:\u001b[0m\u001b[0;34m\u001b[0m\u001b[0;34m\u001b[0m\u001b[0m\n\u001b[1;32m     44\u001b[0m             \u001b[0mkwargs\u001b[0m\u001b[0;34m[\u001b[0m\u001b[0;34m'basis_gates'\u001b[0m\u001b[0;34m]\u001b[0m \u001b[0;34m=\u001b[0m \u001b[0mself\u001b[0m\u001b[0;34m.\u001b[0m\u001b[0mdefault_basis_gates\u001b[0m\u001b[0;34m(\u001b[0m\u001b[0;34m)\u001b[0m\u001b[0;34m\u001b[0m\u001b[0;34m\u001b[0m\u001b[0m\n\u001b[0;32m---> 45\u001b[0;31m         \u001b[0;32mreturn\u001b[0m \u001b[0msuper\u001b[0m\u001b[0;34m(\u001b[0m\u001b[0;34m)\u001b[0m\u001b[0;34m.\u001b[0m\u001b[0mrun\u001b[0m\u001b[0;34m(\u001b[0m\u001b[0mbackend\u001b[0m\u001b[0;34m,\u001b[0m \u001b[0mexperiment_data\u001b[0m\u001b[0;34m,\u001b[0m \u001b[0mactive_seeds\u001b[0m\u001b[0;34m=\u001b[0m\u001b[0mself\u001b[0m\u001b[0;34m.\u001b[0m\u001b[0m_generator\u001b[0m\u001b[0;34m.\u001b[0m\u001b[0mseeds\u001b[0m\u001b[0;34m(\u001b[0m\u001b[0;34m)\u001b[0m\u001b[0;34m,\u001b[0m \u001b[0;34m**\u001b[0m\u001b[0mkwargs\u001b[0m\u001b[0;34m)\u001b[0m\u001b[0;34m\u001b[0m\u001b[0;34m\u001b[0m\u001b[0m\n\u001b[0m\u001b[1;32m     46\u001b[0m \u001b[0;34m\u001b[0m\u001b[0m\n\u001b[1;32m     47\u001b[0m     \u001b[0;32mdef\u001b[0m \u001b[0mrun_on_new_seeds\u001b[0m\u001b[0;34m(\u001b[0m\u001b[0mself\u001b[0m\u001b[0;34m,\u001b[0m \u001b[0mbackend\u001b[0m\u001b[0;34m,\u001b[0m \u001b[0mexperiment_data\u001b[0m\u001b[0;34m,\u001b[0m \u001b[0mnum_of_seeds\u001b[0m\u001b[0;34m,\u001b[0m \u001b[0;34m**\u001b[0m\u001b[0mkwargs\u001b[0m\u001b[0;34m)\u001b[0m\u001b[0;34m:\u001b[0m\u001b[0;34m\u001b[0m\u001b[0;34m\u001b[0m\u001b[0m\n",
      "\u001b[0;32m~/miniconda3/envs/qiskit-exp-dev/lib/python3.8/site-packages/qiskit_experiments/base_experiment.py\u001b[0m in \u001b[0;36mrun\u001b[0;34m(self, backend, experiment_data, **kwargs)\u001b[0m\n\u001b[1;32m    131\u001b[0m \u001b[0;34m\u001b[0m\u001b[0m\n\u001b[1;32m    132\u001b[0m         \u001b[0;31m# Add Job to ExperimentData\u001b[0m\u001b[0;34m\u001b[0m\u001b[0;34m\u001b[0m\u001b[0;34m\u001b[0m\u001b[0m\n\u001b[0;32m--> 133\u001b[0;31m         \u001b[0mexperiment_data\u001b[0m\u001b[0;34m.\u001b[0m\u001b[0madd_data\u001b[0m\u001b[0;34m(\u001b[0m\u001b[0mjob\u001b[0m\u001b[0;34m)\u001b[0m\u001b[0;34m\u001b[0m\u001b[0;34m\u001b[0m\u001b[0m\n\u001b[0m\u001b[1;32m    134\u001b[0m \u001b[0;34m\u001b[0m\u001b[0m\n\u001b[1;32m    135\u001b[0m         \u001b[0;31m# Queue analysis of data for when job is finished\u001b[0m\u001b[0;34m\u001b[0m\u001b[0;34m\u001b[0m\u001b[0;34m\u001b[0m\u001b[0m\n",
      "\u001b[0;32m~/miniconda3/envs/qiskit-exp-dev/lib/python3.8/site-packages/qiskit_experiments/experiment_data.py\u001b[0m in \u001b[0;36madd_data\u001b[0;34m(self, data)\u001b[0m\n\u001b[1;32m    111\u001b[0m             \u001b[0mself\u001b[0m\u001b[0;34m.\u001b[0m\u001b[0m_add_result_data\u001b[0m\u001b[0;34m(\u001b[0m\u001b[0mdata\u001b[0m\u001b[0;34m)\u001b[0m\u001b[0;34m\u001b[0m\u001b[0;34m\u001b[0m\u001b[0m\n\u001b[1;32m    112\u001b[0m         \u001b[0;32melif\u001b[0m \u001b[0misinstance\u001b[0m\u001b[0;34m(\u001b[0m\u001b[0mdata\u001b[0m\u001b[0;34m,\u001b[0m \u001b[0;34m(\u001b[0m\u001b[0mJob\u001b[0m\u001b[0;34m,\u001b[0m \u001b[0mBaseJob\u001b[0m\u001b[0;34m)\u001b[0m\u001b[0;34m)\u001b[0m\u001b[0;34m:\u001b[0m\u001b[0;34m\u001b[0m\u001b[0;34m\u001b[0m\u001b[0m\n\u001b[0;32m--> 113\u001b[0;31m             \u001b[0mself\u001b[0m\u001b[0;34m.\u001b[0m\u001b[0m_add_result_data\u001b[0m\u001b[0;34m(\u001b[0m\u001b[0mdata\u001b[0m\u001b[0;34m.\u001b[0m\u001b[0mresult\u001b[0m\u001b[0;34m(\u001b[0m\u001b[0;34m)\u001b[0m\u001b[0;34m)\u001b[0m\u001b[0;34m\u001b[0m\u001b[0;34m\u001b[0m\u001b[0m\n\u001b[0m\u001b[1;32m    114\u001b[0m         \u001b[0;32melif\u001b[0m \u001b[0misinstance\u001b[0m\u001b[0;34m(\u001b[0m\u001b[0mdata\u001b[0m\u001b[0;34m,\u001b[0m \u001b[0mlist\u001b[0m\u001b[0;34m)\u001b[0m\u001b[0;34m:\u001b[0m\u001b[0;34m\u001b[0m\u001b[0;34m\u001b[0m\u001b[0m\n\u001b[1;32m    115\u001b[0m             \u001b[0;32mfor\u001b[0m \u001b[0mdat\u001b[0m \u001b[0;32min\u001b[0m \u001b[0mdata\u001b[0m\u001b[0;34m:\u001b[0m\u001b[0;34m\u001b[0m\u001b[0;34m\u001b[0m\u001b[0m\n",
      "\u001b[0;32m~/miniconda3/envs/qiskit-exp-dev/lib/python3.8/site-packages/qiskit/providers/aer/aerjob.py\u001b[0m in \u001b[0;36m_wrapper\u001b[0;34m(self, *args, **kwargs)\u001b[0m\n\u001b[1;32m     40\u001b[0m         \u001b[0;32mif\u001b[0m \u001b[0mself\u001b[0m\u001b[0;34m.\u001b[0m\u001b[0m_future\u001b[0m \u001b[0;32mis\u001b[0m \u001b[0;32mNone\u001b[0m\u001b[0;34m:\u001b[0m\u001b[0;34m\u001b[0m\u001b[0;34m\u001b[0m\u001b[0m\n\u001b[1;32m     41\u001b[0m             \u001b[0;32mraise\u001b[0m \u001b[0mJobError\u001b[0m\u001b[0;34m(\u001b[0m\u001b[0;34m\"Job not submitted yet!. You have to .submit() first!\"\u001b[0m\u001b[0;34m)\u001b[0m\u001b[0;34m\u001b[0m\u001b[0;34m\u001b[0m\u001b[0m\n\u001b[0;32m---> 42\u001b[0;31m         \u001b[0;32mreturn\u001b[0m \u001b[0mfunc\u001b[0m\u001b[0;34m(\u001b[0m\u001b[0mself\u001b[0m\u001b[0;34m,\u001b[0m \u001b[0;34m*\u001b[0m\u001b[0margs\u001b[0m\u001b[0;34m,\u001b[0m \u001b[0;34m**\u001b[0m\u001b[0mkwargs\u001b[0m\u001b[0;34m)\u001b[0m\u001b[0;34m\u001b[0m\u001b[0;34m\u001b[0m\u001b[0m\n\u001b[0m\u001b[1;32m     43\u001b[0m     \u001b[0;32mreturn\u001b[0m \u001b[0m_wrapper\u001b[0m\u001b[0;34m\u001b[0m\u001b[0;34m\u001b[0m\u001b[0m\n\u001b[1;32m     44\u001b[0m \u001b[0;34m\u001b[0m\u001b[0m\n",
      "\u001b[0;32m~/miniconda3/envs/qiskit-exp-dev/lib/python3.8/site-packages/qiskit/providers/aer/aerjob.py\u001b[0m in \u001b[0;36mresult\u001b[0;34m(self, timeout)\u001b[0m\n\u001b[1;32m     99\u001b[0m             \u001b[0mconcurrent\u001b[0m\u001b[0;34m.\u001b[0m\u001b[0mfutures\u001b[0m\u001b[0;34m.\u001b[0m\u001b[0mCancelledError\u001b[0m\u001b[0;34m:\u001b[0m \u001b[0;32mif\u001b[0m \u001b[0mjob\u001b[0m \u001b[0mcancelled\u001b[0m \u001b[0mbefore\u001b[0m \u001b[0mcompleted\u001b[0m\u001b[0;34m.\u001b[0m\u001b[0;34m\u001b[0m\u001b[0;34m\u001b[0m\u001b[0m\n\u001b[1;32m    100\u001b[0m         \"\"\"\n\u001b[0;32m--> 101\u001b[0;31m         \u001b[0;32mreturn\u001b[0m \u001b[0mself\u001b[0m\u001b[0;34m.\u001b[0m\u001b[0m_future\u001b[0m\u001b[0;34m.\u001b[0m\u001b[0mresult\u001b[0m\u001b[0;34m(\u001b[0m\u001b[0mtimeout\u001b[0m\u001b[0;34m=\u001b[0m\u001b[0mtimeout\u001b[0m\u001b[0;34m)\u001b[0m\u001b[0;34m\u001b[0m\u001b[0;34m\u001b[0m\u001b[0m\n\u001b[0m\u001b[1;32m    102\u001b[0m \u001b[0;34m\u001b[0m\u001b[0m\n\u001b[1;32m    103\u001b[0m     \u001b[0;34m@\u001b[0m\u001b[0mrequires_submit\u001b[0m\u001b[0;34m\u001b[0m\u001b[0;34m\u001b[0m\u001b[0m\n",
      "\u001b[0;32m~/miniconda3/envs/qiskit-exp-dev/lib/python3.8/concurrent/futures/_base.py\u001b[0m in \u001b[0;36mresult\u001b[0;34m(self, timeout)\u001b[0m\n\u001b[1;32m    432\u001b[0m                 \u001b[0;32mreturn\u001b[0m \u001b[0mself\u001b[0m\u001b[0;34m.\u001b[0m\u001b[0m__get_result\u001b[0m\u001b[0;34m(\u001b[0m\u001b[0;34m)\u001b[0m\u001b[0;34m\u001b[0m\u001b[0;34m\u001b[0m\u001b[0m\n\u001b[1;32m    433\u001b[0m \u001b[0;34m\u001b[0m\u001b[0m\n\u001b[0;32m--> 434\u001b[0;31m             \u001b[0mself\u001b[0m\u001b[0;34m.\u001b[0m\u001b[0m_condition\u001b[0m\u001b[0;34m.\u001b[0m\u001b[0mwait\u001b[0m\u001b[0;34m(\u001b[0m\u001b[0mtimeout\u001b[0m\u001b[0;34m)\u001b[0m\u001b[0;34m\u001b[0m\u001b[0;34m\u001b[0m\u001b[0m\n\u001b[0m\u001b[1;32m    435\u001b[0m \u001b[0;34m\u001b[0m\u001b[0m\n\u001b[1;32m    436\u001b[0m             \u001b[0;32mif\u001b[0m \u001b[0mself\u001b[0m\u001b[0;34m.\u001b[0m\u001b[0m_state\u001b[0m \u001b[0;32min\u001b[0m \u001b[0;34m[\u001b[0m\u001b[0mCANCELLED\u001b[0m\u001b[0;34m,\u001b[0m \u001b[0mCANCELLED_AND_NOTIFIED\u001b[0m\u001b[0;34m]\u001b[0m\u001b[0;34m:\u001b[0m\u001b[0;34m\u001b[0m\u001b[0;34m\u001b[0m\u001b[0m\n",
      "\u001b[0;32m~/miniconda3/envs/qiskit-exp-dev/lib/python3.8/threading.py\u001b[0m in \u001b[0;36mwait\u001b[0;34m(self, timeout)\u001b[0m\n\u001b[1;32m    300\u001b[0m         \u001b[0;32mtry\u001b[0m\u001b[0;34m:\u001b[0m    \u001b[0;31m# restore state no matter what (e.g., KeyboardInterrupt)\u001b[0m\u001b[0;34m\u001b[0m\u001b[0;34m\u001b[0m\u001b[0m\n\u001b[1;32m    301\u001b[0m             \u001b[0;32mif\u001b[0m \u001b[0mtimeout\u001b[0m \u001b[0;32mis\u001b[0m \u001b[0;32mNone\u001b[0m\u001b[0;34m:\u001b[0m\u001b[0;34m\u001b[0m\u001b[0;34m\u001b[0m\u001b[0m\n\u001b[0;32m--> 302\u001b[0;31m                 \u001b[0mwaiter\u001b[0m\u001b[0;34m.\u001b[0m\u001b[0macquire\u001b[0m\u001b[0;34m(\u001b[0m\u001b[0;34m)\u001b[0m\u001b[0;34m\u001b[0m\u001b[0;34m\u001b[0m\u001b[0m\n\u001b[0m\u001b[1;32m    303\u001b[0m                 \u001b[0mgotit\u001b[0m \u001b[0;34m=\u001b[0m \u001b[0;32mTrue\u001b[0m\u001b[0;34m\u001b[0m\u001b[0;34m\u001b[0m\u001b[0m\n\u001b[1;32m    304\u001b[0m             \u001b[0;32melse\u001b[0m\u001b[0;34m:\u001b[0m\u001b[0;34m\u001b[0m\u001b[0;34m\u001b[0m\u001b[0m\n",
      "\u001b[0;31mKeyboardInterrupt\u001b[0m: "
     ]
    }
   ],
   "source": [
    "backend = qiskit.Aer.get_backend('qasm_simulator')\n",
    "shots = 200\n",
    "\n",
    "rb_experiment_data_02 = exp02.run(backend, noise_model=noise_model, shots=shots)\n",
    "rb_experiment_data_1 = exp1.run(backend, noise_model=noise_model, shots=shots)\n",
    "rb_result_02 = rb_experiment_data_02.analysis_result(0)\n",
    "rb_result_1 = rb_experiment_data_1.analysis_result(0)\n",
    "results = [rb_result_02, rb_result_1]"
   ]
  },
  {
   "cell_type": "markdown",
   "metadata": {},
   "source": [
    "## 4) Fit the RB results and calculate the gate fidelity <a name='fit_RB'></a>\n",
    "\n",
    "### Get statistics about the survival probabilities\n",
    "\n",
    "The results in **result_list** should fit to an exponentially decaying function $A \\cdot \\alpha ^ m + B$, where $m$ is the Clifford length.\n",
    "\n",
    "From $\\alpha$ we can calculate the **Error per Clifford (EPC)**:\n",
    "$$ EPC = \\frac{2^n-1}{2^n} (1-\\alpha)$$\n",
    "(where $n=nQ$ is the number of qubits)."
   ]
  },
  {
   "cell_type": "markdown",
   "metadata": {},
   "source": [
    "### Plot After 1 Seed"
   ]
  },
  {
   "cell_type": "code",
   "execution_count": null,
   "metadata": {
    "ExecuteTime": {
     "end_time": "2019-12-10T21:49:51.597937Z",
     "start_time": "2019-12-10T21:49:51.171988Z"
    },
    "scrolled": false
   },
   "outputs": [],
   "source": [
    "plt.figure(figsize=(15, 6))\n",
    "\n",
    "for i in range(2):\n",
    "    ax = plt.subplot(1, 2, i+1)\n",
    "\n",
    "    # Plot the essence by calling RBResult.plot\n",
    "    results[i].plot(ax=ax, add_label=True, show_plt=False)\n",
    "\n",
    "    # Add title and label\n",
    "    ax.set_title('%d Qubit RB'%(results[i]['num_qubits']), fontsize=18)\n",
    "\n",
    "plt.show()"
   ]
  },
  {
   "cell_type": "markdown",
   "metadata": {},
   "source": [
    "### Plot with the Rest of the Seeds \n",
    "The plot is being updated after each seed."
   ]
  },
  {
   "cell_type": "code",
   "execution_count": null,
   "metadata": {
    "ExecuteTime": {
     "end_time": "2019-12-10T21:49:58.814328Z",
     "start_time": "2019-12-10T21:49:51.600375Z"
    }
   },
   "outputs": [],
   "source": [
    "import time\n",
    "for seed_num in range(1, nseeds):\n",
    "    plt.figure(figsize=(15, 6))\n",
    "    axis = [plt.subplot(1, 2, 1), plt.subplot(1, 2, 2)]\n",
    "    \n",
    "    # Add another seed to the data\n",
    "    rb_experiment_data_02 = exp02.run_on_new_seeds(backend,\n",
    "                                                   rb_experiment_data_02,\n",
    "                                                   num_of_seeds=1, noise_model=noise_model, shots=shots)\n",
    "    rb_experiment_data_1 = exp1.run_on_new_seeds(backend,\n",
    "                                                   rb_experiment_data_1,\n",
    "                                                   num_of_seeds=1, noise_model=noise_model, shots=shots)\n",
    "    \n",
    "    rb_result_02 = rb_experiment_data_02.analysis_result(-1)\n",
    "    rb_result_1 = rb_experiment_data_1.analysis_result(-1)\n",
    "    results = [rb_result_02, rb_result_1]\n",
    "    \n",
    "    for i in range(2):\n",
    "        # Plot the essence by calling RBResult.plot\n",
    "        results[i].plot(ax=axis[i], add_label=True, show_plt=False)\n",
    "\n",
    "        # Add title and label\n",
    "        axis[i].set_title('%d Qubit RB - with %d seeds'%(results[i]['num_qubits'], seed_num + 1), fontsize=18)\n",
    "        \n",
    "    # Display\n",
    "    display.display(plt.gcf())\n",
    "    \n",
    "    # Clear display after each seed and close\n",
    "    display.clear_output(wait=True)\n",
    "    time.sleep(1.0)\n",
    "    plt.close()"
   ]
  },
  {
   "cell_type": "markdown",
   "metadata": {},
   "source": [
    "### Add more shots to the data"
   ]
  },
  {
   "cell_type": "code",
   "execution_count": null,
   "metadata": {
    "ExecuteTime": {
     "end_time": "2019-12-10T21:50:46.051635Z",
     "start_time": "2019-12-10T21:49:58.816353Z"
    }
   },
   "outputs": [],
   "source": [
    "shots = 200\n",
    "rb_experiment_data_02 = exp02.run_additional_shots(backend,\n",
    "                                                   rb_experiment_data_02,\n",
    "                                                   noise_model=noise_model, shots=shots)\n",
    "rb_experiment_data_1 = exp1.run_additional_shots(backend,\n",
    "                                                   rb_experiment_data_1,\n",
    "                                                   noise_model=noise_model, shots=shots)\n",
    "    \n",
    "rb_result_02 = rb_experiment_data_02.analysis_result(-1)\n",
    "rb_result_1 = rb_experiment_data_1.analysis_result(-1)\n",
    "results = [rb_result_02, rb_result_1]"
   ]
  },
  {
   "cell_type": "code",
   "execution_count": null,
   "metadata": {
    "ExecuteTime": {
     "end_time": "2019-12-10T21:50:46.784384Z",
     "start_time": "2019-12-10T21:50:46.054323Z"
    }
   },
   "outputs": [],
   "source": [
    "plt.figure(figsize=(15, 6))\n",
    "\n",
    "for i in range(2):\n",
    "    ax = plt.subplot(1, 2, i+1)\n",
    "\n",
    "    # Plot the essence by calling RBResult.plot\n",
    "    results[i].plot(ax=ax, add_label=True, show_plt=False)\n",
    "\n",
    "    # Add title and label\n",
    "    ax.set_title('%d Qubit RB'%(results[i]['num_qubits']), fontsize=18)\n",
    "\n",
    "plt.show()"
   ]
  },
  {
   "cell_type": "markdown",
   "metadata": {},
   "source": [
    "### Predicted Gate Fidelity"
   ]
  },
  {
   "cell_type": "markdown",
   "metadata": {},
   "source": [
    "From the known depolarizing errors on the simulation we can predict the **fidelity**. \n",
    "First we need to count the number of **gates per Clifford**.\n",
    "\n",
    "The function **gates_per_clifford** takes a list of transpiled RB circuits and outputs the number of basis gates in each circuit."
   ]
  },
  {
   "cell_type": "code",
   "execution_count": null,
   "metadata": {
    "ExecuteTime": {
     "end_time": "2019-12-10T21:50:46.928133Z",
     "start_time": "2019-12-10T21:50:46.789697Z"
    }
   },
   "outputs": [],
   "source": [
    "#Count the number of single and 2Q gates in the 2Q Cliffords\n",
    "gates_per_cliff = exp02.gates_per_clifford(backend)\n",
    "for basis_gate in basis_gates:\n",
    "    print(\"Number of %s gates per Clifford: %f \"%(basis_gate ,\n",
    "                                                  np.mean([gates_per_cliff[0][basis_gate],\n",
    "                                                           gates_per_cliff[2][basis_gate]])))"
   ]
  },
  {
   "cell_type": "markdown",
   "metadata": {},
   "source": [
    "The function **calculate_2q_epc** gives measured errors in the basis gates that were used to construct the Clifford. \n",
    "It assumes that the error in the underlying gates is depolarizing. It outputs the error per a 2-qubit Clifford.\n",
    "\n",
    "The input to this function is:\n",
    "- **gate_per_cliff:** dictionary of gate per Clifford. \n",
    "- **epg_2q:** EPG estimated by error model.\n",
    "- **qubit_pair:** index of two qubits to calculate EPC. \n",
    "- **list_epgs_1q:** list of single qubit EPGs of qubit listed in ``qubit_pair``.\n",
    "- **two_qubit_name:** name of two qubit gate in ``basis gates`` (default is ``cx``)."
   ]
  },
  {
   "cell_type": "code",
   "execution_count": null,
   "metadata": {},
   "outputs": [],
   "source": [
    "# Error per gate from noise model\n",
    "epgs_1q = {'rz': 0, 'x': p1Q/2, 'sx': p1Q/2}\n",
    "epg_2q = p2Q*3/4\n",
    "pred_epc = RBUtils.calculate_2q_epc(\n",
    "    gate_per_cliff=gates_per_cliff,\n",
    "    epg_2q=epg_2q,\n",
    "    qubit_pair=[0, 2],\n",
    "    list_epgs_1q=[epgs_1q, epgs_1q])\n",
    "\n",
    "# Calculate the predicted epc\n",
    "print(\"Predicted 2Q Error per Clifford: %e\"%pred_epc)"
   ]
  },
  {
   "cell_type": "markdown",
   "metadata": {},
   "source": [
    "## Run an RB Sequence with T1,T2 Errors\n",
    "\n",
    "We now choose RB sequences that contain only 2-qubit Cliffords.\n",
    "\n",
    "We execute these sequences as before, but with a noise model extended with T1/T2 thermal relaxation error, and fit the exponentially decaying curve. "
   ]
  },
  {
   "cell_type": "code",
   "execution_count": null,
   "metadata": {
    "ExecuteTime": {
     "end_time": "2019-12-10T21:50:49.335962Z",
     "start_time": "2019-12-10T21:50:46.946840Z"
    }
   },
   "outputs": [],
   "source": [
    "noise_model2 = NoiseModel()\n",
    "\n",
    "#Add T1/T2 noise to the simulation\n",
    "t1 = 100.\n",
    "t2 = 80.\n",
    "gate1Q = 0.1\n",
    "gate2Q = 0.5\n",
    "noise_model2.add_all_qubit_quantum_error(thermal_relaxation_error(t1,t2,gate1Q), 'x')\n",
    "noise_model2.add_all_qubit_quantum_error(thermal_relaxation_error(t1,t2,gate1Q), 'sx')\n",
    "noise_model2.add_all_qubit_quantum_error(\n",
    "    thermal_relaxation_error(t1,t2,gate2Q).tensor(thermal_relaxation_error(t1,t2,gate2Q)), 'cx')"
   ]
  },
  {
   "cell_type": "code",
   "execution_count": null,
   "metadata": {
    "ExecuteTime": {
     "end_time": "2019-12-10T21:51:13.492799Z",
     "start_time": "2019-12-10T21:50:49.337940Z"
    }
   },
   "outputs": [],
   "source": [
    "backend = qiskit.Aer.get_backend('qasm_simulator')\n",
    "basis_gates = ['id', 'rz', 'x', 'sx', 'cx']\n",
    "shots = 500\n",
    "\n",
    "exp01 = RBExperiment(nseeds=1, qubits=[0,1], lengths=nCliffs)\n",
    "rb_experiment_data_01 = exp01.run(backend, noise_model=noise_model, shots=shots, basis_gates=basis_gates)\n",
    "rb_result_01 = rb_experiment_data_01.analysis_result(0)"
   ]
  },
  {
   "cell_type": "code",
   "execution_count": null,
   "metadata": {
    "ExecuteTime": {
     "end_time": "2019-12-10T21:51:13.840201Z",
     "start_time": "2019-12-10T21:51:13.497713Z"
    },
    "tags": [
     "nbsphinx-thumbnail"
    ]
   },
   "outputs": [],
   "source": [
    "plt.figure(figsize=(10, 6))\n",
    "ax = plt.gca()\n",
    "\n",
    "# Plot the essence by calling RBResult.plot\n",
    "rb_result_01.plot(ax=ax, add_label=True, show_plt=False)\n",
    "\n",
    "# Add title and label\n",
    "ax.set_title('2 Qubit RB with T1/T2 noise', fontsize=18)\n",
    "\n",
    "plt.show()"
   ]
  },
  {
   "cell_type": "markdown",
   "metadata": {},
   "source": [
    "We count again the number of **gates per Clifford** as before, and calculate the **two-qubit Clifford gate error**, using the predicted primitive gate errors from the coherence limit."
   ]
  },
  {
   "cell_type": "code",
   "execution_count": null,
   "metadata": {
    "ExecuteTime": {
     "end_time": "2019-12-10T21:51:13.929633Z",
     "start_time": "2019-12-10T21:51:13.843050Z"
    }
   },
   "outputs": [],
   "source": [
    "#Count the number of single and 2Q gates in the 2Q Cliffords\n",
    "gates_per_cliff = exp01.gates_per_clifford(backend)\n",
    "for basis_gate in basis_gates:\n",
    "    print(\"Number of %s gates per Clifford: %f \"%(basis_gate ,\n",
    "                                                  np.mean([gates_per_cliff[0][basis_gate],\n",
    "                                                           gates_per_cliff[1][basis_gate]])))"
   ]
  },
  {
   "cell_type": "code",
   "execution_count": null,
   "metadata": {},
   "outputs": [],
   "source": [
    "# Predicted primitive gate errors from the coherence limit\n",
    "x_error = RBUtils.coherence_limit(1,[t1],[t2],gate1Q)\n",
    "sx_error = RBUtils.coherence_limit(1,[t1],[t2],gate1Q)\n",
    "epg_2q = RBUtils.coherence_limit(2,[t1,t1],[t2,t2],gate2Q)\n",
    "epgs_1q = {'rz': 0, 'x': x_error, 'sx': sx_error}\n",
    "pred_epc = RBUtils.calculate_2q_epc(\n",
    "    gate_per_cliff=gates_per_cliff,\n",
    "    epg_2q=epg_2q,\n",
    "    qubit_pair=[0, 1],\n",
    "    list_epgs_1q=[epgs_1q, epgs_1q])\n",
    "\n",
    "# Calculate the predicted epc\n",
    "print(\"Predicted 2Q Error per Clifford: %e\"%pred_epc)"
   ]
  },
  {
   "cell_type": "markdown",
   "metadata": {},
   "source": [
    "# Interleaved RB"
   ]
  },
  {
   "cell_type": "code",
   "execution_count": null,
   "metadata": {},
   "outputs": [],
   "source": [
    "from qiskit.circuit.library import XGate\n",
    "exp1 = InterleavedRBExperiment(XGate(), nseeds=5, qubits=[1], lengths=[x*3 for x in nCliffs])\n",
    "\n",
    "c = QuantumCircuit(2)\n",
    "c.h(0)\n",
    "c.cx(0,1)\n",
    "exp02 = InterleavedRBExperiment(c, nseeds=5, qubits=[0,2], lengths=nCliffs)\n",
    "\n",
    "backend = qiskit.Aer.get_backend('qasm_simulator')\n",
    "shots = 200\n",
    "\n",
    "noise_model = NoiseModel()\n",
    "p1Q = 0.002\n",
    "p2Q = 0.01\n",
    "\n",
    "noise_model.add_all_qubit_quantum_error(depolarizing_error(p1Q, 1), 'x')\n",
    "noise_model.add_all_qubit_quantum_error(depolarizing_error(p1Q, 1), 'sx')\n",
    "noise_model.add_all_qubit_quantum_error(depolarizing_error(p2Q, 2), 'cx')\n",
    "interleaved_rb_experiment_data_1 = exp1.run(backend, noise_model=noise_model, shots=shots)\n",
    "interleaved_rb_experiment_data_02 = exp02.run(backend, noise_model=noise_model, shots=shots)\n",
    "interleaved_rb_result_1 = interleaved_rb_experiment_data_1.analysis_result(0)\n",
    "interleaved_rb_result_02 = interleaved_rb_experiment_data_02.analysis_result(0)"
   ]
  },
  {
   "cell_type": "code",
   "execution_count": null,
   "metadata": {},
   "outputs": [],
   "source": [
    "plt.figure(figsize=(15, 6))\n",
    "results = [interleaved_rb_result_02, interleaved_rb_result_1]\n",
    "for i in range(2):\n",
    "    ax = plt.subplot(1, 2, i+1)\n",
    "    results[i].plot(ax=ax, add_label=True, show_plt=False)\n",
    "    # Add title and label\n",
    "    ax.set_title('%d Qubit interleaved RB'%(results[i]['num_qubits']), fontsize=18)\n",
    "    \n",
    "plt.show()"
   ]
  },
  {
   "cell_type": "markdown",
   "metadata": {},
   "source": [
    "## CNOT-Dihedral group"
   ]
  },
  {
   "cell_type": "code",
   "execution_count": null,
   "metadata": {},
   "outputs": [],
   "source": [
    "exp02 = RBExperiment(nseeds=5, qubits=[0,2], lengths=nCliffs, group_gates='CNOTDihedral')\n",
    "exp1 = RBExperiment(nseeds=5, qubits=[1], lengths=[x*3 for x in nCliffs], group_gates='CNOTDihedral')\n",
    "backend = qiskit.Aer.get_backend('qasm_simulator')\n",
    "shots = 200\n",
    "\n",
    "rb_experiment_data_02 = exp02.run(backend, noise_model=noise_model, shots=shots)\n",
    "rb_experiment_data_1 = exp1.run(backend, noise_model=noise_model, shots=shots)\n",
    "\n",
    "rb_result_02 = rb_experiment_data_02.analysis_result(0)\n",
    "rb_result_1 = rb_experiment_data_1.analysis_result(0)\n",
    "\n",
    "results = [rb_result_02, rb_result_1]"
   ]
  },
  {
   "cell_type": "code",
   "execution_count": null,
   "metadata": {},
   "outputs": [],
   "source": [
    "plt.figure(figsize=(15, 6))\n",
    "\n",
    "for i in range(2):\n",
    "    ax = plt.subplot(1, 2, i+1)\n",
    "\n",
    "    # Plot the essence by calling RBResult.plot\n",
    "    results[i].plot(ax=ax, add_label=True, show_plt=False)\n",
    "\n",
    "    # Add title and label\n",
    "    ax.set_title('%d Qubit RB'%(results[i]['num_qubits']), fontsize=18)\n",
    "\n",
    "plt.show()"
   ]
  },
  {
   "cell_type": "markdown",
   "metadata": {},
   "source": [
    "# Interleaved CNOT-dihedral"
   ]
  },
  {
   "cell_type": "code",
   "execution_count": null,
   "metadata": {},
   "outputs": [],
   "source": [
    "c = QuantumCircuit(2)\n",
    "c.x(0)\n",
    "c.cx(0,1)\n",
    "exp1 = InterleavedRBExperiment(XGate(), nseeds=5, qubits=[1], lengths=[x*3 for x in nCliffs], group_gates='CNOTDihedral')\n",
    "exp02 = InterleavedRBExperiment(c, nseeds=5, qubits=[0,2], lengths=nCliffs, group_gates='CNOTDihedral')\n",
    "\n",
    "backend = qiskit.Aer.get_backend('qasm_simulator')\n",
    "shots = 200\n",
    "\n",
    "noise_model = NoiseModel()\n",
    "p1Q = 0.002\n",
    "p2Q = 0.01\n",
    "\n",
    "noise_model.add_all_qubit_quantum_error(depolarizing_error(p1Q, 1), 'x')\n",
    "noise_model.add_all_qubit_quantum_error(depolarizing_error(p1Q, 1), 'sx')\n",
    "noise_model.add_all_qubit_quantum_error(depolarizing_error(p2Q, 2), 'cx')\n",
    "interleaved_rb_experiment_data_1 = exp1.run(backend, noise_model=noise_model, shots=shots)\n",
    "interleaved_rb_experiment_data_02 = exp02.run(backend, noise_model=noise_model, shots=shots)\n",
    "interleaved_rb_result_1 = interleaved_rb_experiment_data_1.analysis_result(0)\n",
    "interleaved_rb_result_02 = interleaved_rb_experiment_data_02.analysis_result(0)"
   ]
  },
  {
   "cell_type": "code",
   "execution_count": null,
   "metadata": {},
   "outputs": [],
   "source": [
    "plt.figure(figsize=(15, 6))\n",
    "results = [interleaved_rb_result_02, interleaved_rb_result_1]\n",
    "for i in range(2):\n",
    "    ax = plt.subplot(1, 2, i+1)\n",
    "    results[i].plot(ax=ax, add_label=True, show_plt=False)\n",
    "    # Add title and label\n",
    "    ax.set_title('%d Qubit interleaved RB'%(results[i]['num_qubits']), fontsize=18)\n",
    "    \n",
    "plt.show()"
   ]
  },
  {
   "cell_type": "markdown",
   "metadata": {},
   "source": [
    "# Purity RB"
   ]
  },
  {
   "cell_type": "code",
   "execution_count": 12,
   "metadata": {},
   "outputs": [],
   "source": [
    "noise_model = NoiseModel()\n",
    "p1Q = 0.002\n",
    "p2Q = 0.01\n",
    "noise_model.add_all_qubit_quantum_error(depolarizing_error(p2Q, 2), 'cx')\n",
    "noise_model.add_all_qubit_quantum_error(depolarizing_error(p1Q, 1), 'x')\n",
    "noise_model.add_all_qubit_quantum_error(depolarizing_error(p1Q, 1), 'sx')\n",
    "\n",
    "exp1 = PurityRBExperiment(nseeds=5, qubits=[1], lengths=[x*3 for x in nCliffs])\n",
    "exp02 = PurityRBExperiment(nseeds=5, qubits=[0,2], lengths=nCliffs)\n",
    "\n",
    "exp1_experiment_data = exp1.run(backend, noise_model=noise_model, shots=shots)\n",
    "exp02_experiment_data = exp02.run(backend, noise_model=noise_model, shots=shots)\n",
    "\n",
    "exp1_result = exp1_experiment_data.analysis_result(0)\n",
    "exp02_result = exp02_experiment_data.analysis_result(0)"
   ]
  },
  {
   "cell_type": "code",
   "execution_count": 13,
   "metadata": {},
   "outputs": [
    {
     "data": {
      "image/png": "[encoded data removed]",
      "text/plain": [
       "<Figure size 1080x432 with 2 Axes>"
      ]
     },
     "metadata": {
      "needs_background": "light"
     },
     "output_type": "display_data"
    }
   ],
   "source": [
    "plt.figure(figsize=(15, 6))\n",
    "results = [exp1_result, exp02_result]\n",
    "for i in range(2):\n",
    "    ax = plt.subplot(1, 2, i+1)\n",
    "    results[i].plot(ax=ax, add_label=True, show_plt=False)\n",
    "    # Add title and label\n",
    "    ax.set_title('%d Qubit purity RB'%(results[i]['num_qubits']), fontsize=18)\n",
    "    \n",
    "plt.show()"
   ]
  },
  {
   "cell_type": "markdown",
   "metadata": {},
   "source": [
    "## Coherent noise model"
   ]
  },
  {
   "cell_type": "code",
   "execution_count": 16,
   "metadata": {},
   "outputs": [],
   "source": [
    "err_unitary = np.zeros([2, 2], dtype=complex)\n",
    "angle_err = 0.1\n",
    "for i in range(2):\n",
    "    err_unitary[i, i] = np.cos(angle_err)\n",
    "    err_unitary[i, (i+1) % 2] = np.sin(angle_err)\n",
    "err_unitary[0, 1] *= -1.0\n",
    "\n",
    "error = coherent_unitary_error(err_unitary)\n",
    "noise_model = NoiseModel()\n",
    "noise_model.add_all_qubit_quantum_error(error, 'x')"
   ]
  },
  {
   "cell_type": "code",
   "execution_count": null,
   "metadata": {},
   "outputs": [],
   "source": [
    "exp01 = PurityRBExperiment(nseeds=5, qubits=[0,1], lengths=nCliffs)\n",
    "exp01_experiment_data = exp01.run(backend, noise_model=noise_model, shots=shots)\n",
    "exp01_result = exp01_experiment_data.analysis_result(0)"
   ]
  },
  {
   "cell_type": "code",
   "execution_count": null,
   "metadata": {},
   "outputs": [],
   "source": [
    "plt.figure(figsize=(8, 6))\n",
    "ax = plt.subplot(1, 1, 1)\n",
    "\n",
    "# Plot the essence by calling plot_rb_data\n",
    "exp01_result.plot(ax=ax, add_label=True, show_plt=False)\n",
    "    \n",
    "# Add title and label\n",
    "ax.set_title('2 Qubit Purity RB', fontsize=18)\n",
    "\n",
    "plt.show()"
   ]
  },
  {
   "cell_type": "code",
   "execution_count": null,
   "metadata": {
    "ExecuteTime": {
     "end_time": "2019-12-10T21:51:14.059488Z",
     "start_time": "2019-12-10T21:51:13.949841Z"
    }
   },
   "outputs": [],
   "source": [
    "import qiskit.tools.jupyter\n",
    "%qiskit_version_table\n",
    "%qiskit_copyright"
   ]
  },
  {
   "cell_type": "code",
   "execution_count": null,
   "metadata": {},
   "outputs": [],
   "source": []
  }
 ],
 "metadata": {
  "celltoolbar": "Tags",
  "kernelspec": {
   "display_name": "qiskit-exp",
   "language": "python",
   "name": "qiskit-exp"
  },
  "language_info": {
   "codemirror_mode": {
    "name": "ipython",
    "version": 3
   },
   "file_extension": ".py",
   "mimetype": "text/x-python",
   "name": "python",
   "nbconvert_exporter": "python",
   "pygments_lexer": "ipython3",
   "version": "3.8.8"
  },
  "varInspector": {
   "cols": {
    "lenName": 16,
    "lenType": 16,
    "lenVar": 40
   },
   "kernels_config": {
    "python": {
     "delete_cmd_postfix": "",
     "delete_cmd_prefix": "del ",
     "library": "var_list.py",
     "varRefreshCmd": "print(var_dic_list())"
    },
    "r": {
     "delete_cmd_postfix": ") ",
     "delete_cmd_prefix": "rm(",
     "library": "var_list.r",
     "varRefreshCmd": "cat(var_dic_list()) "
    }
   },
   "types_to_exclude": [
    "module",
    "function",
    "builtin_function_or_method",
    "instance",
    "_Feature"
   ],
   "window_display": false
  }
 },
 "nbformat": 4,
 "nbformat_minor": 2
}
