{
 "cells": [
  {
   "cell_type": "code",
   "execution_count": 1,
   "id": "bb7abc10",
   "metadata": {
    "scrolled": true
   },
   "outputs": [],
   "source": [
    "import qiskit\n",
    "from qiskit_experiments.library.characterization import T_phi"
   ]
  },
  {
   "cell_type": "code",
   "execution_count": 2,
   "id": "65433519",
   "metadata": {},
   "outputs": [],
   "source": [
    "# set the computation units to microseconds\n",
    "unit = 'us' #microseconds\n",
    "qubit = 0\n",
    "# set the desired delays\n",
    "delays_t1 = list(range(1, 40, 3))\n",
    "delays_t2 = list(range(1, 50, 2))\n",
    "\n",
    "\n"
   ]
  },
  {
   "cell_type": "code",
   "execution_count": 3,
   "id": "ba59e1ef",
   "metadata": {},
   "outputs": [],
   "source": [
    "exp = T_phi(qubit=0, delays_t1=delays_t1, delays_t2=delays_t2, unit=\"s\", osc_freq=0.1)\n",
    "    "
   ]
  },
  {
   "cell_type": "code",
   "execution_count": 8,
   "id": "c7154472",
   "metadata": {},
   "outputs": [
    {
     "name": "stdout",
     "output_type": "stream",
     "text": [
      "     ┌───┐┌──────────────┐┌────────────┐ ░ ┌───┐ ░ ┌─┐\n",
      "q_0: ┤ H ├┤ Delay(49[s]) ├┤ Rz(30.788) ├─░─┤ H ├─░─┤M├\n",
      "     └───┘└──────────────┘└────────────┘ ░ └───┘ ░ └╥┘\n",
      "c: 1/═══════════════════════════════════════════════╩═\n",
      "                                                    0 \n"
     ]
    }
   ],
   "source": [
    "print(exp.circuits()['T2*'][-1])"
   ]
  },
  {
   "cell_type": "code",
   "execution_count": null,
   "id": "1d3c529a",
   "metadata": {},
   "outputs": [],
   "source": []
  }
 ],
 "metadata": {
  "kernelspec": {
   "display_name": "Python 3",
   "language": "python",
   "name": "python3"
  },
  "language_info": {
   "codemirror_mode": {
    "name": "ipython",
    "version": 3
   },
   "file_extension": ".py",
   "mimetype": "text/x-python",
   "name": "python",
   "nbconvert_exporter": "python",
   "pygments_lexer": "ipython3",
   "version": "3.8.10"
  }
 },
 "nbformat": 4,
 "nbformat_minor": 5
}
