{
 "cells": [
  {
   "cell_type": "markdown",
   "metadata": {},
   "source": [
    "# Randomized Benchmarking\n",
    "\n",
    "\n",
    "## Introduction\n",
    "\n",
    "**Randomization benchmarking (RB)** is a well-known technique to measure average gate performance by running sequences of random Clifford gates that should return the qubits to the initial state. \n",
    "Qiskit Ignis has tools to generate one- and two-qubit Clifford gate sequences simultaneously. \n",
    "\n",
    "This notebook gives an example for how to use the ``ignis.verification.randomized_benchmarking`` module. This particular example shows how to run 2-qubit randomized benchmarking (RB) simultaneous with 1-qubit RB. There are also examples on how to use some of the companion functions for predicting RB fidelity.\n"
   ]
  },
  {
   "cell_type": "code",
   "execution_count": 1,
   "metadata": {
    "ExecuteTime": {
     "end_time": "2019-12-10T21:49:09.958187Z",
     "start_time": "2019-12-10T21:49:08.131232Z"
    }
   },
   "outputs": [],
   "source": [
    "#Import general libraries (needed for functions)\n",
    "import numpy as np\n",
    "import matplotlib.pyplot as plt\n",
    "from IPython import display\n",
    "\n",
    "#Import Qiskit classes\n",
    "import qiskit\n",
    "from qiskit.providers.aer.noise import NoiseModel\n",
    "from qiskit.providers.aer.noise.errors.standard_errors import (depolarizing_error,\n",
    "                                                               thermal_relaxation_error,\n",
    "                                                               coherent_unitary_error)\n",
    "\n",
    "from qiskit.quantum_info import SuperOp\n",
    "from qiskit import QuantumCircuit\n",
    "\n",
    "#Import the RB Functions\n",
    "from qiskit_experiments.randomized_benchmarking import RBExperiment, InterleavedRBExperiment, RBUtils"
   ]
  },
  {
   "cell_type": "markdown",
   "metadata": {},
   "source": [
    "## 1) Select the Parameters of the RB Run <a name='select_params_RB'></a>\n",
    "\n",
    "First, wee need to choose the following parameters:\n",
    "\n",
    "- **nseeds:** The number of seeds. For each seed you will get a separate list of output circuits in rb_circs.\n",
    "- **length_vector:** The length vector of Clifford lengths. Must be in ascending order. RB sequences of increasing length grow on top of the previous sequences.\n",
    "- **rb_pattern:** A list of the form [[i,j],[k],...] which will make simultaneous RB sequences where Qi,Qj are a 2-qubit RB sequence and Qk is a 1-qubit sequence, etc. The number of qubits is the sum of the entries. For 'regular' RB the qubit_pattern is just [[0]],[[0,1]].\n",
    "- **length_multiplier:** If this is an array it scales each rb_sequence by the multiplier.\n",
    "- **seed_offset:** What to start the seeds at (e.g. if we want to add more seeds later).\n",
    "- **align_cliffs:**  If true adds a barrier across all qubits in rb_pattern after each set of cliffords.\n",
    "\n",
    "In this example we have 3 qubits Q0,Q1,Q2. \n",
    "We are running 2Q RB (on qubits Q0,Q2) and 1Q RB (on qubit Q1) simultaneously, \n",
    "where there are twice as many 1Q Clifford gates."
   ]
  },
  {
   "cell_type": "code",
   "execution_count": 2,
   "metadata": {
    "ExecuteTime": {
     "end_time": "2019-12-10T21:49:09.963476Z",
     "start_time": "2019-12-10T21:49:09.960218Z"
    }
   },
   "outputs": [],
   "source": [
    "#Number of qubits\n",
    "nQ = 3\n",
    "#There are 3 qubits: Q0,Q1,Q2.\n",
    "#Number of seeds (random sequences)\n",
    "nseeds = 5\n",
    "#Number of Cliffords in the sequence (start, stop, steps)\n",
    "nCliffs = np.arange(1,200,20)"
   ]
  },
  {
   "cell_type": "markdown",
   "metadata": {},
   "source": [
    "## 2) Create the RB experiments <a name='gen_RB_seq'></a>\n",
    "\n",
    "We generate RB experiments. We start with a small example (so it doesn't take too long to run). This is done by using the `RBExperiment` class."
   ]
  },
  {
   "cell_type": "code",
   "execution_count": 3,
   "metadata": {
    "ExecuteTime": {
     "end_time": "2019-12-10T21:49:15.001889Z",
     "start_time": "2019-12-10T21:49:09.966440Z"
    },
    "scrolled": false
   },
   "outputs": [],
   "source": [
    "exp02 = RBExperiment(nseeds=1, qubits=[0,2], lengths=nCliffs)\n",
    "exp1 = RBExperiment(nseeds=1, qubits=[1], lengths=[x*3 for x in nCliffs])"
   ]
  },
  {
   "cell_type": "markdown",
   "metadata": {},
   "source": [
    "As an example, we print the circuit corresponding to the first RB sequence of the 2-qubit experiment:"
   ]
  },
  {
   "cell_type": "code",
   "execution_count": 4,
   "metadata": {
    "ExecuteTime": {
     "end_time": "2019-12-10T21:49:15.015115Z",
     "start_time": "2019-12-10T21:49:15.004449Z"
    }
   },
   "outputs": [
    {
     "name": "stdout",
     "output_type": "stream",
     "text": [
      "      ┌───┐┌───┐     ┌───┐┌───┐      ░      ┌─────┐┌───┐     ┌───┐┌───┐┌─┐\n",
      "qr_0: ┤ Y ├┤ H ├──■──┤ H ├┤ S ├──■───░───■──┤ SDG ├┤ H ├──■──┤ H ├┤ Y ├┤M├\n",
      "      └───┘└───┘  │  └───┘└───┘  │   ░   │  └─────┘└───┘  │  └───┘└───┘└╥┘\n",
      "qr_1: ────────────┼──────────────┼───────┼────────────────┼─────────────╫─\n",
      "      ┌───┐     ┌─┴─┐┌───┐┌───┐┌─┴─┐ ░ ┌─┴─┐┌─────┐┌───┐┌─┴─┐┌───┐ ┌─┐  ║ \n",
      "qr_2: ┤ X ├─────┤ X ├┤ H ├┤ S ├┤ X ├─░─┤ X ├┤ SDG ├┤ H ├┤ X ├┤ X ├─┤M├──╫─\n",
      "      └───┘     └───┘└───┘└───┘└───┘ ░ └───┘└─────┘└───┘└───┘└───┘ └╥┘  ║ \n",
      "cr: 2/══════════════════════════════════════════════════════════════╩═══╩═\n",
      "                                                                    1   0 \n"
     ]
    }
   ],
   "source": [
    "print(exp02.circuits()[0])"
   ]
  },
  {
   "cell_type": "markdown",
   "metadata": {},
   "source": [
    "## Look at the Unitary for 1 Circuit"
   ]
  },
  {
   "cell_type": "markdown",
   "metadata": {},
   "source": [
    "The Unitary representing each RB circuit should be the identity (with a global phase),\n",
    "since we multiply random Clifford elements, including a computed reversal gate. We simulate this using an Aer unitary simulator."
   ]
  },
  {
   "cell_type": "code",
   "execution_count": 5,
   "metadata": {
    "ExecuteTime": {
     "end_time": "2019-12-10T21:49:15.069700Z",
     "start_time": "2019-12-10T21:49:15.016779Z"
    }
   },
   "outputs": [
    {
     "name": "stdout",
     "output_type": "stream",
     "text": [
      "[[ 0.707+0.707j  0.   -0.j     0.   -0.j     0.   -0.j     0.   -0.j\n",
      "   0.   -0.j     0.   -0.j     0.   -0.j   ]\n",
      " [ 0.   -0.j     0.707+0.707j -0.   +0.j    -0.   +0.j    -0.   +0.j\n",
      "   0.   -0.j    -0.   +0.j    -0.   +0.j   ]\n",
      " [ 0.   -0.j     0.   -0.j     0.707+0.707j  0.   -0.j     0.   -0.j\n",
      "   0.   -0.j     0.   -0.j     0.   -0.j   ]\n",
      " [-0.   +0.j    -0.   +0.j     0.   -0.j     0.707+0.707j -0.   +0.j\n",
      "  -0.   +0.j    -0.   +0.j     0.   -0.j   ]\n",
      " [ 0.   -0.j    -0.   +0.j     0.   -0.j     0.   -0.j     0.707+0.707j\n",
      "   0.   -0.j     0.   -0.j     0.   -0.j   ]\n",
      " [ 0.   -0.j     0.   -0.j    -0.   +0.j    -0.   +0.j     0.   -0.j\n",
      "   0.707+0.707j -0.   +0.j    -0.   +0.j   ]\n",
      " [ 0.   -0.j     0.   -0.j     0.   -0.j    -0.   +0.j     0.   -0.j\n",
      "   0.   -0.j     0.707+0.707j  0.   -0.j   ]\n",
      " [-0.   +0.j    -0.   +0.j     0.   -0.j     0.   -0.j    -0.   +0.j\n",
      "  -0.   +0.j     0.   -0.j     0.707+0.707j]]\n"
     ]
    }
   ],
   "source": [
    "#Create a new circuit without the measurement\n",
    "circ = exp02.circuits()[-1]\n",
    "qc = qiskit.QuantumCircuit(*circ.qregs,*circ.cregs)\n",
    "for i in circ[0:-2]:\n",
    "    qc.data.append(i)\n",
    "backend = qiskit.Aer.get_backend('unitary_simulator')\n",
    "basis_gates = ['id', 'rz', 'x', 'sx', 'cx']\n",
    "job = qiskit.execute(qc, backend=backend, basis_gates=basis_gates)\n",
    "print(np.around(job.result().get_unitary(), 3))"
   ]
  },
  {
   "cell_type": "markdown",
   "metadata": {},
   "source": [
    "## Define the noise model"
   ]
  },
  {
   "cell_type": "markdown",
   "metadata": {},
   "source": [
    "We define a noise model for the simulator. To simulate decay, we add depolarizing error probabilities to the CNOT and U gates."
   ]
  },
  {
   "cell_type": "code",
   "execution_count": 6,
   "metadata": {
    "ExecuteTime": {
     "end_time": "2019-12-10T21:49:16.809930Z",
     "start_time": "2019-12-10T21:49:16.806016Z"
    }
   },
   "outputs": [],
   "source": [
    "noise_model = NoiseModel()\n",
    "p1Q = 0.002\n",
    "p2Q = 0.01\n",
    "noise_model.add_all_qubit_quantum_error(depolarizing_error(p1Q, 1), 'x')\n",
    "noise_model.add_all_qubit_quantum_error(depolarizing_error(p1Q, 1), 'sx')\n",
    "noise_model.add_all_qubit_quantum_error(depolarizing_error(p2Q, 2), 'cx')"
   ]
  },
  {
   "cell_type": "markdown",
   "metadata": {},
   "source": [
    "## 3) Run the RB experiment on Aer simulator <a name='ex_RB_seq'></a>\n",
    "\n",
    "We can run the RB experiment either using a Qiskit Aer Simulator (with some noise model) or using an IBMQ provider. The results are automatically passed to the fitter."
   ]
  },
  {
   "cell_type": "code",
   "execution_count": 7,
   "metadata": {},
   "outputs": [
    {
     "ename": "KeyboardInterrupt",
     "evalue": "",
     "output_type": "error",
     "traceback": [
      "\u001b[0;31m---------------------------------------------------------------------------\u001b[0m",
      "\u001b[0;31mKeyboardInterrupt\u001b[0m                         Traceback (most recent call last)",
      "\u001b[0;32m<ipython-input-7-218e2f927547>\u001b[0m in \u001b[0;36m<module>\u001b[0;34m\u001b[0m\n\u001b[1;32m      2\u001b[0m \u001b[0mshots\u001b[0m \u001b[0;34m=\u001b[0m \u001b[0;36m200\u001b[0m\u001b[0;34m\u001b[0m\u001b[0;34m\u001b[0m\u001b[0m\n\u001b[1;32m      3\u001b[0m \u001b[0;34m\u001b[0m\u001b[0m\n\u001b[0;32m----> 4\u001b[0;31m \u001b[0mrb_experiment_data_02\u001b[0m \u001b[0;34m=\u001b[0m \u001b[0mexp02\u001b[0m\u001b[0;34m.\u001b[0m\u001b[0mrun\u001b[0m\u001b[0;34m(\u001b[0m\u001b[0mbackend\u001b[0m\u001b[0;34m,\u001b[0m \u001b[0mnoise_model\u001b[0m\u001b[0;34m=\u001b[0m\u001b[0mnoise_model\u001b[0m\u001b[0;34m,\u001b[0m \u001b[0mshots\u001b[0m\u001b[0;34m=\u001b[0m\u001b[0mshots\u001b[0m\u001b[0;34m)\u001b[0m\u001b[0;34m\u001b[0m\u001b[0;34m\u001b[0m\u001b[0m\n\u001b[0m\u001b[1;32m      5\u001b[0m \u001b[0mrb_experiment_data_1\u001b[0m \u001b[0;34m=\u001b[0m \u001b[0mexp1\u001b[0m\u001b[0;34m.\u001b[0m\u001b[0mrun\u001b[0m\u001b[0;34m(\u001b[0m\u001b[0mbackend\u001b[0m\u001b[0;34m,\u001b[0m \u001b[0mnoise_model\u001b[0m\u001b[0;34m=\u001b[0m\u001b[0mnoise_model\u001b[0m\u001b[0;34m,\u001b[0m \u001b[0mshots\u001b[0m\u001b[0;34m=\u001b[0m\u001b[0mshots\u001b[0m\u001b[0;34m)\u001b[0m\u001b[0;34m\u001b[0m\u001b[0;34m\u001b[0m\u001b[0m\n\u001b[1;32m      6\u001b[0m \u001b[0mrb_result_02\u001b[0m \u001b[0;34m=\u001b[0m \u001b[0mrb_experiment_data_02\u001b[0m\u001b[0;34m.\u001b[0m\u001b[0manalysis_result\u001b[0m\u001b[0;34m(\u001b[0m\u001b[0;36m0\u001b[0m\u001b[0;34m)\u001b[0m\u001b[0;34m\u001b[0m\u001b[0;34m\u001b[0m\u001b[0m\n",
      "\u001b[0;32m~/miniconda3/envs/qiskit-exp-dev/lib/python3.8/site-packages/qiskit_experiments/randomized_benchmarking/base_rb_experiment.py\u001b[0m in \u001b[0;36mrun\u001b[0;34m(self, backend, experiment_data, **kwargs)\u001b[0m\n\u001b[1;32m     43\u001b[0m         \u001b[0;32mif\u001b[0m \u001b[0;34m'basis_gates'\u001b[0m \u001b[0;32mnot\u001b[0m \u001b[0;32min\u001b[0m \u001b[0mkwargs\u001b[0m\u001b[0;34m:\u001b[0m\u001b[0;34m\u001b[0m\u001b[0;34m\u001b[0m\u001b[0m\n\u001b[1;32m     44\u001b[0m             \u001b[0mkwargs\u001b[0m\u001b[0;34m[\u001b[0m\u001b[0;34m'basis_gates'\u001b[0m\u001b[0;34m]\u001b[0m \u001b[0;34m=\u001b[0m \u001b[0mself\u001b[0m\u001b[0;34m.\u001b[0m\u001b[0mdefault_basis_gates\u001b[0m\u001b[0;34m(\u001b[0m\u001b[0;34m)\u001b[0m\u001b[0;34m\u001b[0m\u001b[0;34m\u001b[0m\u001b[0m\n\u001b[0;32m---> 45\u001b[0;31m         \u001b[0;32mreturn\u001b[0m \u001b[0msuper\u001b[0m\u001b[0;34m(\u001b[0m\u001b[0;34m)\u001b[0m\u001b[0;34m.\u001b[0m\u001b[0mrun\u001b[0m\u001b[0;34m(\u001b[0m\u001b[0mbackend\u001b[0m\u001b[0;34m,\u001b[0m \u001b[0mexperiment_data\u001b[0m\u001b[0;34m,\u001b[0m \u001b[0mactive_seeds\u001b[0m\u001b[0;34m=\u001b[0m\u001b[0mself\u001b[0m\u001b[0;34m.\u001b[0m\u001b[0m_generator\u001b[0m\u001b[0;34m.\u001b[0m\u001b[0mseeds\u001b[0m\u001b[0;34m(\u001b[0m\u001b[0;34m)\u001b[0m\u001b[0;34m,\u001b[0m \u001b[0;34m**\u001b[0m\u001b[0mkwargs\u001b[0m\u001b[0;34m)\u001b[0m\u001b[0;34m\u001b[0m\u001b[0;34m\u001b[0m\u001b[0m\n\u001b[0m\u001b[1;32m     46\u001b[0m \u001b[0;34m\u001b[0m\u001b[0m\n\u001b[1;32m     47\u001b[0m     \u001b[0;32mdef\u001b[0m \u001b[0mrun_on_new_seeds\u001b[0m\u001b[0;34m(\u001b[0m\u001b[0mself\u001b[0m\u001b[0;34m,\u001b[0m \u001b[0mbackend\u001b[0m\u001b[0;34m,\u001b[0m \u001b[0mexperiment_data\u001b[0m\u001b[0;34m,\u001b[0m \u001b[0mnum_of_seeds\u001b[0m\u001b[0;34m,\u001b[0m \u001b[0;34m**\u001b[0m\u001b[0mkwargs\u001b[0m\u001b[0;34m)\u001b[0m\u001b[0;34m:\u001b[0m\u001b[0;34m\u001b[0m\u001b[0;34m\u001b[0m\u001b[0m\n",
      "\u001b[0;32m~/miniconda3/envs/qiskit-exp-dev/lib/python3.8/site-packages/qiskit_experiments/base_experiment.py\u001b[0m in \u001b[0;36mrun\u001b[0;34m(self, backend, experiment_data, **kwargs)\u001b[0m\n\u001b[1;32m    126\u001b[0m \u001b[0;34m\u001b[0m\u001b[0m\n\u001b[1;32m    127\u001b[0m         \u001b[0;31m# Generate and run circuits\u001b[0m\u001b[0;34m\u001b[0m\u001b[0;34m\u001b[0m\u001b[0;34m\u001b[0m\u001b[0m\n\u001b[0;32m--> 128\u001b[0;31m         \u001b[0mcircuits\u001b[0m \u001b[0;34m=\u001b[0m \u001b[0mself\u001b[0m\u001b[0;34m.\u001b[0m\u001b[0mtranspiled_circuits\u001b[0m\u001b[0;34m(\u001b[0m\u001b[0mbackend\u001b[0m\u001b[0;34m,\u001b[0m \u001b[0;34m**\u001b[0m\u001b[0mcircuit_options\u001b[0m\u001b[0;34m)\u001b[0m\u001b[0;34m\u001b[0m\u001b[0;34m\u001b[0m\u001b[0m\n\u001b[0m\u001b[1;32m    129\u001b[0m         \u001b[0mqobj\u001b[0m \u001b[0;34m=\u001b[0m \u001b[0massemble\u001b[0m\u001b[0;34m(\u001b[0m\u001b[0mcircuits\u001b[0m\u001b[0;34m,\u001b[0m \u001b[0mbackend\u001b[0m\u001b[0;34m,\u001b[0m \u001b[0;34m**\u001b[0m\u001b[0mrun_options\u001b[0m\u001b[0;34m)\u001b[0m\u001b[0;34m\u001b[0m\u001b[0;34m\u001b[0m\u001b[0m\n\u001b[1;32m    130\u001b[0m         \u001b[0mjob\u001b[0m \u001b[0;34m=\u001b[0m \u001b[0mbackend\u001b[0m\u001b[0;34m.\u001b[0m\u001b[0mrun\u001b[0m\u001b[0;34m(\u001b[0m\u001b[0mqobj\u001b[0m\u001b[0;34m)\u001b[0m\u001b[0;34m\u001b[0m\u001b[0;34m\u001b[0m\u001b[0m\n",
      "\u001b[0;32m~/miniconda3/envs/qiskit-exp-dev/lib/python3.8/site-packages/qiskit_experiments/base_experiment.py\u001b[0m in \u001b[0;36mtranspiled_circuits\u001b[0;34m(self, backend, **kwargs)\u001b[0m\n\u001b[1;32m    228\u001b[0m             \u001b[0;32mraise\u001b[0m \u001b[0mQiskitError\u001b[0m\u001b[0;34m(\u001b[0m\u001b[0;34m\"Initial layout must be specified by the Experiement.\"\u001b[0m\u001b[0;34m)\u001b[0m\u001b[0;34m\u001b[0m\u001b[0;34m\u001b[0m\u001b[0m\n\u001b[1;32m    229\u001b[0m         \u001b[0mtranspile_options\u001b[0m\u001b[0;34m[\u001b[0m\u001b[0;34m\"initial_layout\"\u001b[0m\u001b[0;34m]\u001b[0m \u001b[0;34m=\u001b[0m \u001b[0mself\u001b[0m\u001b[0;34m.\u001b[0m\u001b[0mphysical_qubits\u001b[0m\u001b[0;34m\u001b[0m\u001b[0;34m\u001b[0m\u001b[0m\n\u001b[0;32m--> 230\u001b[0;31m         \u001b[0mcircuits\u001b[0m \u001b[0;34m=\u001b[0m \u001b[0mtranspile\u001b[0m\u001b[0;34m(\u001b[0m\u001b[0mcircuits\u001b[0m\u001b[0;34m,\u001b[0m \u001b[0mbackend\u001b[0m\u001b[0;34m=\u001b[0m\u001b[0mbackend\u001b[0m\u001b[0;34m,\u001b[0m \u001b[0;34m**\u001b[0m\u001b[0mtranspile_options\u001b[0m\u001b[0;34m)\u001b[0m\u001b[0;34m\u001b[0m\u001b[0;34m\u001b[0m\u001b[0m\n\u001b[0m\u001b[1;32m    231\u001b[0m \u001b[0;34m\u001b[0m\u001b[0m\n\u001b[1;32m    232\u001b[0m         \u001b[0;32mreturn\u001b[0m \u001b[0mcircuits\u001b[0m\u001b[0;34m\u001b[0m\u001b[0;34m\u001b[0m\u001b[0m\n",
      "\u001b[0;32m~/miniconda3/envs/qiskit-exp-dev/lib/python3.8/site-packages/qiskit/compiler/transpiler.py\u001b[0m in \u001b[0;36mtranspile\u001b[0;34m(circuits, backend, basis_gates, coupling_map, backend_properties, initial_layout, layout_method, routing_method, translation_method, scheduling_method, instruction_durations, dt, seed_transpiler, optimization_level, pass_manager, callback, output_name)\u001b[0m\n\u001b[1;32m    240\u001b[0m \u001b[0;34m\u001b[0m\u001b[0m\n\u001b[1;32m    241\u001b[0m     \u001b[0;31m# Transpile circuits in parallel\u001b[0m\u001b[0;34m\u001b[0m\u001b[0;34m\u001b[0m\u001b[0;34m\u001b[0m\u001b[0m\n\u001b[0;32m--> 242\u001b[0;31m     \u001b[0mcircuits\u001b[0m \u001b[0;34m=\u001b[0m \u001b[0mparallel_map\u001b[0m\u001b[0;34m(\u001b[0m\u001b[0m_transpile_circuit\u001b[0m\u001b[0;34m,\u001b[0m \u001b[0mlist\u001b[0m\u001b[0;34m(\u001b[0m\u001b[0mzip\u001b[0m\u001b[0;34m(\u001b[0m\u001b[0mcircuits\u001b[0m\u001b[0;34m,\u001b[0m \u001b[0mtranspile_args\u001b[0m\u001b[0;34m)\u001b[0m\u001b[0;34m)\u001b[0m\u001b[0;34m)\u001b[0m\u001b[0;34m\u001b[0m\u001b[0;34m\u001b[0m\u001b[0m\n\u001b[0m\u001b[1;32m    243\u001b[0m \u001b[0;34m\u001b[0m\u001b[0m\n\u001b[1;32m    244\u001b[0m     \u001b[0mend_time\u001b[0m \u001b[0;34m=\u001b[0m \u001b[0mtime\u001b[0m\u001b[0;34m(\u001b[0m\u001b[0;34m)\u001b[0m\u001b[0;34m\u001b[0m\u001b[0;34m\u001b[0m\u001b[0m\n",
      "\u001b[0;32m~/miniconda3/envs/qiskit-exp-dev/lib/python3.8/site-packages/qiskit/tools/parallel.py\u001b[0m in \u001b[0;36mparallel_map\u001b[0;34m(task, values, task_args, task_kwargs, num_processes)\u001b[0m\n\u001b[1;32m    165\u001b[0m     \u001b[0mresults\u001b[0m \u001b[0;34m=\u001b[0m \u001b[0;34m[\u001b[0m\u001b[0;34m]\u001b[0m\u001b[0;34m\u001b[0m\u001b[0;34m\u001b[0m\u001b[0m\n\u001b[1;32m    166\u001b[0m     \u001b[0;32mfor\u001b[0m \u001b[0m_\u001b[0m\u001b[0;34m,\u001b[0m \u001b[0mvalue\u001b[0m \u001b[0;32min\u001b[0m \u001b[0menumerate\u001b[0m\u001b[0;34m(\u001b[0m\u001b[0mvalues\u001b[0m\u001b[0;34m)\u001b[0m\u001b[0;34m:\u001b[0m\u001b[0;34m\u001b[0m\u001b[0;34m\u001b[0m\u001b[0m\n\u001b[0;32m--> 167\u001b[0;31m         \u001b[0mresult\u001b[0m \u001b[0;34m=\u001b[0m \u001b[0mtask\u001b[0m\u001b[0;34m(\u001b[0m\u001b[0mvalue\u001b[0m\u001b[0;34m,\u001b[0m \u001b[0;34m*\u001b[0m\u001b[0mtask_args\u001b[0m\u001b[0;34m,\u001b[0m \u001b[0;34m**\u001b[0m\u001b[0mtask_kwargs\u001b[0m\u001b[0;34m)\u001b[0m\u001b[0;34m\u001b[0m\u001b[0;34m\u001b[0m\u001b[0m\n\u001b[0m\u001b[1;32m    168\u001b[0m         \u001b[0mresults\u001b[0m\u001b[0;34m.\u001b[0m\u001b[0mappend\u001b[0m\u001b[0;34m(\u001b[0m\u001b[0mresult\u001b[0m\u001b[0;34m)\u001b[0m\u001b[0;34m\u001b[0m\u001b[0;34m\u001b[0m\u001b[0m\n\u001b[1;32m    169\u001b[0m         \u001b[0m_callback\u001b[0m\u001b[0;34m(\u001b[0m\u001b[0;36m0\u001b[0m\u001b[0;34m)\u001b[0m\u001b[0;34m\u001b[0m\u001b[0;34m\u001b[0m\u001b[0m\n",
      "\u001b[0;32m~/miniconda3/envs/qiskit-exp-dev/lib/python3.8/site-packages/qiskit/compiler/transpiler.py\u001b[0m in \u001b[0;36m_transpile_circuit\u001b[0;34m(circuit_config_tuple)\u001b[0m\n\u001b[1;32m    323\u001b[0m         \u001b[0;32mraise\u001b[0m \u001b[0mTranspilerError\u001b[0m\u001b[0;34m(\u001b[0m\u001b[0;34m\"optimization_level can range from 0 to 3.\"\u001b[0m\u001b[0;34m)\u001b[0m\u001b[0;34m\u001b[0m\u001b[0;34m\u001b[0m\u001b[0m\n\u001b[1;32m    324\u001b[0m \u001b[0;34m\u001b[0m\u001b[0m\n\u001b[0;32m--> 325\u001b[0;31m     result = pass_manager.run(circuit, callback=transpile_config['callback'],\n\u001b[0m\u001b[1;32m    326\u001b[0m                               output_name=transpile_config['output_name'])\n\u001b[1;32m    327\u001b[0m \u001b[0;34m\u001b[0m\u001b[0m\n",
      "\u001b[0;32m~/miniconda3/envs/qiskit-exp-dev/lib/python3.8/site-packages/qiskit/transpiler/passmanager.py\u001b[0m in \u001b[0;36mrun\u001b[0;34m(self, circuits, output_name, callback)\u001b[0m\n\u001b[1;32m    214\u001b[0m         \"\"\"\n\u001b[1;32m    215\u001b[0m         \u001b[0;32mif\u001b[0m \u001b[0misinstance\u001b[0m\u001b[0;34m(\u001b[0m\u001b[0mcircuits\u001b[0m\u001b[0;34m,\u001b[0m \u001b[0mQuantumCircuit\u001b[0m\u001b[0;34m)\u001b[0m\u001b[0;34m:\u001b[0m\u001b[0;34m\u001b[0m\u001b[0;34m\u001b[0m\u001b[0m\n\u001b[0;32m--> 216\u001b[0;31m             \u001b[0;32mreturn\u001b[0m \u001b[0mself\u001b[0m\u001b[0;34m.\u001b[0m\u001b[0m_run_single_circuit\u001b[0m\u001b[0;34m(\u001b[0m\u001b[0mcircuits\u001b[0m\u001b[0;34m,\u001b[0m \u001b[0moutput_name\u001b[0m\u001b[0;34m,\u001b[0m \u001b[0mcallback\u001b[0m\u001b[0;34m)\u001b[0m\u001b[0;34m\u001b[0m\u001b[0;34m\u001b[0m\u001b[0m\n\u001b[0m\u001b[1;32m    217\u001b[0m         \u001b[0;32melif\u001b[0m \u001b[0mlen\u001b[0m\u001b[0;34m(\u001b[0m\u001b[0mcircuits\u001b[0m\u001b[0;34m)\u001b[0m \u001b[0;34m==\u001b[0m \u001b[0;36m1\u001b[0m\u001b[0;34m:\u001b[0m\u001b[0;34m\u001b[0m\u001b[0;34m\u001b[0m\u001b[0m\n\u001b[1;32m    218\u001b[0m             \u001b[0;32mreturn\u001b[0m \u001b[0mself\u001b[0m\u001b[0;34m.\u001b[0m\u001b[0m_run_single_circuit\u001b[0m\u001b[0;34m(\u001b[0m\u001b[0mcircuits\u001b[0m\u001b[0;34m[\u001b[0m\u001b[0;36m0\u001b[0m\u001b[0;34m]\u001b[0m\u001b[0;34m,\u001b[0m \u001b[0moutput_name\u001b[0m\u001b[0;34m,\u001b[0m \u001b[0mcallback\u001b[0m\u001b[0;34m)\u001b[0m\u001b[0;34m\u001b[0m\u001b[0;34m\u001b[0m\u001b[0m\n",
      "\u001b[0;32m~/miniconda3/envs/qiskit-exp-dev/lib/python3.8/site-packages/qiskit/transpiler/passmanager.py\u001b[0m in \u001b[0;36m_run_single_circuit\u001b[0;34m(self, circuit, output_name, callback)\u001b[0m\n\u001b[1;32m    275\u001b[0m         \"\"\"\n\u001b[1;32m    276\u001b[0m         \u001b[0mrunning_passmanager\u001b[0m \u001b[0;34m=\u001b[0m \u001b[0mself\u001b[0m\u001b[0;34m.\u001b[0m\u001b[0m_create_running_passmanager\u001b[0m\u001b[0;34m(\u001b[0m\u001b[0;34m)\u001b[0m\u001b[0;34m\u001b[0m\u001b[0;34m\u001b[0m\u001b[0m\n\u001b[0;32m--> 277\u001b[0;31m         \u001b[0mresult\u001b[0m \u001b[0;34m=\u001b[0m \u001b[0mrunning_passmanager\u001b[0m\u001b[0;34m.\u001b[0m\u001b[0mrun\u001b[0m\u001b[0;34m(\u001b[0m\u001b[0mcircuit\u001b[0m\u001b[0;34m,\u001b[0m \u001b[0moutput_name\u001b[0m\u001b[0;34m=\u001b[0m\u001b[0moutput_name\u001b[0m\u001b[0;34m,\u001b[0m \u001b[0mcallback\u001b[0m\u001b[0;34m=\u001b[0m\u001b[0mcallback\u001b[0m\u001b[0;34m)\u001b[0m\u001b[0;34m\u001b[0m\u001b[0;34m\u001b[0m\u001b[0m\n\u001b[0m\u001b[1;32m    278\u001b[0m         \u001b[0mself\u001b[0m\u001b[0;34m.\u001b[0m\u001b[0mproperty_set\u001b[0m \u001b[0;34m=\u001b[0m \u001b[0mrunning_passmanager\u001b[0m\u001b[0;34m.\u001b[0m\u001b[0mproperty_set\u001b[0m\u001b[0;34m\u001b[0m\u001b[0;34m\u001b[0m\u001b[0m\n\u001b[1;32m    279\u001b[0m         \u001b[0;32mreturn\u001b[0m \u001b[0mresult\u001b[0m\u001b[0;34m\u001b[0m\u001b[0;34m\u001b[0m\u001b[0m\n",
      "\u001b[0;32m~/miniconda3/envs/qiskit-exp-dev/lib/python3.8/site-packages/qiskit/transpiler/runningpassmanager.py\u001b[0m in \u001b[0;36mrun\u001b[0;34m(self, circuit, output_name, callback)\u001b[0m\n\u001b[1;32m    112\u001b[0m         \"\"\"\n\u001b[1;32m    113\u001b[0m         \u001b[0mname\u001b[0m \u001b[0;34m=\u001b[0m \u001b[0mcircuit\u001b[0m\u001b[0;34m.\u001b[0m\u001b[0mname\u001b[0m\u001b[0;34m\u001b[0m\u001b[0;34m\u001b[0m\u001b[0m\n\u001b[0;32m--> 114\u001b[0;31m         \u001b[0mdag\u001b[0m \u001b[0;34m=\u001b[0m \u001b[0mcircuit_to_dag\u001b[0m\u001b[0;34m(\u001b[0m\u001b[0mcircuit\u001b[0m\u001b[0;34m)\u001b[0m\u001b[0;34m\u001b[0m\u001b[0;34m\u001b[0m\u001b[0m\n\u001b[0m\u001b[1;32m    115\u001b[0m         \u001b[0;32mdel\u001b[0m \u001b[0mcircuit\u001b[0m\u001b[0;34m\u001b[0m\u001b[0;34m\u001b[0m\u001b[0m\n\u001b[1;32m    116\u001b[0m \u001b[0;34m\u001b[0m\u001b[0m\n",
      "\u001b[0;32m~/miniconda3/envs/qiskit-exp-dev/lib/python3.8/site-packages/qiskit/converters/circuit_to_dag.py\u001b[0m in \u001b[0;36mcircuit_to_dag\u001b[0;34m(circuit)\u001b[0m\n\u001b[1;32m     56\u001b[0m \u001b[0;34m\u001b[0m\u001b[0m\n\u001b[1;32m     57\u001b[0m     \u001b[0;32mfor\u001b[0m \u001b[0minstruction\u001b[0m\u001b[0;34m,\u001b[0m \u001b[0mqargs\u001b[0m\u001b[0;34m,\u001b[0m \u001b[0mcargs\u001b[0m \u001b[0;32min\u001b[0m \u001b[0mcircuit\u001b[0m\u001b[0;34m.\u001b[0m\u001b[0mdata\u001b[0m\u001b[0;34m:\u001b[0m\u001b[0;34m\u001b[0m\u001b[0;34m\u001b[0m\u001b[0m\n\u001b[0;32m---> 58\u001b[0;31m         \u001b[0mdagcircuit\u001b[0m\u001b[0;34m.\u001b[0m\u001b[0mapply_operation_back\u001b[0m\u001b[0;34m(\u001b[0m\u001b[0minstruction\u001b[0m\u001b[0;34m.\u001b[0m\u001b[0mcopy\u001b[0m\u001b[0;34m(\u001b[0m\u001b[0;34m)\u001b[0m\u001b[0;34m,\u001b[0m \u001b[0mqargs\u001b[0m\u001b[0;34m,\u001b[0m \u001b[0mcargs\u001b[0m\u001b[0;34m)\u001b[0m\u001b[0;34m\u001b[0m\u001b[0;34m\u001b[0m\u001b[0m\n\u001b[0m\u001b[1;32m     59\u001b[0m \u001b[0;34m\u001b[0m\u001b[0m\n\u001b[1;32m     60\u001b[0m     \u001b[0mdagcircuit\u001b[0m\u001b[0;34m.\u001b[0m\u001b[0mduration\u001b[0m \u001b[0;34m=\u001b[0m \u001b[0mcircuit\u001b[0m\u001b[0;34m.\u001b[0m\u001b[0mduration\u001b[0m\u001b[0;34m\u001b[0m\u001b[0;34m\u001b[0m\u001b[0m\n",
      "\u001b[0;32m~/miniconda3/envs/qiskit-exp-dev/lib/python3.8/site-packages/qiskit/dagcircuit/dagcircuit.py\u001b[0m in \u001b[0;36mapply_operation_back\u001b[0;34m(self, op, qargs, cargs, condition)\u001b[0m\n\u001b[1;32m    426\u001b[0m         \u001b[0mself\u001b[0m\u001b[0;34m.\u001b[0m\u001b[0m_check_bits\u001b[0m\u001b[0;34m(\u001b[0m\u001b[0mall_cbits\u001b[0m\u001b[0;34m,\u001b[0m \u001b[0mself\u001b[0m\u001b[0;34m.\u001b[0m\u001b[0moutput_map\u001b[0m\u001b[0;34m)\u001b[0m\u001b[0;34m\u001b[0m\u001b[0;34m\u001b[0m\u001b[0m\n\u001b[1;32m    427\u001b[0m \u001b[0;34m\u001b[0m\u001b[0m\n\u001b[0;32m--> 428\u001b[0;31m         \u001b[0mnode_index\u001b[0m \u001b[0;34m=\u001b[0m \u001b[0mself\u001b[0m\u001b[0;34m.\u001b[0m\u001b[0m_add_op_node\u001b[0m\u001b[0;34m(\u001b[0m\u001b[0mop\u001b[0m\u001b[0;34m,\u001b[0m \u001b[0mqargs\u001b[0m\u001b[0;34m,\u001b[0m \u001b[0mcargs\u001b[0m\u001b[0;34m)\u001b[0m\u001b[0;34m\u001b[0m\u001b[0;34m\u001b[0m\u001b[0m\n\u001b[0m\u001b[1;32m    429\u001b[0m \u001b[0;34m\u001b[0m\u001b[0m\n\u001b[1;32m    430\u001b[0m         \u001b[0;31m# Add new in-edges from predecessors of the output nodes to the\u001b[0m\u001b[0;34m\u001b[0m\u001b[0;34m\u001b[0m\u001b[0;34m\u001b[0m\u001b[0m\n",
      "\u001b[0;32m~/miniconda3/envs/qiskit-exp-dev/lib/python3.8/site-packages/qiskit/dagcircuit/dagcircuit.py\u001b[0m in \u001b[0;36m_add_op_node\u001b[0;34m(self, op, qargs, cargs)\u001b[0m\n\u001b[1;32m    373\u001b[0m         \"\"\"\n\u001b[1;32m    374\u001b[0m         \u001b[0;31m# Add a new operation node to the graph\u001b[0m\u001b[0;34m\u001b[0m\u001b[0;34m\u001b[0m\u001b[0;34m\u001b[0m\u001b[0m\n\u001b[0;32m--> 375\u001b[0;31m         new_node = DAGNode(type=\"op\", op=op, name=op.name, qargs=qargs,\n\u001b[0m\u001b[1;32m    376\u001b[0m                            cargs=cargs)\n\u001b[1;32m    377\u001b[0m         \u001b[0mnode_index\u001b[0m \u001b[0;34m=\u001b[0m \u001b[0mself\u001b[0m\u001b[0;34m.\u001b[0m\u001b[0m_multi_graph\u001b[0m\u001b[0;34m.\u001b[0m\u001b[0madd_node\u001b[0m\u001b[0;34m(\u001b[0m\u001b[0mnew_node\u001b[0m\u001b[0;34m)\u001b[0m\u001b[0;34m\u001b[0m\u001b[0;34m\u001b[0m\u001b[0m\n",
      "\u001b[0;32m~/miniconda3/envs/qiskit-exp-dev/lib/python3.8/site-packages/qiskit/dagcircuit/dagnode.py\u001b[0m in \u001b[0;36m__init__\u001b[0;34m(self, type, op, name, qargs, cargs, condition, wire, nid)\u001b[0m\n\u001b[1;32m     46\u001b[0m         \u001b[0mself\u001b[0m\u001b[0;34m.\u001b[0m\u001b[0m_wire\u001b[0m \u001b[0;34m=\u001b[0m \u001b[0mwire\u001b[0m\u001b[0;34m\u001b[0m\u001b[0;34m\u001b[0m\u001b[0m\n\u001b[1;32m     47\u001b[0m         \u001b[0mself\u001b[0m\u001b[0;34m.\u001b[0m\u001b[0m_node_id\u001b[0m \u001b[0;34m=\u001b[0m \u001b[0mnid\u001b[0m\u001b[0;34m\u001b[0m\u001b[0;34m\u001b[0m\u001b[0m\n\u001b[0;32m---> 48\u001b[0;31m         \u001b[0mself\u001b[0m\u001b[0;34m.\u001b[0m\u001b[0msort_key\u001b[0m \u001b[0;34m=\u001b[0m \u001b[0mstr\u001b[0m\u001b[0;34m(\u001b[0m\u001b[0mself\u001b[0m\u001b[0;34m.\u001b[0m\u001b[0m_qargs\u001b[0m\u001b[0;34m)\u001b[0m\u001b[0;34m\u001b[0m\u001b[0;34m\u001b[0m\u001b[0m\n\u001b[0m\u001b[1;32m     49\u001b[0m \u001b[0;34m\u001b[0m\u001b[0m\n\u001b[1;32m     50\u001b[0m     \u001b[0;34m@\u001b[0m\u001b[0mproperty\u001b[0m\u001b[0;34m\u001b[0m\u001b[0;34m\u001b[0m\u001b[0m\n",
      "\u001b[0;31mKeyboardInterrupt\u001b[0m: "
     ]
    }
   ],
   "source": [
    "backend = qiskit.Aer.get_backend('qasm_simulator')\n",
    "shots = 200\n",
    "\n",
    "rb_experiment_data_02 = exp02.run(backend, noise_model=noise_model, shots=shots)\n",
    "rb_experiment_data_1 = exp1.run(backend, noise_model=noise_model, shots=shots)\n",
    "rb_result_02 = rb_experiment_data_02.analysis_result(0)\n",
    "rb_result_1 = rb_experiment_data_1.analysis_result(0)\n",
    "results = [rb_result_02, rb_result_1]"
   ]
  },
  {
   "cell_type": "markdown",
   "metadata": {},
   "source": [
    "## 4) Fit the RB results and calculate the gate fidelity <a name='fit_RB'></a>\n",
    "\n",
    "### Get statistics about the survival probabilities\n",
    "\n",
    "The results in **result_list** should fit to an exponentially decaying function $A \\cdot \\alpha ^ m + B$, where $m$ is the Clifford length.\n",
    "\n",
    "From $\\alpha$ we can calculate the **Error per Clifford (EPC)**:\n",
    "$$ EPC = \\frac{2^n-1}{2^n} (1-\\alpha)$$\n",
    "(where $n=nQ$ is the number of qubits)."
   ]
  },
  {
   "cell_type": "markdown",
   "metadata": {},
   "source": [
    "### Plot After 1 Seed"
   ]
  },
  {
   "cell_type": "code",
   "execution_count": null,
   "metadata": {
    "ExecuteTime": {
     "end_time": "2019-12-10T21:49:51.597937Z",
     "start_time": "2019-12-10T21:49:51.171988Z"
    },
    "scrolled": false
   },
   "outputs": [],
   "source": [
    "plt.figure(figsize=(15, 6))\n",
    "\n",
    "for i in range(2):\n",
    "    ax = plt.subplot(1, 2, i+1)\n",
    "\n",
    "    # Plot the essence by calling RBResult.plot\n",
    "    results[i].plot(ax=ax, add_label=True, show_plt=False)\n",
    "\n",
    "    # Add title and label\n",
    "    ax.set_title('%d Qubit RB'%(results[i]['num_qubits']), fontsize=18)\n",
    "\n",
    "plt.show()"
   ]
  },
  {
   "cell_type": "markdown",
   "metadata": {},
   "source": [
    "### Plot with the Rest of the Seeds \n",
    "The plot is being updated after each seed."
   ]
  },
  {
   "cell_type": "code",
   "execution_count": null,
   "metadata": {
    "ExecuteTime": {
     "end_time": "2019-12-10T21:49:58.814328Z",
     "start_time": "2019-12-10T21:49:51.600375Z"
    }
   },
   "outputs": [],
   "source": [
    "import time\n",
    "for seed_num in range(1, nseeds):\n",
    "    plt.figure(figsize=(15, 6))\n",
    "    axis = [plt.subplot(1, 2, 1), plt.subplot(1, 2, 2)]\n",
    "    \n",
    "    # Add another seed to the data\n",
    "    rb_experiment_data_02 = exp02.run_on_new_seeds(backend,\n",
    "                                                   rb_experiment_data_02,\n",
    "                                                   num_of_seeds=1, noise_model=noise_model, shots=shots)\n",
    "    rb_experiment_data_1 = exp1.run_on_new_seeds(backend,\n",
    "                                                   rb_experiment_data_1,\n",
    "                                                   num_of_seeds=1, noise_model=noise_model, shots=shots)\n",
    "    \n",
    "    rb_result_02 = rb_experiment_data_02.analysis_result(-1)\n",
    "    rb_result_1 = rb_experiment_data_1.analysis_result(-1)\n",
    "    results = [rb_result_02, rb_result_1]\n",
    "    \n",
    "    for i in range(2):\n",
    "        # Plot the essence by calling RBResult.plot\n",
    "        results[i].plot(ax=axis[i], add_label=True, show_plt=False)\n",
    "\n",
    "        # Add title and label\n",
    "        axis[i].set_title('%d Qubit RB - with %d seeds'%(results[i]['num_qubits'], seed_num + 1), fontsize=18)\n",
    "        \n",
    "    # Display\n",
    "    display.display(plt.gcf())\n",
    "    \n",
    "    # Clear display after each seed and close\n",
    "    display.clear_output(wait=True)\n",
    "    time.sleep(1.0)\n",
    "    plt.close()"
   ]
  },
  {
   "cell_type": "markdown",
   "metadata": {},
   "source": [
    "### Add more shots to the data"
   ]
  },
  {
   "cell_type": "code",
   "execution_count": null,
   "metadata": {
    "ExecuteTime": {
     "end_time": "2019-12-10T21:50:46.051635Z",
     "start_time": "2019-12-10T21:49:58.816353Z"
    }
   },
   "outputs": [],
   "source": [
    "shots = 200\n",
    "rb_experiment_data_02 = exp02.run_additional_shots(backend,\n",
    "                                                   rb_experiment_data_02,\n",
    "                                                   noise_model=noise_model, shots=shots)\n",
    "rb_experiment_data_1 = exp1.run_additional_shots(backend,\n",
    "                                                   rb_experiment_data_1,\n",
    "                                                   noise_model=noise_model, shots=shots)\n",
    "    \n",
    "rb_result_02 = rb_experiment_data_02.analysis_result(-1)\n",
    "rb_result_1 = rb_experiment_data_1.analysis_result(-1)\n",
    "results = [rb_result_02, rb_result_1]"
   ]
  },
  {
   "cell_type": "code",
   "execution_count": null,
   "metadata": {
    "ExecuteTime": {
     "end_time": "2019-12-10T21:50:46.784384Z",
     "start_time": "2019-12-10T21:50:46.054323Z"
    }
   },
   "outputs": [],
   "source": [
    "plt.figure(figsize=(15, 6))\n",
    "\n",
    "for i in range(2):\n",
    "    ax = plt.subplot(1, 2, i+1)\n",
    "\n",
    "    # Plot the essence by calling RBResult.plot\n",
    "    results[i].plot(ax=ax, add_label=True, show_plt=False)\n",
    "\n",
    "    # Add title and label\n",
    "    ax.set_title('%d Qubit RB'%(results[i]['num_qubits']), fontsize=18)\n",
    "\n",
    "plt.show()"
   ]
  },
  {
   "cell_type": "markdown",
   "metadata": {},
   "source": [
    "### Predicted Gate Fidelity"
   ]
  },
  {
   "cell_type": "markdown",
   "metadata": {},
   "source": [
    "From the known depolarizing errors on the simulation we can predict the **fidelity**. \n",
    "First we need to count the number of **gates per Clifford**.\n",
    "\n",
    "The function **gates_per_clifford** takes a list of transpiled RB circuits and outputs the number of basis gates in each circuit."
   ]
  },
  {
   "cell_type": "code",
   "execution_count": null,
   "metadata": {
    "ExecuteTime": {
     "end_time": "2019-12-10T21:50:46.928133Z",
     "start_time": "2019-12-10T21:50:46.789697Z"
    }
   },
   "outputs": [],
   "source": [
    "#Count the number of single and 2Q gates in the 2Q Cliffords\n",
    "gates_per_cliff = exp02.gates_per_clifford(backend)\n",
    "for basis_gate in basis_gates:\n",
    "    print(\"Number of %s gates per Clifford: %f \"%(basis_gate ,\n",
    "                                                  np.mean([gates_per_cliff[0][basis_gate],\n",
    "                                                           gates_per_cliff[2][basis_gate]])))"
   ]
  },
  {
   "cell_type": "markdown",
   "metadata": {},
   "source": [
    "The function **calculate_2q_epc** gives measured errors in the basis gates that were used to construct the Clifford. \n",
    "It assumes that the error in the underlying gates is depolarizing. It outputs the error per a 2-qubit Clifford.\n",
    "\n",
    "The input to this function is:\n",
    "- **gate_per_cliff:** dictionary of gate per Clifford. \n",
    "- **epg_2q:** EPG estimated by error model.\n",
    "- **qubit_pair:** index of two qubits to calculate EPC. \n",
    "- **list_epgs_1q:** list of single qubit EPGs of qubit listed in ``qubit_pair``.\n",
    "- **two_qubit_name:** name of two qubit gate in ``basis gates`` (default is ``cx``)."
   ]
  },
  {
   "cell_type": "code",
   "execution_count": null,
   "metadata": {},
   "outputs": [],
   "source": [
    "# Error per gate from noise model\n",
    "epgs_1q = {'rz': 0, 'x': p1Q/2, 'sx': p1Q/2}\n",
    "epg_2q = p2Q*3/4\n",
    "pred_epc = RBUtils.calculate_2q_epc(\n",
    "    gate_per_cliff=gates_per_cliff,\n",
    "    epg_2q=epg_2q,\n",
    "    qubit_pair=[0, 2],\n",
    "    list_epgs_1q=[epgs_1q, epgs_1q])\n",
    "\n",
    "# Calculate the predicted epc\n",
    "print(\"Predicted 2Q Error per Clifford: %e\"%pred_epc)"
   ]
  },
  {
   "cell_type": "markdown",
   "metadata": {},
   "source": [
    "## Run an RB Sequence with T1,T2 Errors\n",
    "\n",
    "We now choose RB sequences that contain only 2-qubit Cliffords.\n",
    "\n",
    "We execute these sequences as before, but with a noise model extended with T1/T2 thermal relaxation error, and fit the exponentially decaying curve. "
   ]
  },
  {
   "cell_type": "code",
   "execution_count": null,
   "metadata": {
    "ExecuteTime": {
     "end_time": "2019-12-10T21:50:49.335962Z",
     "start_time": "2019-12-10T21:50:46.946840Z"
    }
   },
   "outputs": [],
   "source": [
    "noise_model2 = NoiseModel()\n",
    "\n",
    "#Add T1/T2 noise to the simulation\n",
    "t1 = 100.\n",
    "t2 = 80.\n",
    "gate1Q = 0.1\n",
    "gate2Q = 0.5\n",
    "noise_model2.add_all_qubit_quantum_error(thermal_relaxation_error(t1,t2,gate1Q), 'x')\n",
    "noise_model2.add_all_qubit_quantum_error(thermal_relaxation_error(t1,t2,gate1Q), 'sx')\n",
    "noise_model2.add_all_qubit_quantum_error(\n",
    "    thermal_relaxation_error(t1,t2,gate2Q).tensor(thermal_relaxation_error(t1,t2,gate2Q)), 'cx')"
   ]
  },
  {
   "cell_type": "code",
   "execution_count": null,
   "metadata": {
    "ExecuteTime": {
     "end_time": "2019-12-10T21:51:13.492799Z",
     "start_time": "2019-12-10T21:50:49.337940Z"
    }
   },
   "outputs": [],
   "source": [
    "backend = qiskit.Aer.get_backend('qasm_simulator')\n",
    "basis_gates = ['id', 'rz', 'x', 'sx', 'cx']\n",
    "shots = 500\n",
    "\n",
    "exp01 = RBExperiment(nseeds=1, qubits=[0,1], lengths=nCliffs)\n",
    "rb_experiment_data_01 = exp01.run(backend, noise_model=noise_model, shots=shots, basis_gates=basis_gates)\n",
    "rb_result_01 = rb_experiment_data_01.analysis_result(0)"
   ]
  },
  {
   "cell_type": "code",
   "execution_count": null,
   "metadata": {
    "ExecuteTime": {
     "end_time": "2019-12-10T21:51:13.840201Z",
     "start_time": "2019-12-10T21:51:13.497713Z"
    },
    "tags": [
     "nbsphinx-thumbnail"
    ]
   },
   "outputs": [],
   "source": [
    "plt.figure(figsize=(10, 6))\n",
    "ax = plt.gca()\n",
    "\n",
    "# Plot the essence by calling RBResult.plot\n",
    "rb_result_01.plot(ax=ax, add_label=True, show_plt=False)\n",
    "\n",
    "# Add title and label\n",
    "ax.set_title('2 Qubit RB with T1/T2 noise', fontsize=18)\n",
    "\n",
    "plt.show()"
   ]
  },
  {
   "cell_type": "markdown",
   "metadata": {},
   "source": [
    "We count again the number of **gates per Clifford** as before, and calculate the **two-qubit Clifford gate error**, using the predicted primitive gate errors from the coherence limit."
   ]
  },
  {
   "cell_type": "code",
   "execution_count": null,
   "metadata": {
    "ExecuteTime": {
     "end_time": "2019-12-10T21:51:13.929633Z",
     "start_time": "2019-12-10T21:51:13.843050Z"
    }
   },
   "outputs": [],
   "source": [
    "#Count the number of single and 2Q gates in the 2Q Cliffords\n",
    "gates_per_cliff = exp01.gates_per_clifford(backend)\n",
    "for basis_gate in basis_gates:\n",
    "    print(\"Number of %s gates per Clifford: %f \"%(basis_gate ,\n",
    "                                                  np.mean([gates_per_cliff[0][basis_gate],\n",
    "                                                           gates_per_cliff[1][basis_gate]])))"
   ]
  },
  {
   "cell_type": "code",
   "execution_count": null,
   "metadata": {},
   "outputs": [],
   "source": [
    "# Predicted primitive gate errors from the coherence limit\n",
    "x_error = RBUtils.coherence_limit(1,[t1],[t2],gate1Q)\n",
    "sx_error = RBUtils.coherence_limit(1,[t1],[t2],gate1Q)\n",
    "epg_2q = RBUtils.coherence_limit(2,[t1,t1],[t2,t2],gate2Q)\n",
    "epgs_1q = {'rz': 0, 'x': x_error, 'sx': sx_error}\n",
    "pred_epc = RBUtils.calculate_2q_epc(\n",
    "    gate_per_cliff=gates_per_cliff,\n",
    "    epg_2q=epg_2q,\n",
    "    qubit_pair=[0, 1],\n",
    "    list_epgs_1q=[epgs_1q, epgs_1q])\n",
    "\n",
    "# Calculate the predicted epc\n",
    "print(\"Predicted 2Q Error per Clifford: %e\"%pred_epc)"
   ]
  },
  {
   "cell_type": "markdown",
   "metadata": {},
   "source": [
    "# Interleaved RB"
   ]
  },
  {
   "cell_type": "code",
   "execution_count": 8,
   "metadata": {},
   "outputs": [
    {
     "ename": "TypeError",
     "evalue": "unsupported operand type(s) for +: 'int' and 'XGate'",
     "output_type": "error",
     "traceback": [
      "\u001b[0;31m---------------------------------------------------------------------------\u001b[0m",
      "\u001b[0;31mTypeError\u001b[0m                                 Traceback (most recent call last)",
      "\u001b[0;32m<ipython-input-8-5bc8751a02ed>\u001b[0m in \u001b[0;36m<module>\u001b[0;34m\u001b[0m\n\u001b[1;32m      1\u001b[0m \u001b[0;32mfrom\u001b[0m \u001b[0mqiskit\u001b[0m\u001b[0;34m.\u001b[0m\u001b[0mcircuit\u001b[0m\u001b[0;34m.\u001b[0m\u001b[0mlibrary\u001b[0m \u001b[0;32mimport\u001b[0m \u001b[0mXGate\u001b[0m\u001b[0;34m\u001b[0m\u001b[0;34m\u001b[0m\u001b[0m\n\u001b[0;32m----> 2\u001b[0;31m \u001b[0mexp1\u001b[0m \u001b[0;34m=\u001b[0m \u001b[0mInterleavedRBExperiment\u001b[0m\u001b[0;34m(\u001b[0m\u001b[0mXGate\u001b[0m\u001b[0;34m(\u001b[0m\u001b[0;34m)\u001b[0m\u001b[0;34m,\u001b[0m \u001b[0mnseeds\u001b[0m\u001b[0;34m=\u001b[0m\u001b[0;36m5\u001b[0m\u001b[0;34m,\u001b[0m \u001b[0mqubits\u001b[0m\u001b[0;34m=\u001b[0m\u001b[0;34m[\u001b[0m\u001b[0;36m1\u001b[0m\u001b[0;34m]\u001b[0m\u001b[0;34m,\u001b[0m \u001b[0mlengths\u001b[0m\u001b[0;34m=\u001b[0m\u001b[0;34m[\u001b[0m\u001b[0mx\u001b[0m\u001b[0;34m*\u001b[0m\u001b[0;36m3\u001b[0m \u001b[0;32mfor\u001b[0m \u001b[0mx\u001b[0m \u001b[0;32min\u001b[0m \u001b[0mnCliffs\u001b[0m\u001b[0;34m]\u001b[0m\u001b[0;34m)\u001b[0m\u001b[0;34m\u001b[0m\u001b[0;34m\u001b[0m\u001b[0m\n\u001b[0m\u001b[1;32m      3\u001b[0m \u001b[0;34m\u001b[0m\u001b[0m\n\u001b[1;32m      4\u001b[0m \u001b[0mc\u001b[0m \u001b[0;34m=\u001b[0m \u001b[0mQuantumCircuit\u001b[0m\u001b[0;34m(\u001b[0m\u001b[0;36m2\u001b[0m\u001b[0;34m)\u001b[0m\u001b[0;34m\u001b[0m\u001b[0;34m\u001b[0m\u001b[0m\n\u001b[1;32m      5\u001b[0m \u001b[0mc\u001b[0m\u001b[0;34m.\u001b[0m\u001b[0mh\u001b[0m\u001b[0;34m(\u001b[0m\u001b[0;36m0\u001b[0m\u001b[0;34m)\u001b[0m\u001b[0;34m\u001b[0m\u001b[0;34m\u001b[0m\u001b[0m\n",
      "\u001b[0;32m~/miniconda3/envs/qiskit-exp-dev/lib/python3.8/site-packages/qiskit_experiments/randomized_benchmarking/rb_interleaved_experiment.py\u001b[0m in \u001b[0;36m__init__\u001b[0;34m(self, interleaved_element, nseeds, qubits, lengths, group_gates, rand_seed, transform_interleaved_element)\u001b[0m\n\u001b[1;32m    334\u001b[0m                \u001b[0mtransformed\u001b[0m \u001b[0mto\u001b[0m \u001b[0mthe\u001b[0m \u001b[0mcanonical\u001b[0m \u001b[0mcircuit\u001b[0m \u001b[0mrepresentation\u001b[0m \u001b[0mof\u001b[0m \u001b[0mthat\u001b[0m \u001b[0melement\u001b[0m \u001b[0;34m(\u001b[0m\u001b[0;31m`\u001b[0m\u001b[0;32mTrue\u001b[0m\u001b[0;31m`\u001b[0m\u001b[0;34m)\u001b[0m\u001b[0;34m\u001b[0m\u001b[0;34m\u001b[0m\u001b[0m\n\u001b[1;32m    335\u001b[0m         \"\"\"\n\u001b[0;32m--> 336\u001b[0;31m         generator = InterleavedRBGenerator(interleaved_element, nseeds, qubits, lengths,\n\u001b[0m\u001b[1;32m    337\u001b[0m                                            group_gates, rand_seed, transform_interleaved_element)\n\u001b[1;32m    338\u001b[0m \u001b[0;34m\u001b[0m\u001b[0m\n",
      "\u001b[0;32m~/miniconda3/envs/qiskit-exp-dev/lib/python3.8/site-packages/qiskit_experiments/randomized_benchmarking/rb_interleaved_experiment.py\u001b[0m in \u001b[0;36m__init__\u001b[0;34m(self, interleaved_element, nseeds, qubits, lengths, group_gates, rand_seed, transform_interleaved_element)\u001b[0m\n\u001b[1;32m     69\u001b[0m         \u001b[0mself\u001b[0m\u001b[0;34m.\u001b[0m\u001b[0m_transform_interleaved_element\u001b[0m \u001b[0;34m=\u001b[0m \u001b[0mtransform_interleaved_element\u001b[0m\u001b[0;34m\u001b[0m\u001b[0;34m\u001b[0m\u001b[0m\n\u001b[1;32m     70\u001b[0m         \u001b[0mself\u001b[0m\u001b[0;34m.\u001b[0m\u001b[0mset_interleaved_element\u001b[0m\u001b[0;34m(\u001b[0m\u001b[0minterleaved_element\u001b[0m\u001b[0;34m)\u001b[0m\u001b[0;34m\u001b[0m\u001b[0;34m\u001b[0m\u001b[0m\n\u001b[0;32m---> 71\u001b[0;31m         \u001b[0mself\u001b[0m\u001b[0;34m.\u001b[0m\u001b[0mgenerate_circuits\u001b[0m\u001b[0;34m(\u001b[0m\u001b[0;34m)\u001b[0m\u001b[0;34m\u001b[0m\u001b[0;34m\u001b[0m\u001b[0m\n\u001b[0m\u001b[1;32m     72\u001b[0m \u001b[0;34m\u001b[0m\u001b[0m\n\u001b[1;32m     73\u001b[0m     def set_interleaved_element(self, interleaved_element: Union[QuantumCircuit,\n",
      "\u001b[0;32m~/miniconda3/envs/qiskit-exp-dev/lib/python3.8/site-packages/qiskit_experiments/randomized_benchmarking/base_rb_generator.py\u001b[0m in \u001b[0;36mgenerate_circuits\u001b[0;34m(self, start_seed)\u001b[0m\n\u001b[1;32m    110\u001b[0m         \"\"\"\n\u001b[1;32m    111\u001b[0m         \u001b[0;32mfor\u001b[0m \u001b[0mseed\u001b[0m \u001b[0;32min\u001b[0m \u001b[0mrange\u001b[0m\u001b[0;34m(\u001b[0m\u001b[0mstart_seed\u001b[0m\u001b[0;34m,\u001b[0m \u001b[0mself\u001b[0m\u001b[0;34m.\u001b[0m\u001b[0m_nseeds\u001b[0m\u001b[0;34m)\u001b[0m\u001b[0;34m:\u001b[0m\u001b[0;34m\u001b[0m\u001b[0;34m\u001b[0m\u001b[0m\n\u001b[0;32m--> 112\u001b[0;31m             \u001b[0mcircuits\u001b[0m \u001b[0;34m=\u001b[0m \u001b[0mself\u001b[0m\u001b[0;34m.\u001b[0m\u001b[0mgenerate_circuits_for_seed\u001b[0m\u001b[0;34m(\u001b[0m\u001b[0;34m)\u001b[0m\u001b[0;34m\u001b[0m\u001b[0;34m\u001b[0m\u001b[0m\n\u001b[0m\u001b[1;32m    113\u001b[0m             \u001b[0;32mfor\u001b[0m \u001b[0mcircuit\u001b[0m \u001b[0;32min\u001b[0m \u001b[0mcircuits\u001b[0m\u001b[0;34m:\u001b[0m\u001b[0;34m\u001b[0m\u001b[0;34m\u001b[0m\u001b[0m\n\u001b[1;32m    114\u001b[0m                 \u001b[0mcircuit\u001b[0m\u001b[0;34m.\u001b[0m\u001b[0mmetadata\u001b[0m\u001b[0;34m[\u001b[0m\u001b[0;34m'seed'\u001b[0m\u001b[0;34m]\u001b[0m \u001b[0;34m=\u001b[0m \u001b[0mseed\u001b[0m\u001b[0;34m\u001b[0m\u001b[0;34m\u001b[0m\u001b[0m\n",
      "\u001b[0;32m~/miniconda3/envs/qiskit-exp-dev/lib/python3.8/site-packages/qiskit_experiments/randomized_benchmarking/rb_interleaved_experiment.py\u001b[0m in \u001b[0;36mgenerate_circuits_for_seed\u001b[0;34m(self)\u001b[0m\n\u001b[1;32m    131\u001b[0m         \u001b[0melement_list\u001b[0m \u001b[0;34m=\u001b[0m \u001b[0mself\u001b[0m\u001b[0;34m.\u001b[0m\u001b[0minterleave\u001b[0m\u001b[0;34m(\u001b[0m\u001b[0melement_list\u001b[0m\u001b[0;34m)\u001b[0m\u001b[0;34m\u001b[0m\u001b[0;34m\u001b[0m\u001b[0m\n\u001b[1;32m    132\u001b[0m         \u001b[0melement_lists\u001b[0m \u001b[0;34m=\u001b[0m \u001b[0mself\u001b[0m\u001b[0;34m.\u001b[0m\u001b[0msplit_element_list\u001b[0m\u001b[0;34m(\u001b[0m\u001b[0melement_list\u001b[0m\u001b[0;34m,\u001b[0m \u001b[0;34m[\u001b[0m\u001b[0;36m2\u001b[0m\u001b[0;34m*\u001b[0m\u001b[0mx\u001b[0m \u001b[0;32mfor\u001b[0m \u001b[0mx\u001b[0m \u001b[0;32min\u001b[0m \u001b[0mself\u001b[0m\u001b[0;34m.\u001b[0m\u001b[0m_lengths\u001b[0m\u001b[0;34m]\u001b[0m\u001b[0;34m)\u001b[0m\u001b[0;34m\u001b[0m\u001b[0;34m\u001b[0m\u001b[0m\n\u001b[0;32m--> 133\u001b[0;31m         \u001b[0minterleaved_circuits_and_meta\u001b[0m \u001b[0;34m=\u001b[0m \u001b[0mself\u001b[0m\u001b[0;34m.\u001b[0m\u001b[0mgenerate_circuits_from_elements\u001b[0m\u001b[0;34m(\u001b[0m\u001b[0melement_lists\u001b[0m\u001b[0;34m)\u001b[0m\u001b[0;34m\u001b[0m\u001b[0;34m\u001b[0m\u001b[0m\n\u001b[0m\u001b[1;32m    134\u001b[0m         self.add_extra_meta(interleaved_circuits_and_meta, {\n\u001b[1;32m    135\u001b[0m             \u001b[0;34m'experiment_type'\u001b[0m\u001b[0;34m:\u001b[0m \u001b[0mInterleavedRBExperiment\u001b[0m\u001b[0;34m.\u001b[0m\u001b[0m__name__\u001b[0m\u001b[0;34m,\u001b[0m\u001b[0;34m\u001b[0m\u001b[0;34m\u001b[0m\u001b[0m\n",
      "\u001b[0;32m~/miniconda3/envs/qiskit-exp-dev/lib/python3.8/site-packages/qiskit_experiments/randomized_benchmarking/base_rb_generator.py\u001b[0m in \u001b[0;36mgenerate_circuits_from_elements\u001b[0;34m(self, element_lists)\u001b[0m\n\u001b[1;32m    187\u001b[0m         \u001b[0;32mfor\u001b[0m \u001b[0mlength_index\u001b[0m\u001b[0;34m,\u001b[0m \u001b[0melement_list\u001b[0m \u001b[0;32min\u001b[0m \u001b[0menumerate\u001b[0m\u001b[0;34m(\u001b[0m\u001b[0melement_lists\u001b[0m\u001b[0;34m)\u001b[0m\u001b[0;34m:\u001b[0m\u001b[0;34m\u001b[0m\u001b[0;34m\u001b[0m\u001b[0m\n\u001b[1;32m    188\u001b[0m             \u001b[0;32mfor\u001b[0m \u001b[0melement\u001b[0m \u001b[0;32min\u001b[0m \u001b[0melement_list\u001b[0m\u001b[0;34m:\u001b[0m\u001b[0;34m\u001b[0m\u001b[0;34m\u001b[0m\u001b[0m\n\u001b[0;32m--> 189\u001b[0;31m                 \u001b[0mcurrent_element\u001b[0m \u001b[0;34m=\u001b[0m \u001b[0mself\u001b[0m\u001b[0;34m.\u001b[0m\u001b[0m_rb_group\u001b[0m\u001b[0;34m.\u001b[0m\u001b[0mcompose\u001b[0m\u001b[0;34m(\u001b[0m\u001b[0mcurrent_element\u001b[0m\u001b[0;34m,\u001b[0m \u001b[0melement\u001b[0m\u001b[0;34m[\u001b[0m\u001b[0;34m'group_element'\u001b[0m\u001b[0;34m]\u001b[0m\u001b[0;34m)\u001b[0m\u001b[0;34m\u001b[0m\u001b[0;34m\u001b[0m\u001b[0m\n\u001b[0m\u001b[1;32m    190\u001b[0m                 circ += self.replace_q_indices(\n\u001b[1;32m    191\u001b[0m                     \u001b[0melement\u001b[0m\u001b[0;34m[\u001b[0m\u001b[0;34m'circuit_element'\u001b[0m\u001b[0;34m]\u001b[0m\u001b[0;34m,\u001b[0m\u001b[0;34m\u001b[0m\u001b[0;34m\u001b[0m\u001b[0m\n",
      "\u001b[0;32m~/miniconda3/envs/qiskit-exp-dev/lib/python3.8/site-packages/qiskit_experiments/randomized_benchmarking/rb_groups.py\u001b[0m in \u001b[0;36mcompose\u001b[0;34m(elem, other)\u001b[0m\n\u001b[1;32m     78\u001b[0m     \u001b[0;32mdef\u001b[0m \u001b[0mcompose\u001b[0m\u001b[0;34m(\u001b[0m\u001b[0melem\u001b[0m\u001b[0;34m,\u001b[0m \u001b[0mother\u001b[0m\u001b[0;34m)\u001b[0m\u001b[0;34m:\u001b[0m\u001b[0;34m\u001b[0m\u001b[0;34m\u001b[0m\u001b[0m\n\u001b[1;32m     79\u001b[0m         \u001b[0;34m\"\"\"Compose two group elements: orig and other\"\"\"\u001b[0m\u001b[0;34m\u001b[0m\u001b[0;34m\u001b[0m\u001b[0m\n\u001b[0;32m---> 80\u001b[0;31m         \u001b[0;32mreturn\u001b[0m \u001b[0melem\u001b[0m\u001b[0;34m.\u001b[0m\u001b[0mcompose\u001b[0m\u001b[0;34m(\u001b[0m\u001b[0mother\u001b[0m\u001b[0;34m)\u001b[0m\u001b[0;34m\u001b[0m\u001b[0;34m\u001b[0m\u001b[0m\n\u001b[0m\u001b[1;32m     81\u001b[0m \u001b[0;34m\u001b[0m\u001b[0m\n\u001b[1;32m     82\u001b[0m     \u001b[0;34m@\u001b[0m\u001b[0mstaticmethod\u001b[0m\u001b[0;34m\u001b[0m\u001b[0;34m\u001b[0m\u001b[0m\n",
      "\u001b[0;32m~/miniconda3/envs/qiskit-exp-dev/lib/python3.8/site-packages/qiskit/quantum_info/operators/symplectic/clifford.py\u001b[0m in \u001b[0;36mcompose\u001b[0;34m(self, other, qargs, front)\u001b[0m\n\u001b[1;32m    263\u001b[0m \u001b[0;34m\u001b[0m\u001b[0m\n\u001b[1;32m    264\u001b[0m         \u001b[0;31m# Pad other with identities if composing on subsystem\u001b[0m\u001b[0;34m\u001b[0m\u001b[0;34m\u001b[0m\u001b[0;34m\u001b[0m\u001b[0m\n\u001b[0;32m--> 265\u001b[0;31m         \u001b[0mother\u001b[0m \u001b[0;34m=\u001b[0m \u001b[0mself\u001b[0m\u001b[0;34m.\u001b[0m\u001b[0m_pad_with_identity\u001b[0m\u001b[0;34m(\u001b[0m\u001b[0mother\u001b[0m\u001b[0;34m,\u001b[0m \u001b[0mqargs\u001b[0m\u001b[0;34m)\u001b[0m\u001b[0;34m\u001b[0m\u001b[0;34m\u001b[0m\u001b[0m\n\u001b[0m\u001b[1;32m    266\u001b[0m \u001b[0;34m\u001b[0m\u001b[0m\n\u001b[1;32m    267\u001b[0m         \u001b[0;32mif\u001b[0m \u001b[0mfront\u001b[0m\u001b[0;34m:\u001b[0m\u001b[0;34m\u001b[0m\u001b[0;34m\u001b[0m\u001b[0m\n",
      "\u001b[0;32m~/miniconda3/envs/qiskit-exp-dev/lib/python3.8/site-packages/qiskit/quantum_info/operators/symplectic/clifford.py\u001b[0m in \u001b[0;36m_pad_with_identity\u001b[0;34m(self, clifford, qargs)\u001b[0m\n\u001b[1;32m    511\u001b[0m             np.eye(2 * self.num_qubits, dtype=bool)), validate=False)\n\u001b[1;32m    512\u001b[0m \u001b[0;34m\u001b[0m\u001b[0m\n\u001b[0;32m--> 513\u001b[0;31m         \u001b[0minds\u001b[0m \u001b[0;34m=\u001b[0m \u001b[0mlist\u001b[0m\u001b[0;34m(\u001b[0m\u001b[0mqargs\u001b[0m\u001b[0;34m)\u001b[0m \u001b[0;34m+\u001b[0m \u001b[0;34m[\u001b[0m\u001b[0mself\u001b[0m\u001b[0;34m.\u001b[0m\u001b[0mnum_qubits\u001b[0m \u001b[0;34m+\u001b[0m \u001b[0mi\u001b[0m \u001b[0;32mfor\u001b[0m \u001b[0mi\u001b[0m \u001b[0;32min\u001b[0m \u001b[0mqargs\u001b[0m\u001b[0;34m]\u001b[0m\u001b[0;34m\u001b[0m\u001b[0;34m\u001b[0m\u001b[0m\n\u001b[0m\u001b[1;32m    514\u001b[0m \u001b[0;34m\u001b[0m\u001b[0m\n\u001b[1;32m    515\u001b[0m         \u001b[0;31m# Pad Pauli array\u001b[0m\u001b[0;34m\u001b[0m\u001b[0;34m\u001b[0m\u001b[0;34m\u001b[0m\u001b[0m\n",
      "\u001b[0;32m~/miniconda3/envs/qiskit-exp-dev/lib/python3.8/site-packages/qiskit/quantum_info/operators/symplectic/clifford.py\u001b[0m in \u001b[0;36m<listcomp>\u001b[0;34m(.0)\u001b[0m\n\u001b[1;32m    511\u001b[0m             np.eye(2 * self.num_qubits, dtype=bool)), validate=False)\n\u001b[1;32m    512\u001b[0m \u001b[0;34m\u001b[0m\u001b[0m\n\u001b[0;32m--> 513\u001b[0;31m         \u001b[0minds\u001b[0m \u001b[0;34m=\u001b[0m \u001b[0mlist\u001b[0m\u001b[0;34m(\u001b[0m\u001b[0mqargs\u001b[0m\u001b[0;34m)\u001b[0m \u001b[0;34m+\u001b[0m \u001b[0;34m[\u001b[0m\u001b[0mself\u001b[0m\u001b[0;34m.\u001b[0m\u001b[0mnum_qubits\u001b[0m \u001b[0;34m+\u001b[0m \u001b[0mi\u001b[0m \u001b[0;32mfor\u001b[0m \u001b[0mi\u001b[0m \u001b[0;32min\u001b[0m \u001b[0mqargs\u001b[0m\u001b[0;34m]\u001b[0m\u001b[0;34m\u001b[0m\u001b[0;34m\u001b[0m\u001b[0m\n\u001b[0m\u001b[1;32m    514\u001b[0m \u001b[0;34m\u001b[0m\u001b[0m\n\u001b[1;32m    515\u001b[0m         \u001b[0;31m# Pad Pauli array\u001b[0m\u001b[0;34m\u001b[0m\u001b[0;34m\u001b[0m\u001b[0;34m\u001b[0m\u001b[0m\n",
      "\u001b[0;31mTypeError\u001b[0m: unsupported operand type(s) for +: 'int' and 'XGate'"
     ]
    }
   ],
   "source": [
    "from qiskit.circuit.library import XGate\n",
    "exp1 = InterleavedRBExperiment(XGate(), nseeds=5, qubits=[1], lengths=[x*3 for x in nCliffs])\n",
    "\n",
    "c = QuantumCircuit(2)\n",
    "c.h(0)\n",
    "c.cx(0,1)\n",
    "exp02 = InterleavedRBExperiment(c, nseeds=5, qubits=[0,2], lengths=nCliffs)\n",
    "\n",
    "backend = qiskit.Aer.get_backend('qasm_simulator')\n",
    "shots = 200\n",
    "\n",
    "noise_model = NoiseModel()\n",
    "p1Q = 0.002\n",
    "p2Q = 0.01\n",
    "\n",
    "noise_model.add_all_qubit_quantum_error(depolarizing_error(p1Q, 1), 'x')\n",
    "noise_model.add_all_qubit_quantum_error(depolarizing_error(p1Q, 1), 'sx')\n",
    "noise_model.add_all_qubit_quantum_error(depolarizing_error(p2Q, 2), 'cx')\n",
    "interleaved_rb_experiment_data_1 = exp1.run(backend, noise_model=noise_model, shots=shots)\n",
    "interleaved_rb_experiment_data_02 = exp02.run(backend, noise_model=noise_model, shots=shots)\n",
    "interleaved_rb_result_1 = interleaved_rb_experiment_data_1.analysis_result(0)\n",
    "interleaved_rb_result_02 = interleaved_rb_experiment_data_02.analysis_result(0)"
   ]
  },
  {
   "cell_type": "code",
   "execution_count": null,
   "metadata": {},
   "outputs": [],
   "source": [
    "plt.figure(figsize=(15, 6))\n",
    "results = [interleaved_rb_result_02, interleaved_rb_result_1]\n",
    "for i in range(2):\n",
    "    ax = plt.subplot(1, 2, i+1)\n",
    "    results[i].plot(ax=ax, add_label=True, show_plt=False)\n",
    "    # Add title and label\n",
    "    ax.set_title('%d Qubit interleaved RB'%(results[i]['num_qubits']), fontsize=18)\n",
    "    \n",
    "plt.show()"
   ]
  },
  {
   "cell_type": "markdown",
   "metadata": {},
   "source": [
    "## CNOT-Dihedral group"
   ]
  },
  {
   "cell_type": "code",
   "execution_count": null,
   "metadata": {},
   "outputs": [],
   "source": [
    "exp02 = RBExperiment(nseeds=5, qubits=[0,2], lengths=nCliffs, group_gates='CNOTDihedral')\n",
    "exp1 = RBExperiment(nseeds=5, qubits=[1], lengths=[x*3 for x in nCliffs], group_gates='CNOTDihedral')\n",
    "backend = qiskit.Aer.get_backend('qasm_simulator')\n",
    "shots = 200\n",
    "\n",
    "rb_experiment_data_02 = exp02.run(backend, noise_model=noise_model, shots=shots)\n",
    "rb_experiment_data_1 = exp1.run(backend, noise_model=noise_model, shots=shots)\n",
    "\n",
    "rb_result_02 = rb_experiment_data_02.analysis_result(0)\n",
    "rb_result_1 = rb_experiment_data_1.analysis_result(0)\n",
    "\n",
    "results = [rb_result_02, rb_result_1]"
   ]
  },
  {
   "cell_type": "code",
   "execution_count": null,
   "metadata": {},
   "outputs": [],
   "source": [
    "plt.figure(figsize=(15, 6))\n",
    "\n",
    "for i in range(2):\n",
    "    ax = plt.subplot(1, 2, i+1)\n",
    "\n",
    "    # Plot the essence by calling RBResult.plot\n",
    "    results[i].plot(ax=ax, add_label=True, show_plt=False)\n",
    "\n",
    "    # Add title and label\n",
    "    ax.set_title('%d Qubit RB'%(results[i]['num_qubits']), fontsize=18)\n",
    "\n",
    "plt.show()"
   ]
  },
  {
   "cell_type": "markdown",
   "metadata": {},
   "source": [
    "# Interleaved CNOT-dihedral"
   ]
  },
  {
   "cell_type": "code",
   "execution_count": null,
   "metadata": {},
   "outputs": [],
   "source": [
    "c = QuantumCircuit(2)\n",
    "c.x(0)\n",
    "c.cx(0,1)\n",
    "exp1 = InterleavedRBExperiment(XGate(), nseeds=5, qubits=[1], lengths=[x*3 for x in nCliffs], group_gates='CNOTDihedral')\n",
    "exp02 = InterleavedRBExperiment(c, nseeds=5, qubits=[0,2], lengths=nCliffs, group_gates='CNOTDihedral')\n",
    "\n",
    "backend = qiskit.Aer.get_backend('qasm_simulator')\n",
    "shots = 200\n",
    "\n",
    "noise_model = NoiseModel()\n",
    "p1Q = 0.002\n",
    "p2Q = 0.01\n",
    "\n",
    "noise_model.add_all_qubit_quantum_error(depolarizing_error(p1Q, 1), 'x')\n",
    "noise_model.add_all_qubit_quantum_error(depolarizing_error(p1Q, 1), 'sx')\n",
    "noise_model.add_all_qubit_quantum_error(depolarizing_error(p2Q, 2), 'cx')\n",
    "interleaved_rb_result_1 = exp1.run(backend, noise_model=noise_model, shots=shots)\n",
    "interleaved_rb_result_02 = exp02.run(backend, noise_model=noise_model, shots=shots)"
   ]
  },
  {
   "cell_type": "code",
   "execution_count": null,
   "metadata": {},
   "outputs": [],
   "source": [
    "plt.figure(figsize=(15, 6))\n",
    "results = [interleaved_rb_result_02, interleaved_rb_result_1]\n",
    "for i in range(2):\n",
    "    ax = plt.subplot(1, 2, i+1)\n",
    "    results[i].plot(ax=ax, add_label=True, show_plt=False)\n",
    "    # Add title and label\n",
    "    ax.set_title('%d Qubit interleaved RB'%(results[i].num_qubits()), fontsize=18)\n",
    "    \n",
    "plt.show()"
   ]
  },
  {
   "cell_type": "markdown",
   "metadata": {},
   "source": [
    "# Purity RB"
   ]
  },
  {
   "cell_type": "code",
   "execution_count": null,
   "metadata": {},
   "outputs": [],
   "source": [
    "noise_model = NoiseModel()\n",
    "p1Q = 0.002\n",
    "p2Q = 0.01\n",
    "noise_model.add_all_qubit_quantum_error(depolarizing_error(p2Q, 2), 'cx')\n",
    "noise_model.add_all_qubit_quantum_error(depolarizing_error(p1Q, 1), 'x')\n",
    "noise_model.add_all_qubit_quantum_error(depolarizing_error(p1Q, 1), 'sx')\n",
    "\n",
    "exp1 = PurityRBExperiment(nseeds=5, qubits=[1], lengths=[x*3 for x in nCliffs])\n",
    "exp02 = PurityRBExperiment(nseeds=5, qubits=[0,2], lengths=nCliffs)\n",
    "\n",
    "exp1_result = exp1.run(backend, noise_model=noise_model, shots=shots)\n",
    "exp02_result = exp02.run(backend, noise_model=noise_model, shots=shots)"
   ]
  },
  {
   "cell_type": "code",
   "execution_count": null,
   "metadata": {},
   "outputs": [],
   "source": [
    "plt.figure(figsize=(15, 6))\n",
    "results = [exp1_result, exp02_result]\n",
    "for i in range(2):\n",
    "    ax = plt.subplot(1, 2, i+1)\n",
    "    results[i].plot(ax=ax, add_label=True, show_plt=False)\n",
    "    # Add title and label\n",
    "    ax.set_title('%d Qubit purity RB'%(results[i].num_qubits()), fontsize=18)\n",
    "    \n",
    "plt.show()"
   ]
  },
  {
   "cell_type": "markdown",
   "metadata": {},
   "source": [
    "## Coherent noise model"
   ]
  },
  {
   "cell_type": "code",
   "execution_count": null,
   "metadata": {},
   "outputs": [],
   "source": [
    "err_unitary = np.zeros([2, 2], dtype=complex)\n",
    "angle_err = 0.1\n",
    "for i in range(2):\n",
    "    err_unitary[i, i] = np.cos(angle_err)\n",
    "    err_unitary[i, (i+1) % 2] = np.sin(angle_err)\n",
    "err_unitary[0, 1] *= -1.0\n",
    "\n",
    "error = coherent_unitary_error(err_unitary)\n",
    "noise_model = NoiseModel()\n",
    "noise_model.add_all_qubit_quantum_error(error, 'u3')"
   ]
  },
  {
   "cell_type": "code",
   "execution_count": null,
   "metadata": {},
   "outputs": [],
   "source": [
    "exp01 = PurityRBExperiment(nseeds=5, qubits=[0,1], lengths=nCliffs)\n",
    "exp01_result = exp01.run(backend, noise_model=noise_model, shots=shots)"
   ]
  },
  {
   "cell_type": "code",
   "execution_count": null,
   "metadata": {},
   "outputs": [],
   "source": [
    "plt.figure(figsize=(8, 6))\n",
    "ax = plt.subplot(1, 1, 1)\n",
    "\n",
    "# Plot the essence by calling plot_rb_data\n",
    "exp01_result.plot(ax=ax, add_label=True, show_plt=False)\n",
    "    \n",
    "# Add title and label\n",
    "ax.set_title('2 Qubit Purity RB', fontsize=18)\n",
    "\n",
    "plt.show()"
   ]
  },
  {
   "cell_type": "code",
   "execution_count": null,
   "metadata": {
    "ExecuteTime": {
     "end_time": "2019-12-10T21:51:14.059488Z",
     "start_time": "2019-12-10T21:51:13.949841Z"
    }
   },
   "outputs": [],
   "source": [
    "import qiskit.tools.jupyter\n",
    "%qiskit_version_table\n",
    "%qiskit_copyright"
   ]
  },
  {
   "cell_type": "code",
   "execution_count": null,
   "metadata": {},
   "outputs": [],
   "source": []
  }
 ],
 "metadata": {
  "celltoolbar": "Tags",
  "kernelspec": {
   "display_name": "qiskit-exp",
   "language": "python",
   "name": "qiskit-exp"
  },
  "language_info": {
   "codemirror_mode": {
    "name": "ipython",
    "version": 3
   },
   "file_extension": ".py",
   "mimetype": "text/x-python",
   "name": "python",
   "nbconvert_exporter": "python",
   "pygments_lexer": "ipython3",
   "version": "3.8.8"
  },
  "varInspector": {
   "cols": {
    "lenName": 16,
    "lenType": 16,
    "lenVar": 40
   },
   "kernels_config": {
    "python": {
     "delete_cmd_postfix": "",
     "delete_cmd_prefix": "del ",
     "library": "var_list.py",
     "varRefreshCmd": "print(var_dic_list())"
    },
    "r": {
     "delete_cmd_postfix": ") ",
     "delete_cmd_prefix": "rm(",
     "library": "var_list.r",
     "varRefreshCmd": "cat(var_dic_list()) "
    }
   },
   "types_to_exclude": [
    "module",
    "function",
    "builtin_function_or_method",
    "instance",
    "_Feature"
   ],
   "window_display": false
  }
 },
 "nbformat": 4,
 "nbformat_minor": 2
}
