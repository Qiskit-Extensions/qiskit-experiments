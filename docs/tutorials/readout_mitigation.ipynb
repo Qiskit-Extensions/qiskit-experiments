{
 "cells": [
  {
   "cell_type": "markdown",
   "metadata": {},
   "source": [
    "# Readout Mitigation\n",
    "\n"
   ]
  },
  {
   "cell_type": "code",
   "execution_count": 1,
   "metadata": {},
   "outputs": [],
   "source": [
    "import numpy as np\n",
    "import matplotlib.pyplot as plt\n",
    "from qiskit import QuantumCircuit\n",
    "from qiskit.visualization import plot_histogram\n",
    "from qiskit_experiments.library import MeasurementMitigation\n",
    "# For simulation\n",
    "from qiskit.providers.aer import AerSimulator\n",
    "from qiskit.test.mock import FakeParis\n",
    "\n",
    "from qiskit.result.mitigation.utils import (\n",
    "    expval_with_stddev,\n",
    "    str2diag,\n",
    "    counts_probability_vector\n",
    ")\n",
    "\n",
    "backend = AerSimulator.from_backend(FakeParis())"
   ]
  },
  {
   "cell_type": "code",
   "execution_count": 2,
   "metadata": {},
   "outputs": [],
   "source": [
    "SHOTS = 1024\n",
    "qubits = [0,1,2,3]\n",
    "num_qubits = len(qubits)"
   ]
  },
  {
   "cell_type": "code",
   "execution_count": 3,
   "metadata": {},
   "outputs": [
    {
     "name": "stdout",
     "output_type": "stream",
     "text": [
      "         ░ ┌─┐         \n",
      "   q_0: ─░─┤M├─────────\n",
      "         ░ └╥┘┌─┐      \n",
      "   q_1: ─░──╫─┤M├──────\n",
      "         ░  ║ └╥┘┌─┐   \n",
      "   q_2: ─░──╫──╫─┤M├───\n",
      "         ░  ║  ║ └╥┘┌─┐\n",
      "   q_3: ─░──╫──╫──╫─┤M├\n",
      "         ░  ║  ║  ║ └╥┘\n",
      "meas: 4/════╩══╩══╩══╩═\n",
      "            0  1  2  3 \n",
      "        ┌───┐ ░ ┌─┐         \n",
      "   q_0: ┤ X ├─░─┤M├─────────\n",
      "        ├───┤ ░ └╥┘┌─┐      \n",
      "   q_1: ┤ X ├─░──╫─┤M├──────\n",
      "        ├───┤ ░  ║ └╥┘┌─┐   \n",
      "   q_2: ┤ X ├─░──╫──╫─┤M├───\n",
      "        ├───┤ ░  ║  ║ └╥┘┌─┐\n",
      "   q_3: ┤ X ├─░──╫──╫──╫─┤M├\n",
      "        └───┘ ░  ║  ║  ║ └╥┘\n",
      "meas: 4/═════════╩══╩══╩══╩═\n",
      "                 0  1  2  3 \n"
     ]
    }
   ],
   "source": [
    "exp = MeasurementMitigation(qubits)\n",
    "for c in exp.circuits():\n",
    "    print(c)"
   ]
  },
  {
   "cell_type": "code",
   "execution_count": 4,
   "metadata": {},
   "outputs": [],
   "source": [
    "result = exp.run(backend).block_for_results()\n",
    "mitigator = result.analysis_results(0).value"
   ]
  },
  {
   "cell_type": "code",
   "execution_count": 5,
   "metadata": {},
   "outputs": [
    {
     "data": {
      "image/png": "[encoded data removed]",
      "text/plain": [
       "<Figure size 432x288 with 2 Axes>"
      ]
     },
     "execution_count": 5,
     "metadata": {},
     "output_type": "execute_result"
    }
   ],
   "source": [
    "result.figure(0)"
   ]
  },
  {
   "cell_type": "markdown",
   "metadata": {},
   "source": [
    "## Mitigation matrices"
   ]
  },
  {
   "cell_type": "code",
   "execution_count": 6,
   "metadata": {},
   "outputs": [
    {
     "name": "stdout",
     "output_type": "stream",
     "text": [
      "[[ 1.01127049 -0.03790984]\n",
      " [-0.01127049  1.03790984]]\n",
      "\n",
      "[[ 1.00713558 -0.03669725]\n",
      " [-0.00713558  1.03669725]]\n",
      "\n",
      "[[ 1.01014199 -0.02839757]\n",
      " [-0.01014199  1.02839757]]\n",
      "\n",
      "[[ 1.01019368 -0.03363914]\n",
      " [-0.01019368  1.03363914]]\n",
      "\n"
     ]
    }
   ],
   "source": [
    "for m in mitigator._mitigation_mats:\n",
    "    print(m)\n",
    "    print()"
   ]
  },
  {
   "cell_type": "code",
   "execution_count": 7,
   "metadata": {},
   "outputs": [
    {
     "data": {
      "text/plain": [
       "16"
      ]
     },
     "execution_count": 7,
     "metadata": {},
     "output_type": "execute_result"
    }
   ],
   "source": [
    "A = mitigator.assignment_matrix()\n",
    "len(A)"
   ]
  },
  {
   "cell_type": "markdown",
   "metadata": {},
   "source": [
    "# Mitigation Example"
   ]
  },
  {
   "cell_type": "code",
   "execution_count": 8,
   "metadata": {},
   "outputs": [],
   "source": [
    "qc = QuantumCircuit(num_qubits)\n",
    "qc.h(0)\n",
    "for i in range(1, num_qubits):\n",
    "    qc.cx(i - 1, i)\n",
    "qc.measure_all()"
   ]
  },
  {
   "cell_type": "code",
   "execution_count": 9,
   "metadata": {},
   "outputs": [],
   "source": [
    "counts = backend.run(qc, shots=SHOTS, seed_simulator=42, method=\"density_matrix\").result().get_counts()\n",
    "unmitigated_probs = {label: count / SHOTS for label, count in counts.items()}"
   ]
  },
  {
   "cell_type": "code",
   "execution_count": 10,
   "metadata": {},
   "outputs": [],
   "source": [
    "mitigated_quasi_probs = mitigator.quasi_probabilities(counts)\n",
    "mitigated_stddev = mitigated_quasi_probs._stddev_upper_bound\n",
    "mitigated_probs = (mitigated_quasi_probs.nearest_probability_distribution().binary_probabilities())"
   ]
  },
  {
   "cell_type": "markdown",
   "metadata": {},
   "source": [
    "### Probabilities"
   ]
  },
  {
   "cell_type": "code",
   "execution_count": 11,
   "metadata": {},
   "outputs": [
    {
     "data": {
      "image/png": "[encoded data removed]",
      "text/plain": [
       "<Figure size 504x360 with 1 Axes>"
      ]
     },
     "execution_count": 11,
     "metadata": {},
     "output_type": "execute_result"
    }
   ],
   "source": [
    "legend = ['Mitigated Probabilities', 'Unmitigated Probabilities']\n",
    "plot_histogram([mitigated_probs, unmitigated_probs], legend=legend, sort=\"value_desc\")"
   ]
  },
  {
   "cell_type": "markdown",
   "metadata": {},
   "source": [
    "## Expectation value"
   ]
  },
  {
   "cell_type": "code",
   "execution_count": 12,
   "metadata": {},
   "outputs": [],
   "source": [
    "diagonal_labels = [\"ZZZZ\", \"ZIZI\", \"IZII\", \"1ZZ0\"]\n",
    "ideal_expectation = []\n",
    "diagonals = [str2diag(d) for d in diagonal_labels]\n",
    "qubit_index = {i: i for i in range(num_qubits)}\n",
    "unmitigated_probs_vector, _ = counts_probability_vector(unmitigated_probs, qubit_index=qubit_index)\n",
    "unmitigated_expectation = [expval_with_stddev(d, unmitigated_probs_vector, SHOTS) for d in diagonals]\n",
    "mitigated_expectation = [mitigator.expectation_value(counts, d) for d in diagonals]"
   ]
  },
  {
   "cell_type": "code",
   "execution_count": 13,
   "metadata": {},
   "outputs": [
    {
     "data": {
      "text/plain": [
       "<matplotlib.legend.Legend at 0x231d18d6490>"
      ]
     },
     "execution_count": 13,
     "metadata": {},
     "output_type": "execute_result"
    },
    {
     "data": {
      "image/png": "[encoded data removed]",
      "text/plain": [
       "<Figure size 432x288 with 1 Axes>"
      ]
     },
     "metadata": {
      "needs_background": "light"
     },
     "output_type": "display_data"
    }
   ],
   "source": [
    "mitigated_expectation_values, mitigated_stddev = zip(*mitigated_expectation)\n",
    "unmitigated_expectation_values, unmitigated_stddev = zip(*unmitigated_expectation)\n",
    "legend = ['Mitigated Expectation', 'Unmitigated Expectation']\n",
    "fig, ax = plt.subplots()\n",
    "X = np.arange(4)\n",
    "ax.bar(X + 0.00, mitigated_expectation_values, yerr=mitigated_stddev, color='b', width = 0.25, label=\"Mitigated Expectation\")\n",
    "ax.bar(X + 0.25, unmitigated_expectation_values, yerr=unmitigated_stddev, color='g', width = 0.25, label=\"Unmitigated Expectation\")\n",
    "ax.set_xticks([0.125 + i for i in range(len(diagonals))])\n",
    "ax.set_xticklabels(diagonal_labels)\n",
    "ax.legend()"
   ]
  },
  {
   "cell_type": "code",
   "execution_count": 14,
   "metadata": {},
   "outputs": [
    {
     "name": "stdout",
     "output_type": "stream",
     "text": [
      "         ░ ┌─┐   \n",
      "   q_0: ─░─┤M├───\n",
      "         ░ └╥┘┌─┐\n",
      "   q_1: ─░──╫─┤M├\n",
      "         ░  ║ └╥┘\n",
      "meas: 2/════╩══╩═\n",
      "            0  1 \n",
      "        ┌───┐ ░ ┌─┐   \n",
      "   q_0: ┤ X ├─░─┤M├───\n",
      "        └───┘ ░ └╥┘┌─┐\n",
      "   q_1: ──────░──╫─┤M├\n",
      "              ░  ║ └╥┘\n",
      "meas: 2/═════════╩══╩═\n",
      "                 0  1 \n",
      "              ░ ┌─┐   \n",
      "   q_0: ──────░─┤M├───\n",
      "        ┌───┐ ░ └╥┘┌─┐\n",
      "   q_1: ┤ X ├─░──╫─┤M├\n",
      "        └───┘ ░  ║ └╥┘\n",
      "meas: 2/═════════╩══╩═\n",
      "                 0  1 \n",
      "        ┌───┐ ░ ┌─┐   \n",
      "   q_0: ┤ X ├─░─┤M├───\n",
      "        ├───┤ ░ └╥┘┌─┐\n",
      "   q_1: ┤ X ├─░──╫─┤M├\n",
      "        └───┘ ░  ║ └╥┘\n",
      "meas: 2/═════════╩══╩═\n",
      "                 0  1 \n"
     ]
    }
   ],
   "source": [
    "qubits = [0,3]\n",
    "num_qubits = len(qubits)\n",
    "exp = MeasurementMitigation(qubits, method=\"correlated\")\n",
    "for c in exp.circuits():\n",
    "    print(c)"
   ]
  },
  {
   "cell_type": "code",
   "execution_count": 15,
   "metadata": {},
   "outputs": [
    {
     "data": {
      "text/html": [
       "<div style='width: 100%; background-color:#d5d9e0;padding-left: 10px; padding-bottom: 10px; padding-right: 10px; padding-top: 5px'><h3>This code is a part of Qiskit</h3><p>&copy; Copyright IBM 2017, 2022.</p><p>This code is licensed under the Apache License, Version 2.0. You may<br>obtain a copy of this license in the LICENSE.txt file in the root directory<br> of this source tree or at http://www.apache.org/licenses/LICENSE-2.0.<p>Any modifications or derivative works of this code must retain this<br>copyright notice, and modified files need to carry a notice indicating<br>that they have been altered from the originals.</p></div>"
      ],
      "text/plain": [
       "<IPython.core.display.HTML object>"
      ]
     },
     "metadata": {},
     "output_type": "display_data"
    }
   ],
   "source": [
    "import qiskit.tools.jupyter\n",
    "%qiskit_copyright"
   ]
  }
 ],
 "metadata": {
  "interpreter": {
   "hash": "42e50baa22dbe56fc7f4f6bf32ac20952839a6a23dcf2ef84eded7e8cac03444"
  },
  "kernelspec": {
   "display_name": "qiskit38",
   "language": "python",
   "name": "qiskit38"
  },
  "language_info": {
   "codemirror_mode": {
    "name": "ipython",
    "version": 3
   },
   "file_extension": ".py",
   "mimetype": "text/x-python",
   "name": "python",
   "nbconvert_exporter": "python",
   "pygments_lexer": "ipython3",
   "version": "3.8.12"
  }
 },
 "nbformat": 4,
 "nbformat_minor": 4
}
