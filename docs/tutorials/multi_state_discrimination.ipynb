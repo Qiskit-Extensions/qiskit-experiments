{
 "cells": [
  {
   "cell_type": "markdown",
   "id": "661bfb2e",
   "metadata": {},
   "source": [
    "# Multi State Discrimination\n",
    "\n",
    "In this tutorial we show how to set up an experiment to discriminate between the first $n$ energy states. The experiment will create $n$ circuits that prepare, respectively, the states $|0\\rangle, \\cdots, |n-1\\rangle$. The measured data is then used to train a discriminator.\n",
    "\n",
    "Here we will take $n=3$ and thus discriminate between $|0\\rangle, |1\\rangle$ and $|2\\rangle$.\n",
    "\n",
    "## Calibrate schedules\n",
    "\n",
    "The first step is to calibrate the pulse schedules that take the energy level $|i\\rangle$ to $|i+1\\rangle$. These schedules will be later used to build the $n$ circuits for the experiment."
   ]
  },
  {
   "cell_type": "code",
   "execution_count": 1,
   "id": "0da985c6",
   "metadata": {},
   "outputs": [],
   "source": [
    "from qiskit import pulse\n",
    "\n",
    "from qiskit_experiments.calibration_management import Calibrations\n",
    "from qiskit_experiments.test.pulse_backend import SingleTransmonTestBackend"
   ]
  },
  {
   "cell_type": "code",
   "execution_count": 2,
   "id": "8771cded",
   "metadata": {},
   "outputs": [],
   "source": [
    "backend = SingleTransmonTestBackend(noise=False)"
   ]
  },
  {
   "cell_type": "code",
   "execution_count": 3,
   "id": "85754420",
   "metadata": {},
   "outputs": [],
   "source": [
    "qubit = 0"
   ]
  },
  {
   "cell_type": "code",
   "execution_count": 4,
   "id": "2cc5c214",
   "metadata": {},
   "outputs": [],
   "source": [
    "# Calibrate schedule that takes the state |1> into |2>\n",
    "cals = Calibrations.from_backend(backend)\n",
    "\n",
    "anharm = backend.anharmonicity\n",
    "\n",
    "d0 = pulse.DriveChannel(qubit)\n",
    "\n",
    "pulse_x = backend.defaults().instruction_schedule_map.get('x', (qubit,)).instructions[0][1].pulse\n",
    "amp_x = pulse_x.amp\n",
    "dur_x = pulse_x.duration\n",
    "sigma_x = pulse_x.sigma\n",
    "beta_x = pulse_x.beta\n",
    "with pulse.build(name='x12') as x12:\n",
    "    pulse.shift_frequency(anharm, d0)\n",
    "    pulse.play(pulse.Gaussian(dur_x, amp_x * backend.rabi_rate_12, sigma_x, beta_x), d0)\n",
    "    pulse.shift_frequency(-anharm, d0)\n",
    "    \n",
    "cals.add_schedule(x12, qubits=qubit, num_qubits=1)"
   ]
  },
  {
   "cell_type": "markdown",
   "id": "c3b9cbc0",
   "metadata": {},
   "source": [
    "## Discriminator experiment\n",
    "\n",
    "Now that the pulse schedules are calibrated we can build the multi state discriminator experiment. The calibrated schedules are used as an initialisation argument for the experiment."
   ]
  },
  {
   "cell_type": "code",
   "execution_count": 5,
   "id": "e0fa19ae",
   "metadata": {},
   "outputs": [],
   "source": [
    "from qiskit_experiments.library import MultiStateDiscrimination\n",
    "exp_disc = MultiStateDiscrimination(qubit, n_states=3, backend=backend, schedules={'x12':cals.get_schedule('x12', qubit)})"
   ]
  },
  {
   "cell_type": "markdown",
   "id": "2996bd29",
   "metadata": {},
   "source": [
    "The circuits preparing the different energy levels are of the form:"
   ]
  },
  {
   "cell_type": "code",
   "execution_count": 6,
   "id": "8d921924",
   "metadata": {},
   "outputs": [
    {
     "data": {
      "text/html": [
       "<pre style=\"word-wrap: normal;white-space: pre;background: #fff0;line-height: 1.1;font-family: &quot;Courier New&quot;,Courier,monospace\">       ░ ┌─┐\n",
       "   q: ─░─┤M├\n",
       "       ░ └╥┘\n",
       "meas: ════╩═\n",
       "            </pre>"
      ],
      "text/plain": [
       "       ░ ┌─┐\n",
       "   q: ─░─┤M├\n",
       "       ░ └╥┘\n",
       "meas: ════╩═\n",
       "            "
      ]
     },
     "execution_count": 6,
     "metadata": {},
     "output_type": "execute_result"
    }
   ],
   "source": [
    "# circuit preparing |0>\n",
    "exp_disc.circuits()[0].draw()"
   ]
  },
  {
   "cell_type": "code",
   "execution_count": 7,
   "id": "d01e62f7",
   "metadata": {},
   "outputs": [
    {
     "data": {
      "text/html": [
       "<pre style=\"word-wrap: normal;white-space: pre;background: #fff0;line-height: 1.1;font-family: &quot;Courier New&quot;,Courier,monospace\">      ┌───┐ ░ ┌─┐\n",
       "   q: ┤ X ├─░─┤M├\n",
       "      └───┘ ░ └╥┘\n",
       "meas: ═════════╩═\n",
       "                 </pre>"
      ],
      "text/plain": [
       "      ┌───┐ ░ ┌─┐\n",
       "   q: ┤ X ├─░─┤M├\n",
       "      └───┘ ░ └╥┘\n",
       "meas: ═════════╩═\n",
       "                 "
      ]
     },
     "execution_count": 7,
     "metadata": {},
     "output_type": "execute_result"
    }
   ],
   "source": [
    "# circuit preparing |1>\n",
    "exp_disc.circuits()[1].draw()"
   ]
  },
  {
   "cell_type": "code",
   "execution_count": 8,
   "id": "2d8d1964",
   "metadata": {},
   "outputs": [
    {
     "data": {
      "text/html": [
       "<pre style=\"word-wrap: normal;white-space: pre;background: #fff0;line-height: 1.1;font-family: &quot;Courier New&quot;,Courier,monospace\">      ┌───┐┌─────┐ ░ ┌─┐\n",
       "   q: ┤ X ├┤ x12 ├─░─┤M├\n",
       "      └───┘└─────┘ ░ └╥┘\n",
       "meas: ════════════════╩═\n",
       "                        </pre>"
      ],
      "text/plain": [
       "      ┌───┐┌─────┐ ░ ┌─┐\n",
       "   q: ┤ X ├┤ x12 ├─░─┤M├\n",
       "      └───┘└─────┘ ░ └╥┘\n",
       "meas: ════════════════╩═\n",
       "                        "
      ]
     },
     "execution_count": 8,
     "metadata": {},
     "output_type": "execute_result"
    }
   ],
   "source": [
    "# circuit preparing |2>\n",
    "exp_disc.circuits()[2].draw()"
   ]
  },
  {
   "cell_type": "markdown",
   "id": "3290a6e0",
   "metadata": {},
   "source": [
    "Next, we run the discrimination experiment:"
   ]
  },
  {
   "cell_type": "code",
   "execution_count": 9,
   "id": "4795ea07",
   "metadata": {},
   "outputs": [],
   "source": [
    "exp_data_disc = exp_disc.run()"
   ]
  },
  {
   "cell_type": "markdown",
   "id": "15de0fe2",
   "metadata": {},
   "source": [
    "The analysis then returns the configuration of the trained discriminator and the fidelity of the discrimination."
   ]
  },
  {
   "cell_type": "code",
   "execution_count": 10,
   "id": "31046fbd",
   "metadata": {},
   "outputs": [
    {
     "data": {
      "image/png": "[encoded data removed]",
      "text/plain": [
       "<qiskit_experiments.framework.experiment_data.FigureData at 0x2a41d98acd0>"
      ]
     },
     "execution_count": 10,
     "metadata": {},
     "output_type": "execute_result"
    }
   ],
   "source": [
    "exp_data_disc.figure(0)"
   ]
  },
  {
   "cell_type": "code",
   "execution_count": 11,
   "id": "c4d5d4d7",
   "metadata": {},
   "outputs": [
    {
     "data": {
      "text/plain": [
       "{'params': {'priors': None,\n",
       "  'reg_param': 0.0,\n",
       "  'store_covariance': False,\n",
       "  'tol': 0.0001},\n",
       " 'attributes': {'coef_': None,\n",
       "  'intercept_': None,\n",
       "  'covariance_': None,\n",
       "  'explained_variance_ratio_': None,\n",
       "  'means_': array([[ 9.97015896e+15,  3.24225274e+13],\n",
       "         [-4.67883021e+15,  8.50582453e+15],\n",
       "         [-4.62340758e+15, -7.38806446e+15]]),\n",
       "  'priors_': array([0.33333333, 0.33333333, 0.33333333]),\n",
       "  'scalings_': [array([4.05713119e+30, 3.98763644e+30]),\n",
       "   array([9.5786276e+30, 4.0244660e+30]),\n",
       "   array([2.34770651e+31, 8.81597532e+30])],\n",
       "  'xbar_': None,\n",
       "  'classes_': array([0, 1, 2]),\n",
       "  'n_features_in_': 2,\n",
       "  'feature_names_in_': None,\n",
       "  'rotations_': [array([[ 0.08926092, -0.99600828],\n",
       "          [ 0.99600828,  0.08926092]]),\n",
       "   array([[-0.87581508,  0.48264681],\n",
       "          [ 0.48264681,  0.87581508]]),\n",
       "   array([[-0.20156214,  0.97947573],\n",
       "          [-0.97947573, -0.20156214]])]}}"
      ]
     },
     "execution_count": 11,
     "metadata": {},
     "output_type": "execute_result"
    }
   ],
   "source": [
    "exp_data_disc.analysis_results('discriminator_config').value"
   ]
  },
  {
   "cell_type": "code",
   "execution_count": 12,
   "id": "6740dca6",
   "metadata": {},
   "outputs": [
    {
     "data": {
      "text/plain": [
       "0.9635"
      ]
     },
     "execution_count": 12,
     "metadata": {},
     "output_type": "execute_result"
    }
   ],
   "source": [
    "exp_data_disc.analysis_results('fidelity').value"
   ]
  }
 ],
 "metadata": {
  "kernelspec": {
   "display_name": "extrapolation",
   "language": "python",
   "name": "extrapolation"
  },
  "language_info": {
   "codemirror_mode": {
    "name": "ipython",
    "version": 3
   },
   "file_extension": ".py",
   "mimetype": "text/x-python",
   "name": "python",
   "nbconvert_exporter": "python",
   "pygments_lexer": "ipython3",
   "version": "3.9.4"
  }
 },
 "nbformat": 4,
 "nbformat_minor": 5
}
