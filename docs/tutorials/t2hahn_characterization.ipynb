{
 "cells": [
  {
   "cell_type": "markdown",
   "metadata": {},
   "source": [
    "# T<sub>2</sub> Hahn Characterization"
   ]
  },
  {
   "cell_type": "markdown",
   "metadata": {},
   "source": [
    "The purpose of the $T_2$ Hahn Echo experiment is to determine $T_2$ qubit property. \n",
    "\n",
    "In this experiment, we would like to get a more precise estimate of the qubit's decay time. $T_2$ represents the amount of time required for the transverse magnetization to fall to approximately 37% ($\\frac{1}{e}$) of its initial value.\n",
    "\n",
    "Since the qubit exposed to other noises (like $T_1$), we are using a Rx pulse for decoupling and to solve our inaccuracy for the qubit frequncy estimation."
   ]
  },
  {
   "cell_type": "code",
   "execution_count": 1,
   "metadata": {
    "scrolled": true
   },
   "outputs": [],
   "source": [
    "import qiskit\n",
    "from qiskit.utils import apply_prefix\n",
    "from qiskit_experiments.library.characterization.t2hahn import T2Hahn"
   ]
  },
  {
   "cell_type": "markdown",
   "metadata": {},
   "source": [
    "The circuit used for the experiment comprises the following:\n",
    "\n",
    "    1. Rx gate\n",
    "    2. delay\n",
    "    3. measurement\n",
    "\n",
    "The user provides as input a series of delays and the time unit for the delays, e.g., seconds, milliseconds, etc. During the delay, we expect the qubit to precess about the z-axis. Because of the echo gate ($Rx(\\pi)$) for each echo, the angle will converge after the delay gates as following $\\theta_{new} = \\theta_{old} + \\pi. By varying the extension of the delays, we get a series of decaying measurments. We can draw the graph of the resulting function, and can analytically extract the desired values."
   ]
  },
  {
   "cell_type": "code",
   "execution_count": 16,
   "metadata": {},
   "outputs": [],
   "source": [
    "# set the computation units to microseconds\n",
    "unit = \"us\"  # microseconds\n",
    "qubit = 0\n",
    "# set the desired delays\n",
    "conversion_factor = 1e-6\n",
    "delays = list(range(1, 50, 1) )\n",
    "delays = [float(_) * conversion_factor for _ in delays]"
   ]
  },
  {
   "cell_type": "code",
   "execution_count": 17,
   "metadata": {
    "scrolled": true
   },
   "outputs": [
    {
     "name": "stdout",
     "output_type": "stream",
     "text": [
      "     ┌─────────┐┌─────────────────┐┌───────┐┌─────────────────┐┌─────────┐┌─┐\n",
      "q_0: ┤ Rx(π/2) ├┤ Delay(1e-06[s]) ├┤ Rx(π) ├┤ Delay(1e-06[s]) ├┤ Rx(π/2) ├┤M├\n",
      "     └─────────┘└─────────────────┘└───────┘└─────────────────┘└─────────┘└╥┘\n",
      "c: 1/══════════════════════════════════════════════════════════════════════╩═\n",
      "                                                                           0 \n"
     ]
    }
   ],
   "source": [
    "# Create a T2Ramsey experiment. Print the first circuit as an example\n",
    "exp1 = T2Hahn(qubit, delays)\n",
    "print(exp1.circuits()[0])"
   ]
  },
  {
   "cell_type": "markdown",
   "metadata": {},
   "source": [
    "We run the experiment on a simple, simulated backend, created specifically for this experiment's tutorial."
   ]
  },
  {
   "cell_type": "code",
   "execution_count": 18,
   "metadata": {},
   "outputs": [],
   "source": [
    "from qiskit_experiments.test.t2hahn_backend import T2HahnBackend\n",
    "# FakeJob is a wrapper for the backend, to give it the form of a job\n",
    "from qiskit_experiments.test.utils import FakeJob\n",
    "\n",
    "\n",
    "estimated_t2hahn = 20\n",
    "# The behavior of the backend is determined by the following parameters\n",
    "backend = T2HahnBackend(\n",
    "    t2hahn=[20],\n",
    "    frequency=[100100],\n",
    "    initialization_error=[0.0],\n",
    "    readout0to1=[0.02],\n",
    "    readout1to0=[0.02],\n",
    "    conversion_factor=conversion_factor,\n",
    ")"
   ]
  },
  {
   "cell_type": "markdown",
   "metadata": {},
   "source": [
    "The resulting graph will have the form:\n",
    "$f(t) = a \\cdot e^{-t/T_2}+ b$\n",
    "where *t* is the delay and $T_2$ is the decay factor.\n",
    "`conversion_factor` is a scaling factor that depends on the measurement units used. It is 1E-6 here, because the unit is microseconds."
   ]
  },
  {
   "cell_type": "code",
   "execution_count": 24,
   "metadata": {
    "scrolled": false
   },
   "outputs": [
    {
     "data": {
      "image/png": "[encoded data removed]",
      "text/plain": [
       "<Figure size 576x360 with 1 Axes>"
      ]
     },
     "metadata": {},
     "output_type": "display_data"
    }
   ],
   "source": [
    "dt_factor = apply_prefix(1, unit)\n",
    "expdata1 = exp1.run(backend=backend, shots=2000)\n",
    "expdata1.block_for_results()  # Wait for job/analysis to finish.\n",
    "\n",
    "# Display the figure\n",
    "display(expdata1.figure(0))"
   ]
  },
  {
   "cell_type": "code",
   "execution_count": 26,
   "metadata": {},
   "outputs": [
    {
     "name": "stdout",
     "output_type": "stream",
     "text": [
      "DbAnalysisResultV1\n",
      "- name: @Parameters_T2HahnAnalysis\n",
      "- value: [4.80948315e-01 4.91279801e-01 2.17599437e-05] ± [4.99342220e-03 3.32804486e-03 6.35068642e-07]\n",
      "- χ²: 1.0442511540259622\n",
      "- quality: good\n",
      "- extra: <4 items>\n",
      "- device_components: ['Q0']\n",
      "- verified: False\n",
      "DbAnalysisResultV1\n",
      "- name: T2\n",
      "- value: 2.1759943722224376e-05 ± 6.350686415844018e-07 s\n",
      "- χ²: 1.0442511540259622\n",
      "- quality: good\n",
      "- device_components: ['Q0']\n",
      "- verified: False\n"
     ]
    }
   ],
   "source": [
    "# Print results\n",
    "for result in expdata1.analysis_results():\n",
    "    print(result)"
   ]
  },
  {
   "cell_type": "markdown",
   "metadata": {},
   "source": [
    "Additional fitter result data is stored in the `result.extra` field"
   ]
  },
  {
   "cell_type": "code",
   "execution_count": 28,
   "metadata": {},
   "outputs": [
    {
     "data": {
      "text/plain": [
       "{}"
      ]
     },
     "execution_count": 28,
     "metadata": {},
     "output_type": "execute_result"
    }
   ],
   "source": [
    "expdata1.analysis_results(\"T2\").extra"
   ]
  },
  {
   "cell_type": "markdown",
   "metadata": {},
   "source": [
    "### Providing initial user estimates\n",
    "The user can provide initial estimates for the parameters to help the analysis process. Because the curve is expected to decay toward $0.5$, the natural choice for parameters $A$ and $B$ is $0.5$.In this experiment, `t2hahn` is the parameter of interest. Good estimate for it is the value computed in previous experiments on this qubit or a similar values computed for other qubits."
   ]
  },
  {
   "cell_type": "code",
   "execution_count": 29,
   "metadata": {},
   "outputs": [
    {
     "name": "stdout",
     "output_type": "stream",
     "text": [
      "[1e-06, 2e-06, 3e-06, 4e-06, 4.9999999999999996e-06, 6e-06, 7e-06, 8e-06, 9e-06, 9.999999999999999e-06, 1.1e-05, 1.2e-05, 1.3e-05, 1.4e-05, 1.4999999999999999e-05, 1.6e-05, 1.7e-05, 1.8e-05, 1.8999999999999998e-05, 1.9999999999999998e-05, 2.1e-05, 2.2e-05, 2.3e-05, 2.4e-05, 2.4999999999999998e-05, 2.6e-05, 2.7e-05, 2.8e-05, 2.9e-05, 2.9999999999999997e-05, 3.1e-05, 3.2e-05, 3.2999999999999996e-05, 3.4e-05, 3.5e-05, 3.6e-05, 3.7e-05, 3.7999999999999995e-05, 3.9e-05, 3.9999999999999996e-05, 4.1e-05, 4.2e-05, 4.2999999999999995e-05, 4.4e-05, 4.4999999999999996e-05, 4.6e-05, 4.7e-05, 4.8e-05, 4.9e-05]\n"
     ]
    }
   ],
   "source": [
    "print(delays)"
   ]
  },
  {
   "cell_type": "code",
   "execution_count": 30,
   "metadata": {},
   "outputs": [
    {
     "data": {
      "image/png": "[encoded data removed]",
      "text/plain": [
       "<Figure size 576x360 with 1 Axes>"
      ]
     },
     "metadata": {},
     "output_type": "display_data"
    }
   ],
   "source": [
    "from qiskit_experiments.library.characterization import T2RamseyAnalysis\n",
    "user_p0 = {\"amp\": 0.5, \"tau\": 20 * conversion_factor, \"base\": 0.5}\n",
    "\n",
    "exp_with_p0 = T2Hahn(qubit, delays)\n",
    "exp_with_p0.set_analysis_options(p0={\"amp\": 0.5, \"tau\": 20 * conversion_factor, \"base\": 0.5})\n",
    "expdata_with_p0 = exp_with_p0.run(backend=backend, shots=2000)\n",
    "expdata_with_p0.block_for_results()\n",
    "\n",
    "# Display fit figure\n",
    "display(expdata_with_p0.figure(0))"
   ]
  },
  {
   "cell_type": "code",
   "execution_count": 31,
   "metadata": {},
   "outputs": [
    {
     "name": "stdout",
     "output_type": "stream",
     "text": [
      "[1e-06, 2e-06, 3e-06, 4e-06, 4.9999999999999996e-06, 6e-06, 7e-06, 8e-06, 9e-06, 9.999999999999999e-06, 1.1e-05, 1.2e-05, 1.3e-05, 1.4e-05, 1.4999999999999999e-05, 1.6e-05, 1.7e-05, 1.8e-05, 1.8999999999999998e-05, 1.9999999999999998e-05, 2.1e-05, 2.2e-05, 2.3e-05, 2.4e-05, 2.4999999999999998e-05, 2.6e-05, 2.7e-05, 2.8e-05, 2.9e-05, 2.9999999999999997e-05, 3.1e-05, 3.2e-05, 3.2999999999999996e-05, 3.4e-05, 3.5e-05, 3.6e-05, 3.7e-05, 3.7999999999999995e-05, 3.9e-05, 3.9999999999999996e-05, 4.1e-05, 4.2e-05, 4.2999999999999995e-05, 4.4e-05, 4.4999999999999996e-05, 4.6e-05, 4.7e-05, 4.8e-05, 4.9e-05]\n"
     ]
    }
   ],
   "source": [
    "# Create a T2Ramsey experiment. Print the first circuit as an example\n",
    "# exp_with_p0 = T2Hahn(qubit, delays)\n",
    "# print(exp_with_p0.circuits()[0])\n",
    "print(delays)"
   ]
  },
  {
   "cell_type": "code",
   "execution_count": 32,
   "metadata": {},
   "outputs": [
    {
     "name": "stdout",
     "output_type": "stream",
     "text": [
      "DbAnalysisResultV1\n",
      "- name: @Parameters_T2HahnAnalysis\n",
      "- value: [4.88480306e-01 4.97918456e-01 1.97965689e-05] ± [5.00066917e-03 3.02468036e-03 5.50772490e-07]\n",
      "- χ²: 0.8659410051879719\n",
      "- quality: good\n",
      "- extra: <4 items>\n",
      "- device_components: ['Q0']\n",
      "- verified: False\n",
      "DbAnalysisResultV1\n",
      "- name: T2\n",
      "- value: 1.9796568934717197e-05 ± 5.507724903223753e-07 s\n",
      "- χ²: 0.8659410051879719\n",
      "- quality: good\n",
      "- device_components: ['Q0']\n",
      "- verified: False\n"
     ]
    }
   ],
   "source": [
    "# Print results\n",
    "for result in expdata_with_p0.analysis_results():\n",
    "    print(result)"
   ]
  },
  {
   "cell_type": "markdown",
   "metadata": {},
   "source": [
    "The units can be changed, but the output in the result is always given in seconds. The units in the backend must be adjusted accordingly."
   ]
  },
  {
   "cell_type": "code",
   "execution_count": 33,
   "metadata": {},
   "outputs": [
    {
     "name": "stdout",
     "output_type": "stream",
     "text": [
      "1e-09\n"
     ]
    }
   ],
   "source": [
    "from qiskit.utils import apply_prefix\n",
    "\n",
    "unit = \"ns\"\n",
    "delays2 = list(range(1000, 50000, 1000))\n",
    "conversion_factor = apply_prefix(1, unit)\n",
    "print(conversion_factor)"
   ]
  },
  {
   "cell_type": "code",
   "execution_count": 39,
   "metadata": {
    "scrolled": true
   },
   "outputs": [
    {
     "data": {
      "image/png": "[encoded data removed]",
      "text/plain": [
       "<Figure size 576x360 with 1 Axes>"
      ]
     },
     "metadata": {},
     "output_type": "display_data"
    }
   ],
   "source": [
    "p0 = {\n",
    "    \"A\": [0.5],\n",
    "    \"T2star\": [20000],\n",
    "    \"B\": [0.5],\n",
    "}\n",
    "backend_in_ns = T2HahnBackend(\n",
    "    t2hahn=[20],\n",
    "    frequency=[100100],\n",
    "    initialization_error=[0.0],\n",
    "    readout0to1=[0.02],\n",
    "    readout1to0=[0.02],\n",
    "    conversion_factor=conversion_factor,\n",
    ")\n",
    "exp_in_ns = T2Hahn(qubit, delays2, unit=unit)\n",
    "user_p0_ns = {\n",
    "    \"A\": 0.5,\n",
    "    \"T2\": 20000.0,\n",
    "    \"B\": 0.5\n",
    "}\n",
    "exp_in_ns.set_analysis_options(p0=user_p0_ns)\n",
    "\n",
    "# Run experiment\n",
    "expdata_in_ns = exp_in_ns.run(backend=backend_in_ns, shots=2000).block_for_results()\n",
    "\n",
    "# Display Figure\n",
    "display(expdata_in_ns.figure(0))"
   ]
  },
  {
   "cell_type": "code",
   "execution_count": null,
   "metadata": {},
   "outputs": [],
   "source": [
    "# Print Results\n",
    "for result in expdata_in_ns.analysis_results():\n",
    "    print(result)"
   ]
  },
  {
   "cell_type": "code",
   "execution_count": null,
   "metadata": {},
   "outputs": [],
   "source": [
    "import qiskit.tools.jupyter\n",
    "%qiskit_copyright"
   ]
  },
  {
   "cell_type": "code",
   "execution_count": null,
   "metadata": {},
   "outputs": [],
   "source": []
  }
 ],
 "metadata": {
  "kernelspec": {
   "display_name": "Python 3",
   "language": "python",
   "name": "python3"
  },
  "language_info": {
   "codemirror_mode": {
    "name": "ipython",
    "version": 3
   },
   "file_extension": ".py",
   "mimetype": "text/x-python",
   "name": "python",
   "nbconvert_exporter": "python",
   "pygments_lexer": "ipython3",
   "version": "3.8.5"
  }
 },
 "nbformat": 4,
 "nbformat_minor": 4
}
