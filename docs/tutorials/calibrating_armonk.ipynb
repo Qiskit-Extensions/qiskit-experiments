{
 "cells": [
  {
   "cell_type": "markdown",
   "id": "b11c2f66",
   "metadata": {},
   "source": [
    "# Calibrating single-qubit gates on `ibmq_armonk`\n",
    "\n",
    "In this tutorial we demonstrate how to calibrate single-qubit gates on `ibmq_armonk` using the calibration framework in qiskit-experiments. We will run experiments to find the qubit frequency, calibrate the amplitude of DRAG pulses and chose the value of the DRAG parameter that minimizes leakage. The calibration framework requires the user to\n",
    "\n",
    "* setup an instance of `Calibrations` or `BackendCalibrations`,\n",
    "* run calibration experiments which can be found either in `qiskit_experiments.library.calibration` or `qiskit_experiments.library.characterization`, and\n",
    "* update the values of the parameters stored in the instance of `Calibrations` (or `BackendCalibrations`) using `Update` classes. \n",
    "\n",
    "You will see that the `Update` classes are not meant to be instantiated but provide an `update` class method to extract calibrated parameter values and add them to the calibrations."
   ]
  },
  {
   "cell_type": "code",
   "execution_count": 1,
   "id": "e3836dba",
   "metadata": {},
   "outputs": [],
   "source": [
    "import numpy as np\n",
    "\n",
    "import qiskit.pulse as pulse\n",
    "from qiskit.circuit import Parameter\n",
    "\n",
    "from qiskit_experiments.calibration_management.backend_calibrations import BackendCalibrations\n",
    "\n",
    "from qiskit import IBMQ, schedule"
   ]
  },
  {
   "cell_type": "code",
   "execution_count": 2,
   "id": "87e1101f",
   "metadata": {},
   "outputs": [],
   "source": [
    "IBMQ.load_account()\n",
    "provider = IBMQ.get_provider(hub='ibm-q', group='open', project='main')\n",
    "backend = provider.get_backend('ibmq_armonk')"
   ]
  },
  {
   "cell_type": "code",
   "execution_count": 3,
   "id": "e3f6f6c1",
   "metadata": {},
   "outputs": [],
   "source": [
    "qubit = 0  # The qubit we will work with"
   ]
  },
  {
   "cell_type": "markdown",
   "id": "5325fe3d",
   "metadata": {},
   "source": [
    "The two functions below show how to setup an instance of `BackendCalibrations`. To do this the user defines the template schedules to calibrate. These template schedules are fully parameterized, even the channel indices on which the pulses are played. Furthermore, the name of the parameter in the channel index must follow the convention laid out in the documentation of the calibration module. Note that the parameters in the channel indices are automatically mapped to the channel index when `get_schedule` is called. "
   ]
  },
  {
   "cell_type": "code",
   "execution_count": 4,
   "id": "ca0c1462",
   "metadata": {},
   "outputs": [],
   "source": [
    "def setup_cals(backend) -> BackendCalibrations:\n",
    "    \"\"\"A function to instantiate calibrations and add a couple of template schedules.\"\"\"\n",
    "    cals = BackendCalibrations(backend)\n",
    "\n",
    "    dur = Parameter(\"dur\")\n",
    "    amp = Parameter(\"amp\")\n",
    "    sigma = Parameter(\"σ\")\n",
    "    beta = Parameter(\"β\")\n",
    "    drive = pulse.DriveChannel(Parameter(\"ch0\"))\n",
    "\n",
    "    # Define and add template schedules.\n",
    "    with pulse.build(name=\"xp\") as xp:\n",
    "        pulse.play(pulse.Drag(dur, amp, sigma, beta), drive)\n",
    "\n",
    "    with pulse.build(name=\"xm\") as xm:\n",
    "        pulse.play(pulse.Drag(dur, -amp, sigma, beta), drive)\n",
    "        \n",
    "    with pulse.build(name=\"x90p\") as x90p:\n",
    "        pulse.play(pulse.Drag(dur, Parameter(\"amp\"), sigma, Parameter(\"β\")), drive)\n",
    "\n",
    "    cals.add_schedule(xp, num_qubits=1)\n",
    "    cals.add_schedule(xm, num_qubits=1)\n",
    "    cals.add_schedule(x90p, num_qubits=1)\n",
    "    \n",
    "    return cals\n",
    "\n",
    "def add_parameter_guesses(cals: BackendCalibrations):\n",
    "    \"\"\"Add guesses for the parameter values to the calibrations.\"\"\"\n",
    "    for sched in [\"xp\", \"x90p\"]:\n",
    "        cals.add_parameter_value(80, \"σ\", schedule=sched)\n",
    "        cals.add_parameter_value(0.5, \"β\", schedule=sched)\n",
    "        cals.add_parameter_value(320, \"dur\", schedule=sched)\n",
    "        cals.add_parameter_value(0.5, \"amp\", schedule=sched)"
   ]
  },
  {
   "cell_type": "markdown",
   "id": "31ec74cd",
   "metadata": {},
   "source": [
    "When setting up the calibrations we add three pulses: a $\\pi$-rotation, with a schedule named `xp`, a schedule `xm` identical to `xp` but with a nagative amplitude, and a $\\pi/2$-rotation, with a schedule named `x90p`. Here, we have linked the amplitude of the `xp` and `xm` pulses. Therefore, calibrating the parameters of `xp` will also calibrate the parameters of `xm`."
   ]
  },
  {
   "cell_type": "code",
   "execution_count": 5,
   "id": "a2f9d7e5",
   "metadata": {},
   "outputs": [],
   "source": [
    "cals = setup_cals(backend)\n",
    "add_parameter_guesses(cals)"
   ]
  },
  {
   "cell_type": "markdown",
   "id": "af0cd5a0",
   "metadata": {},
   "source": [
    "A samilar setup is achieved by using a pre-built library of gates. The library of gates provides a standard set of gates and some initial guesses for the value of the parameters in the template schedules. This is shown below using the `FixedFrequencyTransmon` which provides the `x`, `y`, `sx`, and `sy` pulses. Note that in the example below we change the default value of the pulse duration to 320 samples."
   ]
  },
  {
   "cell_type": "code",
   "execution_count": 6,
   "id": "48895a9f",
   "metadata": {},
   "outputs": [],
   "source": [
    "from qiskit_experiments.calibration_management.basis_gate_library import FixedFrequencyTransmon"
   ]
  },
  {
   "cell_type": "code",
   "execution_count": 7,
   "id": "bd83e088",
   "metadata": {},
   "outputs": [],
   "source": [
    "library = FixedFrequencyTransmon(default_values={\"duration\": 320})\n",
    "cals = BackendCalibrations(backend, library)"
   ]
  },
  {
   "cell_type": "markdown",
   "id": "d145b612",
   "metadata": {},
   "source": [
    "## 1. Finding qubits with spectroscopy\n",
    "\n",
    "Here, we are using a backend for which we already know the qubit frequency. We will therefore use the spectroscopy experiment to confirm that there is a resonance at the qubit frequency reported by the backend."
   ]
  },
  {
   "cell_type": "code",
   "execution_count": 8,
   "id": "908ff764",
   "metadata": {},
   "outputs": [],
   "source": [
    "from qiskit_experiments.library.calibration.rough_frequency import RoughFrequencyCal"
   ]
  },
  {
   "cell_type": "markdown",
   "id": "4c2699ac",
   "metadata": {},
   "source": [
    "We first show the contents of the calibrations for qubit 0. Note that the guess values that we added before apply to all qubits on the chip. We see this in the table below as an empty tuple `()` in the qubits column. Observe that the parameter values of `xm` do not appear in this table as they are given by the values of `xp`."
   ]
  },
  {
   "cell_type": "code",
   "execution_count": 9,
   "id": "fa22b8a4",
   "metadata": {},
   "outputs": [
    {
     "data": {
      "text/html": [
       "<div>\n",
       "<style scoped>\n",
       "    .dataframe tbody tr th:only-of-type {\n",
       "        vertical-align: middle;\n",
       "    }\n",
       "\n",
       "    .dataframe tbody tr th {\n",
       "        vertical-align: top;\n",
       "    }\n",
       "\n",
       "    .dataframe thead th {\n",
       "        text-align: right;\n",
       "    }\n",
       "</style>\n",
       "<table border=\"1\" class=\"dataframe\">\n",
       "  <thead>\n",
       "    <tr style=\"text-align: right;\">\n",
       "      <th></th>\n",
       "      <th>parameter</th>\n",
       "      <th>qubits</th>\n",
       "      <th>schedule</th>\n",
       "      <th>value</th>\n",
       "      <th>group</th>\n",
       "      <th>valid</th>\n",
       "      <th>date_time</th>\n",
       "      <th>exp_id</th>\n",
       "    </tr>\n",
       "  </thead>\n",
       "  <tbody>\n",
       "    <tr>\n",
       "      <th>0</th>\n",
       "      <td>β</td>\n",
       "      <td>()</td>\n",
       "      <td>sx</td>\n",
       "      <td>0.000000e+00</td>\n",
       "      <td>default</td>\n",
       "      <td>True</td>\n",
       "      <td>2021-10-21 14:21:13.496348+0200</td>\n",
       "      <td>None</td>\n",
       "    </tr>\n",
       "    <tr>\n",
       "      <th>1</th>\n",
       "      <td>σ</td>\n",
       "      <td>()</td>\n",
       "      <td>sx</td>\n",
       "      <td>8.000000e+01</td>\n",
       "      <td>default</td>\n",
       "      <td>True</td>\n",
       "      <td>2021-10-21 14:21:13.496341+0200</td>\n",
       "      <td>None</td>\n",
       "    </tr>\n",
       "    <tr>\n",
       "      <th>2</th>\n",
       "      <td>amp</td>\n",
       "      <td>()</td>\n",
       "      <td>sx</td>\n",
       "      <td>2.500000e-01</td>\n",
       "      <td>default</td>\n",
       "      <td>True</td>\n",
       "      <td>2021-10-21 14:21:13.496333+0200</td>\n",
       "      <td>None</td>\n",
       "    </tr>\n",
       "    <tr>\n",
       "      <th>3</th>\n",
       "      <td>duration</td>\n",
       "      <td>()</td>\n",
       "      <td>sx</td>\n",
       "      <td>3.200000e+02</td>\n",
       "      <td>default</td>\n",
       "      <td>True</td>\n",
       "      <td>2021-10-21 14:21:13.496325+0200</td>\n",
       "      <td>None</td>\n",
       "    </tr>\n",
       "    <tr>\n",
       "      <th>4</th>\n",
       "      <td>qubit_lo_freq</td>\n",
       "      <td>(0,)</td>\n",
       "      <td>None</td>\n",
       "      <td>4.971593e+09</td>\n",
       "      <td>default</td>\n",
       "      <td>True</td>\n",
       "      <td>2021-10-21 14:21:13.495991+0200</td>\n",
       "      <td>None</td>\n",
       "    </tr>\n",
       "    <tr>\n",
       "      <th>5</th>\n",
       "      <td>meas_lo_freq</td>\n",
       "      <td>(0,)</td>\n",
       "      <td>None</td>\n",
       "      <td>6.993371e+09</td>\n",
       "      <td>default</td>\n",
       "      <td>True</td>\n",
       "      <td>2021-10-21 14:21:13.496017+0200</td>\n",
       "      <td>None</td>\n",
       "    </tr>\n",
       "    <tr>\n",
       "      <th>6</th>\n",
       "      <td>β</td>\n",
       "      <td>()</td>\n",
       "      <td>x</td>\n",
       "      <td>0.000000e+00</td>\n",
       "      <td>default</td>\n",
       "      <td>True</td>\n",
       "      <td>2021-10-21 14:21:13.496317+0200</td>\n",
       "      <td>None</td>\n",
       "    </tr>\n",
       "    <tr>\n",
       "      <th>7</th>\n",
       "      <td>σ</td>\n",
       "      <td>()</td>\n",
       "      <td>x</td>\n",
       "      <td>8.000000e+01</td>\n",
       "      <td>default</td>\n",
       "      <td>True</td>\n",
       "      <td>2021-10-21 14:21:13.496309+0200</td>\n",
       "      <td>None</td>\n",
       "    </tr>\n",
       "    <tr>\n",
       "      <th>8</th>\n",
       "      <td>amp</td>\n",
       "      <td>()</td>\n",
       "      <td>x</td>\n",
       "      <td>5.000000e-01</td>\n",
       "      <td>default</td>\n",
       "      <td>True</td>\n",
       "      <td>2021-10-21 14:21:13.496299+0200</td>\n",
       "      <td>None</td>\n",
       "    </tr>\n",
       "    <tr>\n",
       "      <th>9</th>\n",
       "      <td>duration</td>\n",
       "      <td>()</td>\n",
       "      <td>x</td>\n",
       "      <td>3.200000e+02</td>\n",
       "      <td>default</td>\n",
       "      <td>True</td>\n",
       "      <td>2021-10-21 14:21:13.496281+0200</td>\n",
       "      <td>None</td>\n",
       "    </tr>\n",
       "  </tbody>\n",
       "</table>\n",
       "</div>"
      ],
      "text/plain": [
       "       parameter qubits schedule         value    group  valid  \\\n",
       "0              β     ()       sx  0.000000e+00  default   True   \n",
       "1              σ     ()       sx  8.000000e+01  default   True   \n",
       "2            amp     ()       sx  2.500000e-01  default   True   \n",
       "3       duration     ()       sx  3.200000e+02  default   True   \n",
       "4  qubit_lo_freq   (0,)     None  4.971593e+09  default   True   \n",
       "5   meas_lo_freq   (0,)     None  6.993371e+09  default   True   \n",
       "6              β     ()        x  0.000000e+00  default   True   \n",
       "7              σ     ()        x  8.000000e+01  default   True   \n",
       "8            amp     ()        x  5.000000e-01  default   True   \n",
       "9       duration     ()        x  3.200000e+02  default   True   \n",
       "\n",
       "                         date_time exp_id  \n",
       "0  2021-10-21 14:21:13.496348+0200   None  \n",
       "1  2021-10-21 14:21:13.496341+0200   None  \n",
       "2  2021-10-21 14:21:13.496333+0200   None  \n",
       "3  2021-10-21 14:21:13.496325+0200   None  \n",
       "4  2021-10-21 14:21:13.495991+0200   None  \n",
       "5  2021-10-21 14:21:13.496017+0200   None  \n",
       "6  2021-10-21 14:21:13.496317+0200   None  \n",
       "7  2021-10-21 14:21:13.496309+0200   None  \n",
       "8  2021-10-21 14:21:13.496299+0200   None  \n",
       "9  2021-10-21 14:21:13.496281+0200   None  "
      ]
     },
     "execution_count": 9,
     "metadata": {},
     "output_type": "execute_result"
    }
   ],
   "source": [
    "import pandas as pd\n",
    "\n",
    "pd.DataFrame(**cals.parameters_table(qubit_list=[qubit, ()]))"
   ]
  },
  {
   "cell_type": "code",
   "execution_count": 10,
   "id": "502aef29",
   "metadata": {},
   "outputs": [],
   "source": [
    "freq01_estimate = backend.defaults().qubit_freq_est[qubit]\n",
    "frequencies = np.linspace(freq01_estimate -15e6, freq01_estimate + 15e6, 51)\n",
    "spec = RoughFrequencyCal(qubit, cals, frequencies)\n",
    "spec.set_experiment_options(amp=0.1)"
   ]
  },
  {
   "cell_type": "code",
   "execution_count": 11,
   "id": "91184061",
   "metadata": {},
   "outputs": [
    {
     "data": {
      "image/png": "[encoded data removed]",
      "text/plain": [
       "<Figure size 392.294x144.48 with 1 Axes>"
      ]
     },
     "execution_count": 11,
     "metadata": {},
     "output_type": "execute_result"
    }
   ],
   "source": [
    "circuit = spec.circuits(backend)[0]\n",
    "circuit.draw(output=\"mpl\")"
   ]
  },
  {
   "cell_type": "code",
   "execution_count": 12,
   "id": "32a49399",
   "metadata": {},
   "outputs": [
    {
     "data": {
      "image/png": "[encoded data removed]",
      "text/plain": [
       "<Figure size 936x237.6 with 1 Axes>"
      ]
     },
     "execution_count": 12,
     "metadata": {},
     "output_type": "execute_result"
    }
   ],
   "source": [
    "schedule(circuit, backend).draw()"
   ]
  },
  {
   "cell_type": "code",
   "execution_count": 13,
   "id": "1e24ce2a",
   "metadata": {},
   "outputs": [],
   "source": [
    "spec_data = spec.run(backend).block_for_results()"
   ]
  },
  {
   "cell_type": "code",
   "execution_count": 14,
   "id": "e880af97",
   "metadata": {},
   "outputs": [
    {
     "data": {
      "image/png": "[encoded data removed]",
      "text/plain": [
       "<Figure size 576x360 with 1 Axes>"
      ]
     },
     "execution_count": 14,
     "metadata": {},
     "output_type": "execute_result"
    }
   ],
   "source": [
    "spec_data.figure(0)"
   ]
  },
  {
   "cell_type": "code",
   "execution_count": 15,
   "id": "6e8e067c",
   "metadata": {},
   "outputs": [
    {
     "name": "stdout",
     "output_type": "stream",
     "text": [
      "DbAnalysisResultV1\n",
      "- name: f01\n",
      "- value: 4971617198.1562395 ± 48877.278375288435 Hz\n",
      "- χ²: 1.2265631671328414\n",
      "- quality: good\n",
      "- device_components: ['Q0']\n",
      "- verified: False\n"
     ]
    }
   ],
   "source": [
    "print(spec_data.analysis_results(\"f01\"))"
   ]
  },
  {
   "cell_type": "markdown",
   "id": "125628a5",
   "metadata": {},
   "source": [
    "We now update the instance of `Calibrations` with the value of the frequency that we measured using the `Frequency.update` function. Note that for the remainder of this notebook we use the value of the qubit frequency in the backend as it is not yet possible to updated qubit frequencies with the circuit path."
   ]
  },
  {
   "cell_type": "code",
   "execution_count": 16,
   "id": "6937956d",
   "metadata": {},
   "outputs": [
    {
     "data": {
      "text/html": [
       "<div>\n",
       "<style scoped>\n",
       "    .dataframe tbody tr th:only-of-type {\n",
       "        vertical-align: middle;\n",
       "    }\n",
       "\n",
       "    .dataframe tbody tr th {\n",
       "        vertical-align: top;\n",
       "    }\n",
       "\n",
       "    .dataframe thead th {\n",
       "        text-align: right;\n",
       "    }\n",
       "</style>\n",
       "<table border=\"1\" class=\"dataframe\">\n",
       "  <thead>\n",
       "    <tr style=\"text-align: right;\">\n",
       "      <th></th>\n",
       "      <th>parameter</th>\n",
       "      <th>qubits</th>\n",
       "      <th>schedule</th>\n",
       "      <th>value</th>\n",
       "      <th>group</th>\n",
       "      <th>valid</th>\n",
       "      <th>date_time</th>\n",
       "      <th>exp_id</th>\n",
       "    </tr>\n",
       "  </thead>\n",
       "  <tbody>\n",
       "    <tr>\n",
       "      <th>0</th>\n",
       "      <td>meas_lo_freq</td>\n",
       "      <td>(0,)</td>\n",
       "      <td>None</td>\n",
       "      <td>6.993371e+09</td>\n",
       "      <td>default</td>\n",
       "      <td>True</td>\n",
       "      <td>2021-10-21 14:21:13.496017+0200</td>\n",
       "      <td>None</td>\n",
       "    </tr>\n",
       "    <tr>\n",
       "      <th>1</th>\n",
       "      <td>qubit_lo_freq</td>\n",
       "      <td>(0,)</td>\n",
       "      <td>None</td>\n",
       "      <td>4.971593e+09</td>\n",
       "      <td>default</td>\n",
       "      <td>True</td>\n",
       "      <td>2021-10-21 14:21:13.495991+0200</td>\n",
       "      <td>None</td>\n",
       "    </tr>\n",
       "    <tr>\n",
       "      <th>2</th>\n",
       "      <td>qubit_lo_freq</td>\n",
       "      <td>(0,)</td>\n",
       "      <td>None</td>\n",
       "      <td>4.971617e+09</td>\n",
       "      <td>default</td>\n",
       "      <td>True</td>\n",
       "      <td>2021-10-21 14:26:42.953000+0200</td>\n",
       "      <td>553c95bf-e578-4064-9b17-68a07b84a7f0</td>\n",
       "    </tr>\n",
       "  </tbody>\n",
       "</table>\n",
       "</div>"
      ],
      "text/plain": [
       "       parameter qubits schedule         value    group  valid  \\\n",
       "0   meas_lo_freq   (0,)     None  6.993371e+09  default   True   \n",
       "1  qubit_lo_freq   (0,)     None  4.971593e+09  default   True   \n",
       "2  qubit_lo_freq   (0,)     None  4.971617e+09  default   True   \n",
       "\n",
       "                         date_time                                exp_id  \n",
       "0  2021-10-21 14:21:13.496017+0200                                  None  \n",
       "1  2021-10-21 14:21:13.495991+0200                                  None  \n",
       "2  2021-10-21 14:26:42.953000+0200  553c95bf-e578-4064-9b17-68a07b84a7f0  "
      ]
     },
     "execution_count": 16,
     "metadata": {},
     "output_type": "execute_result"
    }
   ],
   "source": [
    "pd.DataFrame(**cals.parameters_table(qubit_list=[qubit]))"
   ]
  },
  {
   "cell_type": "markdown",
   "id": "adc314d6",
   "metadata": {},
   "source": [
    "As seen from the table above the measured frequency has been added to the calibrations."
   ]
  },
  {
   "cell_type": "markdown",
   "id": "351b4f8a",
   "metadata": {},
   "source": [
    "## 2. Calibrating the pulse amplitudes with a Rabi experiment\n",
    "\n",
    "In the Rabi experiment we apply a pulse at the frequency of the qubit and scan its amplitude to find the amplitude that creates a rotation of a desired angle."
   ]
  },
  {
   "cell_type": "code",
   "execution_count": 17,
   "id": "ed4a5f77",
   "metadata": {},
   "outputs": [],
   "source": [
    "from qiskit_experiments.library.calibration import Rabi\n",
    "from qiskit_experiments.calibration_management.update_library import Amplitude"
   ]
  },
  {
   "cell_type": "code",
   "execution_count": 18,
   "id": "8227b8ba",
   "metadata": {},
   "outputs": [],
   "source": [
    "rabi = Rabi(qubit)\n",
    "rabi.set_experiment_options(\n",
    "    amplitudes=np.linspace(-0.95, 0.95, 51), \n",
    "    schedule=cals.get_schedule(\"x\", (qubit,), assign_params={\"amp\": Parameter(\"amp\")}),\n",
    ")"
   ]
  },
  {
   "cell_type": "code",
   "execution_count": 19,
   "id": "68d32b29",
   "metadata": {},
   "outputs": [],
   "source": [
    "rabi_data = rabi.run(backend).block_for_results()"
   ]
  },
  {
   "cell_type": "code",
   "execution_count": 20,
   "id": "9eefc00c",
   "metadata": {},
   "outputs": [
    {
     "data": {
      "image/png": "[encoded data removed]",
      "text/plain": [
       "<Figure size 576x360 with 1 Axes>"
      ]
     },
     "execution_count": 20,
     "metadata": {},
     "output_type": "execute_result"
    }
   ],
   "source": [
    "rabi_data.figure(0)"
   ]
  },
  {
   "cell_type": "code",
   "execution_count": 21,
   "id": "444d829c",
   "metadata": {},
   "outputs": [
    {
     "name": "stdout",
     "output_type": "stream",
     "text": [
      "DbAnalysisResultV1\n",
      "- name: rabi_rate\n",
      "- value: 0.5773601216615961 ± 0.00302334045912944\n",
      "- χ²: 1.7757334563985634\n",
      "- quality: good\n",
      "- device_components: ['Q0']\n",
      "- verified: False\n"
     ]
    }
   ],
   "source": [
    "print(rabi_data.analysis_results(\"rabi_rate\"))"
   ]
  },
  {
   "cell_type": "code",
   "execution_count": 22,
   "id": "f883b472",
   "metadata": {},
   "outputs": [],
   "source": [
    "Amplitude.update(cals, rabi_data, angles_schedules=[(np.pi, \"amp\", \"x\"), (np.pi/2, \"amp\", \"sx\")])"
   ]
  },
  {
   "cell_type": "code",
   "execution_count": 23,
   "id": "7fa0e4b4",
   "metadata": {},
   "outputs": [
    {
     "data": {
      "text/html": [
       "<div>\n",
       "<style scoped>\n",
       "    .dataframe tbody tr th:only-of-type {\n",
       "        vertical-align: middle;\n",
       "    }\n",
       "\n",
       "    .dataframe tbody tr th {\n",
       "        vertical-align: top;\n",
       "    }\n",
       "\n",
       "    .dataframe thead th {\n",
       "        text-align: right;\n",
       "    }\n",
       "</style>\n",
       "<table border=\"1\" class=\"dataframe\">\n",
       "  <thead>\n",
       "    <tr style=\"text-align: right;\">\n",
       "      <th></th>\n",
       "      <th>parameter</th>\n",
       "      <th>qubits</th>\n",
       "      <th>schedule</th>\n",
       "      <th>value</th>\n",
       "      <th>group</th>\n",
       "      <th>valid</th>\n",
       "      <th>date_time</th>\n",
       "      <th>exp_id</th>\n",
       "    </tr>\n",
       "  </thead>\n",
       "  <tbody>\n",
       "    <tr>\n",
       "      <th>0</th>\n",
       "      <td>amp</td>\n",
       "      <td>()</td>\n",
       "      <td>sx</td>\n",
       "      <td>0.250000+0.000000j</td>\n",
       "      <td>default</td>\n",
       "      <td>True</td>\n",
       "      <td>2021-10-21 14:21:13.496333+0200</td>\n",
       "      <td>None</td>\n",
       "    </tr>\n",
       "    <tr>\n",
       "      <th>1</th>\n",
       "      <td>amp</td>\n",
       "      <td>(0,)</td>\n",
       "      <td>sx</td>\n",
       "      <td>0.433005+0.000000j</td>\n",
       "      <td>default</td>\n",
       "      <td>True</td>\n",
       "      <td>2021-10-21 14:39:49.487000+0200</td>\n",
       "      <td>1b5c7f5c-2a93-4beb-a3cd-037e3f18c397</td>\n",
       "    </tr>\n",
       "    <tr>\n",
       "      <th>2</th>\n",
       "      <td>amp</td>\n",
       "      <td>()</td>\n",
       "      <td>x</td>\n",
       "      <td>0.500000+0.000000j</td>\n",
       "      <td>default</td>\n",
       "      <td>True</td>\n",
       "      <td>2021-10-21 14:21:13.496299+0200</td>\n",
       "      <td>None</td>\n",
       "    </tr>\n",
       "    <tr>\n",
       "      <th>3</th>\n",
       "      <td>amp</td>\n",
       "      <td>(0,)</td>\n",
       "      <td>x</td>\n",
       "      <td>0.866011+0.000000j</td>\n",
       "      <td>default</td>\n",
       "      <td>True</td>\n",
       "      <td>2021-10-21 14:39:49.487000+0200</td>\n",
       "      <td>1b5c7f5c-2a93-4beb-a3cd-037e3f18c397</td>\n",
       "    </tr>\n",
       "  </tbody>\n",
       "</table>\n",
       "</div>"
      ],
      "text/plain": [
       "  parameter qubits schedule               value    group  valid  \\\n",
       "0       amp     ()       sx  0.250000+0.000000j  default   True   \n",
       "1       amp   (0,)       sx  0.433005+0.000000j  default   True   \n",
       "2       amp     ()        x  0.500000+0.000000j  default   True   \n",
       "3       amp   (0,)        x  0.866011+0.000000j  default   True   \n",
       "\n",
       "                         date_time                                exp_id  \n",
       "0  2021-10-21 14:21:13.496333+0200                                  None  \n",
       "1  2021-10-21 14:39:49.487000+0200  1b5c7f5c-2a93-4beb-a3cd-037e3f18c397  \n",
       "2  2021-10-21 14:21:13.496299+0200                                  None  \n",
       "3  2021-10-21 14:39:49.487000+0200  1b5c7f5c-2a93-4beb-a3cd-037e3f18c397  "
      ]
     },
     "execution_count": 23,
     "metadata": {},
     "output_type": "execute_result"
    }
   ],
   "source": [
    "pd.DataFrame(**cals.parameters_table(qubit_list=[qubit, ()], parameters=\"amp\"))"
   ]
  },
  {
   "cell_type": "markdown",
   "id": "c90b2be5",
   "metadata": {},
   "source": [
    "The table above shows that we have now updated the amplitude of our $\\pi$-pulse from 0.5 to the value obtained in the most recent Rabi experiment. Importantly, since we linked the amplitudes of the `x` and `y` schedules we will see that the amplitude of the `y` schedule has also been updated as seen when requesting schedules form the `Calibrations` instance. Furthermore, we used the result from the `Rabi` experiment to also update the value of the `sx` pulse. This was achieved by specifying `(np.pi/2, \"amp\", \"sx\")` when calling `update`."
   ]
  },
  {
   "cell_type": "code",
   "execution_count": 24,
   "id": "bd9ff343",
   "metadata": {},
   "outputs": [
    {
     "data": {
      "text/plain": [
       "ScheduleBlock(Play(Drag(duration=320, amp=(0.43300531+0j), sigma=80, beta=0), DriveChannel(0)), name=\"sx\", transform=AlignLeft())"
      ]
     },
     "execution_count": 24,
     "metadata": {},
     "output_type": "execute_result"
    }
   ],
   "source": [
    "cals.get_schedule(\"sx\", qubit)"
   ]
  },
  {
   "cell_type": "code",
   "execution_count": 25,
   "id": "95d75c23",
   "metadata": {},
   "outputs": [
    {
     "data": {
      "text/plain": [
       "ScheduleBlock(Play(Drag(duration=320, amp=(0.86601063+0j), sigma=80, beta=0), DriveChannel(0)), name=\"x\", transform=AlignLeft())"
      ]
     },
     "execution_count": 25,
     "metadata": {},
     "output_type": "execute_result"
    }
   ],
   "source": [
    "cals.get_schedule(\"x\", qubit)"
   ]
  },
  {
   "cell_type": "code",
   "execution_count": 26,
   "id": "62b1318f",
   "metadata": {},
   "outputs": [
    {
     "data": {
      "text/plain": [
       "ScheduleBlock(Play(Drag(duration=320, amp=0.86601063j, sigma=80, beta=0), DriveChannel(0)), name=\"y\", transform=AlignLeft())"
      ]
     },
     "execution_count": 26,
     "metadata": {},
     "output_type": "execute_result"
    }
   ],
   "source": [
    "cals.get_schedule(\"y\", qubit)"
   ]
  },
  {
   "cell_type": "markdown",
   "id": "addeda59",
   "metadata": {},
   "source": [
    "## 3. Saving and loading calibrations\n",
    "\n",
    "The values of the calibrated parameters can be saved to a `.csv` file and reloaded at a later point in time.  "
   ]
  },
  {
   "cell_type": "code",
   "execution_count": 27,
   "id": "317994db",
   "metadata": {},
   "outputs": [
    {
     "name": "stderr",
     "output_type": "stream",
     "text": [
      "/home/daniel/Documents/IBM/qiskit/qiskit-experiments/qiskit_experiments/calibration_management/calibrations.py:981: UserWarning: Schedules are only saved in text format. They cannot be re-loaded.\n",
      "  warnings.warn(\"Schedules are only saved in text format. They cannot be re-loaded.\")\n"
     ]
    }
   ],
   "source": [
    "cals.save(file_type=\"csv\", overwrite=True, file_prefix=\"Armonk\")"
   ]
  },
  {
   "cell_type": "markdown",
   "id": "b384d6d0",
   "metadata": {},
   "source": [
    "After saving the values of the parameters you may restart your kernel. If you do so, you will only need to run the following cell to recover the state of your calibrations. Since the schedules are currently not stored we need to call our `setup_cals` function to populate an instance of `Calibrations` with the template schedules. By contrast, the value of the parameters will be recovered from the file."
   ]
  },
  {
   "cell_type": "code",
   "execution_count": 28,
   "id": "24256b82",
   "metadata": {},
   "outputs": [],
   "source": [
    "cals = BackendCalibrations(backend, library)\n",
    "cals.load_parameter_values(file_name=\"Armonkparameter_values.csv\")"
   ]
  },
  {
   "cell_type": "code",
   "execution_count": 29,
   "id": "80ca665c",
   "metadata": {},
   "outputs": [
    {
     "data": {
      "text/html": [
       "<div>\n",
       "<style scoped>\n",
       "    .dataframe tbody tr th:only-of-type {\n",
       "        vertical-align: middle;\n",
       "    }\n",
       "\n",
       "    .dataframe tbody tr th {\n",
       "        vertical-align: top;\n",
       "    }\n",
       "\n",
       "    .dataframe thead th {\n",
       "        text-align: right;\n",
       "    }\n",
       "</style>\n",
       "<table border=\"1\" class=\"dataframe\">\n",
       "  <thead>\n",
       "    <tr style=\"text-align: right;\">\n",
       "      <th></th>\n",
       "      <th>parameter</th>\n",
       "      <th>qubits</th>\n",
       "      <th>schedule</th>\n",
       "      <th>value</th>\n",
       "      <th>group</th>\n",
       "      <th>valid</th>\n",
       "      <th>date_time</th>\n",
       "      <th>exp_id</th>\n",
       "    </tr>\n",
       "  </thead>\n",
       "  <tbody>\n",
       "    <tr>\n",
       "      <th>0</th>\n",
       "      <td>amp</td>\n",
       "      <td>()</td>\n",
       "      <td>sx</td>\n",
       "      <td>0.250000+0.000000j</td>\n",
       "      <td>default</td>\n",
       "      <td>True</td>\n",
       "      <td>2021-10-21 14:40:51.746391+0200</td>\n",
       "      <td>None</td>\n",
       "    </tr>\n",
       "    <tr>\n",
       "      <th>1</th>\n",
       "      <td>amp</td>\n",
       "      <td>()</td>\n",
       "      <td>sx</td>\n",
       "      <td>0.250000+0.000000j</td>\n",
       "      <td>default</td>\n",
       "      <td>True</td>\n",
       "      <td>2021-10-21 14:21:13.496333+0200</td>\n",
       "      <td></td>\n",
       "    </tr>\n",
       "    <tr>\n",
       "      <th>2</th>\n",
       "      <td>amp</td>\n",
       "      <td>(0,)</td>\n",
       "      <td>sx</td>\n",
       "      <td>0.433005+0.000000j</td>\n",
       "      <td>default</td>\n",
       "      <td>True</td>\n",
       "      <td>2021-10-21 14:39:49.487000+0200</td>\n",
       "      <td>1b5c7f5c-2a93-4beb-a3cd-037e3f18c397</td>\n",
       "    </tr>\n",
       "    <tr>\n",
       "      <th>3</th>\n",
       "      <td>amp</td>\n",
       "      <td>()</td>\n",
       "      <td>x</td>\n",
       "      <td>0.500000+0.000000j</td>\n",
       "      <td>default</td>\n",
       "      <td>True</td>\n",
       "      <td>2021-10-21 14:40:51.746354+0200</td>\n",
       "      <td>None</td>\n",
       "    </tr>\n",
       "    <tr>\n",
       "      <th>4</th>\n",
       "      <td>amp</td>\n",
       "      <td>()</td>\n",
       "      <td>x</td>\n",
       "      <td>0.500000+0.000000j</td>\n",
       "      <td>default</td>\n",
       "      <td>True</td>\n",
       "      <td>2021-10-21 14:21:13.496299+0200</td>\n",
       "      <td></td>\n",
       "    </tr>\n",
       "    <tr>\n",
       "      <th>5</th>\n",
       "      <td>amp</td>\n",
       "      <td>(0,)</td>\n",
       "      <td>x</td>\n",
       "      <td>0.866011+0.000000j</td>\n",
       "      <td>default</td>\n",
       "      <td>True</td>\n",
       "      <td>2021-10-21 14:39:49.487000+0200</td>\n",
       "      <td>1b5c7f5c-2a93-4beb-a3cd-037e3f18c397</td>\n",
       "    </tr>\n",
       "  </tbody>\n",
       "</table>\n",
       "</div>"
      ],
      "text/plain": [
       "  parameter qubits schedule               value    group  valid  \\\n",
       "0       amp     ()       sx  0.250000+0.000000j  default   True   \n",
       "1       amp     ()       sx  0.250000+0.000000j  default   True   \n",
       "2       amp   (0,)       sx  0.433005+0.000000j  default   True   \n",
       "3       amp     ()        x  0.500000+0.000000j  default   True   \n",
       "4       amp     ()        x  0.500000+0.000000j  default   True   \n",
       "5       amp   (0,)        x  0.866011+0.000000j  default   True   \n",
       "\n",
       "                         date_time                                exp_id  \n",
       "0  2021-10-21 14:40:51.746391+0200                                  None  \n",
       "1  2021-10-21 14:21:13.496333+0200                                        \n",
       "2  2021-10-21 14:39:49.487000+0200  1b5c7f5c-2a93-4beb-a3cd-037e3f18c397  \n",
       "3  2021-10-21 14:40:51.746354+0200                                  None  \n",
       "4  2021-10-21 14:21:13.496299+0200                                        \n",
       "5  2021-10-21 14:39:49.487000+0200  1b5c7f5c-2a93-4beb-a3cd-037e3f18c397  "
      ]
     },
     "execution_count": 29,
     "metadata": {},
     "output_type": "execute_result"
    }
   ],
   "source": [
    "pd.DataFrame(**cals.parameters_table(qubit_list=[qubit, ()], parameters=\"amp\"))"
   ]
  },
  {
   "cell_type": "markdown",
   "id": "7d1f127f",
   "metadata": {},
   "source": [
    "## 4. Calibrating the value of the DRAG coefficient\n",
    "\n",
    "A Derivative Removal by Adiabatic Gate (DRAG) pulse is designed to minimize leakage\n",
    "to a neighbouring transition. It is a standard pulse with an additional derivative\n",
    "component. It is designed to reduce the frequency spectrum of a normal pulse near\n",
    "the $|1\\rangle$ - $|2\\rangle$ transition, reducing the chance of leakage\n",
    "to the $|2\\rangle$ state. The optimal value of the DRAG parameter is chosen to\n",
    "minimize both leakage and phase errors resulting from the AC Stark shift.\n",
    "The pulse envelope is $f(t) = \\Omega_x(t) + j \\beta \\frac{\\rm d}{{\\rm d }t} \\Omega_x(t)$.\n",
    "Here, $\\Omega_x$ is the envelop of the in-phase component of the pulse and\n",
    "$\\beta$ is the strength of the quadrature which we refer to as the DRAG\n",
    "parameter and seek to calibrate in this experiment. \n",
    "The DRAG calibration will run\n",
    "several series of circuits. In a given circuit a Rp(β) - Rm(β) block is repeated\n",
    "$N$ times. Here, Rp is a rotation with a positive angle and Rm is the same rotation\n",
    "with a negative amplitude."
   ]
  },
  {
   "cell_type": "code",
   "execution_count": 32,
   "id": "74edd0ee",
   "metadata": {},
   "outputs": [],
   "source": [
    "from qiskit_experiments.library.calibration.drag import DragCal\n",
    "from qiskit_experiments.calibration_management.update_library import Drag"
   ]
  },
  {
   "cell_type": "code",
   "execution_count": 33,
   "id": "fac11c93",
   "metadata": {},
   "outputs": [],
   "source": [
    "cal_drag = DragCal(qubit)"
   ]
  },
  {
   "cell_type": "code",
   "execution_count": 34,
   "id": "3a337cf4",
   "metadata": {},
   "outputs": [
    {
     "data": {
      "image/png": "[encoded data removed]",
      "text/plain": [
       "<Figure size 994.294x144.48 with 1 Axes>"
      ]
     },
     "execution_count": 34,
     "metadata": {},
     "output_type": "execute_result"
    }
   ],
   "source": [
    "cal_drag.set_experiment_options(\n",
    "    rp=cals.get_schedule(\"x\", qubit, assign_params={\"β\": Parameter(\"β\")}),\n",
    "    betas=np.linspace(-20, 20, 25),\n",
    "    reps=[3, 5, 7]\n",
    ")\n",
    "\n",
    "cal_drag.circuits(backend)[1].draw(output='mpl')"
   ]
  },
  {
   "cell_type": "code",
   "execution_count": 35,
   "id": "c3958dff",
   "metadata": {},
   "outputs": [
    {
     "data": {
      "text/plain": [
       "ExperimentData(DragCal, 56de17e6-ed83-4280-9df3-b53c14154952, backend=ibmq_armonk, job_ids=['61043d401e71b07cf7bfc3d1'])"
      ]
     },
     "execution_count": 35,
     "metadata": {},
     "output_type": "execute_result"
    }
   ],
   "source": [
    "drag_data = cal_drag.run(backend)\n",
    "drag_data.block_for_results()"
   ]
  },
  {
   "cell_type": "code",
   "execution_count": 36,
   "id": "3a6430f4",
   "metadata": {},
   "outputs": [
    {
     "data": {
      "image/png": "[encoded data removed]",
      "text/plain": [
       "<Figure size 576x360 with 1 Axes>"
      ]
     },
     "execution_count": 36,
     "metadata": {},
     "output_type": "execute_result"
    }
   ],
   "source": [
    "drag_data.figure(0)"
   ]
  },
  {
   "cell_type": "code",
   "execution_count": 37,
   "id": "dc39db70",
   "metadata": {},
   "outputs": [
    {
     "name": "stdout",
     "output_type": "stream",
     "text": [
      "DbAnalysisResultV1\n",
      "- name: beta\n",
      "- value: -0.8424663551657885 ± 0.016291164278910576\n",
      "- χ²: 1.0897174737821766\n",
      "- quality: good\n",
      "- device_components: ['Q0']\n",
      "- verified: False\n"
     ]
    }
   ],
   "source": [
    "print(drag_data.analysis_results(\"beta\"))"
   ]
  },
  {
   "cell_type": "code",
   "execution_count": 38,
   "id": "df67fefe",
   "metadata": {},
   "outputs": [],
   "source": [
    "Drag.update(cals, drag_data, parameter=\"β\", schedule=\"x\")"
   ]
  },
  {
   "cell_type": "code",
   "execution_count": 39,
   "id": "f02bd7a6",
   "metadata": {},
   "outputs": [
    {
     "data": {
      "text/html": [
       "<div>\n",
       "<style scoped>\n",
       "    .dataframe tbody tr th:only-of-type {\n",
       "        vertical-align: middle;\n",
       "    }\n",
       "\n",
       "    .dataframe tbody tr th {\n",
       "        vertical-align: top;\n",
       "    }\n",
       "\n",
       "    .dataframe thead th {\n",
       "        text-align: right;\n",
       "    }\n",
       "</style>\n",
       "<table border=\"1\" class=\"dataframe\">\n",
       "  <thead>\n",
       "    <tr style=\"text-align: right;\">\n",
       "      <th></th>\n",
       "      <th>value</th>\n",
       "      <th>date_time</th>\n",
       "      <th>valid</th>\n",
       "      <th>exp_id</th>\n",
       "      <th>group</th>\n",
       "      <th>qubits</th>\n",
       "      <th>parameter</th>\n",
       "      <th>schedule</th>\n",
       "    </tr>\n",
       "  </thead>\n",
       "  <tbody>\n",
       "    <tr>\n",
       "      <th>0</th>\n",
       "      <td>0.000000</td>\n",
       "      <td>2021-07-30 17:56:11.297365+0000</td>\n",
       "      <td>True</td>\n",
       "      <td>None</td>\n",
       "      <td>default</td>\n",
       "      <td>()</td>\n",
       "      <td>β</td>\n",
       "      <td>x</td>\n",
       "    </tr>\n",
       "    <tr>\n",
       "      <th>1</th>\n",
       "      <td>0.000000</td>\n",
       "      <td>2021-07-30 17:53:14.422964+0000</td>\n",
       "      <td>True</td>\n",
       "      <td></td>\n",
       "      <td>default</td>\n",
       "      <td>()</td>\n",
       "      <td>β</td>\n",
       "      <td>x</td>\n",
       "    </tr>\n",
       "    <tr>\n",
       "      <th>2</th>\n",
       "      <td>-0.842466</td>\n",
       "      <td>2021-07-31 02:57:58.051000+0900</td>\n",
       "      <td>True</td>\n",
       "      <td>56de17e6-ed83-4280-9df3-b53c14154952</td>\n",
       "      <td>default</td>\n",
       "      <td>(0,)</td>\n",
       "      <td>β</td>\n",
       "      <td>x</td>\n",
       "    </tr>\n",
       "    <tr>\n",
       "      <th>3</th>\n",
       "      <td>0.000000</td>\n",
       "      <td>2021-07-30 17:56:11.297420+0000</td>\n",
       "      <td>True</td>\n",
       "      <td>None</td>\n",
       "      <td>default</td>\n",
       "      <td>()</td>\n",
       "      <td>β</td>\n",
       "      <td>sx</td>\n",
       "    </tr>\n",
       "    <tr>\n",
       "      <th>4</th>\n",
       "      <td>0.000000</td>\n",
       "      <td>2021-07-30 17:53:14.423004+0000</td>\n",
       "      <td>True</td>\n",
       "      <td></td>\n",
       "      <td>default</td>\n",
       "      <td>()</td>\n",
       "      <td>β</td>\n",
       "      <td>sx</td>\n",
       "    </tr>\n",
       "  </tbody>\n",
       "</table>\n",
       "</div>"
      ],
      "text/plain": [
       "      value                        date_time  valid  \\\n",
       "0  0.000000  2021-07-30 17:56:11.297365+0000   True   \n",
       "1  0.000000  2021-07-30 17:53:14.422964+0000   True   \n",
       "2 -0.842466  2021-07-31 02:57:58.051000+0900   True   \n",
       "3  0.000000  2021-07-30 17:56:11.297420+0000   True   \n",
       "4  0.000000  2021-07-30 17:53:14.423004+0000   True   \n",
       "\n",
       "                                 exp_id    group qubits parameter schedule  \n",
       "0                                  None  default     ()         β        x  \n",
       "1                                        default     ()         β        x  \n",
       "2  56de17e6-ed83-4280-9df3-b53c14154952  default   (0,)         β        x  \n",
       "3                                  None  default     ()         β       sx  \n",
       "4                                        default     ()         β       sx  "
      ]
     },
     "execution_count": 39,
     "metadata": {},
     "output_type": "execute_result"
    }
   ],
   "source": [
    "pd.DataFrame(**cals.parameters_table(qubit_list=[qubit, ()], parameters=\"β\"))"
   ]
  },
  {
   "cell_type": "markdown",
   "id": "00ae061c",
   "metadata": {},
   "source": [
    "## 5. Fine amplitude calibration\n",
    "\n",
    "The `FineAmplitude` calibration experiment repeats $N$ times a gate with a pulse\n",
    "to amplify the under or over-rotations in the gate to determine the optimal amplitude.\n",
    "The circuits that are run have a custom gate with the pulse schedule attached to it\n",
    "through the calibrations."
   ]
  },
  {
   "cell_type": "code",
   "execution_count": 30,
   "id": "20ab91f2",
   "metadata": {},
   "outputs": [],
   "source": [
    "from qiskit_experiments.library.calibration.fine_amplitude import FineXAmplitudeCal"
   ]
  },
  {
   "cell_type": "code",
   "execution_count": 31,
   "id": "bfb3124b",
   "metadata": {},
   "outputs": [],
   "source": [
    "amp_x_cal = FineXAmplitudeCal(qubit, cals, schedule_name=\"x\")"
   ]
  },
  {
   "cell_type": "code",
   "execution_count": 32,
   "id": "c6127e65",
   "metadata": {},
   "outputs": [
    {
     "data": {
      "image/png": "[encoded data removed]",
      "text/plain": [
       "<Figure size 538.279x144.48 with 1 Axes>"
      ]
     },
     "execution_count": 32,
     "metadata": {},
     "output_type": "execute_result"
    }
   ],
   "source": [
    "amp_x_cal.circuits(backend)[5].draw(output=\"mpl\")"
   ]
  },
  {
   "cell_type": "code",
   "execution_count": 33,
   "id": "24067164",
   "metadata": {},
   "outputs": [],
   "source": [
    "data_fine = amp_x_cal.run(backend).block_for_results()"
   ]
  },
  {
   "cell_type": "code",
   "execution_count": 34,
   "id": "076bed0c",
   "metadata": {},
   "outputs": [
    {
     "data": {
      "image/png": "[encoded data removed]",
      "text/plain": [
       "<Figure size 576x360 with 1 Axes>"
      ]
     },
     "execution_count": 34,
     "metadata": {},
     "output_type": "execute_result"
    }
   ],
   "source": [
    "data_fine.figure(0)"
   ]
  },
  {
   "cell_type": "code",
   "execution_count": 35,
   "id": "cf2cc09a",
   "metadata": {},
   "outputs": [
    {
     "name": "stdout",
     "output_type": "stream",
     "text": [
      "DbAnalysisResultV1\n",
      "- name: d_theta\n",
      "- value: -0.10585059452665099 ± 0.0036016923711092905\n",
      "- χ²: 1.2761864922591215\n",
      "- quality: good\n",
      "- device_components: ['Q0']\n",
      "- verified: False\n"
     ]
    }
   ],
   "source": [
    "print(data_fine.analysis_results(\"d_theta\"))"
   ]
  },
  {
   "cell_type": "markdown",
   "id": "367c2e1f",
   "metadata": {},
   "source": [
    "The cell below shows how the amplitude is updated based on the error in the rotation angle measured by the `FineXAmplitude` experiment. Note that this calculation is automatically done by the `Amplitude.update` function."
   ]
  },
  {
   "cell_type": "code",
   "execution_count": 36,
   "id": "81adf659",
   "metadata": {},
   "outputs": [
    {
     "name": "stdout",
     "output_type": "stream",
     "text": [
      "The ideal angle is 3.14 rad. We measured a deviation of -0.106 rad.\n",
      "Thus, scale the 0.8962+0.0000j pulse amplitude by 1.035 to obtain 0.92746+0.00000j.\n"
     ]
    }
   ],
   "source": [
    "dtheta = data_fine.analysis_results(\"d_theta\").value.value\n",
    "target_angle = np.pi\n",
    "scale = target_angle / (target_angle + dtheta)\n",
    "pulse_amp = cals.get_parameter_value(\"amp\", qubit, \"x\")\n",
    "print(f\"The ideal angle is {target_angle:.2f} rad. We measured a deviation of {dtheta:.3f} rad.\")\n",
    "print(f\"Thus, scale the {pulse_amp:.4f} pulse amplitude by {scale:.3f} to obtain {pulse_amp*scale:.5f}.\")"
   ]
  },
  {
   "cell_type": "markdown",
   "id": "97c69c65",
   "metadata": {},
   "source": [
    "Observe, once again, that the calibrations have automatically been updated."
   ]
  },
  {
   "cell_type": "code",
   "execution_count": 37,
   "id": "81e7f3de",
   "metadata": {},
   "outputs": [
    {
     "data": {
      "text/html": [
       "<div>\n",
       "<style scoped>\n",
       "    .dataframe tbody tr th:only-of-type {\n",
       "        vertical-align: middle;\n",
       "    }\n",
       "\n",
       "    .dataframe tbody tr th {\n",
       "        vertical-align: top;\n",
       "    }\n",
       "\n",
       "    .dataframe thead th {\n",
       "        text-align: right;\n",
       "    }\n",
       "</style>\n",
       "<table border=\"1\" class=\"dataframe\">\n",
       "  <thead>\n",
       "    <tr style=\"text-align: right;\">\n",
       "      <th></th>\n",
       "      <th>parameter</th>\n",
       "      <th>qubits</th>\n",
       "      <th>schedule</th>\n",
       "      <th>value</th>\n",
       "      <th>group</th>\n",
       "      <th>valid</th>\n",
       "      <th>date_time</th>\n",
       "      <th>exp_id</th>\n",
       "    </tr>\n",
       "  </thead>\n",
       "  <tbody>\n",
       "    <tr>\n",
       "      <th>0</th>\n",
       "      <td>amp</td>\n",
       "      <td>()</td>\n",
       "      <td>sx</td>\n",
       "      <td>0.250000+0.000000j</td>\n",
       "      <td>default</td>\n",
       "      <td>True</td>\n",
       "      <td>2021-10-21 14:40:51.746391+0200</td>\n",
       "      <td>None</td>\n",
       "    </tr>\n",
       "    <tr>\n",
       "      <th>1</th>\n",
       "      <td>amp</td>\n",
       "      <td>()</td>\n",
       "      <td>sx</td>\n",
       "      <td>0.250000+0.000000j</td>\n",
       "      <td>default</td>\n",
       "      <td>True</td>\n",
       "      <td>2021-10-21 14:21:13.496333+0200</td>\n",
       "      <td></td>\n",
       "    </tr>\n",
       "    <tr>\n",
       "      <th>2</th>\n",
       "      <td>amp</td>\n",
       "      <td>(0,)</td>\n",
       "      <td>sx</td>\n",
       "      <td>0.433005+0.000000j</td>\n",
       "      <td>default</td>\n",
       "      <td>True</td>\n",
       "      <td>2021-10-21 14:39:49.487000+0200</td>\n",
       "      <td>1b5c7f5c-2a93-4beb-a3cd-037e3f18c397</td>\n",
       "    </tr>\n",
       "    <tr>\n",
       "      <th>3</th>\n",
       "      <td>amp</td>\n",
       "      <td>()</td>\n",
       "      <td>x</td>\n",
       "      <td>0.500000+0.000000j</td>\n",
       "      <td>default</td>\n",
       "      <td>True</td>\n",
       "      <td>2021-10-21 14:40:51.746354+0200</td>\n",
       "      <td>None</td>\n",
       "    </tr>\n",
       "    <tr>\n",
       "      <th>4</th>\n",
       "      <td>amp</td>\n",
       "      <td>()</td>\n",
       "      <td>x</td>\n",
       "      <td>0.500000+0.000000j</td>\n",
       "      <td>default</td>\n",
       "      <td>True</td>\n",
       "      <td>2021-10-21 14:21:13.496299+0200</td>\n",
       "      <td></td>\n",
       "    </tr>\n",
       "    <tr>\n",
       "      <th>5</th>\n",
       "      <td>amp</td>\n",
       "      <td>(0,)</td>\n",
       "      <td>x</td>\n",
       "      <td>0.866011+0.000000j</td>\n",
       "      <td>default</td>\n",
       "      <td>True</td>\n",
       "      <td>2021-10-21 14:39:49.487000+0200</td>\n",
       "      <td>1b5c7f5c-2a93-4beb-a3cd-037e3f18c397</td>\n",
       "    </tr>\n",
       "    <tr>\n",
       "      <th>6</th>\n",
       "      <td>amp</td>\n",
       "      <td>(0,)</td>\n",
       "      <td>x</td>\n",
       "      <td>0.896207+0.000000j</td>\n",
       "      <td>default</td>\n",
       "      <td>True</td>\n",
       "      <td>2021-10-21 14:42:13.806000+0200</td>\n",
       "      <td>1507e843-ca7f-4670-a2a8-ad3bbc51fe0c</td>\n",
       "    </tr>\n",
       "  </tbody>\n",
       "</table>\n",
       "</div>"
      ],
      "text/plain": [
       "  parameter qubits schedule               value    group  valid  \\\n",
       "0       amp     ()       sx  0.250000+0.000000j  default   True   \n",
       "1       amp     ()       sx  0.250000+0.000000j  default   True   \n",
       "2       amp   (0,)       sx  0.433005+0.000000j  default   True   \n",
       "3       amp     ()        x  0.500000+0.000000j  default   True   \n",
       "4       amp     ()        x  0.500000+0.000000j  default   True   \n",
       "5       amp   (0,)        x  0.866011+0.000000j  default   True   \n",
       "6       amp   (0,)        x  0.896207+0.000000j  default   True   \n",
       "\n",
       "                         date_time                                exp_id  \n",
       "0  2021-10-21 14:40:51.746391+0200                                  None  \n",
       "1  2021-10-21 14:21:13.496333+0200                                        \n",
       "2  2021-10-21 14:39:49.487000+0200  1b5c7f5c-2a93-4beb-a3cd-037e3f18c397  \n",
       "3  2021-10-21 14:40:51.746354+0200                                  None  \n",
       "4  2021-10-21 14:21:13.496299+0200                                        \n",
       "5  2021-10-21 14:39:49.487000+0200  1b5c7f5c-2a93-4beb-a3cd-037e3f18c397  \n",
       "6  2021-10-21 14:42:13.806000+0200  1507e843-ca7f-4670-a2a8-ad3bbc51fe0c  "
      ]
     },
     "execution_count": 37,
     "metadata": {},
     "output_type": "execute_result"
    }
   ],
   "source": [
    "pd.DataFrame(**cals.parameters_table(qubit_list=[qubit, ()], parameters=\"amp\"))"
   ]
  },
  {
   "cell_type": "markdown",
   "id": "114a92a9",
   "metadata": {},
   "source": [
    "To check that we have managed to reduce the error in the rotation angle we will run the fine amplitude calibration experiment once again."
   ]
  },
  {
   "cell_type": "code",
   "execution_count": 38,
   "id": "84146c1a",
   "metadata": {},
   "outputs": [],
   "source": [
    "data_fine2 = amp_x_cal.run(backend).block_for_results()"
   ]
  },
  {
   "cell_type": "code",
   "execution_count": 39,
   "id": "5218f8e0",
   "metadata": {},
   "outputs": [
    {
     "data": {
      "image/png": "[encoded data removed]",
      "text/plain": [
       "<Figure size 576x360 with 1 Axes>"
      ]
     },
     "execution_count": 39,
     "metadata": {},
     "output_type": "execute_result"
    }
   ],
   "source": [
    "data_fine2.figure(0)"
   ]
  },
  {
   "cell_type": "markdown",
   "id": "2fbc466a",
   "metadata": {},
   "source": [
    "As can be seen from the data above and the analysis result below we have managed to reduce the error in the rotation angle ${\\rm d}\\theta$."
   ]
  },
  {
   "cell_type": "code",
   "execution_count": 40,
   "id": "25ddccd3",
   "metadata": {},
   "outputs": [
    {
     "name": "stdout",
     "output_type": "stream",
     "text": [
      "DbAnalysisResultV1\n",
      "- name: d_theta\n",
      "- value: -0.023041381974401358 ± 0.001382763290893336\n",
      "- χ²: 1.8251091489996691\n",
      "- quality: good\n",
      "- device_components: ['Q0']\n",
      "- verified: False\n"
     ]
    }
   ],
   "source": [
    "print(data_fine2.analysis_results(\"d_theta\"))"
   ]
  },
  {
   "cell_type": "markdown",
   "id": "a4935730",
   "metadata": {},
   "source": [
    "### Fine amplitude calibration of the $\\pi/2$ rotation\n",
    "\n",
    "We now wish to calibrate the amplitude of the $\\pi/2$ rotation."
   ]
  },
  {
   "cell_type": "code",
   "execution_count": 41,
   "id": "50423105",
   "metadata": {},
   "outputs": [],
   "source": [
    "from qiskit_experiments.library.calibration.fine_amplitude import FineSXAmplitudeCal"
   ]
  },
  {
   "cell_type": "code",
   "execution_count": 43,
   "id": "a075eacb",
   "metadata": {},
   "outputs": [],
   "source": [
    "amp_sx_cal = FineSXAmplitudeCal(qubit, cals, schedule_name=\"sx\")"
   ]
  },
  {
   "cell_type": "code",
   "execution_count": 44,
   "id": "3d38a13f",
   "metadata": {},
   "outputs": [
    {
     "data": {
      "image/png": "[encoded data removed]",
      "text/plain": [
       "<Figure size 779.079x144.48 with 1 Axes>"
      ]
     },
     "execution_count": 44,
     "metadata": {},
     "output_type": "execute_result"
    }
   ],
   "source": [
    "amp_sx_cal.circuits(backend)[5].draw(output=\"mpl\")"
   ]
  },
  {
   "cell_type": "code",
   "execution_count": 45,
   "id": "6c00c3f5",
   "metadata": {},
   "outputs": [],
   "source": [
    "data_fine_sx = amp_sx_cal.run(backend).block_for_results()"
   ]
  },
  {
   "cell_type": "code",
   "execution_count": 46,
   "id": "0117cb2d",
   "metadata": {},
   "outputs": [
    {
     "data": {
      "image/png": "[encoded data removed]",
      "text/plain": [
       "<Figure size 576x360 with 1 Axes>"
      ]
     },
     "execution_count": 46,
     "metadata": {},
     "output_type": "execute_result"
    }
   ],
   "source": [
    "data_fine_sx.figure(0)"
   ]
  },
  {
   "cell_type": "code",
   "execution_count": 47,
   "id": "5d5a1131",
   "metadata": {},
   "outputs": [
    {
     "name": "stdout",
     "output_type": "stream",
     "text": [
      "DbAnalysisResultV1\n",
      "- name: d_theta\n",
      "- value: 0.04145980422899995 ± 0.0015231144619942427\n",
      "- χ²: 1.0258195129532202\n",
      "- quality: good\n",
      "- device_components: ['Q0']\n",
      "- verified: False\n"
     ]
    }
   ],
   "source": [
    "print(data_fine_sx.analysis_results(\"d_theta\"))"
   ]
  },
  {
   "cell_type": "markdown",
   "id": "72571816",
   "metadata": {},
   "source": [
    "The parameter value is reflected in the calibrations."
   ]
  },
  {
   "cell_type": "code",
   "execution_count": 48,
   "id": "ae984c47",
   "metadata": {},
   "outputs": [
    {
     "data": {
      "text/html": [
       "<div>\n",
       "<style scoped>\n",
       "    .dataframe tbody tr th:only-of-type {\n",
       "        vertical-align: middle;\n",
       "    }\n",
       "\n",
       "    .dataframe tbody tr th {\n",
       "        vertical-align: top;\n",
       "    }\n",
       "\n",
       "    .dataframe thead th {\n",
       "        text-align: right;\n",
       "    }\n",
       "</style>\n",
       "<table border=\"1\" class=\"dataframe\">\n",
       "  <thead>\n",
       "    <tr style=\"text-align: right;\">\n",
       "      <th></th>\n",
       "      <th>parameter</th>\n",
       "      <th>qubits</th>\n",
       "      <th>schedule</th>\n",
       "      <th>value</th>\n",
       "      <th>group</th>\n",
       "      <th>valid</th>\n",
       "      <th>date_time</th>\n",
       "      <th>exp_id</th>\n",
       "    </tr>\n",
       "  </thead>\n",
       "  <tbody>\n",
       "    <tr>\n",
       "      <th>0</th>\n",
       "      <td>amp</td>\n",
       "      <td>()</td>\n",
       "      <td>sx</td>\n",
       "      <td>0.250000+0.000000j</td>\n",
       "      <td>default</td>\n",
       "      <td>True</td>\n",
       "      <td>2021-10-21 14:40:51.746391+0200</td>\n",
       "      <td>None</td>\n",
       "    </tr>\n",
       "    <tr>\n",
       "      <th>1</th>\n",
       "      <td>amp</td>\n",
       "      <td>()</td>\n",
       "      <td>sx</td>\n",
       "      <td>0.250000+0.000000j</td>\n",
       "      <td>default</td>\n",
       "      <td>True</td>\n",
       "      <td>2021-10-21 14:21:13.496333+0200</td>\n",
       "      <td></td>\n",
       "    </tr>\n",
       "    <tr>\n",
       "      <th>2</th>\n",
       "      <td>amp</td>\n",
       "      <td>(0,)</td>\n",
       "      <td>sx</td>\n",
       "      <td>0.433005+0.000000j</td>\n",
       "      <td>default</td>\n",
       "      <td>True</td>\n",
       "      <td>2021-10-21 14:39:49.487000+0200</td>\n",
       "      <td>1b5c7f5c-2a93-4beb-a3cd-037e3f18c397</td>\n",
       "    </tr>\n",
       "    <tr>\n",
       "      <th>3</th>\n",
       "      <td>amp</td>\n",
       "      <td>(0,)</td>\n",
       "      <td>sx</td>\n",
       "      <td>0.421870+0.000000j</td>\n",
       "      <td>default</td>\n",
       "      <td>True</td>\n",
       "      <td>2021-10-21 14:46:58.782000+0200</td>\n",
       "      <td>ce7fdf7f-1243-44f8-92b3-2861f75b955e</td>\n",
       "    </tr>\n",
       "    <tr>\n",
       "      <th>4</th>\n",
       "      <td>amp</td>\n",
       "      <td>()</td>\n",
       "      <td>x</td>\n",
       "      <td>0.500000+0.000000j</td>\n",
       "      <td>default</td>\n",
       "      <td>True</td>\n",
       "      <td>2021-10-21 14:40:51.746354+0200</td>\n",
       "      <td>None</td>\n",
       "    </tr>\n",
       "    <tr>\n",
       "      <th>5</th>\n",
       "      <td>amp</td>\n",
       "      <td>()</td>\n",
       "      <td>x</td>\n",
       "      <td>0.500000+0.000000j</td>\n",
       "      <td>default</td>\n",
       "      <td>True</td>\n",
       "      <td>2021-10-21 14:21:13.496299+0200</td>\n",
       "      <td></td>\n",
       "    </tr>\n",
       "    <tr>\n",
       "      <th>6</th>\n",
       "      <td>amp</td>\n",
       "      <td>(0,)</td>\n",
       "      <td>x</td>\n",
       "      <td>0.866011+0.000000j</td>\n",
       "      <td>default</td>\n",
       "      <td>True</td>\n",
       "      <td>2021-10-21 14:39:49.487000+0200</td>\n",
       "      <td>1b5c7f5c-2a93-4beb-a3cd-037e3f18c397</td>\n",
       "    </tr>\n",
       "    <tr>\n",
       "      <th>7</th>\n",
       "      <td>amp</td>\n",
       "      <td>(0,)</td>\n",
       "      <td>x</td>\n",
       "      <td>0.896207+0.000000j</td>\n",
       "      <td>default</td>\n",
       "      <td>True</td>\n",
       "      <td>2021-10-21 14:42:13.806000+0200</td>\n",
       "      <td>1507e843-ca7f-4670-a2a8-ad3bbc51fe0c</td>\n",
       "    </tr>\n",
       "    <tr>\n",
       "      <th>8</th>\n",
       "      <td>amp</td>\n",
       "      <td>(0,)</td>\n",
       "      <td>x</td>\n",
       "      <td>0.902828+0.000000j</td>\n",
       "      <td>default</td>\n",
       "      <td>True</td>\n",
       "      <td>2021-10-21 14:44:44.903000+0200</td>\n",
       "      <td>31ae56ba-bad3-4eed-9a80-7e54282318f7</td>\n",
       "    </tr>\n",
       "  </tbody>\n",
       "</table>\n",
       "</div>"
      ],
      "text/plain": [
       "  parameter qubits schedule               value    group  valid  \\\n",
       "0       amp     ()       sx  0.250000+0.000000j  default   True   \n",
       "1       amp     ()       sx  0.250000+0.000000j  default   True   \n",
       "2       amp   (0,)       sx  0.433005+0.000000j  default   True   \n",
       "3       amp   (0,)       sx  0.421870+0.000000j  default   True   \n",
       "4       amp     ()        x  0.500000+0.000000j  default   True   \n",
       "5       amp     ()        x  0.500000+0.000000j  default   True   \n",
       "6       amp   (0,)        x  0.866011+0.000000j  default   True   \n",
       "7       amp   (0,)        x  0.896207+0.000000j  default   True   \n",
       "8       amp   (0,)        x  0.902828+0.000000j  default   True   \n",
       "\n",
       "                         date_time                                exp_id  \n",
       "0  2021-10-21 14:40:51.746391+0200                                  None  \n",
       "1  2021-10-21 14:21:13.496333+0200                                        \n",
       "2  2021-10-21 14:39:49.487000+0200  1b5c7f5c-2a93-4beb-a3cd-037e3f18c397  \n",
       "3  2021-10-21 14:46:58.782000+0200  ce7fdf7f-1243-44f8-92b3-2861f75b955e  \n",
       "4  2021-10-21 14:40:51.746354+0200                                  None  \n",
       "5  2021-10-21 14:21:13.496299+0200                                        \n",
       "6  2021-10-21 14:39:49.487000+0200  1b5c7f5c-2a93-4beb-a3cd-037e3f18c397  \n",
       "7  2021-10-21 14:42:13.806000+0200  1507e843-ca7f-4670-a2a8-ad3bbc51fe0c  \n",
       "8  2021-10-21 14:44:44.903000+0200  31ae56ba-bad3-4eed-9a80-7e54282318f7  "
      ]
     },
     "execution_count": 48,
     "metadata": {},
     "output_type": "execute_result"
    }
   ],
   "source": [
    "pd.DataFrame(**cals.parameters_table(qubit_list=[qubit, ()], parameters=\"amp\"))"
   ]
  },
  {
   "cell_type": "code",
   "execution_count": 49,
   "id": "f7cb5878",
   "metadata": {},
   "outputs": [
    {
     "data": {
      "text/plain": [
       "ScheduleBlock(Play(Drag(duration=320, amp=(0.421870407153443+0j), sigma=80, beta=0), DriveChannel(0)), name=\"sx\", transform=AlignLeft())"
      ]
     },
     "execution_count": 49,
     "metadata": {},
     "output_type": "execute_result"
    }
   ],
   "source": [
    "cals.get_schedule(\"sx\", qubit)"
   ]
  },
  {
   "cell_type": "code",
   "execution_count": 50,
   "id": "f45f6482",
   "metadata": {},
   "outputs": [
    {
     "data": {
      "text/plain": [
       "ScheduleBlock(Play(Drag(duration=320, amp=(0.902828399794558+0j), sigma=80, beta=0), DriveChannel(0)), name=\"x\", transform=AlignLeft())"
      ]
     },
     "execution_count": 50,
     "metadata": {},
     "output_type": "execute_result"
    }
   ],
   "source": [
    "cals.get_schedule(\"x\", qubit)"
   ]
  },
  {
   "cell_type": "code",
   "execution_count": 51,
   "id": "68f6e469",
   "metadata": {},
   "outputs": [
    {
     "data": {
      "text/plain": [
       "ScheduleBlock(Play(Drag(duration=320, amp=0.902828399794558j, sigma=80, beta=0), DriveChannel(0)), name=\"y\", transform=AlignLeft())"
      ]
     },
     "execution_count": 51,
     "metadata": {},
     "output_type": "execute_result"
    }
   ],
   "source": [
    "cals.get_schedule(\"y\", qubit)"
   ]
  },
  {
   "cell_type": "code",
   "execution_count": 52,
   "id": "8c8369d4",
   "metadata": {},
   "outputs": [
    {
     "data": {
      "text/html": [
       "<div style='width: 100%; background-color:#d5d9e0;padding-left: 10px; padding-bottom: 10px; padding-right: 10px; padding-top: 5px'><h3>This code is a part of Qiskit</h3><p>&copy; Copyright IBM 2017, 2021.</p><p>This code is licensed under the Apache License, Version 2.0. You may<br>obtain a copy of this license in the LICENSE.txt file in the root directory<br> of this source tree or at http://www.apache.org/licenses/LICENSE-2.0.<p>Any modifications or derivative works of this code must retain this<br>copyright notice, and modified files need to carry a notice indicating<br>that they have been altered from the originals.</p></div>"
      ],
      "text/plain": [
       "<IPython.core.display.HTML object>"
      ]
     },
     "metadata": {},
     "output_type": "display_data"
    }
   ],
   "source": [
    "import qiskit.tools.jupyter\n",
    "%qiskit_copyright"
   ]
  },
  {
   "cell_type": "code",
   "execution_count": null,
   "id": "1ef7ec55",
   "metadata": {},
   "outputs": [],
   "source": []
  }
 ],
 "metadata": {
  "kernelspec": {
   "display_name": "Python 3 (ipykernel)",
   "language": "python",
   "name": "python3"
  },
  "language_info": {
   "codemirror_mode": {
    "name": "ipython",
    "version": 3
   },
   "file_extension": ".py",
   "mimetype": "text/x-python",
   "name": "python",
   "nbconvert_exporter": "python",
   "pygments_lexer": "ipython3",
   "version": "3.8.5"
  }
 },
 "nbformat": 4,
 "nbformat_minor": 5
}
