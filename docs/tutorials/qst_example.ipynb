{
 "cells": [
  {
   "cell_type": "markdown",
   "metadata": {},
   "source": [
    "# Quantum State Tomography"
   ]
  },
  {
   "cell_type": "code",
   "execution_count": 1,
   "metadata": {},
   "outputs": [],
   "source": [
    "import qiskit\n",
    "import qiskit_experiments as qe\n",
    "tomo = qe.tomography\n",
    "\n",
    "# For simulation\n",
    "from qiskit.providers.aer import AerSimulator\n",
    "from qiskit.test.mock import FakeParis\n",
    "\n",
    "# Noisy simulator backend\n",
    "backend = AerSimulator.from_backend(FakeParis())"
   ]
  },
  {
   "cell_type": "markdown",
   "metadata": {},
   "source": [
    "## State Tomography Experiment\n",
    "\n",
    "To run a state tomography experiment we initialize the experiment with a circuit to prepare the state to be measured. We can also pass in an `Operator`, or a `Statevector` to describe the preparation circuit."
   ]
  },
  {
   "cell_type": "code",
   "execution_count": 2,
   "metadata": {},
   "outputs": [
    {
     "name": "stdout",
     "output_type": "stream",
     "text": [
      "FIT RESULT\n",
      "state: DensityMatrix([[ 0.48046875+0.j        ,  0.00960286-0.01546224j,\n",
      "                -0.02132161+0.00569661j,  0.00488281-0.45410156j],\n",
      "               [ 0.00960286+0.01546224j,  0.03125   +0.j        ,\n",
      "                 0.00683594+0.00488281j,  0.01676432+0.0008138j ],\n",
      "               [-0.02132161-0.00569661j,  0.00683594-0.00488281j,\n",
      "                 0.02734375+0.j        ,  0.00374349+0.00211589j],\n",
      "               [ 0.00488281+0.45410156j,  0.01676432-0.0008138j ,\n",
      "                 0.00374349-0.00211589j,  0.4609375 +0.j        ]],\n",
      "              dims=(2, 2))\n",
      "fitter: linear_inversion\n",
      "fitter_time: 0.002797842025756836\n",
      "state_eigvals: [0.92586773 0.04276179 0.02850229 0.00286819]\n",
      "state_trace: 0.9999999999999999\n",
      "value: 0.9248046874999998\n",
      "value_label: state_fidelity\n",
      "success: True\n"
     ]
    }
   ],
   "source": [
    "# Run experiments\n",
    "\n",
    "# GHZ State preparation circuit\n",
    "nq = 2\n",
    "qc_ghz = qiskit.QuantumCircuit(nq)\n",
    "qc_ghz.h(0)\n",
    "qc_ghz.s(0)\n",
    "for i in range(1, nq):\n",
    "    qc_ghz.cx(0, i)\n",
    "\n",
    "# QST Experiment\n",
    "qstexp1 = tomo.StateTomographyExperiment(qc_ghz)\n",
    "qstdata1 = qstexp1.run(backend, seed_simulation=100)\n",
    "qstresult = qstdata1.analysis_result(-1)\n",
    "\n",
    "print('FIT RESULT')\n",
    "for key, val in qstresult.items():\n",
    "    print(f'{key}:', val)"
   ]
  },
  {
   "cell_type": "markdown",
   "metadata": {},
   "source": [
    "### Tomography Results\n",
    "\n",
    "The main results for tomography are the fitted state, which is stored in the `\"state\"` key as a `DensityMatrix` object:"
   ]
  },
  {
   "cell_type": "code",
   "execution_count": 3,
   "metadata": {},
   "outputs": [
    {
     "name": "stdout",
     "output_type": "stream",
     "text": [
      "DensityMatrix([[ 0.48046875+0.j        ,  0.00960286-0.01546224j,\n",
      "                -0.02132161+0.00569661j,  0.00488281-0.45410156j],\n",
      "               [ 0.00960286+0.01546224j,  0.03125   +0.j        ,\n",
      "                 0.00683594+0.00488281j,  0.01676432+0.0008138j ],\n",
      "               [-0.02132161-0.00569661j,  0.00683594-0.00488281j,\n",
      "                 0.02734375+0.j        ,  0.00374349+0.00211589j],\n",
      "               [ 0.00488281+0.45410156j,  0.01676432-0.0008138j ,\n",
      "                 0.00374349-0.00211589j,  0.4609375 +0.j        ]],\n",
      "              dims=(2, 2))\n"
     ]
    }
   ],
   "source": [
    "print(qstresult[\"state\"])"
   ]
  },
  {
   "cell_type": "markdown",
   "metadata": {},
   "source": [
    "Additional data stored in the tomography result including:\n",
    "- `\"value\"`: The `state_fidelity` with the ideal target state\n",
    "- `\"state_trace\"`: The trace of the fitted state (sum of state eigenvalues)\n",
    "- `\"state_eigvals\"`: the eigenvalues of the fitted state"
   ]
  },
  {
   "cell_type": "code",
   "execution_count": 4,
   "metadata": {},
   "outputs": [
    {
     "name": "stdout",
     "output_type": "stream",
     "text": [
      "State fidelity = 0.9248046874999998\n",
      "State eigenvalues = [0.92586773 0.04276179 0.02850229 0.00286819]\n",
      "State trace = 0.9999999999999999\n"
     ]
    }
   ],
   "source": [
    "print(\"State fidelity =\", qstresult[\"value\"])\n",
    "print(\"State eigenvalues =\", qstresult[\"state_eigvals\"])\n",
    "print(\"State trace =\", qstresult[\"state_trace\"])"
   ]
  },
  {
   "cell_type": "markdown",
   "metadata": {},
   "source": [
    "#### Additional result metadata\n",
    "\n",
    "If the fitted returned a non-positive hat was rescaled to be PSD there will be additional fields in the metadata containing the raw (unscaled) eigenvalues:\n",
    "\n",
    "- `\"raw_eigenvalues\"`: the eigenvalues of the state before rescaling\n",
    "- `\"rescaled_psd:` : True if PSD rescaling was performed.\n",
    "\n",
    "If trace rescaling was performed because the input state was not trace 1, there will also be extra fields:\n",
    "- `\"raw_trace\"`: the sum of the raw eigenvalues before rescaling\n",
    "- `\"rescaled_trace\"`: True if trace rescaling was performed"
   ]
  },
  {
   "cell_type": "markdown",
   "metadata": {},
   "source": [
    "To see the effect of rescaling we can perform a \"bad\" fit with very low counts"
   ]
  },
  {
   "cell_type": "code",
   "execution_count": 5,
   "metadata": {},
   "outputs": [
    {
     "name": "stdout",
     "output_type": "stream",
     "text": [
      "FIT RESULT\n",
      "state: DensityMatrix([[ 0.41889088+0.j        , -0.01901677+0.00832074j,\n",
      "                -0.03035713+0.02792112j, -0.09311667-0.39729055j],\n",
      "               [-0.01901677-0.00832074j,  0.05838767+0.j        ,\n",
      "                -0.0229442 -0.0030119j ,  0.02379613-0.05475337j],\n",
      "               [-0.03035713-0.02792112j, -0.0229442 +0.0030119j ,\n",
      "                 0.01494642+0.j        , -0.02858843+0.06849366j],\n",
      "               [-0.09311667+0.39729055j,  0.02379613+0.05475337j,\n",
      "                -0.02858843-0.06849366j,  0.50777504+0.j        ]],\n",
      "              dims=(2, 2))\n",
      "fitter: linear_inversion\n",
      "fitter_time: 0.0015001296997070312\n",
      "rescaled_psd: True\n",
      "state_eigvals: [0.88304004 0.11695996 0.         0.        ]\n",
      "raw_eigvals: [ 0.97365872  0.20757865  0.03681031 -0.21804768]\n",
      "state_trace: 0.9999999999999982\n",
      "value: 0.8606235026683007\n",
      "value_label: state_fidelity\n",
      "success: True\n"
     ]
    }
   ],
   "source": [
    "# QST Experiment\n",
    "bad_data = qstexp1.run(backend, shots=10, seed_simulation=100)\n",
    "bad_result = bad_data.analysis_result(-1)\n",
    "\n",
    "print('FIT RESULT')\n",
    "for key, val in bad_result.items():\n",
    "    print(f'{key}:', val)"
   ]
  },
  {
   "cell_type": "markdown",
   "metadata": {},
   "source": [
    "## Tomography Fitters\n",
    "\n",
    "The default fitters is `linear_inversion`, which reconstructs the state using *dual basis* of the tomography basis. This will typically result in a non-postive reconstructed state. This state is rescaled to be postive-semidfinite (PSD) by computing its eigen-decomposition and rescaling its eigenvalues using the approach from *J Smolin, JM Gambetta, G Smith, Phys. Rev. Lett. 108, 070502 (2012), [open access](https://arxiv.org/abs/arXiv:1106.5458).\n",
    "\n",
    "There are several other fitters are included (See API documentation for details). For example if `cvxpy` is installed we can use the `cvxpy_gaussian_lstsq` fitter which allows constraining the fit to be PSD without requiring rescaling."
   ]
  },
  {
   "cell_type": "code",
   "execution_count": 6,
   "metadata": {},
   "outputs": [
    {
     "name": "stdout",
     "output_type": "stream",
     "text": [
      "FIT RESULT\n",
      "state: DensityMatrix([[ 0.48047131+0.00000000e+00j,  0.00960283-1.54624197e-02j,\n",
      "                -0.0213217 +5.69679365e-03j,  0.00488287-4.54106140e-01j],\n",
      "               [ 0.00960283+1.54624197e-02j,  0.03124744+1.08420217e-18j,\n",
      "                 0.00683582+4.88319131e-03j,  0.01676447+8.13703003e-04j],\n",
      "               [-0.0213217 -5.69679365e-03j,  0.00683582-4.88319131e-03j,\n",
      "                 0.02734128+1.73472348e-18j,  0.00374364+2.11608818e-03j],\n",
      "               [ 0.00488287+4.54106140e-01j,  0.01676447-8.13703003e-04j,\n",
      "                 0.00374364-2.11608818e-03j,  0.46093997+8.67361738e-19j]],\n",
      "              dims=(2, 2))\n",
      "cvxpy_solver: CVXOPT\n",
      "cvxpy_status: optimal\n",
      "fitter: cvxpy_linear_lstsq\n",
      "fitter_time: 0.07893776893615723\n",
      "rescaled_trace: True\n",
      "state_eigvals: [0.92587484 0.04275964 0.0284995  0.00286602]\n",
      "raw_eigvals: [0.92587372 0.04275959 0.02849947 0.00286602]\n",
      "state_trace: 1.0\n",
      "raw_trace: 0.999998798152777\n",
      "value: 0.9248117804376139\n",
      "value_label: state_fidelity\n",
      "success: True\n"
     ]
    }
   ],
   "source": [
    "qstexp1.run_analysis(qstdata1, fitter='cvxpy_linear_lstsq')\n",
    "qstresult2 = qstdata1.analysis_result(-1)\n",
    "\n",
    "print('FIT RESULT')\n",
    "for key, val in qstresult2.items():\n",
    "    print(f'{key}:', val)"
   ]
  },
  {
   "cell_type": "markdown",
   "metadata": {},
   "source": [
    "## Parallel Tomography Experiment\n",
    "\n",
    "We can also use the `qiskit_experiments.ParallelExperiment` class to run subsystem tomography on multiple qubits in parallel.\n",
    "\n",
    "For example if we want to perform 1-qubit QST on several qubits at once:"
   ]
  },
  {
   "cell_type": "code",
   "execution_count": 7,
   "metadata": {},
   "outputs": [
    {
     "name": "stdout",
     "output_type": "stream",
     "text": [
      "\n",
      "- experiment_types: ['StateTomographyExperiment', 'StateTomographyExperiment', 'StateTomographyExperiment', 'StateTomographyExperiment', 'StateTomographyExperiment']\n",
      "- experiment_ids: ['fafe4878-8b66-4c9d-939c-a74e5708e9c9', '2c8e695c-b042-414d-a46b-61699e522da7', '67a92223-4b0a-4d3c-9bbc-de7a12ccd8b3', 'a235c5e5-e6b3-4307-9aae-d1644b097a7d', '818f5711-8991-4c09-b3a1-20cb727e6d95']\n",
      "- experiment_qubits: [(0,), (1,), (2,), (3,), (4,)]\n",
      "- success: True\n"
     ]
    }
   ],
   "source": [
    "from math import pi\n",
    "num_qubits = 5\n",
    "gates = [qiskit.circuit.library.RXGate(i * pi / (num_qubits - 1))\n",
    "         for i in range(num_qubits)]\n",
    "\n",
    "subexps = [\n",
    "    tomo.StateTomographyExperiment(gate, qubits=[i])\n",
    "    for i, gate in enumerate(gates)\n",
    "]\n",
    "parexp = qe.composite.ParallelExperiment(subexps)\n",
    "pardata = parexp.run(backend, seed_simulation=100)\n",
    "print(pardata.analysis_result(-1))"
   ]
  },
  {
   "cell_type": "markdown",
   "metadata": {},
   "source": [
    "View component experiment analysis results"
   ]
  },
  {
   "cell_type": "code",
   "execution_count": 8,
   "metadata": {},
   "outputs": [
    {
     "name": "stdout",
     "output_type": "stream",
     "text": [
      "\n",
      "PARALLEL EXP 0: FIT RESULT\n",
      "state: DensityMatrix([[ 0.98046875+0.j      , -0.00195312-0.015625j],\n",
      "               [-0.00195312+0.015625j,  0.01953125+0.j      ]],\n",
      "              dims=(2,))\n",
      "fitter: linear_inversion\n",
      "fitter_time: 0.00022101402282714844\n",
      "state_eigvals: [0.98072672 0.01927328]\n",
      "state_trace: 1.0\n",
      "value: 0.9804687499999997\n",
      "value_label: state_fidelity\n",
      "success: True\n",
      "\n",
      "PARALLEL EXP 1: FIT RESULT\n",
      "state: DensityMatrix([[0.84179687+0.j        , 0.04492188+0.34082031j],\n",
      "               [0.04492188-0.34082031j, 0.15820313+0.j        ]],\n",
      "              dims=(2,))\n",
      "fitter: linear_inversion\n",
      "fitter_time: 0.00011491775512695312\n",
      "state_eigvals: [0.9847696 0.0152304]\n",
      "state_trace: 0.9999999999999999\n",
      "value: 0.9826832422357389\n",
      "value_label: state_fidelity\n",
      "success: True\n",
      "\n",
      "PARALLEL EXP 2: FIT RESULT\n",
      "state: DensityMatrix([[ 0.49511719+0.j        , -0.00683594+0.47265625j],\n",
      "               [-0.00683594-0.47265625j,  0.50488281+0.j        ]],\n",
      "              dims=(2,))\n",
      "fitter: linear_inversion\n",
      "fitter_time: 0.0001251697540283203\n",
      "state_eigvals: [0.9727309 0.0272691]\n",
      "state_trace: 0.9999999999999998\n",
      "value: 0.97265625\n",
      "value_label: state_fidelity\n",
      "success: True\n",
      "\n",
      "PARALLEL EXP 3: FIT RESULT\n",
      "state: DensityMatrix([[0.15722656+0.j       , 0.02832031+0.3359375j],\n",
      "               [0.02832031-0.3359375j, 0.84277344+0.j       ]],\n",
      "              dims=(2,))\n",
      "fitter: linear_inversion\n",
      "fitter_time: 0.00010704994201660156\n",
      "state_eigvals: [0.98078028 0.01921972]\n",
      "state_trace: 1.0\n",
      "value: 0.979921106371729\n",
      "value_label: state_fidelity\n",
      "success: True\n",
      "\n",
      "PARALLEL EXP 4: FIT RESULT\n",
      "state: DensityMatrix([[0.02636719+0.j        , 0.01660156-0.02832031j],\n",
      "               [0.01660156+0.02832031j, 0.97363281+0.j        ]],\n",
      "              dims=(2,))\n",
      "fitter: linear_inversion\n",
      "fitter_time: 0.00010609626770019531\n",
      "state_eigvals: [0.97476909 0.02523091]\n",
      "state_trace: 1.0\n",
      "value: 0.9736328124999999\n",
      "value_label: state_fidelity\n",
      "success: True\n"
     ]
    }
   ],
   "source": [
    "for i in range(parexp.num_experiments):\n",
    "    expdata = pardata.component_experiment_data(i)\n",
    "    result = expdata.analysis_result(-1)\n",
    "    \n",
    "    print(f'\\nPARALLEL EXP {i}: FIT RESULT')\n",
    "    for key, val in result.items():\n",
    "        print(f'{key}:', val)"
   ]
  }
 ],
 "metadata": {
  "kernelspec": {
   "display_name": "Python [conda env:qiskit-dev]",
   "language": "python",
   "name": "conda-env-qiskit-dev-py"
  },
  "language_info": {
   "codemirror_mode": {
    "name": "ipython",
    "version": 3
   },
   "file_extension": ".py",
   "mimetype": "text/x-python",
   "name": "python",
   "nbconvert_exporter": "python",
   "pygments_lexer": "ipython3",
   "version": "3.7.7"
  }
 },
 "nbformat": 4,
 "nbformat_minor": 4
}
