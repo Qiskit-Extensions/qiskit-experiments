{
 "cells": [
  {
   "cell_type": "markdown",
   "metadata": {},
   "source": [
    "# Readout Mitigation\n",
    "\n"
   ]
  },
  {
   "cell_type": "code",
   "execution_count": 1,
   "metadata": {},
   "outputs": [
    {
     "ename": "ImportError",
     "evalue": "cannot import name 'MeasurementMitigation' from 'qiskit_experiments.library' (C:\\Users\\gadia\\anaconda3\\envs\\qiskit38\\lib\\site-packages\\qiskit_experiments\\library\\__init__.py)",
     "output_type": "error",
     "traceback": [
      "\u001b[1;31m---------------------------------------------------------------------------\u001b[0m",
      "\u001b[1;31mImportError\u001b[0m                               Traceback (most recent call last)",
      "\u001b[1;32m~\\DOCUME~1\\MobaXterm\\slash\\var\\log\\xwin/ipykernel_52292/1475349633.py\u001b[0m in \u001b[0;36m<module>\u001b[1;34m\u001b[0m\n\u001b[0;32m      3\u001b[0m \u001b[1;32mfrom\u001b[0m \u001b[0mqiskit\u001b[0m \u001b[1;32mimport\u001b[0m \u001b[0mQuantumCircuit\u001b[0m\u001b[1;33m\u001b[0m\u001b[1;33m\u001b[0m\u001b[0m\n\u001b[0;32m      4\u001b[0m \u001b[1;32mfrom\u001b[0m \u001b[0mqiskit\u001b[0m\u001b[1;33m.\u001b[0m\u001b[0mvisualization\u001b[0m \u001b[1;32mimport\u001b[0m \u001b[0mplot_histogram\u001b[0m\u001b[1;33m\u001b[0m\u001b[1;33m\u001b[0m\u001b[0m\n\u001b[1;32m----> 5\u001b[1;33m \u001b[1;32mfrom\u001b[0m \u001b[0mqiskit_experiments\u001b[0m\u001b[1;33m.\u001b[0m\u001b[0mlibrary\u001b[0m \u001b[1;32mimport\u001b[0m \u001b[0mMeasurementMitigation\u001b[0m\u001b[1;33m\u001b[0m\u001b[1;33m\u001b[0m\u001b[0m\n\u001b[0m\u001b[0;32m      6\u001b[0m \u001b[1;31m# For simulation\u001b[0m\u001b[1;33m\u001b[0m\u001b[1;33m\u001b[0m\u001b[1;33m\u001b[0m\u001b[0m\n\u001b[0;32m      7\u001b[0m \u001b[1;32mfrom\u001b[0m \u001b[0mqiskit\u001b[0m\u001b[1;33m.\u001b[0m\u001b[0mproviders\u001b[0m\u001b[1;33m.\u001b[0m\u001b[0maer\u001b[0m \u001b[1;32mimport\u001b[0m \u001b[0mAerSimulator\u001b[0m\u001b[1;33m\u001b[0m\u001b[1;33m\u001b[0m\u001b[0m\n",
      "\u001b[1;31mImportError\u001b[0m: cannot import name 'MeasurementMitigation' from 'qiskit_experiments.library' (C:\\Users\\gadia\\anaconda3\\envs\\qiskit38\\lib\\site-packages\\qiskit_experiments\\library\\__init__.py)"
     ]
    }
   ],
   "source": [
    "import numpy as np\n",
    "import matplotlib.pyplot as plt\n",
    "from qiskit import QuantumCircuit\n",
    "from qiskit.visualization import plot_histogram\n",
    "from qiskit_experiments.library import ReadoutMitigationExperiment\n",
    "# For simulation\n",
    "from qiskit.providers.aer import AerSimulator\n",
    "from qiskit.test.mock import FakeParis\n",
    "\n",
    "from qiskit.result.mitigation.utils import (\n",
    "    expval_with_stddev,\n",
    "    str2diag,\n",
    "    counts_probability_vector\n",
    ")\n",
    "\n",
    "backend = AerSimulator.from_backend(FakeParis())"
   ]
  },
  {
   "cell_type": "code",
   "execution_count": null,
   "metadata": {},
   "outputs": [],
   "source": [
    "SHOTS = 1024\n",
    "qubits = [0,1,2,3]\n",
    "num_qubits = len(qubits)"
   ]
  },
  {
   "cell_type": "code",
   "execution_count": null,
   "metadata": {},
   "outputs": [],
   "source": [
    "exp = ReadoutMitigationExperiment(qubits)\n",
    "for c in exp.circuits():\n",
    "    print(c)"
   ]
  },
  {
   "cell_type": "code",
   "execution_count": null,
   "metadata": {},
   "outputs": [],
   "source": [
    "result = exp.run(backend).block_for_results()\n",
    "mitigator = result.analysis_results(0).value"
   ]
  },
  {
   "cell_type": "code",
   "execution_count": null,
   "metadata": {},
   "outputs": [],
   "source": [
    "result.figure(0)"
   ]
  },
  {
   "cell_type": "markdown",
   "metadata": {},
   "source": [
    "## Mitigation matrices"
   ]
  },
  {
   "cell_type": "code",
   "execution_count": null,
   "metadata": {},
   "outputs": [],
   "source": [
    "for m in mitigator._mitigation_mats:\n",
    "    print(m)\n",
    "    print()"
   ]
  },
  {
   "cell_type": "markdown",
   "metadata": {},
   "source": [
    "## Mitigation Example"
   ]
  },
  {
   "cell_type": "code",
   "execution_count": null,
   "metadata": {},
   "outputs": [],
   "source": [
    "qc = QuantumCircuit(num_qubits)\n",
    "qc.h(0)\n",
    "for i in range(1, num_qubits):\n",
    "    qc.cx(i - 1, i)\n",
    "qc.measure_all()"
   ]
  },
  {
   "cell_type": "code",
   "execution_count": null,
   "metadata": {},
   "outputs": [],
   "source": [
    "counts = backend.run(qc, shots=SHOTS, seed_simulator=42, method=\"density_matrix\").result().get_counts()\n",
    "unmitigated_probs = {label: count / SHOTS for label, count in counts.items()}"
   ]
  },
  {
   "cell_type": "code",
   "execution_count": null,
   "metadata": {},
   "outputs": [],
   "source": [
    "mitigated_quasi_probs = mitigator.quasi_probabilities(counts)\n",
    "mitigated_stddev = mitigated_quasi_probs._stddev_upper_bound\n",
    "mitigated_probs = (mitigated_quasi_probs.nearest_probability_distribution().binary_probabilities())"
   ]
  },
  {
   "cell_type": "markdown",
   "metadata": {},
   "source": [
    "### Probabilities"
   ]
  },
  {
   "cell_type": "code",
   "execution_count": null,
   "metadata": {},
   "outputs": [],
   "source": [
    "legend = ['Mitigated Probabilities', 'Unmitigated Probabilities']\n",
    "plot_histogram([mitigated_probs, unmitigated_probs], legend=legend, sort=\"value_desc\")"
   ]
  },
  {
   "cell_type": "markdown",
   "metadata": {},
   "source": [
    "## Expectation value"
   ]
  },
  {
   "cell_type": "code",
   "execution_count": null,
   "metadata": {},
   "outputs": [],
   "source": [
    "diagonal_labels = [\"ZZZZ\", \"ZIZI\", \"IZII\", \"1ZZ0\"]\n",
    "ideal_expectation = []\n",
    "diagonals = [str2diag(d) for d in diagonal_labels]\n",
    "qubit_index = {i: i for i in range(num_qubits)}\n",
    "unmitigated_probs_vector, _ = counts_probability_vector(unmitigated_probs, qubit_index=qubit_index)\n",
    "unmitigated_expectation = [expval_with_stddev(d, unmitigated_probs_vector, SHOTS) for d in diagonals]\n",
    "mitigated_expectation = [mitigator.expectation_value(counts, d) for d in diagonals]"
   ]
  },
  {
   "cell_type": "code",
   "execution_count": null,
   "metadata": {},
   "outputs": [],
   "source": [
    "mitigated_expectation_values, mitigated_stddev = zip(*mitigated_expectation)\n",
    "unmitigated_expectation_values, unmitigated_stddev = zip(*unmitigated_expectation)\n",
    "legend = ['Mitigated Expectation', 'Unmitigated Expectation']\n",
    "fig, ax = plt.subplots()\n",
    "X = np.arange(4)\n",
    "ax.bar(X + 0.00, mitigated_expectation_values, yerr=mitigated_stddev, color='b', width = 0.25, label=\"Mitigated Expectation\")\n",
    "ax.bar(X + 0.25, unmitigated_expectation_values, yerr=unmitigated_stddev, color='g', width = 0.25, label=\"Unmitigated Expectation\")\n",
    "ax.set_xticks([0.125 + i for i in range(len(diagonals))])\n",
    "ax.set_xticklabels(diagonal_labels)\n",
    "ax.legend()"
   ]
  },
  {
   "cell_type": "markdown",
   "metadata": {},
   "source": [
    "## Correlated readout mitigation"
   ]
  },
  {
   "cell_type": "code",
   "execution_count": null,
   "metadata": {},
   "outputs": [],
   "source": [
    "qubits = [0,3]\n",
    "num_qubits = len(qubits)\n",
    "exp = ReadoutMitigationExperiment(qubits, method=\"correlated\")\n",
    "for c in exp.circuits():\n",
    "    print(c)"
   ]
  },
  {
   "cell_type": "code",
   "execution_count": null,
   "metadata": {},
   "outputs": [],
   "source": [
    "import qiskit.tools.jupyter\n",
    "%qiskit_copyright"
   ]
  }
 ],
 "metadata": {
  "interpreter": {
   "hash": "42e50baa22dbe56fc7f4f6bf32ac20952839a6a23dcf2ef84eded7e8cac03444"
  },
  "kernelspec": {
   "display_name": "qiskit38",
   "language": "python",
   "name": "qiskit38"
  },
  "language_info": {
   "codemirror_mode": {
    "name": "ipython",
    "version": 3
   },
   "file_extension": ".py",
   "mimetype": "text/x-python",
   "name": "python",
   "nbconvert_exporter": "python",
   "pygments_lexer": "ipython3",
   "version": "3.8.12"
  }
 },
 "nbformat": 4,
 "nbformat_minor": 4
}
