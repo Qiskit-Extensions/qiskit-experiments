{
 "cells": [
  {
   "cell_type": "markdown",
   "metadata": {},
   "source": [
    "# Standard RB Demo\n",
    "\n",
    "This is a very basic implemention of a standard RB experiment\n",
    "\n",
    "*NOTE: the circuit generation code of this demo is quite slow*"
   ]
  },
  {
   "cell_type": "code",
   "execution_count": 1,
   "metadata": {},
   "outputs": [
    {
     "ename": "AttributeError",
     "evalue": "module 'qiskit_experiments' has no attribute 'randomized_benchmarking'",
     "output_type": "error",
     "traceback": [
      "\u001b[0;31m---------------------------------------------------------------------------\u001b[0m",
      "\u001b[0;31mAttributeError\u001b[0m                            Traceback (most recent call last)",
      "\u001b[0;32m<ipython-input-1-d05adedf1579>\u001b[0m in \u001b[0;36m<module>\u001b[0;34m\u001b[0m\n\u001b[1;32m      1\u001b[0m \u001b[0;32mimport\u001b[0m \u001b[0mnumpy\u001b[0m \u001b[0;32mas\u001b[0m \u001b[0mnp\u001b[0m\u001b[0;34m\u001b[0m\u001b[0;34m\u001b[0m\u001b[0m\n\u001b[1;32m      2\u001b[0m \u001b[0;32mimport\u001b[0m \u001b[0mqiskit_experiments\u001b[0m \u001b[0;32mas\u001b[0m \u001b[0mqe\u001b[0m\u001b[0;34m\u001b[0m\u001b[0;34m\u001b[0m\u001b[0m\n\u001b[0;32m----> 3\u001b[0;31m \u001b[0mrb\u001b[0m \u001b[0;34m=\u001b[0m \u001b[0mqe\u001b[0m\u001b[0;34m.\u001b[0m\u001b[0mrandomized_benchmarking\u001b[0m\u001b[0;34m\u001b[0m\u001b[0;34m\u001b[0m\u001b[0m\n\u001b[0m\u001b[1;32m      4\u001b[0m \u001b[0;34m\u001b[0m\u001b[0m\n\u001b[1;32m      5\u001b[0m \u001b[0;31m# For simulation\u001b[0m\u001b[0;34m\u001b[0m\u001b[0;34m\u001b[0m\u001b[0;34m\u001b[0m\u001b[0m\n",
      "\u001b[0;31mAttributeError\u001b[0m: module 'qiskit_experiments' has no attribute 'randomized_benchmarking'"
     ]
    }
   ],
   "source": [
    "import numpy as np\n",
    "import qiskit_experiments as qe\n",
    "rb = qe.randomized_benchmarking\n",
    "\n",
    "# For simulation\n",
    "from qiskit.test.mock import FakeParis\n",
    "backend = FakeParis()"
   ]
  },
  {
   "cell_type": "markdown",
   "metadata": {},
   "source": [
    "## Running 1-qubit RB"
   ]
  },
  {
   "cell_type": "code",
   "execution_count": null,
   "metadata": {},
   "outputs": [],
   "source": [
    "lengths = [1, 20, 40, 60, 80, 100, 150, 200, 250, 300, 350, 400, 450, 500]\n",
    "num_samples = 10\n",
    "seed = 1010\n",
    "\n",
    "# Run an RB experiment on qubit 0\n",
    "exp1 = rb.RBExperiment([0], lengths, num_samples=num_samples, seed=seed)\n",
    "expdata1 = exp1.run(backend)\n",
    "\n",
    "# View result data\n",
    "expdata1"
   ]
  },
  {
   "cell_type": "markdown",
   "metadata": {},
   "source": [
    "## Running 2-qubit RB"
   ]
  },
  {
   "cell_type": "code",
   "execution_count": null,
   "metadata": {},
   "outputs": [],
   "source": [
    "lengths = [1, 10, 20, 30, 40, 50, 80, 120, 160, 200]\n",
    "num_samples = 10\n",
    "seed = 1010\n",
    "\n",
    "# Run an RB experiment on qubits 0,\n",
    "exp2 = rb.RBExperiment([0, 1], lengths, num_samples=num_samples, seed=seed)\n",
    "expdata2 = exp2.run(backend)\n",
    "\n",
    "# View result data\n",
    "expdata2"
   ]
  },
  {
   "cell_type": "markdown",
   "metadata": {},
   "source": [
    "## Running parallel RB experiments"
   ]
  },
  {
   "cell_type": "code",
   "execution_count": null,
   "metadata": {},
   "outputs": [],
   "source": [
    "lengths = [1, 20, 40, 60, 80, 100, 150, 200, 250, 300, 350, 400, 450, 500]\n",
    "num_samples = 10\n",
    "seed1 = 1010\n",
    "\n",
    "exps = [rb.RBExperiment([i], lengths, num_samples=num_samples, seed=seed + i)\n",
    "        for i in range(5)]\n",
    "\n",
    "par_exp = qe.composite.ParallelExperiment(exps)\n",
    "par_expdata = par_exp.run(backend)\n",
    "\n",
    "# View result\n",
    "par_expdata"
   ]
  },
  {
   "cell_type": "markdown",
   "metadata": {},
   "source": [
    "#### Viewing sub experiment data\n",
    "\n",
    "The experiment data returned from a batched experiment also contains individual experiment data for each sub experiment which can be accessed using `experiment_data(index)`"
   ]
  },
  {
   "cell_type": "code",
   "execution_count": null,
   "metadata": {},
   "outputs": [],
   "source": [
    "# Print sub-experiment data\n",
    "for i in range(par_exp.num_experiments):\n",
    "    print(par_expdata.component_experiment_data(i), '\\n')"
   ]
  }
 ],
 "metadata": {
  "kernelspec": {
   "display_name": "qiskit-exp",
   "language": "python",
   "name": "qiskit-exp"
  },
  "language_info": {
   "codemirror_mode": {
    "name": "ipython",
    "version": 3
   },
   "file_extension": ".py",
   "mimetype": "text/x-python",
   "name": "python",
   "nbconvert_exporter": "python",
   "pygments_lexer": "ipython3",
   "version": "3.8.8"
  }
 },
 "nbformat": 4,
 "nbformat_minor": 4
}
